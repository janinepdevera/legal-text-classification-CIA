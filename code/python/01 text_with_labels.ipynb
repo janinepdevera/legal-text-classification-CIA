{
 "cells": [
  {
   "attachments": {},
   "cell_type": "markdown",
   "metadata": {},
   "source": [
    "# Multi-label Legal Text Classification for CIA"
   ]
  },
  {
   "attachments": {},
   "cell_type": "markdown",
   "metadata": {},
   "source": [
    "## Data Collection"
   ]
  },
  {
   "attachments": {},
   "cell_type": "markdown",
   "metadata": {},
   "source": [
    "### III. Legal Texts with Labels"
   ]
  },
  {
   "cell_type": "code",
   "execution_count": 1,
   "metadata": {},
   "outputs": [
    {
     "name": "stderr",
     "output_type": "stream",
     "text": [
      "[nltk_data] Downloading package stopwords to\n",
      "[nltk_data]     /Users/janinedevera/nltk_data...\n",
      "[nltk_data]   Package stopwords is already up-to-date!\n",
      "[nltk_data] Downloading package punkt to\n",
      "[nltk_data]     /Users/janinedevera/nltk_data...\n",
      "[nltk_data]   Package punkt is already up-to-date!\n"
     ]
    }
   ],
   "source": [
    "# main\n",
    "import pandas as pd\n",
    "import numpy as np\n",
    "import matplotlib.pyplot as plt\n",
    "import seaborn as sns\n",
    "from glob import glob\n",
    "import openpyxl\n",
    "import os \n",
    "import re\n",
    "from langdetect import detect, DetectorFactory\n",
    "from deep_translator import GoogleTranslator\n",
    "from functions.source_parsing import *"
   ]
  },
  {
   "cell_type": "code",
   "execution_count": 2,
   "metadata": {},
   "outputs": [
    {
     "data": {
      "text/plain": [
       "'/Users/janinedevera/Documents/School/MDS 2021-2023/Thesis/multilabel-legal-text-classification-CIA'"
      ]
     },
     "execution_count": 2,
     "metadata": {},
     "output_type": "execute_result"
    }
   ],
   "source": [
    "os.chdir(\"../..\")\n",
    "os.getcwd()"
   ]
  },
  {
   "attachments": {},
   "cell_type": "markdown",
   "metadata": {},
   "source": [
    "#### a. Manual annotations"
   ]
  },
  {
   "cell_type": "code",
   "execution_count": 7,
   "metadata": {},
   "outputs": [],
   "source": [
    "# manual annotation\n",
    "text_labels_manual = pd.read_excel(\"data/legislation/manual_annotations.xlsx\")"
   ]
  },
  {
   "cell_type": "code",
   "execution_count": 8,
   "metadata": {},
   "outputs": [
    {
     "data": {
      "text/html": [
       "<div>\n",
       "<style scoped>\n",
       "    .dataframe tbody tr th:only-of-type {\n",
       "        vertical-align: middle;\n",
       "    }\n",
       "\n",
       "    .dataframe tbody tr th {\n",
       "        vertical-align: top;\n",
       "    }\n",
       "\n",
       "    .dataframe thead th {\n",
       "        text-align: right;\n",
       "    }\n",
       "</style>\n",
       "<table border=\"1\" class=\"dataframe\">\n",
       "  <thead>\n",
       "    <tr style=\"text-align: right;\">\n",
       "      <th></th>\n",
       "      <th>Law</th>\n",
       "      <th>Paragraph</th>\n",
       "      <th>Text</th>\n",
       "      <th>Category</th>\n",
       "      <th>Theme</th>\n",
       "      <th>Description</th>\n",
       "    </tr>\n",
       "  </thead>\n",
       "  <tbody>\n",
       "    <tr>\n",
       "      <th>0</th>\n",
       "      <td>Law 7565/1986 - Brazilian Aeronautical Code</td>\n",
       "      <td>Art. 40</td>\n",
       "      <td>The use of airport areas by air service provid...</td>\n",
       "      <td>A1</td>\n",
       "      <td>Exemption from bid</td>\n",
       "      <td>The use of airport areas by air carriers, as w...</td>\n",
       "    </tr>\n",
       "    <tr>\n",
       "      <th>1</th>\n",
       "      <td>Law 7565/1986 - Brazilian Aeronautical Code</td>\n",
       "      <td>Art. 40</td>\n",
       "      <td>The use of airport areas by air service provid...</td>\n",
       "      <td>A3</td>\n",
       "      <td>Exemption from bid</td>\n",
       "      <td>The use of airport areas by air carriers, as w...</td>\n",
       "    </tr>\n",
       "    <tr>\n",
       "      <th>2</th>\n",
       "      <td>Law 7565/1986 - Brazilian Aeronautical Code</td>\n",
       "      <td>Art. 42</td>\n",
       "      <td>The legislation on urban leases does not apply...</td>\n",
       "      <td>A4</td>\n",
       "      <td>Use of airport areas</td>\n",
       "      <td>Urban lease legislation does not apply to leas...</td>\n",
       "    </tr>\n",
       "    <tr>\n",
       "      <th>3</th>\n",
       "      <td>Law 7565/1986 - Brazilian Aeronautical Code</td>\n",
       "      <td>Art. 42</td>\n",
       "      <td>The legislation on urban leases does not apply...</td>\n",
       "      <td>B4</td>\n",
       "      <td>Use of airport areas</td>\n",
       "      <td>Urban lease legislation does not apply to leas...</td>\n",
       "    </tr>\n",
       "    <tr>\n",
       "      <th>4</th>\n",
       "      <td>Law 7565/1986 - Brazilian Aeronautical Code</td>\n",
       "      <td>Art. 156 par 1</td>\n",
       "      <td>Crew members are duly qualified people who exe...</td>\n",
       "      <td>A2</td>\n",
       "      <td>Crew nationality</td>\n",
       "      <td>When a national company operates a national or...</td>\n",
       "    </tr>\n",
       "    <tr>\n",
       "      <th>...</th>\n",
       "      <td>...</td>\n",
       "      <td>...</td>\n",
       "      <td>...</td>\n",
       "      <td>...</td>\n",
       "      <td>...</td>\n",
       "      <td>...</td>\n",
       "    </tr>\n",
       "    <tr>\n",
       "      <th>748</th>\n",
       "      <td>Resolution 140/2010 by National Civil Aviation...</td>\n",
       "      <td>Art. 12</td>\n",
       "      <td>ANAC may, at any time, conduct audits, request...</td>\n",
       "      <td>None</td>\n",
       "      <td>NaN</td>\n",
       "      <td>NaN</td>\n",
       "    </tr>\n",
       "    <tr>\n",
       "      <th>749</th>\n",
       "      <td>Resolution 140/2010 by National Civil Aviation...</td>\n",
       "      <td>Art. 13</td>\n",
       "      <td>The non-fulfillment of the obligations establi...</td>\n",
       "      <td>None</td>\n",
       "      <td>NaN</td>\n",
       "      <td>NaN</td>\n",
       "    </tr>\n",
       "    <tr>\n",
       "      <th>750</th>\n",
       "      <td>Resolution 140/2010 by National Civil Aviation...</td>\n",
       "      <td>Art. 14</td>\n",
       "      <td>This Resolution replaces the dispositions of a...</td>\n",
       "      <td>None</td>\n",
       "      <td>NaN</td>\n",
       "      <td>NaN</td>\n",
       "    </tr>\n",
       "    <tr>\n",
       "      <th>751</th>\n",
       "      <td>Resolution 140/2010 by National Civil Aviation...</td>\n",
       "      <td>Art. 15 item I</td>\n",
       "      <td>This Resolution goes into effect on July 1st 2...</td>\n",
       "      <td>None</td>\n",
       "      <td>NaN</td>\n",
       "      <td>NaN</td>\n",
       "    </tr>\n",
       "    <tr>\n",
       "      <th>752</th>\n",
       "      <td>Resolution 140/2010 by National Civil Aviation...</td>\n",
       "      <td>Art. 15 item II</td>\n",
       "      <td>This Resolution goes into effect on July 1st 2...</td>\n",
       "      <td>None</td>\n",
       "      <td>NaN</td>\n",
       "      <td>NaN</td>\n",
       "    </tr>\n",
       "  </tbody>\n",
       "</table>\n",
       "<p>753 rows × 6 columns</p>\n",
       "</div>"
      ],
      "text/plain": [
       "                                                   Law        Paragraph  \\\n",
       "0          Law 7565/1986 - Brazilian Aeronautical Code          Art. 40   \n",
       "1          Law 7565/1986 - Brazilian Aeronautical Code          Art. 40   \n",
       "2          Law 7565/1986 - Brazilian Aeronautical Code          Art. 42   \n",
       "3          Law 7565/1986 - Brazilian Aeronautical Code          Art. 42   \n",
       "4          Law 7565/1986 - Brazilian Aeronautical Code   Art. 156 par 1   \n",
       "..                                                 ...              ...   \n",
       "748  Resolution 140/2010 by National Civil Aviation...          Art. 12   \n",
       "749  Resolution 140/2010 by National Civil Aviation...          Art. 13   \n",
       "750  Resolution 140/2010 by National Civil Aviation...          Art. 14   \n",
       "751  Resolution 140/2010 by National Civil Aviation...   Art. 15 item I   \n",
       "752  Resolution 140/2010 by National Civil Aviation...  Art. 15 item II   \n",
       "\n",
       "                                                  Text Category  \\\n",
       "0    The use of airport areas by air service provid...       A1   \n",
       "1    The use of airport areas by air service provid...       A3   \n",
       "2    The legislation on urban leases does not apply...       A4   \n",
       "3    The legislation on urban leases does not apply...       B4   \n",
       "4    Crew members are duly qualified people who exe...       A2   \n",
       "..                                                 ...      ...   \n",
       "748  ANAC may, at any time, conduct audits, request...     None   \n",
       "749  The non-fulfillment of the obligations establi...     None   \n",
       "750  This Resolution replaces the dispositions of a...     None   \n",
       "751  This Resolution goes into effect on July 1st 2...     None   \n",
       "752  This Resolution goes into effect on July 1st 2...     None   \n",
       "\n",
       "                    Theme                                       Description   \n",
       "0      Exemption from bid  The use of airport areas by air carriers, as w...  \n",
       "1      Exemption from bid  The use of airport areas by air carriers, as w...  \n",
       "2    Use of airport areas  Urban lease legislation does not apply to leas...  \n",
       "3    Use of airport areas  Urban lease legislation does not apply to leas...  \n",
       "4        Crew nationality  When a national company operates a national or...  \n",
       "..                    ...                                                ...  \n",
       "748                   NaN                                                NaN  \n",
       "749                   NaN                                                NaN  \n",
       "750                   NaN                                                NaN  \n",
       "751                   NaN                                                NaN  \n",
       "752                   NaN                                                NaN  \n",
       "\n",
       "[753 rows x 6 columns]"
      ]
     },
     "execution_count": 8,
     "metadata": {},
     "output_type": "execute_result"
    }
   ],
   "source": [
    "text_labels_manual"
   ]
  },
  {
   "attachments": {},
   "cell_type": "markdown",
   "metadata": {},
   "source": [
    "#### b. OECD annotations"
   ]
  },
  {
   "cell_type": "code",
   "execution_count": 23,
   "metadata": {},
   "outputs": [
    {
     "data": {
      "text/plain": [
       "['data/legislation/oecd_annotations_mx.xlsx',\n",
       " 'data/legislation/oecd_annotations_br_hp.xlsx',\n",
       " 'data/legislation/oecd_annotations_br_ca.xlsx']"
      ]
     },
     "execution_count": 23,
     "metadata": {},
     "output_type": "execute_result"
    }
   ],
   "source": [
    "path = \"data/legislation/\"\n",
    "oecd_files = glob(os.path.join(path, \"oecd_annotations*\"))\n",
    "oecd_files"
   ]
  },
  {
   "cell_type": "code",
   "execution_count": 24,
   "metadata": {},
   "outputs": [],
   "source": [
    "dfs = []\n",
    "for file in oecd_files:\n",
    "    df = pd.read_excel(file, index_col=0)\n",
    "    df = df[df['No. and title of Regulation'].notna()]\n",
    "    dfs.append(df)"
   ]
  },
  {
   "cell_type": "code",
   "execution_count": 25,
   "metadata": {},
   "outputs": [],
   "source": [
    "text_labels_oecd = pd.concat(dfs, axis=0, ignore_index=True)"
   ]
  },
  {
   "cell_type": "code",
   "execution_count": 26,
   "metadata": {},
   "outputs": [
    {
     "data": {
      "text/html": [
       "<div>\n",
       "<style scoped>\n",
       "    .dataframe tbody tr th:only-of-type {\n",
       "        vertical-align: middle;\n",
       "    }\n",
       "\n",
       "    .dataframe tbody tr th {\n",
       "        vertical-align: top;\n",
       "    }\n",
       "\n",
       "    .dataframe thead th {\n",
       "        text-align: right;\n",
       "    }\n",
       "</style>\n",
       "<table border=\"1\" class=\"dataframe\">\n",
       "  <thead>\n",
       "    <tr style=\"text-align: right;\">\n",
       "      <th></th>\n",
       "      <th>No. and title of Regulation</th>\n",
       "      <th>Article</th>\n",
       "      <th>Brief description of the potential obstacle</th>\n",
       "      <th>Toolkit question</th>\n",
       "      <th>Policy Objective</th>\n",
       "      <th>Harm to competition</th>\n",
       "      <th>Thematic category</th>\n",
       "      <th>Keyword</th>\n",
       "      <th>Recommendation</th>\n",
       "      <th>Recommendations</th>\n",
       "    </tr>\n",
       "  </thead>\n",
       "  <tbody>\n",
       "    <tr>\n",
       "      <th>0</th>\n",
       "      <td>No law addresses this issue yet</td>\n",
       "      <td>NaN</td>\n",
       "      <td>Mexico currently has no law regulating which b...</td>\n",
       "      <td>D1</td>\n",
       "      <td>A 2016 analysis by ProPublica showed that doct...</td>\n",
       "      <td>Despite the existance of CETIFARMA's Ethics Co...</td>\n",
       "      <td>NaN</td>\n",
       "      <td>NaN</td>\n",
       "      <td>NaN</td>\n",
       "      <td>NaN</td>\n",
       "    </tr>\n",
       "    <tr>\n",
       "      <th>1</th>\n",
       "      <td>Reglamento de Insumos para la Salud</td>\n",
       "      <td>117</td>\n",
       "      <td>The pharmaceutical retalier registers in a con...</td>\n",
       "      <td>C2</td>\n",
       "      <td>The objective of the provision is likey to ass...</td>\n",
       "      <td>Pharmaceutical companies are interested in mon...</td>\n",
       "      <td>NaN</td>\n",
       "      <td>NaN</td>\n",
       "      <td>NaN</td>\n",
       "      <td>NaN</td>\n",
       "    </tr>\n",
       "    <tr>\n",
       "      <th>2</th>\n",
       "      <td>Reglamento de la Ley General de Salud en Mater...</td>\n",
       "      <td>64</td>\n",
       "      <td>Precriptions of a medicine by a doctor must co...</td>\n",
       "      <td>C2</td>\n",
       "      <td>The law does not specify any particular object...</td>\n",
       "      <td>Theoretically, pharmacies could collect this d...</td>\n",
       "      <td>NaN</td>\n",
       "      <td>NaN</td>\n",
       "      <td>NaN</td>\n",
       "      <td>NaN</td>\n",
       "    </tr>\n",
       "    <tr>\n",
       "      <th>3</th>\n",
       "      <td>Acuerdo por el que se determinan los lineamien...</td>\n",
       "      <td>Second</td>\n",
       "      <td>For prescriptions of antibiotics, pharmacies m...</td>\n",
       "      <td>C2</td>\n",
       "      <td>The law does not specify any particular object...</td>\n",
       "      <td>Theoretically, pharmacies could collect this d...</td>\n",
       "      <td>NaN</td>\n",
       "      <td>NaN</td>\n",
       "      <td>NaN</td>\n",
       "      <td>NaN</td>\n",
       "    </tr>\n",
       "    <tr>\n",
       "      <th>4</th>\n",
       "      <td>Reglamento de Insumos para la Salud</td>\n",
       "      <td>31</td>\n",
       "      <td>When prescribing a medicine, doctors can eithe...</td>\n",
       "      <td>D1, D2</td>\n",
       "      <td>To protect the Mexican population against sani...</td>\n",
       "      <td>Consumers are forced to buy the branded medici...</td>\n",
       "      <td>NaN</td>\n",
       "      <td>NaN</td>\n",
       "      <td>NaN</td>\n",
       "      <td>NaN</td>\n",
       "    </tr>\n",
       "    <tr>\n",
       "      <th>...</th>\n",
       "      <td>...</td>\n",
       "      <td>...</td>\n",
       "      <td>...</td>\n",
       "      <td>...</td>\n",
       "      <td>...</td>\n",
       "      <td>...</td>\n",
       "      <td>...</td>\n",
       "      <td>...</td>\n",
       "      <td>...</td>\n",
       "      <td>...</td>\n",
       "    </tr>\n",
       "    <tr>\n",
       "      <th>718</th>\n",
       "      <td>Resolution 18/2006 by National Petroleum Agenc...</td>\n",
       "      <td>Art. 11</td>\n",
       "      <td>An independent reseller must only purchase avi...</td>\n",
       "      <td>A3</td>\n",
       "      <td>[In the recital] The objective of the resoluti...</td>\n",
       "      <td>Although the provision may limit suppliers’ ab...</td>\n",
       "      <td>Sale of fuel</td>\n",
       "      <td>Fuel</td>\n",
       "      <td>NaN</td>\n",
       "      <td>No recommendation.</td>\n",
       "    </tr>\n",
       "    <tr>\n",
       "      <th>719</th>\n",
       "      <td>Resolution 18/2006 by National Petroleum Agenc...</td>\n",
       "      <td>Art. 12</td>\n",
       "      <td>An independent reseller can only sale aviation...</td>\n",
       "      <td>A3</td>\n",
       "      <td>[In the recital] The objective of the resoluti...</td>\n",
       "      <td>Although the provision may limit suppliers’ ab...</td>\n",
       "      <td>Sale of fuel</td>\n",
       "      <td>Fuel</td>\n",
       "      <td>NaN</td>\n",
       "      <td>No recommendation.</td>\n",
       "    </tr>\n",
       "    <tr>\n",
       "      <th>720</th>\n",
       "      <td>Resolution 18/2006 by National Petroleum Agenc...</td>\n",
       "      <td>Art. 13</td>\n",
       "      <td>Tied (branding) or independent resellers must ...</td>\n",
       "      <td>A4</td>\n",
       "      <td>[In the recital] The objective of the resoluti...</td>\n",
       "      <td>Although the provision may limit suppliers’ ab...</td>\n",
       "      <td>Sale of fuel</td>\n",
       "      <td>Fuel</td>\n",
       "      <td>NaN</td>\n",
       "      <td>No recommendation.</td>\n",
       "    </tr>\n",
       "    <tr>\n",
       "      <th>721</th>\n",
       "      <td>Resolution 279/2013 by National Civil Aviation...</td>\n",
       "      <td>Appendix, 2.1</td>\n",
       "      <td>Only a legal entity holding a certificate (OE-...</td>\n",
       "      <td>A2</td>\n",
       "      <td>The need for a certificate issued by ANAC for ...</td>\n",
       "      <td>Airports must have employees with specific qua...</td>\n",
       "      <td>Safety</td>\n",
       "      <td>Safety</td>\n",
       "      <td>NaN</td>\n",
       "      <td>No recommendation.</td>\n",
       "    </tr>\n",
       "    <tr>\n",
       "      <th>722</th>\n",
       "      <td>Regulation (RBAC) 110/2015 by National Civil A...</td>\n",
       "      <td>110.23</td>\n",
       "      <td>Only legal entities authorised by ANAC may tea...</td>\n",
       "      <td>A2/A3/A4</td>\n",
       "      <td>[In the recital] The need for an authorisation...</td>\n",
       "      <td>There do not seem to be restrictions for firms...</td>\n",
       "      <td>Security</td>\n",
       "      <td>Security certification</td>\n",
       "      <td>NaN</td>\n",
       "      <td>The OECD recommends that ANAC accept foreign c...</td>\n",
       "    </tr>\n",
       "  </tbody>\n",
       "</table>\n",
       "<p>723 rows × 10 columns</p>\n",
       "</div>"
      ],
      "text/plain": [
       "                           No. and title of Regulation        Article  \\\n",
       "0                      No law addresses this issue yet            NaN   \n",
       "1                  Reglamento de Insumos para la Salud            117   \n",
       "2    Reglamento de la Ley General de Salud en Mater...             64   \n",
       "3    Acuerdo por el que se determinan los lineamien...         Second   \n",
       "4                  Reglamento de Insumos para la Salud             31   \n",
       "..                                                 ...            ...   \n",
       "718  Resolution 18/2006 by National Petroleum Agenc...        Art. 11   \n",
       "719  Resolution 18/2006 by National Petroleum Agenc...        Art. 12   \n",
       "720  Resolution 18/2006 by National Petroleum Agenc...        Art. 13   \n",
       "721  Resolution 279/2013 by National Civil Aviation...  Appendix, 2.1   \n",
       "722  Regulation (RBAC) 110/2015 by National Civil A...         110.23   \n",
       "\n",
       "           Brief description of the potential obstacle Toolkit question  \\\n",
       "0    Mexico currently has no law regulating which b...               D1   \n",
       "1    The pharmaceutical retalier registers in a con...               C2   \n",
       "2    Precriptions of a medicine by a doctor must co...               C2   \n",
       "3    For prescriptions of antibiotics, pharmacies m...               C2   \n",
       "4    When prescribing a medicine, doctors can eithe...           D1, D2   \n",
       "..                                                 ...              ...   \n",
       "718  An independent reseller must only purchase avi...               A3   \n",
       "719  An independent reseller can only sale aviation...               A3   \n",
       "720  Tied (branding) or independent resellers must ...               A4   \n",
       "721  Only a legal entity holding a certificate (OE-...               A2   \n",
       "722  Only legal entities authorised by ANAC may tea...         A2/A3/A4   \n",
       "\n",
       "                                      Policy Objective  \\\n",
       "0    A 2016 analysis by ProPublica showed that doct...   \n",
       "1    The objective of the provision is likey to ass...   \n",
       "2    The law does not specify any particular object...   \n",
       "3    The law does not specify any particular object...   \n",
       "4    To protect the Mexican population against sani...   \n",
       "..                                                 ...   \n",
       "718  [In the recital] The objective of the resoluti...   \n",
       "719  [In the recital] The objective of the resoluti...   \n",
       "720  [In the recital] The objective of the resoluti...   \n",
       "721  The need for a certificate issued by ANAC for ...   \n",
       "722  [In the recital] The need for an authorisation...   \n",
       "\n",
       "                                   Harm to competition Thematic category  \\\n",
       "0    Despite the existance of CETIFARMA's Ethics Co...               NaN   \n",
       "1    Pharmaceutical companies are interested in mon...               NaN   \n",
       "2    Theoretically, pharmacies could collect this d...               NaN   \n",
       "3    Theoretically, pharmacies could collect this d...               NaN   \n",
       "4    Consumers are forced to buy the branded medici...               NaN   \n",
       "..                                                 ...               ...   \n",
       "718  Although the provision may limit suppliers’ ab...      Sale of fuel   \n",
       "719  Although the provision may limit suppliers’ ab...      Sale of fuel   \n",
       "720  Although the provision may limit suppliers’ ab...      Sale of fuel   \n",
       "721  Airports must have employees with specific qua...            Safety   \n",
       "722  There do not seem to be restrictions for firms...          Security   \n",
       "\n",
       "                    Keyword Recommendation  \\\n",
       "0                       NaN            NaN   \n",
       "1                       NaN            NaN   \n",
       "2                       NaN            NaN   \n",
       "3                       NaN            NaN   \n",
       "4                       NaN            NaN   \n",
       "..                      ...            ...   \n",
       "718                    Fuel            NaN   \n",
       "719                    Fuel            NaN   \n",
       "720                    Fuel            NaN   \n",
       "721                  Safety            NaN   \n",
       "722  Security certification            NaN   \n",
       "\n",
       "                                       Recommendations  \n",
       "0                                                  NaN  \n",
       "1                                                  NaN  \n",
       "2                                                  NaN  \n",
       "3                                                  NaN  \n",
       "4                                                  NaN  \n",
       "..                                                 ...  \n",
       "718                                 No recommendation.  \n",
       "719                                 No recommendation.  \n",
       "720                                 No recommendation.  \n",
       "721                                 No recommendation.  \n",
       "722  The OECD recommends that ANAC accept foreign c...  \n",
       "\n",
       "[723 rows x 10 columns]"
      ]
     },
     "execution_count": 26,
     "metadata": {},
     "output_type": "execute_result"
    }
   ],
   "source": [
    "text_labels_oecd"
   ]
  },
  {
   "attachments": {},
   "cell_type": "markdown",
   "metadata": {},
   "source": [
    "#### c. Cleaning and merging"
   ]
  },
  {
   "cell_type": "code",
   "execution_count": 27,
   "metadata": {},
   "outputs": [],
   "source": [
    "text_oecd_clean = (\n",
    "    text_labels_oecd\n",
    "    .assign(Category=text_labels_oecd['Toolkit question'].str.split('/|,')).explode('Category') # unique row per category\n",
    "    .loc[:, [\"No. and title of Regulation\", \"Article\", \"Brief description of the potential obstacle\", \"Category\"]] # subset \n",
    "    .rename(columns={\"No. and title of Regulation\": \"Law\", \"Article\": \"Paragraph\", \"Brief description of the potential obstacle\": \"Text\"}) #\n",
    ")"
   ]
  },
  {
   "cell_type": "code",
   "execution_count": 28,
   "metadata": {},
   "outputs": [
    {
     "data": {
      "text/plain": [
       "array(['D1', 'C2', ' D2', 'A3', 'A4', ' A4', 'A2', ' A3', 'B1', ' C1', '',\n",
       "       'B4', ' B4', 'A1', ' B3', ' A5', 'A5', 'B2', ' B2', 'B3', 'C1',\n",
       "       'Grandfather rights', 'A3 ', ' Administrative burden',\n",
       "       'Administrative burden', ' administrative burden', 'A4 ',\n",
       "       'A4 Administrative burden', 'administrative burden',\n",
       "       'Administrative Burden'], dtype=object)"
      ]
     },
     "execution_count": 28,
     "metadata": {},
     "output_type": "execute_result"
    }
   ],
   "source": [
    "text_oecd_clean['Category'].unique()"
   ]
  },
  {
   "cell_type": "code",
   "execution_count": 29,
   "metadata": {},
   "outputs": [],
   "source": [
    "text_oecd_clean = text_oecd_clean[~text_oecd_clean['Law'].isin(text_labels_manual['Law'].unique())] # remove laws in manually annotated file"
   ]
  },
  {
   "cell_type": "code",
   "execution_count": 30,
   "metadata": {},
   "outputs": [],
   "source": [
    "text_labels = pd.concat([text_oecd_clean, text_labels_manual]).dropna(axis=1).reset_index(drop=True) # merge files "
   ]
  },
  {
   "cell_type": "code",
   "execution_count": 31,
   "metadata": {},
   "outputs": [],
   "source": [
    "text_labels['text_clean'] = preprocess_corpus_keep_stop_words(text_labels['Text'])\n",
    "text_labels['text_clean'] = [stem_lemmatize(text) for text in text_labels['text_clean']]"
   ]
  },
  {
   "cell_type": "code",
   "execution_count": 32,
   "metadata": {},
   "outputs": [],
   "source": [
    "text_labels.to_csv(\"data/01 legal_texts_with_labels_stopwords.csv\")"
   ]
  },
  {
   "attachments": {},
   "cell_type": "markdown",
   "metadata": {},
   "source": [
    "#### d. Grouped labels"
   ]
  },
  {
   "cell_type": "code",
   "execution_count": 4,
   "metadata": {},
   "outputs": [],
   "source": [
    "#text_labels = pd.read_csv(\"data/01 legal_texts_with_labels_stopwords.csv\")"
   ]
  },
  {
   "cell_type": "code",
   "execution_count": 33,
   "metadata": {},
   "outputs": [
    {
     "data": {
      "text/plain": [
       "None                        663\n",
       "A3                          406\n",
       "A4                          193\n",
       "A2                          191\n",
       "A5                           72\n",
       "B4                           58\n",
       "B1                           40\n",
       "A1                           37\n",
       "Administrative burden        27\n",
       "C2                           20\n",
       " A5                          18\n",
       " B4                          14\n",
       " administrative burden        7\n",
       "B2                            7\n",
       "B3                            7\n",
       " C1                           5\n",
       "D1                            4\n",
       " A4                           4\n",
       "C1                            4\n",
       "A3                            3\n",
       " D2                           2\n",
       "Administrative Burden         1\n",
       "administrative burden         1\n",
       "A4 Administrative burden      1\n",
       "A4                            1\n",
       "                              1\n",
       " Administrative burden        1\n",
       " B2                           1\n",
       " A3                           1\n",
       " B3                           1\n",
       "Grandfather rights            1\n",
       "Name: Category, dtype: int64"
      ]
     },
     "execution_count": 33,
     "metadata": {},
     "output_type": "execute_result"
    }
   ],
   "source": [
    "text_labels.Category.value_counts()"
   ]
  },
  {
   "cell_type": "code",
   "execution_count": 34,
   "metadata": {},
   "outputs": [],
   "source": [
    "text_labels_grouped = text_labels\n",
    "text_labels_grouped['Category'] = text_labels_grouped['Category'].apply(lambda x: ''.join(filter(str.isalpha, x))) #keep letter categories"
   ]
  },
  {
   "cell_type": "code",
   "execution_count": 35,
   "metadata": {},
   "outputs": [
    {
     "data": {
      "text/plain": [
       "A                        926\n",
       "None                     663\n",
       "B                        128\n",
       "C                         29\n",
       "Administrativeburden      28\n",
       "administrativeburden       8\n",
       "D                          6\n",
       "                           1\n",
       "Grandfatherrights          1\n",
       "AAdministrativeburden      1\n",
       "AdministrativeBurden       1\n",
       "Name: Category, dtype: int64"
      ]
     },
     "execution_count": 35,
     "metadata": {},
     "output_type": "execute_result"
    }
   ],
   "source": [
    "text_labels_grouped.Category.value_counts()"
   ]
  },
  {
   "cell_type": "code",
   "execution_count": 36,
   "metadata": {},
   "outputs": [
    {
     "data": {
      "text/plain": [
       "A         926\n",
       "None      663\n",
       "B         128\n",
       "Others     46\n",
       "C          29\n",
       "Name: Category_New, dtype: int64"
      ]
     },
     "execution_count": 36,
     "metadata": {},
     "output_type": "execute_result"
    }
   ],
   "source": [
    "categories = ['A', 'B', 'C', 'None']\n",
    "\n",
    "#text_labels_grouped = text_labels_grouped[text_labels_grouped['Category'].isin(categories)].drop_duplicates()\n",
    "text_labels_grouped['Category_New'] = np.where(text_labels_grouped['Category'].isin(categories),\n",
    "                                               text_labels_grouped['Category'], 'Others') #add \"others\" category\n",
    "\n",
    "text_labels_grouped.Category_New.value_counts()"
   ]
  },
  {
   "cell_type": "code",
   "execution_count": 37,
   "metadata": {},
   "outputs": [],
   "source": [
    "text_labels_grouped.to_csv(\"data/01 legal_texts_with_labels_grouped.csv\")"
   ]
  }
 ],
 "metadata": {
  "kernelspec": {
   "display_name": "mtc",
   "language": "python",
   "name": "mtc"
  },
  "language_info": {
   "codemirror_mode": {
    "name": "ipython",
    "version": 3
   },
   "file_extension": ".py",
   "mimetype": "text/x-python",
   "name": "python",
   "nbconvert_exporter": "python",
   "pygments_lexer": "ipython3",
   "version": "3.9.13"
  },
  "orig_nbformat": 4
 },
 "nbformat": 4,
 "nbformat_minor": 2
}
