{
 "cells": [
  {
   "attachments": {},
   "cell_type": "markdown",
   "metadata": {},
   "source": [
    "# Multi-label Legal Text Classification for CIA"
   ]
  },
  {
   "attachments": {},
   "cell_type": "markdown",
   "metadata": {},
   "source": [
    "## Data Collection"
   ]
  },
  {
   "attachments": {},
   "cell_type": "markdown",
   "metadata": {},
   "source": [
    "### III. Legal Texts with Labels"
   ]
  },
  {
   "cell_type": "code",
   "execution_count": 2,
   "metadata": {},
   "outputs": [
    {
     "name": "stderr",
     "output_type": "stream",
     "text": [
      "[nltk_data] Downloading package stopwords to\n",
      "[nltk_data]     /Users/janinedevera/nltk_data...\n",
      "[nltk_data]   Package stopwords is already up-to-date!\n",
      "[nltk_data] Downloading package punkt to\n",
      "[nltk_data]     /Users/janinedevera/nltk_data...\n",
      "[nltk_data]   Package punkt is already up-to-date!\n"
     ]
    }
   ],
   "source": [
    "# main\n",
    "import pandas as pd\n",
    "import numpy as np\n",
    "import matplotlib.pyplot as plt\n",
    "import seaborn as sns\n",
    "from glob import glob\n",
    "import openpyxl\n",
    "import os \n",
    "import re\n",
    "from langdetect import detect, DetectorFactory\n",
    "from deep_translator import GoogleTranslator\n",
    "from functions.source_parsing import *"
   ]
  },
  {
   "cell_type": "code",
   "execution_count": 3,
   "metadata": {},
   "outputs": [
    {
     "data": {
      "text/plain": [
       "'/Users/janinedevera/Documents/School/MDS 2021-2023/Thesis/multilabel-legal-text-classification-CIA'"
      ]
     },
     "execution_count": 3,
     "metadata": {},
     "output_type": "execute_result"
    }
   ],
   "source": [
    "os.chdir(\"../..\")\n",
    "os.getcwd()"
   ]
  },
  {
   "attachments": {},
   "cell_type": "markdown",
   "metadata": {},
   "source": [
    "#### a. Manual annotations"
   ]
  },
  {
   "cell_type": "code",
   "execution_count": 14,
   "metadata": {},
   "outputs": [],
   "source": [
    "# manual annotation\n",
    "text_labels_manual = pd.read_excel(\"data/legislation/Brazil/manual_annotations.xlsx\")"
   ]
  },
  {
   "cell_type": "code",
   "execution_count": 15,
   "metadata": {},
   "outputs": [
    {
     "data": {
      "text/html": [
       "<div>\n",
       "<style scoped>\n",
       "    .dataframe tbody tr th:only-of-type {\n",
       "        vertical-align: middle;\n",
       "    }\n",
       "\n",
       "    .dataframe tbody tr th {\n",
       "        vertical-align: top;\n",
       "    }\n",
       "\n",
       "    .dataframe thead th {\n",
       "        text-align: right;\n",
       "    }\n",
       "</style>\n",
       "<table border=\"1\" class=\"dataframe\">\n",
       "  <thead>\n",
       "    <tr style=\"text-align: right;\">\n",
       "      <th></th>\n",
       "      <th>Law</th>\n",
       "      <th>Paragraph</th>\n",
       "      <th>Text</th>\n",
       "      <th>Category</th>\n",
       "      <th>Theme</th>\n",
       "      <th>Description</th>\n",
       "    </tr>\n",
       "  </thead>\n",
       "  <tbody>\n",
       "    <tr>\n",
       "      <th>0</th>\n",
       "      <td>Law 7565/1986 - Brazilian Aeronautical Code</td>\n",
       "      <td>Art. 40</td>\n",
       "      <td>The use of airport areas by air service provid...</td>\n",
       "      <td>A1</td>\n",
       "      <td>Exemption from bid</td>\n",
       "      <td>The use of airport areas by air carriers, as w...</td>\n",
       "    </tr>\n",
       "    <tr>\n",
       "      <th>1</th>\n",
       "      <td>Law 7565/1986 - Brazilian Aeronautical Code</td>\n",
       "      <td>Art. 40</td>\n",
       "      <td>The use of airport areas by air service provid...</td>\n",
       "      <td>A3</td>\n",
       "      <td>Exemption from bid</td>\n",
       "      <td>The use of airport areas by air carriers, as w...</td>\n",
       "    </tr>\n",
       "    <tr>\n",
       "      <th>2</th>\n",
       "      <td>Law 7565/1986 - Brazilian Aeronautical Code</td>\n",
       "      <td>Art. 42</td>\n",
       "      <td>The legislation on urban leases does not apply...</td>\n",
       "      <td>A4</td>\n",
       "      <td>Use of airport areas</td>\n",
       "      <td>Urban lease legislation does not apply to leas...</td>\n",
       "    </tr>\n",
       "    <tr>\n",
       "      <th>3</th>\n",
       "      <td>Law 7565/1986 - Brazilian Aeronautical Code</td>\n",
       "      <td>Art. 42</td>\n",
       "      <td>The legislation on urban leases does not apply...</td>\n",
       "      <td>B4</td>\n",
       "      <td>Use of airport areas</td>\n",
       "      <td>Urban lease legislation does not apply to leas...</td>\n",
       "    </tr>\n",
       "    <tr>\n",
       "      <th>4</th>\n",
       "      <td>Law 7565/1986 - Brazilian Aeronautical Code</td>\n",
       "      <td>Art. 156 par 1</td>\n",
       "      <td>Crew members are duly qualified people who exe...</td>\n",
       "      <td>A2</td>\n",
       "      <td>Crew nationality</td>\n",
       "      <td>When a national company operates a national or...</td>\n",
       "    </tr>\n",
       "    <tr>\n",
       "      <th>...</th>\n",
       "      <td>...</td>\n",
       "      <td>...</td>\n",
       "      <td>...</td>\n",
       "      <td>...</td>\n",
       "      <td>...</td>\n",
       "      <td>...</td>\n",
       "    </tr>\n",
       "    <tr>\n",
       "      <th>748</th>\n",
       "      <td>Resolution 140/2010 by National Civil Aviation...</td>\n",
       "      <td>Art. 12</td>\n",
       "      <td>ANAC may, at any time, conduct audits, request...</td>\n",
       "      <td>None</td>\n",
       "      <td>NaN</td>\n",
       "      <td>NaN</td>\n",
       "    </tr>\n",
       "    <tr>\n",
       "      <th>749</th>\n",
       "      <td>Resolution 140/2010 by National Civil Aviation...</td>\n",
       "      <td>Art. 13</td>\n",
       "      <td>The non-fulfillment of the obligations establi...</td>\n",
       "      <td>None</td>\n",
       "      <td>NaN</td>\n",
       "      <td>NaN</td>\n",
       "    </tr>\n",
       "    <tr>\n",
       "      <th>750</th>\n",
       "      <td>Resolution 140/2010 by National Civil Aviation...</td>\n",
       "      <td>Art. 14</td>\n",
       "      <td>This Resolution replaces the dispositions of a...</td>\n",
       "      <td>None</td>\n",
       "      <td>NaN</td>\n",
       "      <td>NaN</td>\n",
       "    </tr>\n",
       "    <tr>\n",
       "      <th>751</th>\n",
       "      <td>Resolution 140/2010 by National Civil Aviation...</td>\n",
       "      <td>Art. 15 item I</td>\n",
       "      <td>This Resolution goes into effect on July 1st 2...</td>\n",
       "      <td>None</td>\n",
       "      <td>NaN</td>\n",
       "      <td>NaN</td>\n",
       "    </tr>\n",
       "    <tr>\n",
       "      <th>752</th>\n",
       "      <td>Resolution 140/2010 by National Civil Aviation...</td>\n",
       "      <td>Art. 15 item II</td>\n",
       "      <td>This Resolution goes into effect on July 1st 2...</td>\n",
       "      <td>None</td>\n",
       "      <td>NaN</td>\n",
       "      <td>NaN</td>\n",
       "    </tr>\n",
       "  </tbody>\n",
       "</table>\n",
       "<p>753 rows × 6 columns</p>\n",
       "</div>"
      ],
      "text/plain": [
       "                                                   Law        Paragraph  \\\n",
       "0          Law 7565/1986 - Brazilian Aeronautical Code          Art. 40   \n",
       "1          Law 7565/1986 - Brazilian Aeronautical Code          Art. 40   \n",
       "2          Law 7565/1986 - Brazilian Aeronautical Code          Art. 42   \n",
       "3          Law 7565/1986 - Brazilian Aeronautical Code          Art. 42   \n",
       "4          Law 7565/1986 - Brazilian Aeronautical Code   Art. 156 par 1   \n",
       "..                                                 ...              ...   \n",
       "748  Resolution 140/2010 by National Civil Aviation...          Art. 12   \n",
       "749  Resolution 140/2010 by National Civil Aviation...          Art. 13   \n",
       "750  Resolution 140/2010 by National Civil Aviation...          Art. 14   \n",
       "751  Resolution 140/2010 by National Civil Aviation...   Art. 15 item I   \n",
       "752  Resolution 140/2010 by National Civil Aviation...  Art. 15 item II   \n",
       "\n",
       "                                                  Text Category  \\\n",
       "0    The use of airport areas by air service provid...       A1   \n",
       "1    The use of airport areas by air service provid...       A3   \n",
       "2    The legislation on urban leases does not apply...       A4   \n",
       "3    The legislation on urban leases does not apply...       B4   \n",
       "4    Crew members are duly qualified people who exe...       A2   \n",
       "..                                                 ...      ...   \n",
       "748  ANAC may, at any time, conduct audits, request...     None   \n",
       "749  The non-fulfillment of the obligations establi...     None   \n",
       "750  This Resolution replaces the dispositions of a...     None   \n",
       "751  This Resolution goes into effect on July 1st 2...     None   \n",
       "752  This Resolution goes into effect on July 1st 2...     None   \n",
       "\n",
       "                    Theme                                       Description   \n",
       "0      Exemption from bid  The use of airport areas by air carriers, as w...  \n",
       "1      Exemption from bid  The use of airport areas by air carriers, as w...  \n",
       "2    Use of airport areas  Urban lease legislation does not apply to leas...  \n",
       "3    Use of airport areas  Urban lease legislation does not apply to leas...  \n",
       "4        Crew nationality  When a national company operates a national or...  \n",
       "..                    ...                                                ...  \n",
       "748                   NaN                                                NaN  \n",
       "749                   NaN                                                NaN  \n",
       "750                   NaN                                                NaN  \n",
       "751                   NaN                                                NaN  \n",
       "752                   NaN                                                NaN  \n",
       "\n",
       "[753 rows x 6 columns]"
      ]
     },
     "execution_count": 15,
     "metadata": {},
     "output_type": "execute_result"
    }
   ],
   "source": [
    "text_labels_manual"
   ]
  },
  {
   "attachments": {},
   "cell_type": "markdown",
   "metadata": {},
   "source": [
    "#### b. OECD annotations"
   ]
  },
  {
   "cell_type": "code",
   "execution_count": 16,
   "metadata": {},
   "outputs": [
    {
     "data": {
      "text/plain": [
       "['data/legislation/Brazil/oecd_annotations_ca.xlsx',\n",
       " 'data/legislation/Brazil/oecd_annotations_hp.xlsx']"
      ]
     },
     "execution_count": 16,
     "metadata": {},
     "output_type": "execute_result"
    }
   ],
   "source": [
    "path = \"data/legislation/Brazil/\"\n",
    "oecd_files = glob(os.path.join(path, \"oecd_annotations*\"))\n",
    "oecd_files"
   ]
  },
  {
   "cell_type": "code",
   "execution_count": 17,
   "metadata": {},
   "outputs": [],
   "source": [
    "dfs = []\n",
    "for file in oecd_files:\n",
    "    df = pd.read_excel(file)\n",
    "    df = df[df['No. and title of Regulation'].notna()]\n",
    "    dfs.append(df)"
   ]
  },
  {
   "cell_type": "code",
   "execution_count": 18,
   "metadata": {},
   "outputs": [],
   "source": [
    "text_labels_oecd = pd.concat(dfs, axis=0, ignore_index=True)"
   ]
  },
  {
   "cell_type": "code",
   "execution_count": 8,
   "metadata": {},
   "outputs": [
    {
     "data": {
      "text/html": [
       "<div>\n",
       "<style scoped>\n",
       "    .dataframe tbody tr th:only-of-type {\n",
       "        vertical-align: middle;\n",
       "    }\n",
       "\n",
       "    .dataframe tbody tr th {\n",
       "        vertical-align: top;\n",
       "    }\n",
       "\n",
       "    .dataframe thead th {\n",
       "        text-align: right;\n",
       "    }\n",
       "</style>\n",
       "<table border=\"1\" class=\"dataframe\">\n",
       "  <thead>\n",
       "    <tr style=\"text-align: right;\">\n",
       "      <th></th>\n",
       "      <th>No.</th>\n",
       "      <th>No. and title of Regulation</th>\n",
       "      <th>Article</th>\n",
       "      <th>Thematic category</th>\n",
       "      <th>Brief description of the potential obstacle</th>\n",
       "      <th>Toolkit question</th>\n",
       "      <th>Keyword</th>\n",
       "      <th>Policy Objective</th>\n",
       "      <th>Harm to competition</th>\n",
       "      <th>Recommendations</th>\n",
       "      <th>Recommendation</th>\n",
       "    </tr>\n",
       "  </thead>\n",
       "  <tbody>\n",
       "    <tr>\n",
       "      <th>0</th>\n",
       "      <td>1</td>\n",
       "      <td>Law 7565/1986 - Brazilian Aeronautical Code</td>\n",
       "      <td>Art. 40</td>\n",
       "      <td>Direct contract</td>\n",
       "      <td>The use of airport areas by air carriers, as w...</td>\n",
       "      <td>A1/A3</td>\n",
       "      <td>Exemption from bid</td>\n",
       "      <td>There is no official recital on the objective....</td>\n",
       "      <td>Exempting use of airport areas from public ten...</td>\n",
       "      <td>No recommendation.</td>\n",
       "      <td>NaN</td>\n",
       "    </tr>\n",
       "    <tr>\n",
       "      <th>1</th>\n",
       "      <td>2</td>\n",
       "      <td>Law 7565/1986 - Brazilian Aeronautical Code</td>\n",
       "      <td>Art. 42</td>\n",
       "      <td>Use of airport areas</td>\n",
       "      <td>Urban lease legislation does not apply to leas...</td>\n",
       "      <td>A4/B4</td>\n",
       "      <td>Use of airport areas</td>\n",
       "      <td>There is no official recital on the objective....</td>\n",
       "      <td>Imposing a different regime for leasing airpor...</td>\n",
       "      <td>No recommendation.</td>\n",
       "      <td>NaN</td>\n",
       "    </tr>\n",
       "    <tr>\n",
       "      <th>2</th>\n",
       "      <td>3</td>\n",
       "      <td>Law 7565/1986 - Brazilian Aeronautical Code</td>\n",
       "      <td>Art. 156 par 1</td>\n",
       "      <td>Crew nationality</td>\n",
       "      <td>When a national company operates a national or...</td>\n",
       "      <td>A2/A3</td>\n",
       "      <td>Crew nationality</td>\n",
       "      <td>Although there is no official recital on the o...</td>\n",
       "      <td>On the one hand, although requiring a professi...</td>\n",
       "      <td>Brazilian authorities should consider relaxing...</td>\n",
       "      <td>NaN</td>\n",
       "    </tr>\n",
       "    <tr>\n",
       "      <th>3</th>\n",
       "      <td>4</td>\n",
       "      <td>Law 7565/1986 - Brazilian Aeronautical Code</td>\n",
       "      <td>Art. 156 par 3</td>\n",
       "      <td>Crew nationality</td>\n",
       "      <td>Foreign flight attendants may be employed for ...</td>\n",
       "      <td>A3</td>\n",
       "      <td>Crew nationality</td>\n",
       "      <td>Although there is no official recital on the o...</td>\n",
       "      <td>Although less restrictive than the rule for do...</td>\n",
       "      <td>Brazilian authorities should consider relaxing...</td>\n",
       "      <td>NaN</td>\n",
       "    </tr>\n",
       "    <tr>\n",
       "      <th>4</th>\n",
       "      <td>5</td>\n",
       "      <td>Law 7565/1986 - Brazilian Aeronautical Code</td>\n",
       "      <td>Art. 158</td>\n",
       "      <td>Crew nationality</td>\n",
       "      <td>Only if there are no Brazilian crew members, f...</td>\n",
       "      <td>A2/A3</td>\n",
       "      <td>Crew nationality</td>\n",
       "      <td>Although there is no official recital on the o...</td>\n",
       "      <td>Brazilian legislation allows foreigners to be ...</td>\n",
       "      <td>Brazilian authorities should consider relaxing...</td>\n",
       "      <td>NaN</td>\n",
       "    </tr>\n",
       "    <tr>\n",
       "      <th>...</th>\n",
       "      <td>...</td>\n",
       "      <td>...</td>\n",
       "      <td>...</td>\n",
       "      <td>...</td>\n",
       "      <td>...</td>\n",
       "      <td>...</td>\n",
       "      <td>...</td>\n",
       "      <td>...</td>\n",
       "      <td>...</td>\n",
       "      <td>...</td>\n",
       "      <td>...</td>\n",
       "    </tr>\n",
       "    <tr>\n",
       "      <th>544</th>\n",
       "      <td>173</td>\n",
       "      <td>Ordinance 137/2016 by Navy - tax for the use o...</td>\n",
       "      <td>104</td>\n",
       "      <td>Tax for the use of the lighthouses</td>\n",
       "      <td>Foreign ships that demand the use of Brazilian...</td>\n",
       "      <td>A3/A4</td>\n",
       "      <td>Foreign vessel</td>\n",
       "      <td>The objective of the provision is to establish...</td>\n",
       "      <td>The provision increases entry costs for foreig...</td>\n",
       "      <td>NaN</td>\n",
       "      <td>No recommendation.</td>\n",
       "    </tr>\n",
       "    <tr>\n",
       "      <th>545</th>\n",
       "      <td>174</td>\n",
       "      <td>Ordinance 137/2016 by Navy (NORMAN 31) - tax f...</td>\n",
       "      <td>107</td>\n",
       "      <td>Tax for the use of the lighthouses</td>\n",
       "      <td>Ships owned or leased by national companies, w...</td>\n",
       "      <td>A3/A4</td>\n",
       "      <td>Foreign vessel</td>\n",
       "      <td>There is no official recital on the objective....</td>\n",
       "      <td>The provision increases entry costs for foreig...</td>\n",
       "      <td>NaN</td>\n",
       "      <td>No recommendation.</td>\n",
       "    </tr>\n",
       "    <tr>\n",
       "      <th>546</th>\n",
       "      <td>175</td>\n",
       "      <td>Resolution 72/2022 (Former Normative Resolutio...</td>\n",
       "      <td>Art.5</td>\n",
       "      <td>Storage</td>\n",
       "      <td>Services not covered by the Box Rate and stora...</td>\n",
       "      <td>C2</td>\n",
       "      <td>Box rate</td>\n",
       "      <td>The segregation and delivery service fee (SSE)...</td>\n",
       "      <td>Such an unclear legal framework may enable por...</td>\n",
       "      <td>NaN</td>\n",
       "      <td>Brazilian authorities should address the lack ...</td>\n",
       "    </tr>\n",
       "    <tr>\n",
       "      <th>547</th>\n",
       "      <td>176</td>\n",
       "      <td>Resolution 72/2022 (Former Normative Resolutio...</td>\n",
       "      <td>Art.5 par 1</td>\n",
       "      <td>Storage</td>\n",
       "      <td>ANTAQ, in case of conflict, may arbitrate the ...</td>\n",
       "      <td>B1</td>\n",
       "      <td>Box rate</td>\n",
       "      <td>The segregation and delivery service fee (SSE)...</td>\n",
       "      <td>Such an unclear legal framework may enable por...</td>\n",
       "      <td>NaN</td>\n",
       "      <td>Brazilian authorities should address the lack ...</td>\n",
       "    </tr>\n",
       "    <tr>\n",
       "      <th>548</th>\n",
       "      <td>177</td>\n",
       "      <td>Resolution 72/2022 (Former Normative Resolutio...</td>\n",
       "      <td>Art 9</td>\n",
       "      <td>Storage</td>\n",
       "      <td>In the event that the likelihood that there is...</td>\n",
       "      <td>B1</td>\n",
       "      <td>SSE</td>\n",
       "      <td>The segregation and delivery service fee (SSE)...</td>\n",
       "      <td>Such an unclear legal framework may enable por...</td>\n",
       "      <td>NaN</td>\n",
       "      <td>Brazilian authorities should address the lack ...</td>\n",
       "    </tr>\n",
       "  </tbody>\n",
       "</table>\n",
       "<p>549 rows × 11 columns</p>\n",
       "</div>"
      ],
      "text/plain": [
       "     No.                        No. and title of Regulation         Article  \\\n",
       "0      1        Law 7565/1986 - Brazilian Aeronautical Code         Art. 40   \n",
       "1      2        Law 7565/1986 - Brazilian Aeronautical Code         Art. 42   \n",
       "2      3        Law 7565/1986 - Brazilian Aeronautical Code  Art. 156 par 1   \n",
       "3      4        Law 7565/1986 - Brazilian Aeronautical Code  Art. 156 par 3   \n",
       "4      5        Law 7565/1986 - Brazilian Aeronautical Code        Art. 158   \n",
       "..   ...                                                ...             ...   \n",
       "544  173  Ordinance 137/2016 by Navy - tax for the use o...             104   \n",
       "545  174  Ordinance 137/2016 by Navy (NORMAN 31) - tax f...             107   \n",
       "546  175  Resolution 72/2022 (Former Normative Resolutio...           Art.5   \n",
       "547  176  Resolution 72/2022 (Former Normative Resolutio...     Art.5 par 1   \n",
       "548  177  Resolution 72/2022 (Former Normative Resolutio...           Art 9   \n",
       "\n",
       "                      Thematic category  \\\n",
       "0                       Direct contract   \n",
       "1                  Use of airport areas   \n",
       "2                      Crew nationality   \n",
       "3                      Crew nationality   \n",
       "4                      Crew nationality   \n",
       "..                                  ...   \n",
       "544  Tax for the use of the lighthouses   \n",
       "545  Tax for the use of the lighthouses   \n",
       "546                             Storage   \n",
       "547                             Storage   \n",
       "548                             Storage   \n",
       "\n",
       "           Brief description of the potential obstacle Toolkit question  \\\n",
       "0    The use of airport areas by air carriers, as w...            A1/A3   \n",
       "1    Urban lease legislation does not apply to leas...            A4/B4   \n",
       "2    When a national company operates a national or...            A2/A3   \n",
       "3    Foreign flight attendants may be employed for ...               A3   \n",
       "4    Only if there are no Brazilian crew members, f...            A2/A3   \n",
       "..                                                 ...              ...   \n",
       "544  Foreign ships that demand the use of Brazilian...            A3/A4   \n",
       "545  Ships owned or leased by national companies, w...            A3/A4   \n",
       "546  Services not covered by the Box Rate and stora...               C2   \n",
       "547  ANTAQ, in case of conflict, may arbitrate the ...               B1   \n",
       "548  In the event that the likelihood that there is...               B1   \n",
       "\n",
       "                  Keyword                                   Policy Objective  \\\n",
       "0      Exemption from bid  There is no official recital on the objective....   \n",
       "1    Use of airport areas  There is no official recital on the objective....   \n",
       "2        Crew nationality  Although there is no official recital on the o...   \n",
       "3        Crew nationality  Although there is no official recital on the o...   \n",
       "4        Crew nationality  Although there is no official recital on the o...   \n",
       "..                    ...                                                ...   \n",
       "544        Foreign vessel  The objective of the provision is to establish...   \n",
       "545        Foreign vessel  There is no official recital on the objective....   \n",
       "546              Box rate  The segregation and delivery service fee (SSE)...   \n",
       "547              Box rate  The segregation and delivery service fee (SSE)...   \n",
       "548                   SSE  The segregation and delivery service fee (SSE)...   \n",
       "\n",
       "                                   Harm to competition  \\\n",
       "0    Exempting use of airport areas from public ten...   \n",
       "1    Imposing a different regime for leasing airpor...   \n",
       "2    On the one hand, although requiring a professi...   \n",
       "3    Although less restrictive than the rule for do...   \n",
       "4    Brazilian legislation allows foreigners to be ...   \n",
       "..                                                 ...   \n",
       "544  The provision increases entry costs for foreig...   \n",
       "545  The provision increases entry costs for foreig...   \n",
       "546  Such an unclear legal framework may enable por...   \n",
       "547  Such an unclear legal framework may enable por...   \n",
       "548  Such an unclear legal framework may enable por...   \n",
       "\n",
       "                                       Recommendations  \\\n",
       "0                                   No recommendation.   \n",
       "1                                   No recommendation.   \n",
       "2    Brazilian authorities should consider relaxing...   \n",
       "3    Brazilian authorities should consider relaxing...   \n",
       "4    Brazilian authorities should consider relaxing...   \n",
       "..                                                 ...   \n",
       "544                                                NaN   \n",
       "545                                                NaN   \n",
       "546                                                NaN   \n",
       "547                                                NaN   \n",
       "548                                                NaN   \n",
       "\n",
       "                                        Recommendation  \n",
       "0                                                  NaN  \n",
       "1                                                  NaN  \n",
       "2                                                  NaN  \n",
       "3                                                  NaN  \n",
       "4                                                  NaN  \n",
       "..                                                 ...  \n",
       "544                                 No recommendation.  \n",
       "545                                 No recommendation.  \n",
       "546  Brazilian authorities should address the lack ...  \n",
       "547  Brazilian authorities should address the lack ...  \n",
       "548  Brazilian authorities should address the lack ...  \n",
       "\n",
       "[549 rows x 11 columns]"
      ]
     },
     "execution_count": 8,
     "metadata": {},
     "output_type": "execute_result"
    }
   ],
   "source": [
    "text_labels_oecd"
   ]
  },
  {
   "attachments": {},
   "cell_type": "markdown",
   "metadata": {},
   "source": [
    "#### c. Cleaning and merging"
   ]
  },
  {
   "cell_type": "code",
   "execution_count": 19,
   "metadata": {},
   "outputs": [],
   "source": [
    "text_oecd_clean = (\n",
    "    text_labels_oecd\n",
    "    .assign(Category=text_labels_oecd['Toolkit question'].str.split('/')).explode('Category') # unique row per category\n",
    "    .loc[:, [\"No. and title of Regulation\", \"Article\", \"Brief description of the potential obstacle\", \"Category\"]] # subset \n",
    "    .rename(columns={\"No. and title of Regulation\": \"Law\", \"Article\": \"Paragraph\", \"Brief description of the potential obstacle\": \"Text\"}) #\n",
    ")"
   ]
  },
  {
   "cell_type": "code",
   "execution_count": 20,
   "metadata": {},
   "outputs": [],
   "source": [
    "text_oecd_clean = text_oecd_clean[~text_oecd_clean['Law'].isin(text_labels_manual['Law'].unique())] # remove laws in manually annotated file"
   ]
  },
  {
   "cell_type": "code",
   "execution_count": 27,
   "metadata": {},
   "outputs": [],
   "source": [
    "text_labels = pd.concat([text_oecd_clean, text_labels_manual]).dropna(axis=1).reset_index(drop=True) # merge files "
   ]
  },
  {
   "cell_type": "code",
   "execution_count": 29,
   "metadata": {},
   "outputs": [],
   "source": [
    "text_labels['text_clean'] = preprocess_corpus_keep_stop_words(text_labels['Text'])\n",
    "text_labels['text_clean'] = [stem_lemmatize(text) for text in text_labels['text_clean']]"
   ]
  },
  {
   "cell_type": "code",
   "execution_count": 32,
   "metadata": {},
   "outputs": [],
   "source": [
    "text_labels.to_csv(\"data/01 legal_texts_with_labels_stopwords.csv\")"
   ]
  },
  {
   "attachments": {},
   "cell_type": "markdown",
   "metadata": {},
   "source": [
    "#### d. Grouped labels"
   ]
  },
  {
   "cell_type": "code",
   "execution_count": 5,
   "metadata": {},
   "outputs": [
    {
     "data": {
      "text/plain": [
       "None                        663\n",
       "A3                          390\n",
       "A4                          168\n",
       "A2                          151\n",
       "B4                           52\n",
       "A1                           35\n",
       "B1                           33\n",
       "Administrative burden        27\n",
       "A5                           16\n",
       "C2                           15\n",
       " administrative burden        7\n",
       "B3                            4\n",
       "A3                            3\n",
       "administrative burden         1\n",
       "Grandfather rights            1\n",
       " Administrative burden        1\n",
       " A4                           1\n",
       "A4                            1\n",
       "A4 Administrative burden      1\n",
       "D1                            1\n",
       "Administrative Burden         1\n",
       "Name: Category, dtype: int64"
      ]
     },
     "execution_count": 5,
     "metadata": {},
     "output_type": "execute_result"
    }
   ],
   "source": [
    "text_labels.Category.value_counts()"
   ]
  },
  {
   "cell_type": "code",
   "execution_count": 6,
   "metadata": {},
   "outputs": [],
   "source": [
    "text_labels_grouped = text_labels\n",
    "text_labels_grouped['Category'] = text_labels_grouped['Category'].apply(lambda x: ''.join(filter(str.isalpha, x)))"
   ]
  },
  {
   "cell_type": "code",
   "execution_count": 7,
   "metadata": {},
   "outputs": [
    {
     "data": {
      "text/plain": [
       "A       765\n",
       "None    663\n",
       "B        89\n",
       "C        15\n",
       "D         1\n",
       "Name: Category, dtype: int64"
      ]
     },
     "execution_count": 7,
     "metadata": {},
     "output_type": "execute_result"
    }
   ],
   "source": [
    "categories = ['A', 'B', 'C', 'D', 'None']\n",
    "text_labels_grouped = text_labels_grouped[text_labels_grouped['Category'].isin(categories)]\n",
    "text_labels_grouped.Category.value_counts()"
   ]
  },
  {
   "cell_type": "code",
   "execution_count": 8,
   "metadata": {},
   "outputs": [],
   "source": [
    "text_labels_grouped.to_csv(\"data/01 legal_texts_with_labels_grouped.csv\")"
   ]
  }
 ],
 "metadata": {
  "kernelspec": {
   "display_name": "mtc",
   "language": "python",
   "name": "mtc"
  },
  "language_info": {
   "codemirror_mode": {
    "name": "ipython",
    "version": 3
   },
   "file_extension": ".py",
   "mimetype": "text/x-python",
   "name": "python",
   "nbconvert_exporter": "python",
   "pygments_lexer": "ipython3",
   "version": "3.9.13"
  },
  "orig_nbformat": 4
 },
 "nbformat": 4,
 "nbformat_minor": 2
}
