{
 "cells": [
  {
   "attachments": {},
   "cell_type": "markdown",
   "metadata": {},
   "source": [
    "# Multi-label Legal Text Classification for CIA"
   ]
  },
  {
   "attachments": {},
   "cell_type": "markdown",
   "metadata": {},
   "source": [
    "## Models and Experiments: Baseline Models"
   ]
  },
  {
   "cell_type": "code",
   "execution_count": null,
   "metadata": {},
   "outputs": [],
   "source": [
    "!pip install umap-learn"
   ]
  },
  {
   "cell_type": "code",
   "execution_count": 4,
   "metadata": {},
   "outputs": [],
   "source": [
    "import pandas as pd\n",
    "import numpy as np\n",
    "import matplotlib.pyplot as plt\n",
    "import seaborn as sns\n",
    "import os\n",
    "import csv"
   ]
  },
  {
   "cell_type": "code",
   "execution_count": 196,
   "metadata": {},
   "outputs": [],
   "source": [
    "from zipfile import ZipFile\n",
    "from gensim.test.utils import common_texts\n",
    "from gensim.models import Word2Vec\n",
    "import gensim.downloader as api\n",
    "from gensim.test.utils import datapath\n",
    "from gensim.models import KeyedVectors\n",
    "from nltk.tokenize import sent_tokenize, word_tokenize\n",
    "from numpy.linalg import norm\n",
    "import umap.umap_ as umap\n",
    "\n",
    "from sklearn.feature_extraction.text import TfidfVectorizer \n",
    "from sklearn.feature_extraction.text import CountVectorizer \n",
    "from sklearn.metrics.pairwise import cosine_similarity\n",
    "from sklearn.model_selection import learning_curve\n",
    "from sklearn.model_selection import train_test_split\n",
    "from sklearn.preprocessing import LabelEncoder\n",
    "from sklearn.linear_model import LogisticRegression\n",
    "from sklearn.metrics import accuracy_score, precision_recall_fscore_support, precision_score, recall_score\n",
    "from sklearn.metrics import classification_report, confusion_matrix\n",
    "import pickle"
   ]
  },
  {
   "cell_type": "code",
   "execution_count": 7,
   "metadata": {},
   "outputs": [
    {
     "data": {
      "text/plain": [
       "'/Users/janinedevera/Documents/School/MDS 2021-2023/Thesis/multilabel-legal-text-classification-CIA'"
      ]
     },
     "execution_count": 7,
     "metadata": {},
     "output_type": "execute_result"
    }
   ],
   "source": [
    "os.chdir(\"../..\")\n",
    "os.getcwd()"
   ]
  },
  {
   "attachments": {},
   "cell_type": "markdown",
   "metadata": {},
   "source": [
    "### Preliminaries"
   ]
  },
  {
   "attachments": {},
   "cell_type": "markdown",
   "metadata": {},
   "source": [
    "Load data"
   ]
  },
  {
   "cell_type": "code",
   "execution_count": 8,
   "metadata": {},
   "outputs": [],
   "source": [
    "text = pd.read_csv(\"data/01 legal_texts_pipeline_stopwords.csv\", index_col=0)\n",
    "text_labels = pd.read_csv(\"data/01 legal_texts_with_labels_grouped.csv\", index_col=0)\n",
    "defs = pd.read_csv(\"data/02 oecd_definitions_stopwords.csv\", index_col=0)\n",
    "defs_grouped = pd.read_csv(\"data/02 oecd_definitions_stopwords_grouped.csv\", index_col=0)"
   ]
  },
  {
   "cell_type": "code",
   "execution_count": 12,
   "metadata": {},
   "outputs": [
    {
     "data": {
      "text/html": [
       "<div>\n",
       "<style scoped>\n",
       "    .dataframe tbody tr th:only-of-type {\n",
       "        vertical-align: middle;\n",
       "    }\n",
       "\n",
       "    .dataframe tbody tr th {\n",
       "        vertical-align: top;\n",
       "    }\n",
       "\n",
       "    .dataframe thead th {\n",
       "        text-align: right;\n",
       "    }\n",
       "</style>\n",
       "<table border=\"1\" class=\"dataframe\">\n",
       "  <thead>\n",
       "    <tr style=\"text-align: right;\">\n",
       "      <th></th>\n",
       "      <th>Main</th>\n",
       "      <th>text_clean</th>\n",
       "      <th>length</th>\n",
       "    </tr>\n",
       "  </thead>\n",
       "  <tbody>\n",
       "    <tr>\n",
       "      <th>0</th>\n",
       "      <td>A</td>\n",
       "      <td>limit the number of supplier lead to the risk ...</td>\n",
       "      <td>833</td>\n",
       "    </tr>\n",
       "    <tr>\n",
       "      <th>1</th>\n",
       "      <td>B</td>\n",
       "      <td>regul can affect a supplier 's abil to compet ...</td>\n",
       "      <td>781</td>\n",
       "    </tr>\n",
       "    <tr>\n",
       "      <th>2</th>\n",
       "      <td>C</td>\n",
       "      <td>regul can affect supplier behaviour by not onl...</td>\n",
       "      <td>459</td>\n",
       "    </tr>\n",
       "    <tr>\n",
       "      <th>3</th>\n",
       "      <td>Others</td>\n",
       "      <td>regul sometim limit choic avail to consum for ...</td>\n",
       "      <td>257</td>\n",
       "    </tr>\n",
       "  </tbody>\n",
       "</table>\n",
       "</div>"
      ],
      "text/plain": [
       "     Main                                         text_clean  length\n",
       "0       A  limit the number of supplier lead to the risk ...     833\n",
       "1       B  regul can affect a supplier 's abil to compet ...     781\n",
       "2       C  regul can affect supplier behaviour by not onl...     459\n",
       "3  Others  regul sometim limit choic avail to consum for ...     257"
      ]
     },
     "execution_count": 12,
     "metadata": {},
     "output_type": "execute_result"
    }
   ],
   "source": [
    "defs_grouped['Main'] = defs_grouped['Main'].replace('D', 'Others')\n",
    "defs_grouped"
   ]
  },
  {
   "attachments": {},
   "cell_type": "markdown",
   "metadata": {},
   "source": [
    "Clean labels"
   ]
  },
  {
   "cell_type": "code",
   "execution_count": 163,
   "metadata": {},
   "outputs": [
    {
     "data": {
      "text/plain": [
       "A         772\n",
       "None      663\n",
       "B         115\n",
       "Others     44\n",
       "C          29\n",
       "Name: Category_New, dtype: int64"
      ]
     },
     "execution_count": 163,
     "metadata": {},
     "output_type": "execute_result"
    }
   ],
   "source": [
    "text_labels.Category_New.value_counts()"
   ]
  },
  {
   "attachments": {},
   "cell_type": "markdown",
   "metadata": {},
   "source": [
    "### I. Logistic Regression"
   ]
  },
  {
   "attachments": {},
   "cell_type": "markdown",
   "metadata": {},
   "source": [
    "##### a. TF-IDF"
   ]
  },
  {
   "attachments": {},
   "cell_type": "markdown",
   "metadata": {},
   "source": [
    "As the first baseline model, check the performance of a logistic regression using the **TF-IDF matrix** of the corpus."
   ]
  },
  {
   "cell_type": "code",
   "execution_count": 187,
   "metadata": {},
   "outputs": [
    {
     "data": {
      "text/plain": [
       "(1623, 2597)"
      ]
     },
     "execution_count": 187,
     "metadata": {},
     "output_type": "execute_result"
    }
   ],
   "source": [
    "# tf-idf vectorizer\n",
    "vectorizer = TfidfVectorizer()\n",
    "dfm = vectorizer.fit_transform(text_labels['text_clean'])\n",
    "dfm.shape"
   ]
  },
  {
   "cell_type": "code",
   "execution_count": 188,
   "metadata": {},
   "outputs": [],
   "source": [
    "# split data\n",
    "l_train_text, l_test_text, l_train_labels, l_test_labels = train_test_split(dfm, text_labels['Category_New'], \n",
    "                                                                            random_state=999, \n",
    "                                                                            test_size=0.3, \n",
    "                                                                            stratify=text_labels['Category_New'])"
   ]
  },
  {
   "cell_type": "code",
   "execution_count": 189,
   "metadata": {},
   "outputs": [
    {
     "name": "stdout",
     "output_type": "stream",
     "text": [
      " Classification Report:\n",
      "              precision    recall  f1-score   support\n",
      "\n",
      "           A       0.84      0.95      0.89       232\n",
      "           B       0.80      0.24      0.36        34\n",
      "           C       0.00      0.00      0.00         9\n",
      "        None       0.88      0.95      0.91       199\n",
      "      Others       0.00      0.00      0.00        13\n",
      "\n",
      "    accuracy                           0.86       487\n",
      "   macro avg       0.50      0.43      0.43       487\n",
      "weighted avg       0.82      0.86      0.82       487\n",
      "\n",
      "Train vs Test Accuracy:\n",
      "Train:0.899\n",
      "Test:0.858\n"
     ]
    }
   ],
   "source": [
    "# train model and return training accuracy\n",
    "clf = LogisticRegression(random_state=999).fit(l_train_text, l_train_labels)\n",
    "with open('./models/logistic.pkl', 'wb') as f: pickle.dump(clf, f)\n",
    "\n",
    "train_acc = clf.score(l_train_text, l_train_labels)\n",
    "\n",
    "# evaluate on test data \n",
    "y_pred = clf.predict(l_test_text)\n",
    "classification_rep = classification_report(l_test_labels, y_pred, zero_division=0)\n",
    "test_acc = clf.score(l_test_text, l_test_labels)\n",
    "\n",
    "# print classification report\n",
    "print(' Classification Report:')\n",
    "print(classification_rep)\n",
    "print('Train vs Test Accuracy:')\n",
    "print('Train:' + str(round(train_acc, 3)))\n",
    "print('Test:' + str(round(test_acc, 3)))"
   ]
  },
  {
   "attachments": {},
   "cell_type": "markdown",
   "metadata": {},
   "source": [
    "##### b. Bi-grams TF-IDF"
   ]
  },
  {
   "attachments": {},
   "cell_type": "markdown",
   "metadata": {},
   "source": [
    "This is also compared with a logistic regression using a **tri-gram TF-IDF matrix**, which gives all the possible combinations of 3 words. "
   ]
  },
  {
   "cell_type": "code",
   "execution_count": 373,
   "metadata": {},
   "outputs": [
    {
     "data": {
      "text/plain": [
       "(1623, 16978)"
      ]
     },
     "execution_count": 373,
     "metadata": {},
     "output_type": "execute_result"
    }
   ],
   "source": [
    "word_vectorizer = TfidfVectorizer(analyzer='word', token_pattern=r'\\w{1,}', sublinear_tf=True, strip_accents='unicode', \n",
    "                                  stop_words='english', ngram_range=(2, 2))\n",
    "\n",
    "dfm_tri = word_vectorizer.fit_transform(text_labels['text_clean'])\n",
    "dfm_tri.shape"
   ]
  },
  {
   "cell_type": "code",
   "execution_count": 374,
   "metadata": {},
   "outputs": [],
   "source": [
    "l_train_text, l_test_text, l_train_labels, l_test_labels = train_test_split(dfm_tri, text_labels['Category_New'], \n",
    "                                                                            random_state=999, \n",
    "                                                                            test_size=0.3, \n",
    "                                                                            stratify=text_labels['Category_New'])"
   ]
  },
  {
   "cell_type": "code",
   "execution_count": 375,
   "metadata": {},
   "outputs": [
    {
     "name": "stdout",
     "output_type": "stream",
     "text": [
      " Classification Report:\n",
      "              precision    recall  f1-score   support\n",
      "\n",
      "           A       0.86      0.84      0.85       232\n",
      "           B       0.00      0.00      0.00        34\n",
      "           C       0.00      0.00      0.00         9\n",
      "        None       0.76      0.99      0.86       199\n",
      "      Others       0.00      0.00      0.00        13\n",
      "\n",
      "    accuracy                           0.81       487\n",
      "   macro avg       0.32      0.37      0.34       487\n",
      "weighted avg       0.72      0.81      0.76       487\n",
      "\n",
      "Train vs Test Accuracy:\n",
      "Train:0.898\n",
      "Test:0.807\n",
      "Top 20 Important Tri-grams:\n",
      "1. Tri-gram: perform guarante, Importance: 1.373120798353981\n",
      "2. Tri-gram: aviat fuel, Importance: 1.2111755864932068\n",
      "3. Tri-gram: approv anac, Importance: 1.1500558052090526\n",
      "4. Tri-gram: port worker, Importance: 0.9592305478454392\n",
      "5. Tri-gram: thi articl, Importance: 0.9415626642945814\n",
      "6. Tri-gram: ship compani, Importance: 0.9365260799029799\n",
      "7. Tri-gram: thi resolut, Importance: 0.9081737376702644\n",
      "8. Tri-gram: subject prior, Importance: 0.8601690755589639\n",
      "9. Tri-gram: minimum capit, Importance: 0.8487428139159952\n",
      "10. Tri-gram: ground handl, Importance: 0.8204976257950297\n",
      "11. Tri-gram: legal entiti, Importance: 0.7817404207228694\n",
      "12. Tri-gram: brand model, Importance: 0.7556937481687255\n",
      "13. Tri-gram: prior approv, Importance: 0.752463293793538\n",
      "14. Tri-gram: pilotag zone, Importance: 0.748870872298695\n",
      "15. Tri-gram: brazilian ship, Importance: 0.7260913476308243\n",
      "16. Tri-gram: pre qualifi, Importance: 0.7075173776663451\n",
      "17. Tri-gram: econom financi, Importance: 0.7045756852651103\n",
      "18. Tri-gram: flight attend, Importance: 0.7001511147925226\n",
      "19. Tri-gram: sole paragraph, Importance: 0.6995991795009245\n",
      "20. Tri-gram: valu contract, Importance: 0.6965510075069302\n"
     ]
    }
   ],
   "source": [
    "# train model and return training accuracy\n",
    "clf = LogisticRegression(random_state=999).fit(l_train_text, l_train_labels)\n",
    "with open('./models/logistic.spkl', 'wb') as f: pickle.dump(clf, f)\n",
    "\n",
    "train_acc = clf.score(l_train_text, l_train_labels)\n",
    "\n",
    "# evaluate on test data \n",
    "y_pred = clf.predict(l_test_text)\n",
    "classification_rep = classification_report(l_test_labels, y_pred, zero_division=0)\n",
    "test_acc = clf.score(l_test_text, l_test_labels)\n",
    "\n",
    "# print classification report\n",
    "print(' Classification Report:')\n",
    "print(classification_rep)\n",
    "print('Train vs Test Accuracy:')\n",
    "print('Train:' + str(round(train_acc, 3)))\n",
    "print('Test:' + str(round(test_acc, 3)))\n",
    "\n",
    "# get feature names from vocabulary of vectorizer\n",
    "feature_names = word_vectorizer.get_feature_names_out()\n",
    "\n",
    "# calculate feature importance\n",
    "importance = clf.coef_[0]\n",
    "feature_importance = abs(importance)\n",
    "sorted_idx = feature_importance.argsort()[::-1]\n",
    "\n",
    "# print top 20 important features (tri-grams)\n",
    "print('Top 20 Important Tri-grams:')\n",
    "for i, idx in enumerate(sorted_idx[:20]):\n",
    "    print(f\"{i+1}. Tri-gram: {feature_names[idx]}, Importance: {feature_importance[idx]}\")"
   ]
  },
  {
   "attachments": {},
   "cell_type": "markdown",
   "metadata": {},
   "source": [
    "Performance of TF-IDF and tri-gram TF-IDF models do not vary significantly. Training accuracy is at around 90% while testing accuracy is at around 86%. In most categories (with meaningful number of observations) recall is higher than precision, which means that the model performs better on minimizing false negatives than false positives."
   ]
  },
  {
   "cell_type": "code",
   "execution_count": 376,
   "metadata": {},
   "outputs": [
    {
     "data": {
      "image/png": "[encoded data removed]",
      "text/plain": [
       "<Figure size 800x500 with 1 Axes>"
      ]
     },
     "metadata": {},
     "output_type": "display_data"
    }
   ],
   "source": [
    "# function for learning curve\n",
    "def plot_learning_curve(estimator, X, y, cv, train_sizes=np.linspace(0.1, 1.0, 10)):\n",
    "    train_sizes, train_scores, test_scores = learning_curve(\n",
    "        estimator, X, y, cv=cv, train_sizes=train_sizes, scoring='accuracy')\n",
    "    train_scores_mean = np.mean(train_scores, axis=1)\n",
    "    train_scores_std = np.std(train_scores, axis=1)\n",
    "    test_scores_mean = np.mean(test_scores, axis=1)\n",
    "    test_scores_std = np.std(test_scores, axis=1)\n",
    "\n",
    "    plt.figure(figsize=(8, 5))\n",
    "    plt.title('Learning Curve', fontname='Arial', fontsize=14)\n",
    "    plt.xlabel('Training Examples', fontname= 'Arial', fontsize=12, labelpad=10)\n",
    "    plt.ylabel('Accuracy', fontname='Arial', fontsize=12, labelpad=10)\n",
    "    plt.xticks(fontname='Arial', fontsize=12)\n",
    "    plt.yticks(fontname='Arial', fontsize=12)\n",
    "\n",
    "    plt.grid()\n",
    "    plt.fill_between(train_sizes, train_scores_mean - train_scores_std,\n",
    "                     train_scores_mean + train_scores_std, alpha=0.1,\n",
    "                     color='r')\n",
    "    plt.fill_between(train_sizes, test_scores_mean - test_scores_std,\n",
    "                     test_scores_mean + test_scores_std, alpha=0.1, color='g')\n",
    "    plt.plot(train_sizes, train_scores_mean, 'o-', color='#C85B89',\n",
    "             label='Training Score')\n",
    "    plt.plot(train_sizes, test_scores_mean, 'o-', color='#2A769E',\n",
    "             label='Cross-validation Score')\n",
    "    plt.legend(loc='best', prop={'family': 'Arial', 'size': 12})\n",
    "    plt.show()\n",
    "\n",
    "# plot learning curve\n",
    "plot_learning_curve(clf, l_train_text, l_train_labels, cv=5)\n"
   ]
  },
  {
   "attachments": {},
   "cell_type": "markdown",
   "metadata": {},
   "source": [
    "However, the learning curves show that the training accuracy is consistently higher than the test accuracy, with the latter showing no furter improvement despite the increase in number of observations. This could be an indication that the model is overfitting to the training data. The small dataset also makes it more likely that the model is overfitting."
   ]
  },
  {
   "attachments": {},
   "cell_type": "markdown",
   "metadata": {},
   "source": [
    "### II. GloVe"
   ]
  },
  {
   "attachments": {},
   "cell_type": "markdown",
   "metadata": {},
   "source": [
    "As an alternative, pre-trained word embeddings can be used to represent the corpus by averaging word vectors using the TF-IDF matrix. From here, similarity scores are obtained between legal texts and the definitions of 4 competition restrictions."
   ]
  },
  {
   "attachments": {},
   "cell_type": "markdown",
   "metadata": {},
   "source": [
    "##### a. Document embedding matrix"
   ]
  },
  {
   "cell_type": "code",
   "execution_count": 211,
   "metadata": {},
   "outputs": [
    {
     "data": {
      "text/plain": [
       "(400000, 300)"
      ]
     },
     "execution_count": 211,
     "metadata": {},
     "output_type": "execute_result"
    }
   ],
   "source": [
    "# load GloVe embeddings\n",
    "dims = 300\n",
    "f = open(f'data/glove/glove.6B.{dims}d.txt') # download GloVe and save in data folder\n",
    "\n",
    "embed_matrix = pd.read_table(\n",
    "    f, sep = \" \", index_col = 0, \n",
    "    header = None, quoting = csv.QUOTE_NONE\n",
    ")\n",
    "\n",
    "embed_matrix.shape"
   ]
  },
  {
   "cell_type": "code",
   "execution_count": 212,
   "metadata": {},
   "outputs": [],
   "source": [
    "# function for doc embeddings\n",
    "def doc_embed(df, vectorizer):\n",
    "    dfm = vectorizer.fit_transform(df['text_clean'])\n",
    "    common_features = set(embed_matrix.index) & set(vectorizer.get_feature_names_out())\n",
    "    vocab_ids = [vectorizer.vocabulary_[x] for x in common_features]\n",
    "    matrix = dfm[:,vocab_ids].dot(embed_matrix.loc[common_features,])\n",
    "    return matrix"
   ]
  },
  {
   "cell_type": "code",
   "execution_count": 213,
   "metadata": {},
   "outputs": [],
   "source": [
    "vectorizer = TfidfVectorizer()"
   ]
  },
  {
   "cell_type": "code",
   "execution_count": 214,
   "metadata": {},
   "outputs": [
    {
     "name": "stderr",
     "output_type": "stream",
     "text": [
      "/var/folders/rd/n9w0gpv53y72x5k9wk3hp63w0000gn/T/ipykernel_21658/2389357900.py:6: FutureWarning: Passing a set as an indexer is deprecated and will raise in a future version. Use a list instead.\n",
      "  matrix = dfm[:,vocab_ids].dot(embed_matrix.loc[common_features,])\n"
     ]
    },
    {
     "data": {
      "text/plain": [
       "(1623, 300)"
      ]
     },
     "execution_count": 214,
     "metadata": {},
     "output_type": "execute_result"
    }
   ],
   "source": [
    "# doc embeddings for legal text\n",
    "text_labels_embed = doc_embed(text_labels, vectorizer)\n",
    "text_labels_embed.shape"
   ]
  },
  {
   "cell_type": "code",
   "execution_count": 215,
   "metadata": {},
   "outputs": [
    {
     "name": "stderr",
     "output_type": "stream",
     "text": [
      "/var/folders/rd/n9w0gpv53y72x5k9wk3hp63w0000gn/T/ipykernel_21658/2389357900.py:6: FutureWarning: Passing a set as an indexer is deprecated and will raise in a future version. Use a list instead.\n",
      "  matrix = dfm[:,vocab_ids].dot(embed_matrix.loc[common_features,])\n"
     ]
    },
    {
     "data": {
      "text/plain": [
       "(4, 300)"
      ]
     },
     "execution_count": 215,
     "metadata": {},
     "output_type": "execute_result"
    }
   ],
   "source": [
    "# doc embeddings for grouped labels\n",
    "defs_grouped_embed = doc_embed(defs_grouped, vectorizer)\n",
    "defs_grouped_embed.shape"
   ]
  },
  {
   "attachments": {},
   "cell_type": "markdown",
   "metadata": {},
   "source": [
    "##### b. Cosine similarities"
   ]
  },
  {
   "cell_type": "code",
   "execution_count": 218,
   "metadata": {},
   "outputs": [],
   "source": [
    "def cos_sim(a, b):\n",
    "    dot_product = np.dot(a, b)\n",
    "    norm_a = np.linalg.norm(a)\n",
    "    norm_b = np.linalg.norm(b)\n",
    "    return dot_product / (norm_a * norm_b)"
   ]
  },
  {
   "cell_type": "code",
   "execution_count": 219,
   "metadata": {},
   "outputs": [],
   "source": [
    "docs = []\n",
    "for i in range(len(text_labels_embed)):\n",
    "    scores = []\n",
    "    for j in range(len(defs_grouped_embed)):\n",
    "        A = text_labels_embed[i]\n",
    "        B = defs_grouped_embed[j]\n",
    "        scores += [(cos_sim(A,B)+1)/(1+1)] # centered \n",
    "    docs += [scores]"
   ]
  },
  {
   "cell_type": "code",
   "execution_count": 223,
   "metadata": {},
   "outputs": [
    {
     "data": {
      "text/html": [
       "<div>\n",
       "<style scoped>\n",
       "    .dataframe tbody tr th:only-of-type {\n",
       "        vertical-align: middle;\n",
       "    }\n",
       "\n",
       "    .dataframe tbody tr th {\n",
       "        vertical-align: top;\n",
       "    }\n",
       "\n",
       "    .dataframe thead th {\n",
       "        text-align: right;\n",
       "    }\n",
       "</style>\n",
       "<table border=\"1\" class=\"dataframe\">\n",
       "  <thead>\n",
       "    <tr style=\"text-align: right;\">\n",
       "      <th></th>\n",
       "      <th>A</th>\n",
       "      <th>B</th>\n",
       "      <th>C</th>\n",
       "      <th>Others</th>\n",
       "    </tr>\n",
       "  </thead>\n",
       "  <tbody>\n",
       "    <tr>\n",
       "      <th>0</th>\n",
       "      <td>0.901425</td>\n",
       "      <td>0.892006</td>\n",
       "      <td>0.893792</td>\n",
       "      <td>0.898795</td>\n",
       "    </tr>\n",
       "    <tr>\n",
       "      <th>1</th>\n",
       "      <td>0.901425</td>\n",
       "      <td>0.892006</td>\n",
       "      <td>0.893792</td>\n",
       "      <td>0.898795</td>\n",
       "    </tr>\n",
       "    <tr>\n",
       "      <th>2</th>\n",
       "      <td>0.927095</td>\n",
       "      <td>0.921130</td>\n",
       "      <td>0.915149</td>\n",
       "      <td>0.913062</td>\n",
       "    </tr>\n",
       "    <tr>\n",
       "      <th>3</th>\n",
       "      <td>0.969802</td>\n",
       "      <td>0.963933</td>\n",
       "      <td>0.958205</td>\n",
       "      <td>0.957638</td>\n",
       "    </tr>\n",
       "    <tr>\n",
       "      <th>4</th>\n",
       "      <td>0.973000</td>\n",
       "      <td>0.971173</td>\n",
       "      <td>0.966005</td>\n",
       "      <td>0.967465</td>\n",
       "    </tr>\n",
       "  </tbody>\n",
       "</table>\n",
       "</div>"
      ],
      "text/plain": [
       "          A         B         C    Others\n",
       "0  0.901425  0.892006  0.893792  0.898795\n",
       "1  0.901425  0.892006  0.893792  0.898795\n",
       "2  0.927095  0.921130  0.915149  0.913062\n",
       "3  0.969802  0.963933  0.958205  0.957638\n",
       "4  0.973000  0.971173  0.966005  0.967465"
      ]
     },
     "execution_count": 223,
     "metadata": {},
     "output_type": "execute_result"
    }
   ],
   "source": [
    "scores_df = pd.DataFrame(docs, columns = [\"A\", \"B\", \"C\", \"Others\"])\n",
    "scores_df.head()"
   ]
  },
  {
   "cell_type": "code",
   "execution_count": 246,
   "metadata": {},
   "outputs": [
    {
     "data": {
      "image/png": "[encoded data removed]",
      "text/plain": [
       "<Figure size 800x500 with 1 Axes>"
      ]
     },
     "metadata": {},
     "output_type": "display_data"
    }
   ],
   "source": [
    "plt.figure(figsize=(8, 5))\n",
    "plt.hist(scores_df.values.flatten(), bins=50, alpha=0.5, fill='#0C6291')\n",
    "plt.xlabel('Value', fontname='Arial', fontsize=12, labelpad=10)\n",
    "plt.ylabel('Frequency', fontname='Arial', fontsize=12, labelpad=10)\n",
    "plt.title('Distribution of Scores in All Categories', fontname='Arial', fontsize=14)\n",
    "plt.xticks(fontname='Arial', fontsize=12)\n",
    "plt.yticks(fontname='Arial', fontsize=12)\n",
    "plt.show()"
   ]
  },
  {
   "cell_type": "code",
   "execution_count": 247,
   "metadata": {},
   "outputs": [],
   "source": [
    "# df with scores\n",
    "text_scores_labels_glove = pd.merge(text_labels, scores_df, left_index=True, right_index=True)\n",
    "text_scores_labels_glove.to_csv(\"data/scores/01 sim_scores_glove_labeled.csv\")"
   ]
  },
  {
   "attachments": {},
   "cell_type": "markdown",
   "metadata": {},
   "source": [
    "##### c. Threshold test"
   ]
  },
  {
   "cell_type": "code",
   "execution_count": 92,
   "metadata": {},
   "outputs": [],
   "source": [
    "text_scores_labels_glove = pd.read_csv(\"data/scores/01 sim_scores_glove_labeled.csv\", index_col=0)"
   ]
  },
  {
   "cell_type": "code",
   "execution_count": 248,
   "metadata": {},
   "outputs": [
    {
     "data": {
      "text/html": [
       "<div>\n",
       "<style scoped>\n",
       "    .dataframe tbody tr th:only-of-type {\n",
       "        vertical-align: middle;\n",
       "    }\n",
       "\n",
       "    .dataframe tbody tr th {\n",
       "        vertical-align: top;\n",
       "    }\n",
       "\n",
       "    .dataframe thead th {\n",
       "        text-align: right;\n",
       "    }\n",
       "</style>\n",
       "<table border=\"1\" class=\"dataframe\">\n",
       "  <thead>\n",
       "    <tr style=\"text-align: right;\">\n",
       "      <th></th>\n",
       "      <th>Law</th>\n",
       "      <th>Text</th>\n",
       "      <th>Category</th>\n",
       "      <th>Category_New</th>\n",
       "      <th>text_clean</th>\n",
       "      <th>Predict_Label</th>\n",
       "      <th>Score</th>\n",
       "    </tr>\n",
       "  </thead>\n",
       "  <tbody>\n",
       "    <tr>\n",
       "      <th>0</th>\n",
       "      <td>Resolution 153/2010 by National Civil Aviation...</td>\n",
       "      <td>If any competent body on the matter imposes mo...</td>\n",
       "      <td>A</td>\n",
       "      <td>A</td>\n",
       "      <td>if ani compet bodi on the matter impos modif o...</td>\n",
       "      <td>A</td>\n",
       "      <td>0.901425</td>\n",
       "    </tr>\n",
       "    <tr>\n",
       "      <th>1</th>\n",
       "      <td>Resolution 153/2010 by National Civil Aviation...</td>\n",
       "      <td>If any competent body on the matter imposes mo...</td>\n",
       "      <td>Administrativeburden</td>\n",
       "      <td>Others</td>\n",
       "      <td>if ani compet bodi on the matter impos modif o...</td>\n",
       "      <td>A</td>\n",
       "      <td>0.901425</td>\n",
       "    </tr>\n",
       "    <tr>\n",
       "      <th>2</th>\n",
       "      <td>Ministerial Ordinance 93/2020 by Ministry of I...</td>\n",
       "      <td>The National Civil Aviation Secretary must aut...</td>\n",
       "      <td>A</td>\n",
       "      <td>A</td>\n",
       "      <td>the nation civil aviat secretari must authoris...</td>\n",
       "      <td>A</td>\n",
       "      <td>0.927095</td>\n",
       "    </tr>\n",
       "    <tr>\n",
       "      <th>3</th>\n",
       "      <td>Ministerial Ordinance 93/2020 by Ministry of I...</td>\n",
       "      <td>The commercial contract which involves the use...</td>\n",
       "      <td>A</td>\n",
       "      <td>A</td>\n",
       "      <td>the commerci contract which involv the use of ...</td>\n",
       "      <td>A</td>\n",
       "      <td>0.969802</td>\n",
       "    </tr>\n",
       "    <tr>\n",
       "      <th>4</th>\n",
       "      <td>Ministerial Ordinance 93/2020 by Ministry of I...</td>\n",
       "      <td>The National Civil Aviation Secretary may auth...</td>\n",
       "      <td>A</td>\n",
       "      <td>A</td>\n",
       "      <td>the nation civil aviat secretari may authoris ...</td>\n",
       "      <td>A</td>\n",
       "      <td>0.973000</td>\n",
       "    </tr>\n",
       "  </tbody>\n",
       "</table>\n",
       "</div>"
      ],
      "text/plain": [
       "                                                 Law  \\\n",
       "0  Resolution 153/2010 by National Civil Aviation...   \n",
       "1  Resolution 153/2010 by National Civil Aviation...   \n",
       "2  Ministerial Ordinance 93/2020 by Ministry of I...   \n",
       "3  Ministerial Ordinance 93/2020 by Ministry of I...   \n",
       "4  Ministerial Ordinance 93/2020 by Ministry of I...   \n",
       "\n",
       "                                                Text              Category  \\\n",
       "0  If any competent body on the matter imposes mo...                     A   \n",
       "1  If any competent body on the matter imposes mo...  Administrativeburden   \n",
       "2  The National Civil Aviation Secretary must aut...                     A   \n",
       "3  The commercial contract which involves the use...                     A   \n",
       "4  The National Civil Aviation Secretary may auth...                     A   \n",
       "\n",
       "  Category_New                                         text_clean  \\\n",
       "0            A  if ani compet bodi on the matter impos modif o...   \n",
       "1       Others  if ani compet bodi on the matter impos modif o...   \n",
       "2            A  the nation civil aviat secretari must authoris...   \n",
       "3            A  the commerci contract which involv the use of ...   \n",
       "4            A  the nation civil aviat secretari may authoris ...   \n",
       "\n",
       "  Predict_Label     Score  \n",
       "0             A  0.901425  \n",
       "1             A  0.901425  \n",
       "2             A  0.927095  \n",
       "3             A  0.969802  \n",
       "4             A  0.973000  "
      ]
     },
     "execution_count": 248,
     "metadata": {},
     "output_type": "execute_result"
    }
   ],
   "source": [
    "df_long = pd.melt(text_scores_labels_glove, id_vars=['Law', 'Text', 'Category',  'Category_New', 'text_clean'], \n",
    "                  var_name='Predict_Label', value_name='Score') #scores df to long format \n",
    "df_long.head()"
   ]
  },
  {
   "attachments": {},
   "cell_type": "markdown",
   "metadata": {},
   "source": [
    "Since the distribution of the scores is skewed to the right, the threshold also has to be set high."
   ]
  },
  {
   "cell_type": "code",
   "execution_count": 281,
   "metadata": {},
   "outputs": [],
   "source": [
    "results_multiclass = df_long \n",
    "results_multiclass['Predict'] = np.where(results_multiclass['Score'] > 0.90, results_multiclass['Predict_Label'], 'None') #set threshold\n",
    "results_multiclass[['Law', 'Text', 'text_clean', 'Score', 'Category_New', 'Predict']].drop_duplicates()"
   ]
  },
  {
   "attachments": {},
   "cell_type": "markdown",
   "metadata": {},
   "source": [
    "The similarity method using GloVe embeddings does not perform as well as the logistic regression."
   ]
  },
  {
   "cell_type": "code",
   "execution_count": 283,
   "metadata": {},
   "outputs": [
    {
     "name": "stdout",
     "output_type": "stream",
     "text": [
      "              precision    recall  f1-score   support\n",
      "\n",
      "           A       0.47      0.18      0.26      3088\n",
      "           B       0.08      0.18      0.11       460\n",
      "           C       0.02      0.17      0.03       116\n",
      "        None       0.40      0.32      0.35      2652\n",
      "      Others       0.03      0.16      0.05       176\n",
      "\n",
      "    accuracy                           0.23      6492\n",
      "   macro avg       0.20      0.20      0.16      6492\n",
      "weighted avg       0.39      0.23      0.28      6492\n",
      "\n"
     ]
    }
   ],
   "source": [
    "report = classification_report(results_multiclass['Category_New'], results_multiclass['Predict'])\n",
    "print(report)"
   ]
  },
  {
   "attachments": {},
   "cell_type": "markdown",
   "metadata": {},
   "source": [
    "##### d. Binary threshold test"
   ]
  },
  {
   "attachments": {},
   "cell_type": "markdown",
   "metadata": {},
   "source": [
    "All categories can also be grouped as \"Yes\" (i.e. with potential restrictions) to test if the similarity method performs better if applied to a binary classification task. "
   ]
  },
  {
   "cell_type": "code",
   "execution_count": 278,
   "metadata": {},
   "outputs": [],
   "source": [
    "results_binary = df_long \n",
    "results_max_score = results_binary.groupby('Text')['Score'].max() #get the highest score among 4 categories\n",
    "results_final = pd.merge(results_binary, results_max_score, on=['Text', 'Score'])\n",
    "\n",
    "results_final['Predict'] = np.where(results_final['Score'] > 0.90, 'Yes', 'None') #if max score of highest category is above 0.95, predicted label = yes\n",
    "results_final['Category_New'] = np.where(results_final['Category_New'] == 'None', results_final['Category_New'], 'Yes') #all categories changed to 'yes' except none"
   ]
  },
  {
   "cell_type": "code",
   "execution_count": 279,
   "metadata": {},
   "outputs": [
    {
     "name": "stdout",
     "output_type": "stream",
     "text": [
      "              precision    recall  f1-score   support\n",
      "\n",
      "        None       0.41      0.27      0.32       663\n",
      "         Yes       0.59      0.73      0.65       960\n",
      "\n",
      "    accuracy                           0.54      1623\n",
      "   macro avg       0.50      0.50      0.49      1623\n",
      "weighted avg       0.52      0.54      0.52      1623\n",
      "\n"
     ]
    }
   ],
   "source": [
    "report = classification_report(results_final['Category_New'], results_final['Predict'])\n",
    "print(report)"
   ]
  },
  {
   "attachments": {},
   "cell_type": "markdown",
   "metadata": {},
   "source": [
    "As a binary classification problem, the similarity method performs slightly better. Recall is high for the Yes category, but overall accuracy is only at 54%."
   ]
  },
  {
   "attachments": {},
   "cell_type": "markdown",
   "metadata": {},
   "source": [
    "##### e. Dimensionality reduction"
   ]
  },
  {
   "cell_type": "code",
   "execution_count": 292,
   "metadata": {},
   "outputs": [
    {
     "name": "stderr",
     "output_type": "stream",
     "text": [
      "/var/folders/rd/n9w0gpv53y72x5k9wk3hp63w0000gn/T/ipykernel_21658/1632365060.py:2: FutureWarning: The frame.append method is deprecated and will be removed from pandas in a future version. Use pandas.concat instead.\n",
      "  df_comb = (text_scores_labels_glove[['Law', 'text_clean', 'Category_New']]\n"
     ]
    },
    {
     "data": {
      "text/html": [
       "<div>\n",
       "<style scoped>\n",
       "    .dataframe tbody tr th:only-of-type {\n",
       "        vertical-align: middle;\n",
       "    }\n",
       "\n",
       "    .dataframe tbody tr th {\n",
       "        vertical-align: top;\n",
       "    }\n",
       "\n",
       "    .dataframe thead th {\n",
       "        text-align: right;\n",
       "    }\n",
       "</style>\n",
       "<table border=\"1\" class=\"dataframe\">\n",
       "  <thead>\n",
       "    <tr style=\"text-align: right;\">\n",
       "      <th></th>\n",
       "      <th>name</th>\n",
       "      <th>text_clean</th>\n",
       "      <th>Category_New</th>\n",
       "    </tr>\n",
       "  </thead>\n",
       "  <tbody>\n",
       "    <tr>\n",
       "      <th>0</th>\n",
       "      <td>Resolution 153/2010 by National Civil Aviation...</td>\n",
       "      <td>if ani compet bodi on the matter impos modif o...</td>\n",
       "      <td>A</td>\n",
       "    </tr>\n",
       "    <tr>\n",
       "      <th>1</th>\n",
       "      <td>Resolution 153/2010 by National Civil Aviation...</td>\n",
       "      <td>if ani compet bodi on the matter impos modif o...</td>\n",
       "      <td>Others</td>\n",
       "    </tr>\n",
       "    <tr>\n",
       "      <th>2</th>\n",
       "      <td>Ministerial Ordinance 93/2020 by Ministry of I...</td>\n",
       "      <td>the nation civil aviat secretari must authoris...</td>\n",
       "      <td>A</td>\n",
       "    </tr>\n",
       "    <tr>\n",
       "      <th>3</th>\n",
       "      <td>Ministerial Ordinance 93/2020 by Ministry of I...</td>\n",
       "      <td>the commerci contract which involv the use of ...</td>\n",
       "      <td>A</td>\n",
       "    </tr>\n",
       "    <tr>\n",
       "      <th>4</th>\n",
       "      <td>Ministerial Ordinance 93/2020 by Ministry of I...</td>\n",
       "      <td>the nation civil aviat secretari may authoris ...</td>\n",
       "      <td>A</td>\n",
       "    </tr>\n",
       "  </tbody>\n",
       "</table>\n",
       "</div>"
      ],
      "text/plain": [
       "                                                name  \\\n",
       "0  Resolution 153/2010 by National Civil Aviation...   \n",
       "1  Resolution 153/2010 by National Civil Aviation...   \n",
       "2  Ministerial Ordinance 93/2020 by Ministry of I...   \n",
       "3  Ministerial Ordinance 93/2020 by Ministry of I...   \n",
       "4  Ministerial Ordinance 93/2020 by Ministry of I...   \n",
       "\n",
       "                                          text_clean Category_New  \n",
       "0  if ani compet bodi on the matter impos modif o...            A  \n",
       "1  if ani compet bodi on the matter impos modif o...       Others  \n",
       "2  the nation civil aviat secretari must authoris...            A  \n",
       "3  the commerci contract which involv the use of ...            A  \n",
       "4  the nation civil aviat secretari may authoris ...            A  "
      ]
     },
     "execution_count": 292,
     "metadata": {},
     "output_type": "execute_result"
    }
   ],
   "source": [
    "# df combining text and labels\n",
    "df_comb = (text_scores_labels_glove[['Law', 'text_clean', 'Category_New']]\n",
    "           .rename(columns = {'Law':'name'})\n",
    "           .append(defs_grouped[['Main', 'text_clean']]\n",
    "                   .rename(columns = {'Main':'name'})))\n",
    "df_comb.head()"
   ]
  },
  {
   "cell_type": "code",
   "execution_count": 293,
   "metadata": {},
   "outputs": [],
   "source": [
    "reducer = umap.UMAP()\n",
    "\n",
    "# dfm combining embeddings \n",
    "def dfm_combined(df, dfm1, dfm2):\n",
    "    dfm_comb = np.vstack((dfm1, dfm2))\n",
    "    embed = reducer.fit_transform(dfm_comb)\n",
    "    df[\"x\"] = embed[:,0]\n",
    "    df[\"y\"] = embed[:,1]\n",
    "    return df"
   ]
  },
  {
   "cell_type": "code",
   "execution_count": 297,
   "metadata": {},
   "outputs": [],
   "source": [
    "dfm_reduced = dfm_combined(df_comb, text_labels_embed, defs_grouped_embed)"
   ]
  },
  {
   "cell_type": "code",
   "execution_count": 299,
   "metadata": {},
   "outputs": [],
   "source": [
    "dfm_reduced.to_csv(\"data/scores/02 sim_scores_dim_reduced_glove.csv\")"
   ]
  },
  {
   "attachments": {},
   "cell_type": "markdown",
   "metadata": {},
   "source": [
    "### II. Legal Word2Vec"
   ]
  },
  {
   "attachments": {},
   "cell_type": "markdown",
   "metadata": {},
   "source": [
    "The same method as GloVe similarity scores is applied but using Word2Vec embeddings trained from a legal corpus. "
   ]
  },
  {
   "attachments": {},
   "cell_type": "markdown",
   "metadata": {},
   "source": [
    "##### a. Document embedding matrix (from SigmaLaw word2vec trained from legal corpus)"
   ]
  },
  {
   "cell_type": "code",
   "execution_count": 304,
   "metadata": {},
   "outputs": [
    {
     "data": {
      "text/plain": [
       "(52431, 200)"
      ]
     },
     "execution_count": 304,
     "metadata": {},
     "output_type": "execute_result"
    }
   ],
   "source": [
    "w2v_law = KeyedVectors.load_word2vec_format(\"data/sigma-lemmatized-legal/legallemmatextreplacewithnnp.bin\", binary=True, unicode_errors='ignore') \n",
    "w2v_law.vectors.shape"
   ]
  },
  {
   "cell_type": "code",
   "execution_count": 305,
   "metadata": {},
   "outputs": [],
   "source": [
    "def doc_matrix_w2v(dfm):\n",
    "    words = set(vectorizer.get_feature_names_out())\n",
    "    text_vocab = list(words)\n",
    "\n",
    "    common_features = []\n",
    "    for word in text_vocab:\n",
    "        if word in w2v_law:\n",
    "            common_features += [word]\n",
    "\n",
    "    embed_common=np.empty((0,200))\n",
    "    for word in words:\n",
    "        if word in w2v_law:\n",
    "            embed_common=np.vstack([embed_common, w2v_law[word]])\n",
    "\n",
    "    vocab_ids = [vectorizer.vocabulary_[x] for x in common_features]\n",
    "    doc_matrix_w2v = dfm[:,vocab_ids].dot(embed_common)\n",
    "\n",
    "    return doc_matrix_w2v\n",
    "    "
   ]
  },
  {
   "cell_type": "code",
   "execution_count": 306,
   "metadata": {},
   "outputs": [
    {
     "data": {
      "text/plain": [
       "(1623, 200)"
      ]
     },
     "execution_count": 306,
     "metadata": {},
     "output_type": "execute_result"
    }
   ],
   "source": [
    "text_dfm = vectorizer.fit_transform(text_labels['text_clean'])\n",
    "text_doc_matrix = doc_matrix_w2v(text_dfm)\n",
    "text_doc_matrix.shape"
   ]
  },
  {
   "cell_type": "code",
   "execution_count": 307,
   "metadata": {},
   "outputs": [
    {
     "data": {
      "text/plain": [
       "(4, 200)"
      ]
     },
     "execution_count": 307,
     "metadata": {},
     "output_type": "execute_result"
    }
   ],
   "source": [
    "defs_dfm = vectorizer.fit_transform(defs_grouped['text_clean'])\n",
    "defs_doc_matrix = doc_matrix_w2v(defs_dfm)\n",
    "defs_doc_matrix.shape"
   ]
  },
  {
   "attachments": {},
   "cell_type": "markdown",
   "metadata": {},
   "source": [
    "##### b. Cosine similarities"
   ]
  },
  {
   "cell_type": "code",
   "execution_count": 308,
   "metadata": {},
   "outputs": [],
   "source": [
    "docs = []\n",
    "for i in range(len(text_doc_matrix)):\n",
    "    scores = []\n",
    "    for j in range(len(defs_doc_matrix)):\n",
    "        A = text_doc_matrix[i]\n",
    "        B = defs_doc_matrix[j]\n",
    "        scores += [(cos_sim(A,B)+1)/(1+1)] # centered \n",
    "    docs += [scores]"
   ]
  },
  {
   "cell_type": "code",
   "execution_count": 312,
   "metadata": {},
   "outputs": [
    {
     "data": {
      "text/html": [
       "<div>\n",
       "<style scoped>\n",
       "    .dataframe tbody tr th:only-of-type {\n",
       "        vertical-align: middle;\n",
       "    }\n",
       "\n",
       "    .dataframe tbody tr th {\n",
       "        vertical-align: top;\n",
       "    }\n",
       "\n",
       "    .dataframe thead th {\n",
       "        text-align: right;\n",
       "    }\n",
       "</style>\n",
       "<table border=\"1\" class=\"dataframe\">\n",
       "  <thead>\n",
       "    <tr style=\"text-align: right;\">\n",
       "      <th></th>\n",
       "      <th>A</th>\n",
       "      <th>B</th>\n",
       "      <th>C</th>\n",
       "      <th>Others</th>\n",
       "    </tr>\n",
       "  </thead>\n",
       "  <tbody>\n",
       "    <tr>\n",
       "      <th>0</th>\n",
       "      <td>0.656170</td>\n",
       "      <td>0.612072</td>\n",
       "      <td>0.614056</td>\n",
       "      <td>0.617290</td>\n",
       "    </tr>\n",
       "    <tr>\n",
       "      <th>1</th>\n",
       "      <td>0.656170</td>\n",
       "      <td>0.612072</td>\n",
       "      <td>0.614056</td>\n",
       "      <td>0.617290</td>\n",
       "    </tr>\n",
       "    <tr>\n",
       "      <th>2</th>\n",
       "      <td>0.639391</td>\n",
       "      <td>0.643102</td>\n",
       "      <td>0.636944</td>\n",
       "      <td>0.621967</td>\n",
       "    </tr>\n",
       "    <tr>\n",
       "      <th>3</th>\n",
       "      <td>0.724994</td>\n",
       "      <td>0.726468</td>\n",
       "      <td>0.692108</td>\n",
       "      <td>0.690039</td>\n",
       "    </tr>\n",
       "    <tr>\n",
       "      <th>4</th>\n",
       "      <td>0.732268</td>\n",
       "      <td>0.733423</td>\n",
       "      <td>0.728037</td>\n",
       "      <td>0.699579</td>\n",
       "    </tr>\n",
       "  </tbody>\n",
       "</table>\n",
       "</div>"
      ],
      "text/plain": [
       "          A         B         C    Others\n",
       "0  0.656170  0.612072  0.614056  0.617290\n",
       "1  0.656170  0.612072  0.614056  0.617290\n",
       "2  0.639391  0.643102  0.636944  0.621967\n",
       "3  0.724994  0.726468  0.692108  0.690039\n",
       "4  0.732268  0.733423  0.728037  0.699579"
      ]
     },
     "execution_count": 312,
     "metadata": {},
     "output_type": "execute_result"
    }
   ],
   "source": [
    "scores_df = pd.DataFrame(docs, columns = [\"A\", \"B\", \"C\", \"Others\"])\n",
    "scores_df.head()"
   ]
  },
  {
   "cell_type": "code",
   "execution_count": 313,
   "metadata": {},
   "outputs": [
    {
     "data": {
      "image/png": "[encoded data removed]",
      "text/plain": [
       "<Figure size 800x500 with 1 Axes>"
      ]
     },
     "metadata": {},
     "output_type": "display_data"
    }
   ],
   "source": [
    "plt.figure(figsize=(8, 5))\n",
    "plt.hist(scores_df.values.flatten(), bins=50, alpha=0.5, fill='#0C6291')\n",
    "plt.xlabel('Value', fontname='Arial', fontsize=12, labelpad=10)\n",
    "plt.ylabel('Frequency', fontname='Arial', fontsize=12, labelpad=10)\n",
    "plt.title('Distribution of Scores in All Categories', fontname='Arial', fontsize=14)\n",
    "plt.xticks(fontname='Arial', fontsize=12)\n",
    "plt.yticks(fontname='Arial', fontsize=12)\n",
    "plt.show()"
   ]
  },
  {
   "cell_type": "code",
   "execution_count": 314,
   "metadata": {},
   "outputs": [],
   "source": [
    "# df with scores\n",
    "text_scores_legalw2v = pd.merge(text_labels, scores_df, left_index=True, right_index=True)\n",
    "text_scores_legalw2v.to_csv(\"data/scores/01 sim_scores_legalw2v_labeled.csv\")"
   ]
  },
  {
   "attachments": {},
   "cell_type": "markdown",
   "metadata": {},
   "source": [
    "##### c. Threshold test"
   ]
  },
  {
   "cell_type": "code",
   "execution_count": 317,
   "metadata": {},
   "outputs": [
    {
     "data": {
      "text/html": [
       "<div>\n",
       "<style scoped>\n",
       "    .dataframe tbody tr th:only-of-type {\n",
       "        vertical-align: middle;\n",
       "    }\n",
       "\n",
       "    .dataframe tbody tr th {\n",
       "        vertical-align: top;\n",
       "    }\n",
       "\n",
       "    .dataframe thead th {\n",
       "        text-align: right;\n",
       "    }\n",
       "</style>\n",
       "<table border=\"1\" class=\"dataframe\">\n",
       "  <thead>\n",
       "    <tr style=\"text-align: right;\">\n",
       "      <th></th>\n",
       "      <th>Law</th>\n",
       "      <th>Text</th>\n",
       "      <th>Category</th>\n",
       "      <th>Category_New</th>\n",
       "      <th>text_clean</th>\n",
       "      <th>Predict_Label</th>\n",
       "      <th>Score</th>\n",
       "    </tr>\n",
       "  </thead>\n",
       "  <tbody>\n",
       "    <tr>\n",
       "      <th>0</th>\n",
       "      <td>Resolution 153/2010 by National Civil Aviation...</td>\n",
       "      <td>If any competent body on the matter imposes mo...</td>\n",
       "      <td>A</td>\n",
       "      <td>A</td>\n",
       "      <td>if ani compet bodi on the matter impos modif o...</td>\n",
       "      <td>A</td>\n",
       "      <td>0.656170</td>\n",
       "    </tr>\n",
       "    <tr>\n",
       "      <th>1</th>\n",
       "      <td>Resolution 153/2010 by National Civil Aviation...</td>\n",
       "      <td>If any competent body on the matter imposes mo...</td>\n",
       "      <td>Administrativeburden</td>\n",
       "      <td>Others</td>\n",
       "      <td>if ani compet bodi on the matter impos modif o...</td>\n",
       "      <td>A</td>\n",
       "      <td>0.656170</td>\n",
       "    </tr>\n",
       "    <tr>\n",
       "      <th>2</th>\n",
       "      <td>Ministerial Ordinance 93/2020 by Ministry of I...</td>\n",
       "      <td>The National Civil Aviation Secretary must aut...</td>\n",
       "      <td>A</td>\n",
       "      <td>A</td>\n",
       "      <td>the nation civil aviat secretari must authoris...</td>\n",
       "      <td>A</td>\n",
       "      <td>0.639391</td>\n",
       "    </tr>\n",
       "    <tr>\n",
       "      <th>3</th>\n",
       "      <td>Ministerial Ordinance 93/2020 by Ministry of I...</td>\n",
       "      <td>The commercial contract which involves the use...</td>\n",
       "      <td>A</td>\n",
       "      <td>A</td>\n",
       "      <td>the commerci contract which involv the use of ...</td>\n",
       "      <td>A</td>\n",
       "      <td>0.724994</td>\n",
       "    </tr>\n",
       "    <tr>\n",
       "      <th>4</th>\n",
       "      <td>Ministerial Ordinance 93/2020 by Ministry of I...</td>\n",
       "      <td>The National Civil Aviation Secretary may auth...</td>\n",
       "      <td>A</td>\n",
       "      <td>A</td>\n",
       "      <td>the nation civil aviat secretari may authoris ...</td>\n",
       "      <td>A</td>\n",
       "      <td>0.732268</td>\n",
       "    </tr>\n",
       "  </tbody>\n",
       "</table>\n",
       "</div>"
      ],
      "text/plain": [
       "                                                 Law  \\\n",
       "0  Resolution 153/2010 by National Civil Aviation...   \n",
       "1  Resolution 153/2010 by National Civil Aviation...   \n",
       "2  Ministerial Ordinance 93/2020 by Ministry of I...   \n",
       "3  Ministerial Ordinance 93/2020 by Ministry of I...   \n",
       "4  Ministerial Ordinance 93/2020 by Ministry of I...   \n",
       "\n",
       "                                                Text              Category  \\\n",
       "0  If any competent body on the matter imposes mo...                     A   \n",
       "1  If any competent body on the matter imposes mo...  Administrativeburden   \n",
       "2  The National Civil Aviation Secretary must aut...                     A   \n",
       "3  The commercial contract which involves the use...                     A   \n",
       "4  The National Civil Aviation Secretary may auth...                     A   \n",
       "\n",
       "  Category_New                                         text_clean  \\\n",
       "0            A  if ani compet bodi on the matter impos modif o...   \n",
       "1       Others  if ani compet bodi on the matter impos modif o...   \n",
       "2            A  the nation civil aviat secretari must authoris...   \n",
       "3            A  the commerci contract which involv the use of ...   \n",
       "4            A  the nation civil aviat secretari may authoris ...   \n",
       "\n",
       "  Predict_Label     Score  \n",
       "0             A  0.656170  \n",
       "1             A  0.656170  \n",
       "2             A  0.639391  \n",
       "3             A  0.724994  \n",
       "4             A  0.732268  "
      ]
     },
     "execution_count": 317,
     "metadata": {},
     "output_type": "execute_result"
    }
   ],
   "source": [
    "df_long = pd.melt(text_scores_legalw2v, id_vars=['Law', 'Text', 'Category',  'Category_New', 'text_clean'], \n",
    "                  var_name='Predict_Label', value_name='Score') #scores df to long format \n",
    "df_long.head()"
   ]
  },
  {
   "attachments": {},
   "cell_type": "markdown",
   "metadata": {},
   "source": [
    "The similarity scores based on the Legalw2v embeddings approximate normal distribution so threshold score is set lower than GloVe."
   ]
  },
  {
   "cell_type": "code",
   "execution_count": 346,
   "metadata": {},
   "outputs": [
    {
     "data": {
      "text/html": [
       "<div>\n",
       "<style scoped>\n",
       "    .dataframe tbody tr th:only-of-type {\n",
       "        vertical-align: middle;\n",
       "    }\n",
       "\n",
       "    .dataframe tbody tr th {\n",
       "        vertical-align: top;\n",
       "    }\n",
       "\n",
       "    .dataframe thead th {\n",
       "        text-align: right;\n",
       "    }\n",
       "</style>\n",
       "<table border=\"1\" class=\"dataframe\">\n",
       "  <thead>\n",
       "    <tr style=\"text-align: right;\">\n",
       "      <th></th>\n",
       "      <th>Law</th>\n",
       "      <th>Text</th>\n",
       "      <th>text_clean</th>\n",
       "      <th>Score</th>\n",
       "      <th>Category_New</th>\n",
       "      <th>Predict</th>\n",
       "    </tr>\n",
       "  </thead>\n",
       "  <tbody>\n",
       "    <tr>\n",
       "      <th>0</th>\n",
       "      <td>Resolution 153/2010 by National Civil Aviation...</td>\n",
       "      <td>If any competent body on the matter imposes mo...</td>\n",
       "      <td>if ani compet bodi on the matter impos modif o...</td>\n",
       "      <td>0.656170</td>\n",
       "      <td>A</td>\n",
       "      <td>A</td>\n",
       "    </tr>\n",
       "    <tr>\n",
       "      <th>1</th>\n",
       "      <td>Resolution 153/2010 by National Civil Aviation...</td>\n",
       "      <td>If any competent body on the matter imposes mo...</td>\n",
       "      <td>if ani compet bodi on the matter impos modif o...</td>\n",
       "      <td>0.656170</td>\n",
       "      <td>Others</td>\n",
       "      <td>A</td>\n",
       "    </tr>\n",
       "    <tr>\n",
       "      <th>2</th>\n",
       "      <td>Ministerial Ordinance 93/2020 by Ministry of I...</td>\n",
       "      <td>The National Civil Aviation Secretary must aut...</td>\n",
       "      <td>the nation civil aviat secretari must authoris...</td>\n",
       "      <td>0.639391</td>\n",
       "      <td>A</td>\n",
       "      <td>None</td>\n",
       "    </tr>\n",
       "    <tr>\n",
       "      <th>3</th>\n",
       "      <td>Ministerial Ordinance 93/2020 by Ministry of I...</td>\n",
       "      <td>The commercial contract which involves the use...</td>\n",
       "      <td>the commerci contract which involv the use of ...</td>\n",
       "      <td>0.724994</td>\n",
       "      <td>A</td>\n",
       "      <td>A</td>\n",
       "    </tr>\n",
       "    <tr>\n",
       "      <th>4</th>\n",
       "      <td>Ministerial Ordinance 93/2020 by Ministry of I...</td>\n",
       "      <td>The National Civil Aviation Secretary may auth...</td>\n",
       "      <td>the nation civil aviat secretari may authoris ...</td>\n",
       "      <td>0.732268</td>\n",
       "      <td>A</td>\n",
       "      <td>A</td>\n",
       "    </tr>\n",
       "    <tr>\n",
       "      <th>...</th>\n",
       "      <td>...</td>\n",
       "      <td>...</td>\n",
       "      <td>...</td>\n",
       "      <td>...</td>\n",
       "      <td>...</td>\n",
       "      <td>...</td>\n",
       "    </tr>\n",
       "    <tr>\n",
       "      <th>6487</th>\n",
       "      <td>Ley de Desarrollo Rural Sustentable DOF 12-01-...</td>\n",
       "      <td>The Inter-Ministerial Commision for Sustainabl...</td>\n",
       "      <td>the inter-ministeri commis for sustain rural d...</td>\n",
       "      <td>0.705084</td>\n",
       "      <td>C</td>\n",
       "      <td>Others</td>\n",
       "    </tr>\n",
       "    <tr>\n",
       "      <th>6488</th>\n",
       "      <td>Ley Federal de Responsabilidad Ambiental DOF 0...</td>\n",
       "      <td>The Ministry of Environment and Natural Resour...</td>\n",
       "      <td>the ministri of environ and natur resourc will...</td>\n",
       "      <td>0.586234</td>\n",
       "      <td>B</td>\n",
       "      <td>None</td>\n",
       "    </tr>\n",
       "    <tr>\n",
       "      <th>6489</th>\n",
       "      <td>NOM-009-Z00-1994, Proceso sanitario de la came</td>\n",
       "      <td>The regulation deals with the sanitary procesi...</td>\n",
       "      <td>the regul deal with the sanitari procesisng of...</td>\n",
       "      <td>0.669517</td>\n",
       "      <td>B</td>\n",
       "      <td>Others</td>\n",
       "    </tr>\n",
       "    <tr>\n",
       "      <th>6490</th>\n",
       "      <td>Ley Federal de Proteccion al Consumidor</td>\n",
       "      <td>The Federal Attorney's Office of the Consumer ...</td>\n",
       "      <td>the feder attorney 's offic of the consum prod...</td>\n",
       "      <td>0.660974</td>\n",
       "      <td>B</td>\n",
       "      <td>Others</td>\n",
       "    </tr>\n",
       "    <tr>\n",
       "      <th>6491</th>\n",
       "      <td>Ley de Desarrollo Rural Sustentable DOF 12-01-...</td>\n",
       "      <td>The National Information System for Sustainabl...</td>\n",
       "      <td>the nation inform system for sustain rural dev...</td>\n",
       "      <td>0.739224</td>\n",
       "      <td>C</td>\n",
       "      <td>Others</td>\n",
       "    </tr>\n",
       "  </tbody>\n",
       "</table>\n",
       "<p>5356 rows × 6 columns</p>\n",
       "</div>"
      ],
      "text/plain": [
       "                                                    Law  \\\n",
       "0     Resolution 153/2010 by National Civil Aviation...   \n",
       "1     Resolution 153/2010 by National Civil Aviation...   \n",
       "2     Ministerial Ordinance 93/2020 by Ministry of I...   \n",
       "3     Ministerial Ordinance 93/2020 by Ministry of I...   \n",
       "4     Ministerial Ordinance 93/2020 by Ministry of I...   \n",
       "...                                                 ...   \n",
       "6487  Ley de Desarrollo Rural Sustentable DOF 12-01-...   \n",
       "6488  Ley Federal de Responsabilidad Ambiental DOF 0...   \n",
       "6489     NOM-009-Z00-1994, Proceso sanitario de la came   \n",
       "6490            Ley Federal de Proteccion al Consumidor   \n",
       "6491  Ley de Desarrollo Rural Sustentable DOF 12-01-...   \n",
       "\n",
       "                                                   Text  \\\n",
       "0     If any competent body on the matter imposes mo...   \n",
       "1     If any competent body on the matter imposes mo...   \n",
       "2     The National Civil Aviation Secretary must aut...   \n",
       "3     The commercial contract which involves the use...   \n",
       "4     The National Civil Aviation Secretary may auth...   \n",
       "...                                                 ...   \n",
       "6487  The Inter-Ministerial Commision for Sustainabl...   \n",
       "6488  The Ministry of Environment and Natural Resour...   \n",
       "6489  The regulation deals with the sanitary procesi...   \n",
       "6490  The Federal Attorney's Office of the Consumer ...   \n",
       "6491  The National Information System for Sustainabl...   \n",
       "\n",
       "                                             text_clean     Score  \\\n",
       "0     if ani compet bodi on the matter impos modif o...  0.656170   \n",
       "1     if ani compet bodi on the matter impos modif o...  0.656170   \n",
       "2     the nation civil aviat secretari must authoris...  0.639391   \n",
       "3     the commerci contract which involv the use of ...  0.724994   \n",
       "4     the nation civil aviat secretari may authoris ...  0.732268   \n",
       "...                                                 ...       ...   \n",
       "6487  the inter-ministeri commis for sustain rural d...  0.705084   \n",
       "6488  the ministri of environ and natur resourc will...  0.586234   \n",
       "6489  the regul deal with the sanitari procesisng of...  0.669517   \n",
       "6490  the feder attorney 's offic of the consum prod...  0.660974   \n",
       "6491  the nation inform system for sustain rural dev...  0.739224   \n",
       "\n",
       "     Category_New Predict  \n",
       "0               A       A  \n",
       "1          Others       A  \n",
       "2               A    None  \n",
       "3               A       A  \n",
       "4               A       A  \n",
       "...           ...     ...  \n",
       "6487            C  Others  \n",
       "6488            B    None  \n",
       "6489            B  Others  \n",
       "6490            B  Others  \n",
       "6491            C  Others  \n",
       "\n",
       "[5356 rows x 6 columns]"
      ]
     },
     "execution_count": 346,
     "metadata": {},
     "output_type": "execute_result"
    }
   ],
   "source": [
    "results_multiclass = df_long \n",
    "results_multiclass['Predict'] = np.where(results_multiclass['Score'] > 0.65, results_multiclass['Predict_Label'], 'None') #set threshold\n",
    "results_multiclass[['Law', 'Text', 'text_clean', 'Score', 'Category_New', 'Predict']].drop_duplicates()"
   ]
  },
  {
   "cell_type": "code",
   "execution_count": 347,
   "metadata": {},
   "outputs": [
    {
     "name": "stdout",
     "output_type": "stream",
     "text": [
      "              precision    recall  f1-score   support\n",
      "\n",
      "           A       0.47      0.16      0.24      3088\n",
      "           B       0.09      0.20      0.13       460\n",
      "           C       0.02      0.13      0.03       116\n",
      "        None       0.43      0.43      0.43      2652\n",
      "      Others       0.03      0.15      0.05       176\n",
      "\n",
      "    accuracy                           0.27      6492\n",
      "   macro avg       0.21      0.21      0.18      6492\n",
      "weighted avg       0.41      0.27      0.30      6492\n",
      "\n"
     ]
    }
   ],
   "source": [
    "report = classification_report(results_multiclass['Category_New'], results_multiclass['Predict'])\n",
    "print(report)"
   ]
  },
  {
   "attachments": {},
   "cell_type": "markdown",
   "metadata": {},
   "source": [
    "##### d. Binary threshold test"
   ]
  },
  {
   "cell_type": "code",
   "execution_count": 344,
   "metadata": {},
   "outputs": [],
   "source": [
    "results_binary = df_long \n",
    "results_max_score = results_binary.groupby('Text')['Score'].max() #get the highest score among 4 categories\n",
    "results_final = pd.merge(results_binary, results_max_score, on=['Text', 'Score'])\n",
    "\n",
    "results_final['Predict'] = np.where(results_final['Score'] > 0.65, 'Yes', 'None') #if max score of highest category is above 0.95, predicted label = yes\n",
    "results_final['Category_New'] = np.where(results_final['Category_New'] == 'None', results_final['Category_New'], 'Yes') #all categories changed to 'yes' except none"
   ]
  },
  {
   "cell_type": "code",
   "execution_count": 345,
   "metadata": {},
   "outputs": [
    {
     "name": "stdout",
     "output_type": "stream",
     "text": [
      "              precision    recall  f1-score   support\n",
      "\n",
      "        None       0.44      0.26      0.32       663\n",
      "         Yes       0.60      0.77      0.68       960\n",
      "\n",
      "    accuracy                           0.56      1623\n",
      "   macro avg       0.52      0.51      0.50      1623\n",
      "weighted avg       0.53      0.56      0.53      1623\n",
      "\n"
     ]
    }
   ],
   "source": [
    "report = classification_report(results_final['Category_New'], results_final['Predict'])\n",
    "print(report)"
   ]
  },
  {
   "attachments": {},
   "cell_type": "markdown",
   "metadata": {},
   "source": [
    "Based on the results of both the Glove and LegalW2V similarity tests, it appears pre-trained embeddings are able to more or less distinguish whether a certain paragraph is similar to a competition restriction definition. However, the embeddings are unable to capture the difference among the four categories."
   ]
  },
  {
   "attachments": {},
   "cell_type": "markdown",
   "metadata": {},
   "source": [
    "##### e. Dimensionality reduction"
   ]
  },
  {
   "cell_type": "code",
   "execution_count": 351,
   "metadata": {},
   "outputs": [],
   "source": [
    "dfm_reduced = dfm_combined(df_comb, text_doc_matrix, defs_doc_matrix)"
   ]
  },
  {
   "cell_type": "code",
   "execution_count": 352,
   "metadata": {},
   "outputs": [],
   "source": [
    "dfm_reduced.to_csv(\"data/scores/02 sim_scores_dim_reduced_legal.csv\")"
   ]
  }
 ],
 "metadata": {
  "kernelspec": {
   "display_name": "torch-gpu",
   "language": "python",
   "name": "python3"
  },
  "language_info": {
   "codemirror_mode": {
    "name": "ipython",
    "version": 3
   },
   "file_extension": ".py",
   "mimetype": "text/x-python",
   "name": "python",
   "nbconvert_exporter": "python",
   "pygments_lexer": "ipython3",
   "version": "3.8.16"
  },
  "orig_nbformat": 4
 },
 "nbformat": 4,
 "nbformat_minor": 2
}
