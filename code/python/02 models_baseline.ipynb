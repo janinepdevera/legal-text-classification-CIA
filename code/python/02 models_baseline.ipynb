{
 "cells": [
  {
   "attachments": {},
   "cell_type": "markdown",
   "metadata": {},
   "source": [
    "# Multi-label Legal Text Classification for CIA"
   ]
  },
  {
   "attachments": {},
   "cell_type": "markdown",
   "metadata": {},
   "source": [
    "## Models and Experiments: Baseline Models"
   ]
  },
  {
   "cell_type": "code",
   "execution_count": null,
   "metadata": {},
   "outputs": [],
   "source": [
    "!pip install umap-learn"
   ]
  },
  {
   "cell_type": "code",
   "execution_count": 1,
   "metadata": {},
   "outputs": [],
   "source": [
    "import pandas as pd\n",
    "import numpy as np\n",
    "import matplotlib.pyplot as plt\n",
    "import seaborn as sns\n",
    "import os\n",
    "import csv"
   ]
  },
  {
   "cell_type": "code",
   "execution_count": 2,
   "metadata": {},
   "outputs": [
    {
     "name": "stderr",
     "output_type": "stream",
     "text": [
      "/Users/janinedevera/opt/miniconda3/envs/mtc-models/lib/python3.8/site-packages/tqdm/auto.py:21: TqdmWarning: IProgress not found. Please update jupyter and ipywidgets. See https://ipywidgets.readthedocs.io/en/stable/user_install.html\n",
      "  from .autonotebook import tqdm as notebook_tqdm\n"
     ]
    }
   ],
   "source": [
    "from zipfile import ZipFile\n",
    "from gensim.test.utils import common_texts\n",
    "from gensim.models import Word2Vec\n",
    "import gensim.downloader as api\n",
    "from gensim.test.utils import datapath\n",
    "from gensim.models import KeyedVectors\n",
    "from nltk.tokenize import sent_tokenize, word_tokenize\n",
    "from numpy.linalg import norm\n",
    "import umap.umap_ as umap\n",
    "\n",
    "from sklearn.feature_extraction.text import TfidfVectorizer \n",
    "from sklearn.feature_extraction.text import CountVectorizer \n",
    "from sklearn.preprocessing import StandardScaler\n",
    "from sklearn.metrics.pairwise import cosine_similarity\n",
    "from sklearn.model_selection import learning_curve\n",
    "from sklearn.model_selection import train_test_split\n",
    "from sklearn.preprocessing import LabelEncoder\n",
    "from sklearn.linear_model import LogisticRegression\n",
    "from sklearn.metrics import accuracy_score, precision_recall_fscore_support, precision_score, recall_score\n",
    "from sklearn.metrics import classification_report, confusion_matrix\n",
    "import pickle"
   ]
  },
  {
   "cell_type": "code",
   "execution_count": 3,
   "metadata": {},
   "outputs": [
    {
     "data": {
      "text/plain": [
       "'/Users/janinedevera/Documents/School/MDS 2021-2023/Thesis/multilabel-legal-text-classification-CIA'"
      ]
     },
     "execution_count": 3,
     "metadata": {},
     "output_type": "execute_result"
    }
   ],
   "source": [
    "os.chdir(\"../..\")\n",
    "os.getcwd()"
   ]
  },
  {
   "attachments": {},
   "cell_type": "markdown",
   "metadata": {},
   "source": [
    "### Preliminaries"
   ]
  },
  {
   "attachments": {},
   "cell_type": "markdown",
   "metadata": {},
   "source": [
    "Load raw data"
   ]
  },
  {
   "cell_type": "code",
   "execution_count": 4,
   "metadata": {},
   "outputs": [],
   "source": [
    "# legal text, labeled\n",
    "text = pd.read_csv(\"data/01 legal_texts_pipeline_stopwords.csv\", index_col=0)\n",
    "text_labels = pd.read_csv(\"data/01 legal_texts_with_labels_grouped.csv\", index_col=0)\n",
    "\n",
    "# augmented training set and raw test set\n",
    "train_df_aug = pd.read_csv(\"data/01 train_data_augmented.csv\", index_col=0)\n",
    "test_df = pd.read_csv(\"data/01 test_data.csv\", index_col=0)\n",
    "\n",
    "# definitions\n",
    "defs = pd.read_csv(\"data/02 oecd_definitions_stopwords.csv\", index_col=0)\n",
    "defs_grouped = pd.read_csv(\"data/02 oecd_definitions_stopwords_grouped.csv\", index_col=0)"
   ]
  },
  {
   "cell_type": "code",
   "execution_count": 5,
   "metadata": {},
   "outputs": [
    {
     "data": {
      "text/html": [
       "<div>\n",
       "<style scoped>\n",
       "    .dataframe tbody tr th:only-of-type {\n",
       "        vertical-align: middle;\n",
       "    }\n",
       "\n",
       "    .dataframe tbody tr th {\n",
       "        vertical-align: top;\n",
       "    }\n",
       "\n",
       "    .dataframe thead th {\n",
       "        text-align: right;\n",
       "    }\n",
       "</style>\n",
       "<table border=\"1\" class=\"dataframe\">\n",
       "  <thead>\n",
       "    <tr style=\"text-align: right;\">\n",
       "      <th></th>\n",
       "      <th>Main</th>\n",
       "      <th>text_clean</th>\n",
       "      <th>length</th>\n",
       "    </tr>\n",
       "  </thead>\n",
       "  <tbody>\n",
       "    <tr>\n",
       "      <th>0</th>\n",
       "      <td>A</td>\n",
       "      <td>limit the number of supplier lead to the risk ...</td>\n",
       "      <td>833</td>\n",
       "    </tr>\n",
       "    <tr>\n",
       "      <th>1</th>\n",
       "      <td>B</td>\n",
       "      <td>regul can affect a supplier 's abil to compet ...</td>\n",
       "      <td>781</td>\n",
       "    </tr>\n",
       "    <tr>\n",
       "      <th>2</th>\n",
       "      <td>C</td>\n",
       "      <td>regul can affect supplier behaviour by not onl...</td>\n",
       "      <td>459</td>\n",
       "    </tr>\n",
       "    <tr>\n",
       "      <th>3</th>\n",
       "      <td>Others</td>\n",
       "      <td>regul sometim limit choic avail to consum for ...</td>\n",
       "      <td>257</td>\n",
       "    </tr>\n",
       "  </tbody>\n",
       "</table>\n",
       "</div>"
      ],
      "text/plain": [
       "     Main                                         text_clean  length\n",
       "0       A  limit the number of supplier lead to the risk ...     833\n",
       "1       B  regul can affect a supplier 's abil to compet ...     781\n",
       "2       C  regul can affect supplier behaviour by not onl...     459\n",
       "3  Others  regul sometim limit choic avail to consum for ...     257"
      ]
     },
     "execution_count": 5,
     "metadata": {},
     "output_type": "execute_result"
    }
   ],
   "source": [
    "defs_grouped['Main'] = defs_grouped['Main'].replace('D', 'Others')\n",
    "defs_grouped"
   ]
  },
  {
   "cell_type": "code",
   "execution_count": 6,
   "metadata": {},
   "outputs": [
    {
     "data": {
      "text/plain": [
       "B         894\n",
       "Others    743\n",
       "C         662\n",
       "A         624\n",
       "None      522\n",
       "Name: Category_New, dtype: int64"
      ]
     },
     "execution_count": 6,
     "metadata": {},
     "output_type": "execute_result"
    }
   ],
   "source": [
    "train_df_aug.Category_New.value_counts()"
   ]
  },
  {
   "attachments": {},
   "cell_type": "markdown",
   "metadata": {},
   "source": [
    "### I. Logistic Regression"
   ]
  },
  {
   "attachments": {},
   "cell_type": "markdown",
   "metadata": {},
   "source": [
    "##### a. TF-IDF"
   ]
  },
  {
   "attachments": {},
   "cell_type": "markdown",
   "metadata": {},
   "source": [
    "As the first baseline model, check the performance of a logistic regression using the **TF-IDF matrix** of the corpus."
   ]
  },
  {
   "cell_type": "code",
   "execution_count": 7,
   "metadata": {},
   "outputs": [
    {
     "data": {
      "text/plain": [
       "(1792, 3116)"
      ]
     },
     "execution_count": 7,
     "metadata": {},
     "output_type": "execute_result"
    }
   ],
   "source": [
    "# tf-idf vectorizer\n",
    "vectorizer = TfidfVectorizer()\n",
    "dfm = vectorizer.fit_transform(text_labels['text_clean'])\n",
    "dfm.shape"
   ]
  },
  {
   "cell_type": "code",
   "execution_count": 8,
   "metadata": {},
   "outputs": [],
   "source": [
    "# split data\n",
    "l_train_text, l_test_text, l_train_labels, l_test_labels = train_test_split(dfm, text_labels['Category_New'], \n",
    "                                                                            random_state=999, \n",
    "                                                                            test_size=0.3, \n",
    "                                                                            stratify=text_labels['Category_New'])"
   ]
  },
  {
   "attachments": {},
   "cell_type": "markdown",
   "metadata": {},
   "source": [
    "TF-IDF of augmented training set and test set"
   ]
  },
  {
   "cell_type": "code",
   "execution_count": 78,
   "metadata": {},
   "outputs": [
    {
     "name": "stdout",
     "output_type": "stream",
     "text": [
      "train dfm shape: (3445, 3748) | test dfm shape:(708, 2099)\n"
     ]
    }
   ],
   "source": [
    "dfm_train = vectorizer.fit_transform(train_df_aug['text_clean'])\n",
    "dfm_test = vectorizer.fit_transform(test_df['text_clean'])\n",
    "\n",
    "print('train dfm shape: ' + str(dfm_train.shape) + ' | test dfm shape:' + str(dfm_test.shape))"
   ]
  },
  {
   "cell_type": "code",
   "execution_count": 79,
   "metadata": {},
   "outputs": [
    {
     "name": "stdout",
     "output_type": "stream",
     "text": [
      "train dfm shape: (3445, 4000) | test dfm shape:(708, 4000)\n"
     ]
    }
   ],
   "source": [
    "combined_text = pd.concat([train_df_aug['text_clean'], test_df['text_clean']], axis=0)\n",
    "vectorizer.fit(combined_text)\n",
    "dfm_train = vectorizer.transform(train_df_aug['text_clean'])\n",
    "dfm_test = vectorizer.transform(test_df['text_clean'])\n",
    "\n",
    "print('train dfm shape: ' + str(dfm_train.shape) + ' | test dfm shape:' + str(dfm_test.shape))"
   ]
  },
  {
   "cell_type": "code",
   "execution_count": 80,
   "metadata": {},
   "outputs": [],
   "source": [
    "train_text, train_labels, test_text, test_labels = dfm_train, train_df_aug['Category_New'], dfm_test, test_df['Category_New']"
   ]
  },
  {
   "cell_type": "code",
   "execution_count": 81,
   "metadata": {},
   "outputs": [
    {
     "name": "stdout",
     "output_type": "stream",
     "text": [
      " Classification Report:\n",
      "              precision    recall  f1-score   support\n",
      "\n",
      "           A       0.86      0.80      0.83       376\n",
      "           B       0.37      0.51      0.43        68\n",
      "           C       0.38      0.56      0.45        18\n",
      "        None       0.92      0.81      0.86       225\n",
      "      Others       0.17      0.29      0.21        21\n",
      "\n",
      "    accuracy                           0.76       708\n",
      "   macro avg       0.54      0.59      0.56       708\n",
      "weighted avg       0.80      0.76      0.77       708\n",
      "\n",
      "Train vs Test Accuracy:\n",
      "Train:0.972\n",
      "Test:0.756\n"
     ]
    }
   ],
   "source": [
    "# scale data\n",
    "scaler = StandardScaler(with_mean=False)\n",
    "train_text_scaled = scaler.fit_transform(train_text)\n",
    "test_text_scaled = scaler.transform(test_text)\n",
    "\n",
    "# train model and return training accuracy\n",
    "clf = LogisticRegression(random_state=999, max_iter=1000).fit(train_text_scaled, train_labels)\n",
    "with open('./models/logistic.pkl', 'wb') as f: pickle.dump(clf, f)\n",
    "\n",
    "train_acc = clf.score(train_text_scaled, train_labels)\n",
    "\n",
    "# evaluate on test data \n",
    "y_pred = clf.predict(test_text_scaled)\n",
    "classification_rep = classification_report(test_labels, y_pred, zero_division=0)\n",
    "test_acc = clf.score(test_text_scaled, test_labels)\n",
    "\n",
    "# print classification report\n",
    "print(' Classification Report:')\n",
    "print(classification_rep)\n",
    "print('Train vs Test Accuracy:')\n",
    "print('Train:' + str(round(train_acc, 3)))\n",
    "print('Test:' + str(round(test_acc, 3)))"
   ]
  },
  {
   "cell_type": "code",
   "execution_count": 82,
   "metadata": {},
   "outputs": [
    {
     "data": {
      "image/png": "[encoded data removed]",
      "text/plain": [
       "<Figure size 640x480 with 1 Axes>"
      ]
     },
     "metadata": {},
     "output_type": "display_data"
    }
   ],
   "source": [
    "cm = confusion_matrix(test_labels, y_pred)\n",
    "\n",
    "# plot heatmap\n",
    "sns.heatmap(cm, annot=True, fmt='d', cmap='Blues', cbar=False, \n",
    "            xticklabels=clf.classes_, yticklabels=clf.classes_)\n",
    "plt.xlabel('Predicted Label')\n",
    "plt.ylabel('True Label')\n",
    "plt.title('Confusion Matrix')\n",
    "plt.show()"
   ]
  },
  {
   "cell_type": "code",
   "execution_count": 83,
   "metadata": {},
   "outputs": [],
   "source": [
    "# generate classification report\n",
    "report = classification_report(test_labels, y_pred, zero_division=0, output_dict=True)\n",
    "\n",
    "# extract precision, recall, and f1-score for each category\n",
    "categories = ['A', 'B', 'C', 'Others', 'None']\n",
    "metrics = ['precision', 'recall', 'f1-score']\n",
    "data = []\n",
    "for category in categories:\n",
    "    row = []\n",
    "    for metric in metrics:\n",
    "        row.append(round(report[category][metric], 2))\n",
    "    data.append(row)\n",
    "\n",
    "# create dataframe\n",
    "report_df = pd.DataFrame(data, columns=metrics, index=categories)"
   ]
  },
  {
   "cell_type": "code",
   "execution_count": 84,
   "metadata": {},
   "outputs": [
    {
     "data": {
      "image/png": "[encoded data removed]",
      "text/plain": [
       "<Figure size 600x800 with 1 Axes>"
      ]
     },
     "metadata": {},
     "output_type": "display_data"
    }
   ],
   "source": [
    "custom_cmap_blues = sns.color_palette(['#A9BBD3', '#A0B4CF', '#8FA8C6', '#7E9CBD', '#6D8FB4', '#537CA6', '#416F9D', '#306294', '#0F4A82'])\n",
    "custom_cmap_pinks = sns.color_palette(['#FFE6F2', '#FFCCE4', '#F99FC8', '#F28AB9', '#E177A5', '#D56997', '#C85B89', '#B9537E'])\n",
    "\n",
    "plt.figure(figsize=(6, 8))\n",
    "sns.heatmap(report_df, annot=True, cmap=custom_cmap_pinks, cbar=False, vmin=0, vmax=1,  fmt='.2f',\n",
    "            annot_kws={\"fontfamily\": \"Arial\", \"fontsize\": 12})\n",
    "#plt.xlabel('Metrics', labelpad=12, fontname='Arial', fontsize=12)\n",
    "#plt.title('Classification report', fontname='Arial', fontsize=14, y=1.02)\n",
    "plt.xticks(fontname='Arial', fontsize=12)\n",
    "plt.yticks(fontname='Arial', fontsize=12, rotation=0)\n",
    "plt.tick_params(axis='y', length=0)\n",
    "plt.tick_params(axis='x', length=0)\n",
    "\n",
    "# save the figure\n",
    "save_path = os.path.join('draft', 'images', 'plot05-01.png')\n",
    "plt.savefig(save_path, dpi=300, bbox_inches='tight')\n",
    "\n",
    "plt.show()"
   ]
  },
  {
   "attachments": {},
   "cell_type": "markdown",
   "metadata": {},
   "source": [
    "##### b. Bi-grams TF-IDF"
   ]
  },
  {
   "attachments": {},
   "cell_type": "markdown",
   "metadata": {},
   "source": [
    "This is also compared with a logistic regression using a **tri-gram TF-IDF matrix**, which gives all the possible combinations of 3 words. "
   ]
  },
  {
   "cell_type": "code",
   "execution_count": 96,
   "metadata": {},
   "outputs": [],
   "source": [
    "word_vectorizer = TfidfVectorizer(analyzer='word', token_pattern=r'\\w{1,}', sublinear_tf=True, strip_accents='unicode', \n",
    "                                  stop_words='english', ngram_range=(2, 5))"
   ]
  },
  {
   "cell_type": "code",
   "execution_count": 97,
   "metadata": {},
   "outputs": [
    {
     "name": "stdout",
     "output_type": "stream",
     "text": [
      "train dfm shape: (3445, 133563) | test dfm shape:(708, 35467)\n"
     ]
    }
   ],
   "source": [
    "dfm_train = word_vectorizer.fit_transform(train_df_aug['text_clean'])\n",
    "dfm_test = word_vectorizer.fit_transform(test_df['text_clean'])\n",
    "\n",
    "print('train dfm shape: ' + str(dfm_train.shape) + ' | test dfm shape:' + str(dfm_test.shape))"
   ]
  },
  {
   "cell_type": "code",
   "execution_count": 98,
   "metadata": {},
   "outputs": [
    {
     "name": "stdout",
     "output_type": "stream",
     "text": [
      "train dfm shape: (3445, 152823) | test dfm shape:(708, 152823)\n"
     ]
    }
   ],
   "source": [
    "combined_text = pd.concat([train_df_aug['text_clean'], test_df['text_clean']], axis=0)\n",
    "word_vectorizer.fit(combined_text)\n",
    "dfm_train = word_vectorizer.transform(train_df_aug['text_clean'])\n",
    "dfm_test = word_vectorizer.transform(test_df['text_clean'])\n",
    "\n",
    "print('train dfm shape: ' + str(dfm_train.shape) + ' | test dfm shape:' + str(dfm_test.shape))"
   ]
  },
  {
   "cell_type": "code",
   "execution_count": 99,
   "metadata": {},
   "outputs": [],
   "source": [
    "train_text, train_labels, test_text, text_labels = dfm_train, train_df_aug['Category_New'], dfm_test, test_df['Category_New']"
   ]
  },
  {
   "cell_type": "code",
   "execution_count": 100,
   "metadata": {},
   "outputs": [
    {
     "name": "stdout",
     "output_type": "stream",
     "text": [
      " Classification Report:\n",
      "              precision    recall  f1-score   support\n",
      "\n",
      "           A       0.89      0.74      0.81       376\n",
      "           B       0.25      0.68      0.36        68\n",
      "           C       0.44      0.39      0.41        18\n",
      "        None       0.97      0.74      0.84       225\n",
      "      Others       0.18      0.19      0.19        21\n",
      "\n",
      "    accuracy                           0.71       708\n",
      "   macro avg       0.55      0.55      0.52       708\n",
      "weighted avg       0.82      0.71      0.75       708\n",
      "\n",
      "Train vs Test Accuracy:\n",
      "Train:0.968\n",
      "Test:0.708\n",
      "Top 20 Important Bi-grams:\n",
      "1. Bi-gram: thi linkag, Importance: 0.10441458971093738\n",
      "2. Bi-gram: concern livestock, Importance: 0.10441458971093738\n",
      "3. Bi-gram: p 79, Importance: 0.10441458971093738\n",
      "4. Bi-gram: vote right, Importance: 0.10441458971093738\n",
      "5. Bi-gram: farm product, Importance: 0.10441458971093738\n",
      "6. Bi-gram: oris school, Importance: 0.10441458971093738\n",
      "7. Bi-gram: ass offer, Importance: 0.09396799713927106\n",
      "8. Bi-gram: domest market, Importance: 0.05316438790097274\n",
      "9. Bi-gram: owner vessel, Importance: 0.052829451069868756\n",
      "10. Bi-gram: contract exceed, Importance: 0.047064320179380933\n",
      "11. Bi-gram: contract exceed year, Importance: 0.047064320179380933\n",
      "12. Bi-gram: exceed year, Importance: 0.047064320179380933\n",
      "13. Bi-gram: export market, Importance: 0.04680310312106558\n",
      "14. Bi-gram: gener aviat, Importance: 0.045465378231977875\n",
      "15. Bi-gram: utic biotechnolog, Importance: 0.04478696047993584\n",
      "16. Bi-gram: guarante request, Importance: 0.04444431563919027\n",
      "17. Bi-gram: perform guarante request, Importance: 0.04444431563919027\n",
      "18. Bi-gram: perform guarante, Importance: 0.04152041380829806\n",
      "19. Bi-gram: ise flight school, Importance: 0.04111437275672325\n",
      "20. Bi-gram: ise flight, Importance: 0.04111437275672325\n"
     ]
    }
   ],
   "source": [
    "# scale data\n",
    "scaler = StandardScaler(with_mean=False)\n",
    "train_text_scaled = scaler.fit_transform(train_text)\n",
    "test_text_scaled = scaler.transform(test_text)\n",
    "\n",
    "# train model and return training accuracy\n",
    "clf = LogisticRegression(random_state=111, max_iter=1000).fit(train_text_scaled, train_labels)\n",
    "with open('./models/logistic.pkl', 'wb') as f: pickle.dump(clf, f)\n",
    "\n",
    "train_acc = clf.score(train_text_scaled, train_labels)\n",
    "\n",
    "# evaluate on test data \n",
    "y_pred = clf.predict(test_text_scaled)\n",
    "classification_rep = classification_report(text_labels, y_pred, zero_division=0)\n",
    "test_acc = clf.score(test_text_scaled, text_labels)\n",
    "\n",
    "# print classification report\n",
    "print(' Classification Report:')\n",
    "print(classification_rep)\n",
    "print('Train vs Test Accuracy:')\n",
    "print('Train:' + str(round(train_acc, 3)))\n",
    "print('Test:' + str(round(test_acc, 3)))\n",
    "\n",
    "# get feature names from vocabulary of vectorizer\n",
    "feature_names = word_vectorizer.get_feature_names_out()\n",
    "\n",
    "# calculate feature importance\n",
    "importance = clf.coef_[0]\n",
    "feature_importance = abs(importance)\n",
    "sorted_idx = feature_importance.argsort()[::-1]\n",
    "\n",
    "# print top 20 important features (tri-grams)\n",
    "print('Top 20 Important Bi-grams:')\n",
    "for i, idx in enumerate(sorted_idx[:20]):\n",
    "    print(f\"{i+1}. Bi-gram: {feature_names[idx]}, Importance: {feature_importance[idx]}\")"
   ]
  },
  {
   "cell_type": "code",
   "execution_count": 46,
   "metadata": {},
   "outputs": [],
   "source": [
    "# generate classification report\n",
    "report = classification_report(test_labels, y_pred, zero_division=0, output_dict=True)\n",
    "\n",
    "# extract precision, recall, and f1-score for each category\n",
    "categories = ['A', 'B', 'C', 'Others', 'None']\n",
    "metrics = ['precision', 'recall', 'f1-score']\n",
    "data = []\n",
    "for category in categories:\n",
    "    row = []\n",
    "    for metric in metrics:\n",
    "        row.append(round(report[category][metric], 2))\n",
    "    data.append(row)\n",
    "\n",
    "# create dataframe\n",
    "report_df = pd.DataFrame(data, columns=metrics, index=categories)"
   ]
  },
  {
   "cell_type": "code",
   "execution_count": 50,
   "metadata": {},
   "outputs": [
    {
     "data": {
      "image/png": "[encoded data removed]",
      "text/plain": [
       "<Figure size 600x800 with 1 Axes>"
      ]
     },
     "metadata": {},
     "output_type": "display_data"
    }
   ],
   "source": [
    "plt.figure(figsize=(6, 8))\n",
    "sns.heatmap(report_df, annot=True, cmap=custom_cmap_pinks, cbar=False, vmin=0, vmax=1,  fmt='.2f',\n",
    "            annot_kws={\"fontfamily\": \"Arial\", \"fontsize\": 12})\n",
    "#plt.xlabel('Metrics', labelpad=12, fontname='Arial', fontsize=12)\n",
    "#plt.title('Classification report', fontname='Arial', fontsize=14, y=1.02)\n",
    "plt.xticks(fontname='Arial', fontsize=12)\n",
    "plt.yticks(fontname='Arial', fontsize=12, rotation=0)\n",
    "plt.tick_params(axis='y', length=0)\n",
    "plt.tick_params(axis='x', length=0)\n",
    "\n",
    "# save the figure\n",
    "save_path = os.path.join('draft', 'images', 'plot05-02.png')\n",
    "plt.savefig(save_path, dpi=300, bbox_inches='tight')\n",
    "\n",
    "plt.show()"
   ]
  },
  {
   "cell_type": "code",
   "execution_count": 52,
   "metadata": {},
   "outputs": [
    {
     "data": {
      "image/png": "[encoded data removed]",
      "text/plain": [
       "<Figure size 1000x600 with 1 Axes>"
      ]
     },
     "metadata": {},
     "output_type": "display_data"
    }
   ],
   "source": [
    "# sort features by importance in descending order\n",
    "sorted_importance = sorted(zip(feature_importance, feature_names), reverse=True)\n",
    "\n",
    "# select top n features to display\n",
    "n_features = 20\n",
    "top_n_importance = sorted_importance[:n_features]\n",
    "\n",
    "# extract feature names and importance values\n",
    "top_n_features = [f[1] for f in top_n_importance]\n",
    "top_n_values = [f[0] for f in top_n_importance]\n",
    "\n",
    "# create bar chart\n",
    "plt.figure(figsize=(10, 6))\n",
    "plt.barh(range(n_features), top_n_values, align='center', color='#0C6291')\n",
    "plt.yticks(range(n_features), top_n_features)\n",
    "plt.xlabel('Coefficient', labelpad=12, fontname='Arial', fontsize=13)\n",
    "plt.title('Feature Importance: Top 20 Bi-grams', fontname='Arial', fontsize=16)\n",
    "plt.xticks(fontname='Arial', fontsize=13)\n",
    "plt.yticks(fontname='Arial', fontsize=13)\n",
    "plt.gca().invert_yaxis()\n",
    "plt.show()\n"
   ]
  },
  {
   "cell_type": "code",
   "execution_count": 54,
   "metadata": {},
   "outputs": [
    {
     "data": {
      "image/png": "[encoded data removed]",
      "text/plain": [
       "<Figure size 1000x600 with 1 Axes>"
      ]
     },
     "metadata": {},
     "output_type": "display_data"
    }
   ],
   "source": [
    "# sort features by importance in descending order\n",
    "sorted_importance = sorted(zip(feature_importance, feature_names), reverse=True)\n",
    "\n",
    "# remove 'p 79' and replace with next highest feature\n",
    "for i, f in enumerate(sorted_importance):\n",
    "    if f[1] == 'p 79':\n",
    "        sorted_importance.pop(i)\n",
    "        sorted_importance.append(sorted_importance[i])\n",
    "\n",
    "# select top n features to display\n",
    "n_features = 20\n",
    "top_n_importance = sorted_importance[:n_features]\n",
    "\n",
    "# extract feature names and importance values\n",
    "top_n_features = [f[1] for f in top_n_importance]\n",
    "top_n_values = [f[0] for f in top_n_importance]\n",
    "\n",
    "# create bar chart\n",
    "plt.figure(figsize=(10, 6))\n",
    "plt.barh(range(n_features), top_n_values, align='center', color='#0C6291')\n",
    "plt.yticks(range(n_features), top_n_features)\n",
    "plt.xlabel('Coefficient', labelpad=12, fontname='Arial', fontsize=13)\n",
    "#plt.title('Feature Importance: Top 20 Feature', fontname='Arial', fontsize=16)\n",
    "plt.xticks(fontname='Arial', fontsize=13)\n",
    "plt.yticks(fontname='Arial', fontsize=13)\n",
    "plt.gca().invert_yaxis()\n",
    "\n",
    "# save the figure\n",
    "save_path = os.path.join('draft', 'images', 'plot05-03.png')\n",
    "plt.savefig(save_path, dpi=300, bbox_inches='tight')\n",
    "\n",
    "plt.show()\n"
   ]
  },
  {
   "attachments": {},
   "cell_type": "markdown",
   "metadata": {},
   "source": [
    "Performance of TF-IDF and tri-gram TF-IDF models do not vary significantly. Training accuracy is at around 90% while testing accuracy is at around 86%. In most categories (with meaningful number of observations) recall is higher than precision, which means that the model performs better on minimizing false negatives than false positives."
   ]
  },
  {
   "cell_type": "code",
   "execution_count": 72,
   "metadata": {},
   "outputs": [
    {
     "name": "stderr",
     "output_type": "stream",
     "text": [
      "/Users/janinedevera/opt/miniconda3/envs/mtc-models/lib/python3.8/site-packages/sklearn/linear_model/_logistic.py:458: ConvergenceWarning: lbfgs failed to converge (status=1):\n",
      "STOP: TOTAL NO. of ITERATIONS REACHED LIMIT.\n",
      "\n",
      "Increase the number of iterations (max_iter) or scale the data as shown in:\n",
      "    https://scikit-learn.org/stable/modules/preprocessing.html\n",
      "Please also refer to the documentation for alternative solver options:\n",
      "    https://scikit-learn.org/stable/modules/linear_model.html#logistic-regression\n",
      "  n_iter_i = _check_optimize_result(\n",
      "/Users/janinedevera/opt/miniconda3/envs/mtc-models/lib/python3.8/site-packages/sklearn/linear_model/_logistic.py:458: ConvergenceWarning: lbfgs failed to converge (status=1):\n",
      "STOP: TOTAL NO. of ITERATIONS REACHED LIMIT.\n",
      "\n",
      "Increase the number of iterations (max_iter) or scale the data as shown in:\n",
      "    https://scikit-learn.org/stable/modules/preprocessing.html\n",
      "Please also refer to the documentation for alternative solver options:\n",
      "    https://scikit-learn.org/stable/modules/linear_model.html#logistic-regression\n",
      "  n_iter_i = _check_optimize_result(\n",
      "/Users/janinedevera/opt/miniconda3/envs/mtc-models/lib/python3.8/site-packages/sklearn/linear_model/_logistic.py:458: ConvergenceWarning: lbfgs failed to converge (status=1):\n",
      "STOP: TOTAL NO. of ITERATIONS REACHED LIMIT.\n",
      "\n",
      "Increase the number of iterations (max_iter) or scale the data as shown in:\n",
      "    https://scikit-learn.org/stable/modules/preprocessing.html\n",
      "Please also refer to the documentation for alternative solver options:\n",
      "    https://scikit-learn.org/stable/modules/linear_model.html#logistic-regression\n",
      "  n_iter_i = _check_optimize_result(\n",
      "/Users/janinedevera/opt/miniconda3/envs/mtc-models/lib/python3.8/site-packages/sklearn/linear_model/_logistic.py:458: ConvergenceWarning: lbfgs failed to converge (status=1):\n",
      "STOP: TOTAL NO. of ITERATIONS REACHED LIMIT.\n",
      "\n",
      "Increase the number of iterations (max_iter) or scale the data as shown in:\n",
      "    https://scikit-learn.org/stable/modules/preprocessing.html\n",
      "Please also refer to the documentation for alternative solver options:\n",
      "    https://scikit-learn.org/stable/modules/linear_model.html#logistic-regression\n",
      "  n_iter_i = _check_optimize_result(\n",
      "/Users/janinedevera/opt/miniconda3/envs/mtc-models/lib/python3.8/site-packages/sklearn/linear_model/_logistic.py:458: ConvergenceWarning: lbfgs failed to converge (status=1):\n",
      "STOP: TOTAL NO. of ITERATIONS REACHED LIMIT.\n",
      "\n",
      "Increase the number of iterations (max_iter) or scale the data as shown in:\n",
      "    https://scikit-learn.org/stable/modules/preprocessing.html\n",
      "Please also refer to the documentation for alternative solver options:\n",
      "    https://scikit-learn.org/stable/modules/linear_model.html#logistic-regression\n",
      "  n_iter_i = _check_optimize_result(\n",
      "/Users/janinedevera/opt/miniconda3/envs/mtc-models/lib/python3.8/site-packages/sklearn/linear_model/_logistic.py:458: ConvergenceWarning: lbfgs failed to converge (status=1):\n",
      "STOP: TOTAL NO. of ITERATIONS REACHED LIMIT.\n",
      "\n",
      "Increase the number of iterations (max_iter) or scale the data as shown in:\n",
      "    https://scikit-learn.org/stable/modules/preprocessing.html\n",
      "Please also refer to the documentation for alternative solver options:\n",
      "    https://scikit-learn.org/stable/modules/linear_model.html#logistic-regression\n",
      "  n_iter_i = _check_optimize_result(\n"
     ]
    },
    {
     "data": {
      "image/png": "[encoded data removed]",
      "text/plain": [
       "<Figure size 800x500 with 1 Axes>"
      ]
     },
     "metadata": {},
     "output_type": "display_data"
    }
   ],
   "source": [
    "# function for learning curve\n",
    "def plot_learning_curve(estimator, X, y, cv, train_sizes=np.linspace(0.1, 1.0, 10)):\n",
    "    train_sizes, train_scores, test_scores = learning_curve(\n",
    "        estimator, X, y, cv=cv, train_sizes=train_sizes, scoring='accuracy')\n",
    "    train_scores_mean = np.mean(train_scores, axis=1)\n",
    "    train_scores_std = np.std(train_scores, axis=1)\n",
    "    test_scores_mean = np.mean(test_scores, axis=1)\n",
    "    test_scores_std = np.std(test_scores, axis=1)\n",
    "\n",
    "    plt.figure(figsize=(8, 5))\n",
    "    plt.title('Learning Curve', fontname='Arial', fontsize=14)\n",
    "    plt.xlabel('Training Examples', fontname= 'Arial', fontsize=12, labelpad=10)\n",
    "    plt.ylabel('Accuracy', fontname='Arial', fontsize=12, labelpad=10)\n",
    "    plt.xticks(fontname='Arial', fontsize=12)\n",
    "    plt.yticks(fontname='Arial', fontsize=12)\n",
    "\n",
    "    plt.grid()\n",
    "    plt.fill_between(train_sizes, train_scores_mean - train_scores_std,\n",
    "                     train_scores_mean + train_scores_std, alpha=0.1,\n",
    "                     color='r')\n",
    "    plt.fill_between(train_sizes, test_scores_mean - test_scores_std,\n",
    "                     test_scores_mean + test_scores_std, alpha=0.1, color='g')\n",
    "    plt.plot(train_sizes, train_scores_mean, 'o-', color='#C85B89',\n",
    "             label='Training Score')\n",
    "    plt.plot(train_sizes, test_scores_mean, 'o-', color='#2A769E',\n",
    "             label='Cross-validation Score')\n",
    "    plt.legend(loc='best', prop={'family': 'Arial', 'size': 12})\n",
    "    plt.show()\n",
    "\n",
    "# plot learning curve\n",
    "plot_learning_curve(clf, train_text_scaled, train_labels, cv=5)\n"
   ]
  },
  {
   "attachments": {},
   "cell_type": "markdown",
   "metadata": {},
   "source": [
    "However, the learning curves show that the training accuracy is consistently higher than the test accuracy, with the latter showing no furter improvement despite the increase in number of observations. This could be an indication that the model is overfitting to the training data. The small dataset also makes it more likely that the model is overfitting."
   ]
  },
  {
   "attachments": {},
   "cell_type": "markdown",
   "metadata": {},
   "source": [
    "### II. GloVe"
   ]
  },
  {
   "attachments": {},
   "cell_type": "markdown",
   "metadata": {},
   "source": [
    "As an alternative, pre-trained word embeddings can be used to represent the corpus by averaging word vectors using the TF-IDF matrix. From here, similarity scores are obtained between legal texts and the definitions of 4 competition restrictions."
   ]
  },
  {
   "attachments": {},
   "cell_type": "markdown",
   "metadata": {},
   "source": [
    "##### a. Document embedding matrix"
   ]
  },
  {
   "cell_type": "code",
   "execution_count": 56,
   "metadata": {},
   "outputs": [
    {
     "data": {
      "text/plain": [
       "(400000, 300)"
      ]
     },
     "execution_count": 56,
     "metadata": {},
     "output_type": "execute_result"
    }
   ],
   "source": [
    "# load GloVe embeddings\n",
    "dims = 300\n",
    "f = open(f'data/glove/glove.6B.{dims}d.txt') # download GloVe and save in data folder\n",
    "\n",
    "embed_matrix = pd.read_table(\n",
    "    f, sep = \" \", index_col = 0, \n",
    "    header = None, quoting = csv.QUOTE_NONE\n",
    ")\n",
    "\n",
    "embed_matrix.shape"
   ]
  },
  {
   "cell_type": "code",
   "execution_count": 282,
   "metadata": {},
   "outputs": [],
   "source": [
    "# function for doc embeddings\n",
    "def doc_embed(df, vectorizer):\n",
    "    dfm = vectorizer.fit_transform(df['text_clean'])\n",
    "    common_features = set(embed_matrix.index) & set(vectorizer.get_feature_names_out())\n",
    "    vocab_ids = [vectorizer.vocabulary_[x] for x in common_features]\n",
    "    matrix = dfm[:,vocab_ids].dot(embed_matrix.loc[common_features,])\n",
    "    return matrix"
   ]
  },
  {
   "cell_type": "code",
   "execution_count": 283,
   "metadata": {},
   "outputs": [],
   "source": [
    "vectorizer = TfidfVectorizer()\n",
    "countvectorizer = CountVectorizer()"
   ]
  },
  {
   "cell_type": "code",
   "execution_count": 285,
   "metadata": {},
   "outputs": [
    {
     "name": "stderr",
     "output_type": "stream",
     "text": [
      "/var/folders/rd/n9w0gpv53y72x5k9wk3hp63w0000gn/T/ipykernel_6373/2389357900.py:6: FutureWarning: Passing a set as an indexer is deprecated and will raise in a future version. Use a list instead.\n",
      "  matrix = dfm[:,vocab_ids].dot(embed_matrix.loc[common_features,])\n"
     ]
    },
    {
     "data": {
      "text/plain": [
       "(3445, 300)"
      ]
     },
     "execution_count": 285,
     "metadata": {},
     "output_type": "execute_result"
    }
   ],
   "source": [
    "# doc embeddings for legal text\n",
    "text_labels_embed = doc_embed(train_df_aug, vectorizer)\n",
    "text_labels_embed.shape"
   ]
  },
  {
   "cell_type": "code",
   "execution_count": 241,
   "metadata": {},
   "outputs": [
    {
     "name": "stderr",
     "output_type": "stream",
     "text": [
      "/var/folders/rd/n9w0gpv53y72x5k9wk3hp63w0000gn/T/ipykernel_6373/2389357900.py:6: FutureWarning: Passing a set as an indexer is deprecated and will raise in a future version. Use a list instead.\n",
      "  matrix = dfm[:,vocab_ids].dot(embed_matrix.loc[common_features,])\n"
     ]
    },
    {
     "data": {
      "text/plain": [
       "(4, 300)"
      ]
     },
     "execution_count": 241,
     "metadata": {},
     "output_type": "execute_result"
    }
   ],
   "source": [
    "# doc embeddings for grouped labels\n",
    "defs_grouped_embed = doc_embed(defs_grouped, vectorizer)\n",
    "defs_grouped_embed.shape"
   ]
  },
  {
   "attachments": {},
   "cell_type": "markdown",
   "metadata": {},
   "source": [
    "##### b. Cosine similarities"
   ]
  },
  {
   "cell_type": "code",
   "execution_count": 242,
   "metadata": {},
   "outputs": [],
   "source": [
    "def cos_sim(a, b):\n",
    "    dot_product = np.dot(a, b)\n",
    "    norm_a = np.linalg.norm(a)\n",
    "    norm_b = np.linalg.norm(b)\n",
    "    return dot_product / (norm_a * norm_b)"
   ]
  },
  {
   "cell_type": "code",
   "execution_count": 243,
   "metadata": {},
   "outputs": [
    {
     "name": "stderr",
     "output_type": "stream",
     "text": [
      "/var/folders/rd/n9w0gpv53y72x5k9wk3hp63w0000gn/T/ipykernel_6373/883174373.py:5: RuntimeWarning: invalid value encountered in double_scalars\n",
      "  return dot_product / (norm_a * norm_b)\n"
     ]
    }
   ],
   "source": [
    "docs = []\n",
    "for i in range(len(text_labels_embed)):\n",
    "    scores = []\n",
    "    for j in range(len(defs_grouped_embed)):\n",
    "        A = text_labels_embed[i]\n",
    "        B = defs_grouped_embed[j]\n",
    "        scores += [(cos_sim(A,B)+1)/(1+1)] # centered \n",
    "    docs += [scores]"
   ]
  },
  {
   "cell_type": "code",
   "execution_count": 244,
   "metadata": {},
   "outputs": [
    {
     "data": {
      "text/html": [
       "<div>\n",
       "<style scoped>\n",
       "    .dataframe tbody tr th:only-of-type {\n",
       "        vertical-align: middle;\n",
       "    }\n",
       "\n",
       "    .dataframe tbody tr th {\n",
       "        vertical-align: top;\n",
       "    }\n",
       "\n",
       "    .dataframe thead th {\n",
       "        text-align: right;\n",
       "    }\n",
       "</style>\n",
       "<table border=\"1\" class=\"dataframe\">\n",
       "  <thead>\n",
       "    <tr style=\"text-align: right;\">\n",
       "      <th></th>\n",
       "      <th>A</th>\n",
       "      <th>B</th>\n",
       "      <th>C</th>\n",
       "      <th>Others</th>\n",
       "    </tr>\n",
       "  </thead>\n",
       "  <tbody>\n",
       "    <tr>\n",
       "      <th>0</th>\n",
       "      <td>0.932245</td>\n",
       "      <td>0.931000</td>\n",
       "      <td>0.921779</td>\n",
       "      <td>0.937238</td>\n",
       "    </tr>\n",
       "    <tr>\n",
       "      <th>1</th>\n",
       "      <td>0.930241</td>\n",
       "      <td>0.927452</td>\n",
       "      <td>0.925768</td>\n",
       "      <td>0.922400</td>\n",
       "    </tr>\n",
       "    <tr>\n",
       "      <th>2</th>\n",
       "      <td>0.929012</td>\n",
       "      <td>0.934949</td>\n",
       "      <td>0.925709</td>\n",
       "      <td>0.927943</td>\n",
       "    </tr>\n",
       "    <tr>\n",
       "      <th>3</th>\n",
       "      <td>0.875265</td>\n",
       "      <td>0.872644</td>\n",
       "      <td>0.866788</td>\n",
       "      <td>0.876923</td>\n",
       "    </tr>\n",
       "    <tr>\n",
       "      <th>4</th>\n",
       "      <td>0.932126</td>\n",
       "      <td>0.927128</td>\n",
       "      <td>0.926932</td>\n",
       "      <td>0.926261</td>\n",
       "    </tr>\n",
       "  </tbody>\n",
       "</table>\n",
       "</div>"
      ],
      "text/plain": [
       "          A         B         C    Others\n",
       "0  0.932245  0.931000  0.921779  0.937238\n",
       "1  0.930241  0.927452  0.925768  0.922400\n",
       "2  0.929012  0.934949  0.925709  0.927943\n",
       "3  0.875265  0.872644  0.866788  0.876923\n",
       "4  0.932126  0.927128  0.926932  0.926261"
      ]
     },
     "execution_count": 244,
     "metadata": {},
     "output_type": "execute_result"
    }
   ],
   "source": [
    "scores_df = pd.DataFrame(docs, columns = [\"A\", \"B\", \"C\", \"Others\"])\n",
    "scores_df.head()"
   ]
  },
  {
   "cell_type": "code",
   "execution_count": 245,
   "metadata": {},
   "outputs": [
    {
     "data": {
      "image/png": "[encoded data removed]",
      "text/plain": [
       "<Figure size 800x500 with 1 Axes>"
      ]
     },
     "metadata": {},
     "output_type": "display_data"
    }
   ],
   "source": [
    "plt.figure(figsize=(8, 5))\n",
    "plt.hist(scores_df.values.flatten(), bins=50, alpha=0.5, fill='#0C6291')\n",
    "plt.xlabel('Value', fontname='Arial', fontsize=12, labelpad=10)\n",
    "plt.ylabel('Frequency', fontname='Arial', fontsize=12, labelpad=10)\n",
    "plt.title('Distribution of Scores in All Categories', fontname='Arial', fontsize=14)\n",
    "plt.xticks(fontname='Arial', fontsize=12)\n",
    "plt.yticks(fontname='Arial', fontsize=12)\n",
    "plt.show()"
   ]
  },
  {
   "cell_type": "code",
   "execution_count": 246,
   "metadata": {},
   "outputs": [],
   "source": [
    "# df with scores\n",
    "text_scores_labels_glove = pd.merge(train_df_aug, scores_df, left_index=True, right_index=True)\n",
    "text_scores_labels_glove.to_csv(\"data/scores/01 sim_scores_glove_labeled.csv\")"
   ]
  },
  {
   "attachments": {},
   "cell_type": "markdown",
   "metadata": {},
   "source": [
    "##### c. Threshold test"
   ]
  },
  {
   "cell_type": "code",
   "execution_count": 247,
   "metadata": {},
   "outputs": [],
   "source": [
    "text_scores_labels_glove = pd.read_csv(\"data/scores/01 sim_scores_glove_labeled.csv\", index_col=0)"
   ]
  },
  {
   "cell_type": "code",
   "execution_count": 248,
   "metadata": {},
   "outputs": [
    {
     "data": {
      "text/html": [
       "<div>\n",
       "<style scoped>\n",
       "    .dataframe tbody tr th:only-of-type {\n",
       "        vertical-align: middle;\n",
       "    }\n",
       "\n",
       "    .dataframe tbody tr th {\n",
       "        vertical-align: top;\n",
       "    }\n",
       "\n",
       "    .dataframe thead th {\n",
       "        text-align: right;\n",
       "    }\n",
       "</style>\n",
       "<table border=\"1\" class=\"dataframe\">\n",
       "  <thead>\n",
       "    <tr style=\"text-align: right;\">\n",
       "      <th></th>\n",
       "      <th>Law</th>\n",
       "      <th>Text</th>\n",
       "      <th>Category</th>\n",
       "      <th>Category_New</th>\n",
       "      <th>text_clean</th>\n",
       "      <th>Predict_Label</th>\n",
       "      <th>Score</th>\n",
       "    </tr>\n",
       "  </thead>\n",
       "  <tbody>\n",
       "    <tr>\n",
       "      <th>0</th>\n",
       "      <td>Ordinance NORMAM 12 by DPC-Pilotage</td>\n",
       "      <td>The minimum number of pilotage runs per semest...</td>\n",
       "      <td>A</td>\n",
       "      <td>A</td>\n",
       "      <td>the minimum number of pilotag run per semest c...</td>\n",
       "      <td>A</td>\n",
       "      <td>0.932245</td>\n",
       "    </tr>\n",
       "    <tr>\n",
       "      <th>1</th>\n",
       "      <td>NOM-026-Z00- 1994, Características y especific...</td>\n",
       "      <td>Establishments subjected to this norm (I.e. th...</td>\n",
       "      <td>A</td>\n",
       "      <td>A</td>\n",
       "      <td>establish subject to thi norm i.e those that m...</td>\n",
       "      <td>A</td>\n",
       "      <td>0.930241</td>\n",
       "    </tr>\n",
       "    <tr>\n",
       "      <th>2</th>\n",
       "      <td>NOM-059-Z00- 1997, Salud animal. Especificaciones</td>\n",
       "      <td>The norm specifically states that it is not in...</td>\n",
       "      <td>A</td>\n",
       "      <td>A</td>\n",
       "      <td>the norm specif state that it is not in line w...</td>\n",
       "      <td>A</td>\n",
       "      <td>0.929012</td>\n",
       "    </tr>\n",
       "    <tr>\n",
       "      <th>3</th>\n",
       "      <td>Law 13475/2017 - Aeronaut profession</td>\n",
       "      <td>Duty period limitations for flight and cabin c...</td>\n",
       "      <td>A</td>\n",
       "      <td>A</td>\n",
       "      <td>duti period limit for flight and cabin crew of...</td>\n",
       "      <td>A</td>\n",
       "      <td>0.875265</td>\n",
       "    </tr>\n",
       "    <tr>\n",
       "      <th>4</th>\n",
       "      <td>Law 7565/1986 - Brazilian Aeronautical Code</td>\n",
       "      <td>The responsible party that pays the indemnity ...</td>\n",
       "      <td>None</td>\n",
       "      <td>None</td>\n",
       "      <td>the respons parti that pay the indemn is exone...</td>\n",
       "      <td>A</td>\n",
       "      <td>0.932126</td>\n",
       "    </tr>\n",
       "  </tbody>\n",
       "</table>\n",
       "</div>"
      ],
      "text/plain": [
       "                                                 Law  \\\n",
       "0                Ordinance NORMAM 12 by DPC-Pilotage   \n",
       "1  NOM-026-Z00- 1994, Características y especific...   \n",
       "2  NOM-059-Z00- 1997, Salud animal. Especificaciones   \n",
       "3               Law 13475/2017 - Aeronaut profession   \n",
       "4        Law 7565/1986 - Brazilian Aeronautical Code   \n",
       "\n",
       "                                                Text Category Category_New  \\\n",
       "0  The minimum number of pilotage runs per semest...        A            A   \n",
       "1  Establishments subjected to this norm (I.e. th...        A            A   \n",
       "2  The norm specifically states that it is not in...        A            A   \n",
       "3  Duty period limitations for flight and cabin c...        A            A   \n",
       "4  The responsible party that pays the indemnity ...     None         None   \n",
       "\n",
       "                                          text_clean Predict_Label     Score  \n",
       "0  the minimum number of pilotag run per semest c...             A  0.932245  \n",
       "1  establish subject to thi norm i.e those that m...             A  0.930241  \n",
       "2  the norm specif state that it is not in line w...             A  0.929012  \n",
       "3  duti period limit for flight and cabin crew of...             A  0.875265  \n",
       "4  the respons parti that pay the indemn is exone...             A  0.932126  "
      ]
     },
     "execution_count": 248,
     "metadata": {},
     "output_type": "execute_result"
    }
   ],
   "source": [
    "df_long = pd.melt(text_scores_labels_glove, id_vars=['Law', 'Text', 'Category',  'Category_New', 'text_clean'], \n",
    "                  var_name='Predict_Label', value_name='Score') #scores df to long format \n",
    "df_long.head()"
   ]
  },
  {
   "attachments": {},
   "cell_type": "markdown",
   "metadata": {},
   "source": [
    "Since the distribution of the scores is skewed to the right, the threshold also has to be set high."
   ]
  },
  {
   "cell_type": "code",
   "execution_count": 249,
   "metadata": {},
   "outputs": [
    {
     "data": {
      "text/html": [
       "<div>\n",
       "<style scoped>\n",
       "    .dataframe tbody tr th:only-of-type {\n",
       "        vertical-align: middle;\n",
       "    }\n",
       "\n",
       "    .dataframe tbody tr th {\n",
       "        vertical-align: top;\n",
       "    }\n",
       "\n",
       "    .dataframe thead th {\n",
       "        text-align: right;\n",
       "    }\n",
       "</style>\n",
       "<table border=\"1\" class=\"dataframe\">\n",
       "  <thead>\n",
       "    <tr style=\"text-align: right;\">\n",
       "      <th></th>\n",
       "      <th>Law</th>\n",
       "      <th>Text</th>\n",
       "      <th>text_clean</th>\n",
       "      <th>Score</th>\n",
       "      <th>Category_New</th>\n",
       "      <th>Predict</th>\n",
       "    </tr>\n",
       "  </thead>\n",
       "  <tbody>\n",
       "    <tr>\n",
       "      <th>0</th>\n",
       "      <td>Ordinance NORMAM 12 by DPC-Pilotage</td>\n",
       "      <td>The minimum number of pilotage runs per semest...</td>\n",
       "      <td>the minimum number of pilotag run per semest c...</td>\n",
       "      <td>0.932245</td>\n",
       "      <td>A</td>\n",
       "      <td>A</td>\n",
       "    </tr>\n",
       "    <tr>\n",
       "      <th>1</th>\n",
       "      <td>NOM-026-Z00- 1994, Características y especific...</td>\n",
       "      <td>Establishments subjected to this norm (I.e. th...</td>\n",
       "      <td>establish subject to thi norm i.e those that m...</td>\n",
       "      <td>0.930241</td>\n",
       "      <td>A</td>\n",
       "      <td>A</td>\n",
       "    </tr>\n",
       "    <tr>\n",
       "      <th>2</th>\n",
       "      <td>NOM-059-Z00- 1997, Salud animal. Especificaciones</td>\n",
       "      <td>The norm specifically states that it is not in...</td>\n",
       "      <td>the norm specif state that it is not in line w...</td>\n",
       "      <td>0.929012</td>\n",
       "      <td>A</td>\n",
       "      <td>A</td>\n",
       "    </tr>\n",
       "    <tr>\n",
       "      <th>3</th>\n",
       "      <td>Law 13475/2017 - Aeronaut profession</td>\n",
       "      <td>Duty period limitations for flight and cabin c...</td>\n",
       "      <td>duti period limit for flight and cabin crew of...</td>\n",
       "      <td>0.875265</td>\n",
       "      <td>A</td>\n",
       "      <td>None</td>\n",
       "    </tr>\n",
       "    <tr>\n",
       "      <th>4</th>\n",
       "      <td>Law 7565/1986 - Brazilian Aeronautical Code</td>\n",
       "      <td>The responsible party that pays the indemnity ...</td>\n",
       "      <td>the respons parti that pay the indemn is exone...</td>\n",
       "      <td>0.932126</td>\n",
       "      <td>None</td>\n",
       "      <td>A</td>\n",
       "    </tr>\n",
       "    <tr>\n",
       "      <th>...</th>\n",
       "      <td>...</td>\n",
       "      <td>...</td>\n",
       "      <td>...</td>\n",
       "      <td>...</td>\n",
       "      <td>...</td>\n",
       "      <td>...</td>\n",
       "    </tr>\n",
       "    <tr>\n",
       "      <th>12371</th>\n",
       "      <td>Resolution 302/2014 by National Civil Aviation...</td>\n",
       "      <td>Access to the areas mentioned in this article ...</td>\n",
       "      <td>access to the area mention in thi articl will ...</td>\n",
       "      <td>0.668793</td>\n",
       "      <td>None</td>\n",
       "      <td>None</td>\n",
       "    </tr>\n",
       "    <tr>\n",
       "      <th>12372</th>\n",
       "      <td>Acuerdo por el que se determinan los lineamien...</td>\n",
       "      <td>For prescriptions of antibiotics, pharmacies m...</td>\n",
       "      <td>for prescript of antibiot pharmaci must regist...</td>\n",
       "      <td>0.628552</td>\n",
       "      <td>C</td>\n",
       "      <td>None</td>\n",
       "    </tr>\n",
       "    <tr>\n",
       "      <th>12373</th>\n",
       "      <td>Acuerdo por el que se determinan los lineamien...</td>\n",
       "      <td>With regard to antibiotic prescriptions, pharm...</td>\n",
       "      <td>with regard to antibiot prescript pharmaci mus...</td>\n",
       "      <td>0.771057</td>\n",
       "      <td>C</td>\n",
       "      <td>None</td>\n",
       "    </tr>\n",
       "    <tr>\n",
       "      <th>12374</th>\n",
       "      <td>Acuerdo por el que se determinan los lineamien...</td>\n",
       "      <td>For the administration of antibiotics, pharmac...</td>\n",
       "      <td>for the administr of antibiot pharmaci should ...</td>\n",
       "      <td>0.724180</td>\n",
       "      <td>C</td>\n",
       "      <td>None</td>\n",
       "    </tr>\n",
       "    <tr>\n",
       "      <th>12375</th>\n",
       "      <td>Acuerdo por el que se determinan los lineamien...</td>\n",
       "      <td>For antibiotics, pharmacies must, inter alia, ...</td>\n",
       "      <td>for antibiot pharmaci must inter alia regist t...</td>\n",
       "      <td>0.907027</td>\n",
       "      <td>C</td>\n",
       "      <td>Others</td>\n",
       "    </tr>\n",
       "  </tbody>\n",
       "</table>\n",
       "<p>12328 rows × 6 columns</p>\n",
       "</div>"
      ],
      "text/plain": [
       "                                                     Law  \\\n",
       "0                    Ordinance NORMAM 12 by DPC-Pilotage   \n",
       "1      NOM-026-Z00- 1994, Características y especific...   \n",
       "2      NOM-059-Z00- 1997, Salud animal. Especificaciones   \n",
       "3                   Law 13475/2017 - Aeronaut profession   \n",
       "4            Law 7565/1986 - Brazilian Aeronautical Code   \n",
       "...                                                  ...   \n",
       "12371  Resolution 302/2014 by National Civil Aviation...   \n",
       "12372  Acuerdo por el que se determinan los lineamien...   \n",
       "12373  Acuerdo por el que se determinan los lineamien...   \n",
       "12374  Acuerdo por el que se determinan los lineamien...   \n",
       "12375  Acuerdo por el que se determinan los lineamien...   \n",
       "\n",
       "                                                    Text  \\\n",
       "0      The minimum number of pilotage runs per semest...   \n",
       "1      Establishments subjected to this norm (I.e. th...   \n",
       "2      The norm specifically states that it is not in...   \n",
       "3      Duty period limitations for flight and cabin c...   \n",
       "4      The responsible party that pays the indemnity ...   \n",
       "...                                                  ...   \n",
       "12371  Access to the areas mentioned in this article ...   \n",
       "12372  For prescriptions of antibiotics, pharmacies m...   \n",
       "12373  With regard to antibiotic prescriptions, pharm...   \n",
       "12374  For the administration of antibiotics, pharmac...   \n",
       "12375  For antibiotics, pharmacies must, inter alia, ...   \n",
       "\n",
       "                                              text_clean     Score  \\\n",
       "0      the minimum number of pilotag run per semest c...  0.932245   \n",
       "1      establish subject to thi norm i.e those that m...  0.930241   \n",
       "2      the norm specif state that it is not in line w...  0.929012   \n",
       "3      duti period limit for flight and cabin crew of...  0.875265   \n",
       "4      the respons parti that pay the indemn is exone...  0.932126   \n",
       "...                                                  ...       ...   \n",
       "12371  access to the area mention in thi articl will ...  0.668793   \n",
       "12372  for prescript of antibiot pharmaci must regist...  0.628552   \n",
       "12373  with regard to antibiot prescript pharmaci mus...  0.771057   \n",
       "12374  for the administr of antibiot pharmaci should ...  0.724180   \n",
       "12375  for antibiot pharmaci must inter alia regist t...  0.907027   \n",
       "\n",
       "      Category_New Predict  \n",
       "0                A       A  \n",
       "1                A       A  \n",
       "2                A       A  \n",
       "3                A    None  \n",
       "4             None       A  \n",
       "...            ...     ...  \n",
       "12371         None    None  \n",
       "12372            C    None  \n",
       "12373            C    None  \n",
       "12374            C    None  \n",
       "12375            C  Others  \n",
       "\n",
       "[12328 rows x 6 columns]"
      ]
     },
     "execution_count": 249,
     "metadata": {},
     "output_type": "execute_result"
    }
   ],
   "source": [
    "results_multiclass = df_long \n",
    "results_multiclass['Predict'] = np.where(results_multiclass['Score'] > 0.90, results_multiclass['Predict_Label'], 'None') #set threshold\n",
    "results_multiclass[['Law', 'Text', 'text_clean', 'Score', 'Category_New', 'Predict']].drop_duplicates()"
   ]
  },
  {
   "attachments": {},
   "cell_type": "markdown",
   "metadata": {},
   "source": [
    "The similarity method using GloVe embeddings does not perform as well as the logistic regression."
   ]
  },
  {
   "cell_type": "code",
   "execution_count": 250,
   "metadata": {},
   "outputs": [
    {
     "name": "stdout",
     "output_type": "stream",
     "text": [
      "              precision    recall  f1-score   support\n",
      "\n",
      "           A       0.18      0.15      0.16      2332\n",
      "           B       0.27      0.15      0.20      3168\n",
      "           C       0.19      0.15      0.16      2328\n",
      "        None       0.16      0.45      0.24      1844\n",
      "      Others       0.22      0.14      0.17      2704\n",
      "\n",
      "    accuracy                           0.19     12376\n",
      "   macro avg       0.20      0.21      0.19     12376\n",
      "weighted avg       0.21      0.19      0.18     12376\n",
      "\n"
     ]
    }
   ],
   "source": [
    "report = classification_report(results_multiclass['Category_New'], results_multiclass['Predict'])\n",
    "print(report)"
   ]
  },
  {
   "cell_type": "code",
   "execution_count": 252,
   "metadata": {},
   "outputs": [],
   "source": [
    "# generate classification report\n",
    "report = classification_report(results_multiclass['Category_New'], results_multiclass['Predict'], zero_division=0, output_dict=True)\n",
    "\n",
    "# extract precision, recall, and f1-score for each category\n",
    "categories = ['A', 'B', 'C', 'Others', 'None']\n",
    "metrics = ['precision', 'recall', 'f1-score']\n",
    "data = []\n",
    "for category in categories:\n",
    "    row = []\n",
    "    for metric in metrics:\n",
    "        row.append(round(report[category][metric], 2))\n",
    "    data.append(row)\n",
    "\n",
    "# create dataframe\n",
    "report_df = pd.DataFrame(data, columns=metrics, index=categories)"
   ]
  },
  {
   "cell_type": "code",
   "execution_count": 253,
   "metadata": {},
   "outputs": [
    {
     "data": {
      "image/png": "[encoded data removed]",
      "text/plain": [
       "<Figure size 600x800 with 1 Axes>"
      ]
     },
     "metadata": {},
     "output_type": "display_data"
    }
   ],
   "source": [
    "plt.figure(figsize=(6, 8))\n",
    "sns.heatmap(report_df, annot=True, cmap=custom_cmap_blues, cbar=False, vmin=0, vmax=1,  fmt='.2f',\n",
    "            annot_kws={\"fontfamily\": \"Arial\", \"fontsize\": 12})\n",
    "#plt.xlabel('Metrics', labelpad=12, fontname='Arial', fontsize=12)\n",
    "#plt.title('Classification report', fontname='Arial', fontsize=14, y=1.02)\n",
    "plt.xticks(fontname='Arial', fontsize=12)\n",
    "plt.yticks(fontname='Arial', fontsize=12, rotation=0)\n",
    "plt.tick_params(axis='y', length=0)\n",
    "plt.tick_params(axis='x', length=0)\n",
    "plt.show()"
   ]
  },
  {
   "attachments": {},
   "cell_type": "markdown",
   "metadata": {},
   "source": [
    "##### d. Binary threshold test"
   ]
  },
  {
   "attachments": {},
   "cell_type": "markdown",
   "metadata": {},
   "source": [
    "All categories can also be grouped as \"Yes\" (i.e. with potential restrictions) to test if the similarity method performs better if applied to a binary classification task. "
   ]
  },
  {
   "cell_type": "code",
   "execution_count": 103,
   "metadata": {},
   "outputs": [],
   "source": [
    "results_binary = df_long \n",
    "results_max_score = results_binary.groupby('Text')['Score'].max() #get the highest score among 4 categories\n",
    "results_final = pd.merge(results_binary, results_max_score, on=['Text', 'Score'])\n",
    "\n",
    "results_final['Predict'] = np.where(results_final['Score'] > 0.90, 'Yes', 'None') #if max score of highest category is above 0.95, predicted label = yes\n",
    "results_final['Category_New'] = np.where(results_final['Category_New'] == 'None', results_final['Category_New'], 'Yes') #all categories changed to 'yes' except none"
   ]
  },
  {
   "cell_type": "code",
   "execution_count": 104,
   "metadata": {},
   "outputs": [
    {
     "name": "stdout",
     "output_type": "stream",
     "text": [
      "              precision    recall  f1-score   support\n",
      "\n",
      "        None       0.17      0.41      0.24       473\n",
      "         Yes       0.85      0.63      0.73      2587\n",
      "\n",
      "    accuracy                           0.60      3060\n",
      "   macro avg       0.51      0.52      0.48      3060\n",
      "weighted avg       0.75      0.60      0.65      3060\n",
      "\n"
     ]
    }
   ],
   "source": [
    "report = classification_report(results_final['Category_New'], results_final['Predict'])\n",
    "print(report)"
   ]
  },
  {
   "attachments": {},
   "cell_type": "markdown",
   "metadata": {},
   "source": [
    "As a binary classification problem, the similarity method performs slightly better. Recall is high for the Yes category, but overall accuracy is only at 54%."
   ]
  },
  {
   "attachments": {},
   "cell_type": "markdown",
   "metadata": {},
   "source": [
    "##### e. Dimensionality reduction"
   ]
  },
  {
   "attachments": {},
   "cell_type": "markdown",
   "metadata": {},
   "source": [
    "Augmented data"
   ]
  },
  {
   "cell_type": "code",
   "execution_count": 105,
   "metadata": {},
   "outputs": [
    {
     "name": "stderr",
     "output_type": "stream",
     "text": [
      "/var/folders/rd/n9w0gpv53y72x5k9wk3hp63w0000gn/T/ipykernel_6373/1632365060.py:2: FutureWarning: The frame.append method is deprecated and will be removed from pandas in a future version. Use pandas.concat instead.\n",
      "  df_comb = (text_scores_labels_glove[['Law', 'text_clean', 'Category_New']]\n"
     ]
    },
    {
     "data": {
      "text/html": [
       "<div>\n",
       "<style scoped>\n",
       "    .dataframe tbody tr th:only-of-type {\n",
       "        vertical-align: middle;\n",
       "    }\n",
       "\n",
       "    .dataframe tbody tr th {\n",
       "        vertical-align: top;\n",
       "    }\n",
       "\n",
       "    .dataframe thead th {\n",
       "        text-align: right;\n",
       "    }\n",
       "</style>\n",
       "<table border=\"1\" class=\"dataframe\">\n",
       "  <thead>\n",
       "    <tr style=\"text-align: right;\">\n",
       "      <th></th>\n",
       "      <th>name</th>\n",
       "      <th>text_clean</th>\n",
       "      <th>Category_New</th>\n",
       "    </tr>\n",
       "  </thead>\n",
       "  <tbody>\n",
       "    <tr>\n",
       "      <th>0</th>\n",
       "      <td>Ordinance NORMAM 12 by DPC-Pilotage</td>\n",
       "      <td>the minimum number of pilotag run per semest c...</td>\n",
       "      <td>A</td>\n",
       "    </tr>\n",
       "    <tr>\n",
       "      <th>1</th>\n",
       "      <td>NOM-026-Z00- 1994, Características y especific...</td>\n",
       "      <td>establish subject to thi norm i.e those that m...</td>\n",
       "      <td>A</td>\n",
       "    </tr>\n",
       "    <tr>\n",
       "      <th>2</th>\n",
       "      <td>NOM-059-Z00- 1997, Salud animal. Especificaciones</td>\n",
       "      <td>the norm specif state that it is not in line w...</td>\n",
       "      <td>A</td>\n",
       "    </tr>\n",
       "    <tr>\n",
       "      <th>3</th>\n",
       "      <td>Law 13475/2017 - Aeronaut profession</td>\n",
       "      <td>duti period limit for flight and cabin crew of...</td>\n",
       "      <td>A</td>\n",
       "    </tr>\n",
       "    <tr>\n",
       "      <th>4</th>\n",
       "      <td>Law 7565/1986 - Brazilian Aeronautical Code</td>\n",
       "      <td>the respons parti that pay the indemn is exone...</td>\n",
       "      <td>None</td>\n",
       "    </tr>\n",
       "  </tbody>\n",
       "</table>\n",
       "</div>"
      ],
      "text/plain": [
       "                                                name  \\\n",
       "0                Ordinance NORMAM 12 by DPC-Pilotage   \n",
       "1  NOM-026-Z00- 1994, Características y especific...   \n",
       "2  NOM-059-Z00- 1997, Salud animal. Especificaciones   \n",
       "3               Law 13475/2017 - Aeronaut profession   \n",
       "4        Law 7565/1986 - Brazilian Aeronautical Code   \n",
       "\n",
       "                                          text_clean Category_New  \n",
       "0  the minimum number of pilotag run per semest c...            A  \n",
       "1  establish subject to thi norm i.e those that m...            A  \n",
       "2  the norm specif state that it is not in line w...            A  \n",
       "3  duti period limit for flight and cabin crew of...            A  \n",
       "4  the respons parti that pay the indemn is exone...         None  "
      ]
     },
     "execution_count": 105,
     "metadata": {},
     "output_type": "execute_result"
    }
   ],
   "source": [
    "# df combining text and labels\n",
    "df_comb = (text_scores_labels_glove[['Law', 'text_clean', 'Category_New']]\n",
    "           .rename(columns = {'Law':'name'})\n",
    "           .append(defs_grouped[['Main', 'text_clean']]\n",
    "                   .rename(columns = {'Main':'name'})))\n",
    "df_comb.head()"
   ]
  },
  {
   "cell_type": "code",
   "execution_count": 106,
   "metadata": {},
   "outputs": [],
   "source": [
    "reducer = umap.UMAP()\n",
    "\n",
    "# dfm combining embeddings \n",
    "def dfm_combined(df, dfm1, dfm2):\n",
    "    dfm_comb = np.vstack((dfm1, dfm2))\n",
    "    embed = reducer.fit_transform(dfm_comb)\n",
    "    df[\"x\"] = embed[:,0]\n",
    "    df[\"y\"] = embed[:,1]\n",
    "    return df"
   ]
  },
  {
   "cell_type": "code",
   "execution_count": null,
   "metadata": {},
   "outputs": [],
   "source": [
    "dfm_reduced = dfm_combined(df_comb, text_labels_embed, defs_grouped_embed)"
   ]
  },
  {
   "cell_type": "code",
   "execution_count": 299,
   "metadata": {},
   "outputs": [],
   "source": [
    "dfm_reduced.to_csv(\"data/scores/02 sim_scores_dim_reduced_glove.csv\")"
   ]
  },
  {
   "attachments": {},
   "cell_type": "markdown",
   "metadata": {},
   "source": [
    "Labeled data (not augmented)"
   ]
  },
  {
   "cell_type": "code",
   "execution_count": 291,
   "metadata": {},
   "outputs": [
    {
     "name": "stderr",
     "output_type": "stream",
     "text": [
      "/var/folders/rd/n9w0gpv53y72x5k9wk3hp63w0000gn/T/ipykernel_6373/2389357900.py:6: FutureWarning: Passing a set as an indexer is deprecated and will raise in a future version. Use a list instead.\n",
      "  matrix = dfm[:,vocab_ids].dot(embed_matrix.loc[common_features,])\n"
     ]
    },
    {
     "data": {
      "text/plain": [
       "(1792, 300)"
      ]
     },
     "execution_count": 291,
     "metadata": {},
     "output_type": "execute_result"
    }
   ],
   "source": [
    "text_labels_embed_nonaug = doc_embed(text_labels, vectorizer)\n",
    "text_labels_embed_nonaug.shape"
   ]
  },
  {
   "cell_type": "code",
   "execution_count": 292,
   "metadata": {},
   "outputs": [],
   "source": [
    "embed = reducer.fit_transform(text_labels_embed_nonaug)\n",
    "text_labels[\"x\"] = embed[:,0]\n",
    "text_labels[\"y\"] = embed[:,1]"
   ]
  },
  {
   "cell_type": "code",
   "execution_count": 295,
   "metadata": {},
   "outputs": [],
   "source": [
    "text_labels.to_csv(\"data/03 word_embed_glove.csv\")"
   ]
  },
  {
   "attachments": {},
   "cell_type": "markdown",
   "metadata": {},
   "source": [
    "### III. Legal Word2Vec"
   ]
  },
  {
   "attachments": {},
   "cell_type": "markdown",
   "metadata": {},
   "source": [
    "The same method as GloVe similarity scores is applied but using Word2Vec embeddings trained from a legal corpus. "
   ]
  },
  {
   "attachments": {},
   "cell_type": "markdown",
   "metadata": {},
   "source": [
    "##### a. Document embedding matrix (from SigmaLaw word2vec trained from legal corpus)"
   ]
  },
  {
   "cell_type": "code",
   "execution_count": 86,
   "metadata": {},
   "outputs": [
    {
     "data": {
      "text/plain": [
       "(52431, 200)"
      ]
     },
     "execution_count": 86,
     "metadata": {},
     "output_type": "execute_result"
    }
   ],
   "source": [
    "w2v_law = KeyedVectors.load_word2vec_format(\"data/sigma-lemmatized-legal/legallemmatextreplacewithnnp.bin\", binary=True, unicode_errors='ignore') \n",
    "w2v_law.vectors.shape"
   ]
  },
  {
   "cell_type": "code",
   "execution_count": 87,
   "metadata": {},
   "outputs": [],
   "source": [
    "def doc_matrix_w2v(dfm):\n",
    "    words = set(vectorizer.get_feature_names_out())\n",
    "    text_vocab = list(words)\n",
    "\n",
    "    common_features = []\n",
    "    for word in text_vocab:\n",
    "        if word in w2v_law:\n",
    "            common_features += [word]\n",
    "\n",
    "    embed_common=np.empty((0,200))\n",
    "    for word in words:\n",
    "        if word in w2v_law:\n",
    "            embed_common=np.vstack([embed_common, w2v_law[word]])\n",
    "\n",
    "    vocab_ids = [vectorizer.vocabulary_[x] for x in common_features]\n",
    "    doc_matrix_w2v = dfm[:,vocab_ids].dot(embed_common)\n",
    "\n",
    "    return doc_matrix_w2v\n",
    "    "
   ]
  },
  {
   "cell_type": "code",
   "execution_count": 88,
   "metadata": {},
   "outputs": [
    {
     "data": {
      "text/plain": [
       "(3445, 200)"
      ]
     },
     "execution_count": 88,
     "metadata": {},
     "output_type": "execute_result"
    }
   ],
   "source": [
    "text_dfm = vectorizer.fit_transform(train_df_aug['text_clean'])\n",
    "text_doc_matrix = doc_matrix_w2v(text_dfm)\n",
    "text_doc_matrix.shape"
   ]
  },
  {
   "cell_type": "code",
   "execution_count": 257,
   "metadata": {},
   "outputs": [
    {
     "data": {
      "text/plain": [
       "(4, 200)"
      ]
     },
     "execution_count": 257,
     "metadata": {},
     "output_type": "execute_result"
    }
   ],
   "source": [
    "defs_dfm = vectorizer.fit_transform(defs_grouped['text_clean'])\n",
    "defs_doc_matrix = doc_matrix_w2v(defs_dfm)\n",
    "defs_doc_matrix.shape"
   ]
  },
  {
   "attachments": {},
   "cell_type": "markdown",
   "metadata": {},
   "source": [
    "##### b. Cosine similarities"
   ]
  },
  {
   "cell_type": "code",
   "execution_count": 258,
   "metadata": {},
   "outputs": [
    {
     "name": "stderr",
     "output_type": "stream",
     "text": [
      "/var/folders/rd/n9w0gpv53y72x5k9wk3hp63w0000gn/T/ipykernel_6373/883174373.py:5: RuntimeWarning: invalid value encountered in double_scalars\n",
      "  return dot_product / (norm_a * norm_b)\n"
     ]
    }
   ],
   "source": [
    "docs = []\n",
    "for i in range(len(text_doc_matrix)):\n",
    "    scores = []\n",
    "    for j in range(len(defs_doc_matrix)):\n",
    "        A = text_doc_matrix[i]\n",
    "        B = defs_doc_matrix[j]\n",
    "        scores += [(cos_sim(A,B)+1)/(1+1)] # centered \n",
    "    docs += [scores]"
   ]
  },
  {
   "cell_type": "code",
   "execution_count": 259,
   "metadata": {},
   "outputs": [
    {
     "data": {
      "text/html": [
       "<div>\n",
       "<style scoped>\n",
       "    .dataframe tbody tr th:only-of-type {\n",
       "        vertical-align: middle;\n",
       "    }\n",
       "\n",
       "    .dataframe tbody tr th {\n",
       "        vertical-align: top;\n",
       "    }\n",
       "\n",
       "    .dataframe thead th {\n",
       "        text-align: right;\n",
       "    }\n",
       "</style>\n",
       "<table border=\"1\" class=\"dataframe\">\n",
       "  <thead>\n",
       "    <tr style=\"text-align: right;\">\n",
       "      <th></th>\n",
       "      <th>A</th>\n",
       "      <th>B</th>\n",
       "      <th>C</th>\n",
       "      <th>Others</th>\n",
       "    </tr>\n",
       "  </thead>\n",
       "  <tbody>\n",
       "    <tr>\n",
       "      <th>0</th>\n",
       "      <td>0.580615</td>\n",
       "      <td>0.617484</td>\n",
       "      <td>0.585379</td>\n",
       "      <td>0.666514</td>\n",
       "    </tr>\n",
       "    <tr>\n",
       "      <th>1</th>\n",
       "      <td>0.670425</td>\n",
       "      <td>0.716627</td>\n",
       "      <td>0.716724</td>\n",
       "      <td>0.668462</td>\n",
       "    </tr>\n",
       "    <tr>\n",
       "      <th>2</th>\n",
       "      <td>0.684419</td>\n",
       "      <td>0.738128</td>\n",
       "      <td>0.729582</td>\n",
       "      <td>0.704757</td>\n",
       "    </tr>\n",
       "    <tr>\n",
       "      <th>3</th>\n",
       "      <td>0.600209</td>\n",
       "      <td>0.605134</td>\n",
       "      <td>0.604353</td>\n",
       "      <td>0.631238</td>\n",
       "    </tr>\n",
       "    <tr>\n",
       "      <th>4</th>\n",
       "      <td>0.710902</td>\n",
       "      <td>0.706493</td>\n",
       "      <td>0.700326</td>\n",
       "      <td>0.724689</td>\n",
       "    </tr>\n",
       "  </tbody>\n",
       "</table>\n",
       "</div>"
      ],
      "text/plain": [
       "          A         B         C    Others\n",
       "0  0.580615  0.617484  0.585379  0.666514\n",
       "1  0.670425  0.716627  0.716724  0.668462\n",
       "2  0.684419  0.738128  0.729582  0.704757\n",
       "3  0.600209  0.605134  0.604353  0.631238\n",
       "4  0.710902  0.706493  0.700326  0.724689"
      ]
     },
     "execution_count": 259,
     "metadata": {},
     "output_type": "execute_result"
    }
   ],
   "source": [
    "scores_df = pd.DataFrame(docs, columns = [\"A\", \"B\", \"C\", \"Others\"])\n",
    "scores_df.head()"
   ]
  },
  {
   "cell_type": "code",
   "execution_count": 260,
   "metadata": {},
   "outputs": [
    {
     "data": {
      "image/png": "[encoded data removed]",
      "text/plain": [
       "<Figure size 800x500 with 1 Axes>"
      ]
     },
     "metadata": {},
     "output_type": "display_data"
    }
   ],
   "source": [
    "plt.figure(figsize=(8, 5))\n",
    "plt.hist(scores_df.values.flatten(), bins=50, alpha=0.5, fill='#0C6291')\n",
    "plt.xlabel('Value', fontname='Arial', fontsize=12, labelpad=10)\n",
    "plt.ylabel('Frequency', fontname='Arial', fontsize=12, labelpad=10)\n",
    "plt.title('Distribution of Scores in All Categories', fontname='Arial', fontsize=14)\n",
    "plt.xticks(fontname='Arial', fontsize=12)\n",
    "plt.yticks(fontname='Arial', fontsize=12)\n",
    "plt.show()"
   ]
  },
  {
   "cell_type": "code",
   "execution_count": 261,
   "metadata": {},
   "outputs": [],
   "source": [
    "# df with scores\n",
    "text_scores_legalw2v = pd.merge(train_df_aug, scores_df, left_index=True, right_index=True)\n",
    "text_scores_legalw2v.to_csv(\"data/scores/01 sim_scores_legalw2v_labeled.csv\")"
   ]
  },
  {
   "attachments": {},
   "cell_type": "markdown",
   "metadata": {},
   "source": [
    "##### c. Threshold test"
   ]
  },
  {
   "cell_type": "code",
   "execution_count": 262,
   "metadata": {},
   "outputs": [
    {
     "data": {
      "text/html": [
       "<div>\n",
       "<style scoped>\n",
       "    .dataframe tbody tr th:only-of-type {\n",
       "        vertical-align: middle;\n",
       "    }\n",
       "\n",
       "    .dataframe tbody tr th {\n",
       "        vertical-align: top;\n",
       "    }\n",
       "\n",
       "    .dataframe thead th {\n",
       "        text-align: right;\n",
       "    }\n",
       "</style>\n",
       "<table border=\"1\" class=\"dataframe\">\n",
       "  <thead>\n",
       "    <tr style=\"text-align: right;\">\n",
       "      <th></th>\n",
       "      <th>Law</th>\n",
       "      <th>Text</th>\n",
       "      <th>Category</th>\n",
       "      <th>Category_New</th>\n",
       "      <th>text_clean</th>\n",
       "      <th>Predict_Label</th>\n",
       "      <th>Score</th>\n",
       "    </tr>\n",
       "  </thead>\n",
       "  <tbody>\n",
       "    <tr>\n",
       "      <th>0</th>\n",
       "      <td>Ordinance NORMAM 12 by DPC-Pilotage</td>\n",
       "      <td>The minimum number of pilotage runs per semest...</td>\n",
       "      <td>A</td>\n",
       "      <td>A</td>\n",
       "      <td>the minimum number of pilotag run per semest c...</td>\n",
       "      <td>A</td>\n",
       "      <td>0.580615</td>\n",
       "    </tr>\n",
       "    <tr>\n",
       "      <th>1</th>\n",
       "      <td>NOM-026-Z00- 1994, Características y especific...</td>\n",
       "      <td>Establishments subjected to this norm (I.e. th...</td>\n",
       "      <td>A</td>\n",
       "      <td>A</td>\n",
       "      <td>establish subject to thi norm i.e those that m...</td>\n",
       "      <td>A</td>\n",
       "      <td>0.670425</td>\n",
       "    </tr>\n",
       "    <tr>\n",
       "      <th>2</th>\n",
       "      <td>NOM-059-Z00- 1997, Salud animal. Especificaciones</td>\n",
       "      <td>The norm specifically states that it is not in...</td>\n",
       "      <td>A</td>\n",
       "      <td>A</td>\n",
       "      <td>the norm specif state that it is not in line w...</td>\n",
       "      <td>A</td>\n",
       "      <td>0.684419</td>\n",
       "    </tr>\n",
       "    <tr>\n",
       "      <th>3</th>\n",
       "      <td>Law 13475/2017 - Aeronaut profession</td>\n",
       "      <td>Duty period limitations for flight and cabin c...</td>\n",
       "      <td>A</td>\n",
       "      <td>A</td>\n",
       "      <td>duti period limit for flight and cabin crew of...</td>\n",
       "      <td>A</td>\n",
       "      <td>0.600209</td>\n",
       "    </tr>\n",
       "    <tr>\n",
       "      <th>4</th>\n",
       "      <td>Law 7565/1986 - Brazilian Aeronautical Code</td>\n",
       "      <td>The responsible party that pays the indemnity ...</td>\n",
       "      <td>None</td>\n",
       "      <td>None</td>\n",
       "      <td>the respons parti that pay the indemn is exone...</td>\n",
       "      <td>A</td>\n",
       "      <td>0.710902</td>\n",
       "    </tr>\n",
       "  </tbody>\n",
       "</table>\n",
       "</div>"
      ],
      "text/plain": [
       "                                                 Law  \\\n",
       "0                Ordinance NORMAM 12 by DPC-Pilotage   \n",
       "1  NOM-026-Z00- 1994, Características y especific...   \n",
       "2  NOM-059-Z00- 1997, Salud animal. Especificaciones   \n",
       "3               Law 13475/2017 - Aeronaut profession   \n",
       "4        Law 7565/1986 - Brazilian Aeronautical Code   \n",
       "\n",
       "                                                Text Category Category_New  \\\n",
       "0  The minimum number of pilotage runs per semest...        A            A   \n",
       "1  Establishments subjected to this norm (I.e. th...        A            A   \n",
       "2  The norm specifically states that it is not in...        A            A   \n",
       "3  Duty period limitations for flight and cabin c...        A            A   \n",
       "4  The responsible party that pays the indemnity ...     None         None   \n",
       "\n",
       "                                          text_clean Predict_Label     Score  \n",
       "0  the minimum number of pilotag run per semest c...             A  0.580615  \n",
       "1  establish subject to thi norm i.e those that m...             A  0.670425  \n",
       "2  the norm specif state that it is not in line w...             A  0.684419  \n",
       "3  duti period limit for flight and cabin crew of...             A  0.600209  \n",
       "4  the respons parti that pay the indemn is exone...             A  0.710902  "
      ]
     },
     "execution_count": 262,
     "metadata": {},
     "output_type": "execute_result"
    }
   ],
   "source": [
    "df_long = pd.melt(text_scores_legalw2v, id_vars=['Law', 'Text', 'Category',  'Category_New', 'text_clean'], \n",
    "                  var_name='Predict_Label', value_name='Score') #scores df to long format \n",
    "df_long.head()"
   ]
  },
  {
   "attachments": {},
   "cell_type": "markdown",
   "metadata": {},
   "source": [
    "The similarity scores based on the Legalw2v embeddings approximate normal distribution so threshold score is set lower than GloVe."
   ]
  },
  {
   "cell_type": "code",
   "execution_count": 263,
   "metadata": {},
   "outputs": [
    {
     "data": {
      "text/html": [
       "<div>\n",
       "<style scoped>\n",
       "    .dataframe tbody tr th:only-of-type {\n",
       "        vertical-align: middle;\n",
       "    }\n",
       "\n",
       "    .dataframe tbody tr th {\n",
       "        vertical-align: top;\n",
       "    }\n",
       "\n",
       "    .dataframe thead th {\n",
       "        text-align: right;\n",
       "    }\n",
       "</style>\n",
       "<table border=\"1\" class=\"dataframe\">\n",
       "  <thead>\n",
       "    <tr style=\"text-align: right;\">\n",
       "      <th></th>\n",
       "      <th>Law</th>\n",
       "      <th>Text</th>\n",
       "      <th>text_clean</th>\n",
       "      <th>Score</th>\n",
       "      <th>Category_New</th>\n",
       "      <th>Predict</th>\n",
       "    </tr>\n",
       "  </thead>\n",
       "  <tbody>\n",
       "    <tr>\n",
       "      <th>0</th>\n",
       "      <td>Ordinance NORMAM 12 by DPC-Pilotage</td>\n",
       "      <td>The minimum number of pilotage runs per semest...</td>\n",
       "      <td>the minimum number of pilotag run per semest c...</td>\n",
       "      <td>0.580615</td>\n",
       "      <td>A</td>\n",
       "      <td>None</td>\n",
       "    </tr>\n",
       "    <tr>\n",
       "      <th>1</th>\n",
       "      <td>NOM-026-Z00- 1994, Características y especific...</td>\n",
       "      <td>Establishments subjected to this norm (I.e. th...</td>\n",
       "      <td>establish subject to thi norm i.e those that m...</td>\n",
       "      <td>0.670425</td>\n",
       "      <td>A</td>\n",
       "      <td>None</td>\n",
       "    </tr>\n",
       "    <tr>\n",
       "      <th>2</th>\n",
       "      <td>NOM-059-Z00- 1997, Salud animal. Especificaciones</td>\n",
       "      <td>The norm specifically states that it is not in...</td>\n",
       "      <td>the norm specif state that it is not in line w...</td>\n",
       "      <td>0.684419</td>\n",
       "      <td>A</td>\n",
       "      <td>None</td>\n",
       "    </tr>\n",
       "    <tr>\n",
       "      <th>3</th>\n",
       "      <td>Law 13475/2017 - Aeronaut profession</td>\n",
       "      <td>Duty period limitations for flight and cabin c...</td>\n",
       "      <td>duti period limit for flight and cabin crew of...</td>\n",
       "      <td>0.600209</td>\n",
       "      <td>A</td>\n",
       "      <td>None</td>\n",
       "    </tr>\n",
       "    <tr>\n",
       "      <th>4</th>\n",
       "      <td>Law 7565/1986 - Brazilian Aeronautical Code</td>\n",
       "      <td>The responsible party that pays the indemnity ...</td>\n",
       "      <td>the respons parti that pay the indemn is exone...</td>\n",
       "      <td>0.710902</td>\n",
       "      <td>None</td>\n",
       "      <td>A</td>\n",
       "    </tr>\n",
       "    <tr>\n",
       "      <th>...</th>\n",
       "      <td>...</td>\n",
       "      <td>...</td>\n",
       "      <td>...</td>\n",
       "      <td>...</td>\n",
       "      <td>...</td>\n",
       "      <td>...</td>\n",
       "    </tr>\n",
       "    <tr>\n",
       "      <th>12371</th>\n",
       "      <td>Resolution 302/2014 by National Civil Aviation...</td>\n",
       "      <td>Access to the areas mentioned in this article ...</td>\n",
       "      <td>access to the area mention in thi articl will ...</td>\n",
       "      <td>0.485526</td>\n",
       "      <td>None</td>\n",
       "      <td>None</td>\n",
       "    </tr>\n",
       "    <tr>\n",
       "      <th>12372</th>\n",
       "      <td>Acuerdo por el que se determinan los lineamien...</td>\n",
       "      <td>For prescriptions of antibiotics, pharmacies m...</td>\n",
       "      <td>for prescript of antibiot pharmaci must regist...</td>\n",
       "      <td>0.467867</td>\n",
       "      <td>C</td>\n",
       "      <td>None</td>\n",
       "    </tr>\n",
       "    <tr>\n",
       "      <th>12373</th>\n",
       "      <td>Acuerdo por el que se determinan los lineamien...</td>\n",
       "      <td>With regard to antibiotic prescriptions, pharm...</td>\n",
       "      <td>with regard to antibiot prescript pharmaci mus...</td>\n",
       "      <td>0.574040</td>\n",
       "      <td>C</td>\n",
       "      <td>None</td>\n",
       "    </tr>\n",
       "    <tr>\n",
       "      <th>12374</th>\n",
       "      <td>Acuerdo por el que se determinan los lineamien...</td>\n",
       "      <td>For the administration of antibiotics, pharmac...</td>\n",
       "      <td>for the administr of antibiot pharmaci should ...</td>\n",
       "      <td>0.506228</td>\n",
       "      <td>C</td>\n",
       "      <td>None</td>\n",
       "    </tr>\n",
       "    <tr>\n",
       "      <th>12375</th>\n",
       "      <td>Acuerdo por el que se determinan los lineamien...</td>\n",
       "      <td>For antibiotics, pharmacies must, inter alia, ...</td>\n",
       "      <td>for antibiot pharmaci must inter alia regist t...</td>\n",
       "      <td>0.598296</td>\n",
       "      <td>C</td>\n",
       "      <td>None</td>\n",
       "    </tr>\n",
       "  </tbody>\n",
       "</table>\n",
       "<p>12307 rows × 6 columns</p>\n",
       "</div>"
      ],
      "text/plain": [
       "                                                     Law  \\\n",
       "0                    Ordinance NORMAM 12 by DPC-Pilotage   \n",
       "1      NOM-026-Z00- 1994, Características y especific...   \n",
       "2      NOM-059-Z00- 1997, Salud animal. Especificaciones   \n",
       "3                   Law 13475/2017 - Aeronaut profession   \n",
       "4            Law 7565/1986 - Brazilian Aeronautical Code   \n",
       "...                                                  ...   \n",
       "12371  Resolution 302/2014 by National Civil Aviation...   \n",
       "12372  Acuerdo por el que se determinan los lineamien...   \n",
       "12373  Acuerdo por el que se determinan los lineamien...   \n",
       "12374  Acuerdo por el que se determinan los lineamien...   \n",
       "12375  Acuerdo por el que se determinan los lineamien...   \n",
       "\n",
       "                                                    Text  \\\n",
       "0      The minimum number of pilotage runs per semest...   \n",
       "1      Establishments subjected to this norm (I.e. th...   \n",
       "2      The norm specifically states that it is not in...   \n",
       "3      Duty period limitations for flight and cabin c...   \n",
       "4      The responsible party that pays the indemnity ...   \n",
       "...                                                  ...   \n",
       "12371  Access to the areas mentioned in this article ...   \n",
       "12372  For prescriptions of antibiotics, pharmacies m...   \n",
       "12373  With regard to antibiotic prescriptions, pharm...   \n",
       "12374  For the administration of antibiotics, pharmac...   \n",
       "12375  For antibiotics, pharmacies must, inter alia, ...   \n",
       "\n",
       "                                              text_clean     Score  \\\n",
       "0      the minimum number of pilotag run per semest c...  0.580615   \n",
       "1      establish subject to thi norm i.e those that m...  0.670425   \n",
       "2      the norm specif state that it is not in line w...  0.684419   \n",
       "3      duti period limit for flight and cabin crew of...  0.600209   \n",
       "4      the respons parti that pay the indemn is exone...  0.710902   \n",
       "...                                                  ...       ...   \n",
       "12371  access to the area mention in thi articl will ...  0.485526   \n",
       "12372  for prescript of antibiot pharmaci must regist...  0.467867   \n",
       "12373  with regard to antibiot prescript pharmaci mus...  0.574040   \n",
       "12374  for the administr of antibiot pharmaci should ...  0.506228   \n",
       "12375  for antibiot pharmaci must inter alia regist t...  0.598296   \n",
       "\n",
       "      Category_New Predict  \n",
       "0                A    None  \n",
       "1                A    None  \n",
       "2                A    None  \n",
       "3                A    None  \n",
       "4             None       A  \n",
       "...            ...     ...  \n",
       "12371         None    None  \n",
       "12372            C    None  \n",
       "12373            C    None  \n",
       "12374            C    None  \n",
       "12375            C    None  \n",
       "\n",
       "[12307 rows x 6 columns]"
      ]
     },
     "execution_count": 263,
     "metadata": {},
     "output_type": "execute_result"
    }
   ],
   "source": [
    "results_multiclass = df_long \n",
    "results_multiclass['Predict'] = np.where(results_multiclass['Score'] > 0.70, results_multiclass['Predict_Label'], 'None') #set threshold\n",
    "results_multiclass[['Law', 'Text', 'text_clean', 'Score', 'Category_New', 'Predict']].drop_duplicates()"
   ]
  },
  {
   "cell_type": "code",
   "execution_count": 264,
   "metadata": {},
   "outputs": [
    {
     "name": "stdout",
     "output_type": "stream",
     "text": [
      "              precision    recall  f1-score   support\n",
      "\n",
      "           A       0.19      0.08      0.11      2332\n",
      "           B       0.26      0.07      0.11      3168\n",
      "           C       0.19      0.07      0.11      2328\n",
      "        None       0.15      0.75      0.25      1844\n",
      "      Others       0.22      0.05      0.08      2704\n",
      "\n",
      "    accuracy                           0.17     12376\n",
      "   macro avg       0.20      0.20      0.13     12376\n",
      "weighted avg       0.21      0.17      0.12     12376\n",
      "\n"
     ]
    }
   ],
   "source": [
    "report = classification_report(results_multiclass['Category_New'], results_multiclass['Predict'])\n",
    "print(report)"
   ]
  },
  {
   "cell_type": "code",
   "execution_count": 265,
   "metadata": {},
   "outputs": [],
   "source": [
    "# generate classification report\n",
    "report = classification_report(results_multiclass['Category_New'], results_multiclass['Predict'], zero_division=0, output_dict=True)\n",
    "\n",
    "# extract precision, recall, and f1-score for each category\n",
    "categories = ['A', 'B', 'C', 'Others', 'None']\n",
    "metrics = ['precision', 'recall', 'f1-score']\n",
    "data = []\n",
    "for category in categories:\n",
    "    row = []\n",
    "    for metric in metrics:\n",
    "        row.append(round(report[category][metric], 2))\n",
    "    data.append(row)\n",
    "\n",
    "# create dataframe\n",
    "report_df = pd.DataFrame(data, columns=metrics, index=categories)"
   ]
  },
  {
   "cell_type": "code",
   "execution_count": 266,
   "metadata": {},
   "outputs": [
    {
     "data": {
      "image/png": "[encoded data removed]",
      "text/plain": [
       "<Figure size 600x800 with 1 Axes>"
      ]
     },
     "metadata": {},
     "output_type": "display_data"
    }
   ],
   "source": [
    "plt.figure(figsize=(6, 8))\n",
    "sns.heatmap(report_df, annot=True, cmap=custom_cmap_blues, cbar=False, vmin=0, vmax=1,  fmt='.2f',\n",
    "            annot_kws={\"fontfamily\": \"Arial\", \"fontsize\": 12})\n",
    "#plt.xlabel('Metrics', labelpad=12, fontname='Arial', fontsize=12)\n",
    "#plt.title('Classification report', fontname='Arial', fontsize=14, y=1.02)\n",
    "plt.xticks(fontname='Arial', fontsize=12)\n",
    "plt.yticks(fontname='Arial', fontsize=12, rotation=0)\n",
    "plt.tick_params(axis='y', length=0)\n",
    "plt.tick_params(axis='x', length=0)\n",
    "plt.show()"
   ]
  },
  {
   "attachments": {},
   "cell_type": "markdown",
   "metadata": {},
   "source": [
    "##### d. Binary threshold test"
   ]
  },
  {
   "cell_type": "code",
   "execution_count": 122,
   "metadata": {},
   "outputs": [],
   "source": [
    "results_binary = df_long \n",
    "results_max_score = results_binary.groupby('Text')['Score'].max() #get the highest score among 4 categories\n",
    "results_final = pd.merge(results_binary, results_max_score, on=['Text', 'Score'])\n",
    "\n",
    "results_final['Predict'] = np.where(results_final['Score'] > 0.70, 'Yes', 'None') #if max score of highest category is above 0.95, predicted label = yes\n",
    "results_final['Category_New'] = np.where(results_final['Category_New'] == 'None', results_final['Category_New'], 'Yes') #all categories changed to 'yes' except none"
   ]
  },
  {
   "cell_type": "code",
   "execution_count": 123,
   "metadata": {},
   "outputs": [
    {
     "name": "stdout",
     "output_type": "stream",
     "text": [
      "              precision    recall  f1-score   support\n",
      "\n",
      "        None       0.16      0.59      0.25       473\n",
      "         Yes       0.85      0.43      0.57      2605\n",
      "\n",
      "    accuracy                           0.45      3078\n",
      "   macro avg       0.50      0.51      0.41      3078\n",
      "weighted avg       0.74      0.45      0.52      3078\n",
      "\n"
     ]
    }
   ],
   "source": [
    "report = classification_report(results_final['Category_New'], results_final['Predict'])\n",
    "print(report)"
   ]
  },
  {
   "attachments": {},
   "cell_type": "markdown",
   "metadata": {},
   "source": [
    "Based on the results of both the Glove and LegalW2V similarity tests, it appears pre-trained embeddings are able to more or less distinguish whether a certain paragraph is similar to a competition restriction definition. However, the embeddings are unable to capture the difference among the four categories."
   ]
  },
  {
   "attachments": {},
   "cell_type": "markdown",
   "metadata": {},
   "source": [
    "##### e. Dimensionality reduction"
   ]
  },
  {
   "cell_type": "code",
   "execution_count": 351,
   "metadata": {},
   "outputs": [],
   "source": [
    "dfm_reduced = dfm_combined(df_comb, text_doc_matrix, defs_doc_matrix)"
   ]
  },
  {
   "cell_type": "code",
   "execution_count": 352,
   "metadata": {},
   "outputs": [],
   "source": [
    "dfm_reduced.to_csv(\"data/scores/02 sim_scores_dim_reduced_legal.csv\")"
   ]
  },
  {
   "attachments": {},
   "cell_type": "markdown",
   "metadata": {},
   "source": [
    "Labeled data (not augmented)"
   ]
  },
  {
   "cell_type": "code",
   "execution_count": 300,
   "metadata": {},
   "outputs": [
    {
     "data": {
      "text/plain": [
       "(1792, 200)"
      ]
     },
     "execution_count": 300,
     "metadata": {},
     "output_type": "execute_result"
    }
   ],
   "source": [
    "legal_embed_nonaug = vectorizer.fit_transform(text_labels['text_clean'])\n",
    "legal_dfm = doc_matrix_w2v(legal_embed_nonaug)\n",
    "legal_dfm.shape"
   ]
  },
  {
   "cell_type": "code",
   "execution_count": 301,
   "metadata": {},
   "outputs": [],
   "source": [
    "embed = reducer.fit_transform(legal_dfm)\n",
    "text_labels[\"x\"] = embed[:,0]\n",
    "text_labels[\"y\"] = embed[:,1]"
   ]
  },
  {
   "cell_type": "code",
   "execution_count": 304,
   "metadata": {},
   "outputs": [],
   "source": [
    "text_labels.to_csv(\"data/03 word_embed_legal.csv\")"
   ]
  },
  {
   "attachments": {},
   "cell_type": "markdown",
   "metadata": {},
   "source": [
    "### IV. TF-IDF with GloVe"
   ]
  },
  {
   "cell_type": "code",
   "execution_count": 102,
   "metadata": {},
   "outputs": [],
   "source": [
    "vectorizer = TfidfVectorizer()"
   ]
  },
  {
   "cell_type": "code",
   "execution_count": 103,
   "metadata": {},
   "outputs": [
    {
     "name": "stdout",
     "output_type": "stream",
     "text": [
      "train dfm shape: (3445, 3748) | test dfm shape:(708, 2099)\n"
     ]
    }
   ],
   "source": [
    "dfm_train = vectorizer.fit_transform(train_df_aug['text_clean'])\n",
    "dfm_test = vectorizer.fit_transform(test_df['text_clean'])\n",
    "\n",
    "print('train dfm shape: ' + str(dfm_train.shape) + ' | test dfm shape:' + str(dfm_test.shape))"
   ]
  },
  {
   "cell_type": "code",
   "execution_count": 104,
   "metadata": {},
   "outputs": [
    {
     "data": {
      "text/plain": [
       "1328"
      ]
     },
     "execution_count": 104,
     "metadata": {},
     "output_type": "execute_result"
    }
   ],
   "source": [
    "common_features = set(embed_matrix.index) & set(vectorizer.get_feature_names_out())\n",
    "vocab_ids = [vectorizer.vocabulary_[x] for x in common_features]\n",
    "len(common_features)"
   ]
  },
  {
   "cell_type": "code",
   "execution_count": 105,
   "metadata": {},
   "outputs": [
    {
     "name": "stderr",
     "output_type": "stream",
     "text": [
      "/var/folders/rd/n9w0gpv53y72x5k9wk3hp63w0000gn/T/ipykernel_98263/1566701910.py:1: FutureWarning: Passing a set as an indexer is deprecated and will raise in a future version. Use a list instead.\n",
      "  doc_matrix_train = dfm_train[:,vocab_ids].dot(embed_matrix.loc[common_features,])\n"
     ]
    },
    {
     "data": {
      "text/plain": [
       "(3445, 300)"
      ]
     },
     "execution_count": 105,
     "metadata": {},
     "output_type": "execute_result"
    }
   ],
   "source": [
    "doc_matrix_train = dfm_train[:,vocab_ids].dot(embed_matrix.loc[common_features,])\n",
    "doc_matrix_train.shape"
   ]
  },
  {
   "cell_type": "code",
   "execution_count": 106,
   "metadata": {},
   "outputs": [
    {
     "name": "stderr",
     "output_type": "stream",
     "text": [
      "/var/folders/rd/n9w0gpv53y72x5k9wk3hp63w0000gn/T/ipykernel_98263/3295480290.py:1: FutureWarning: Passing a set as an indexer is deprecated and will raise in a future version. Use a list instead.\n",
      "  doc_matrix_test = dfm_test[:,vocab_ids].dot(embed_matrix.loc[common_features,])\n"
     ]
    },
    {
     "data": {
      "text/plain": [
       "(708, 300)"
      ]
     },
     "execution_count": 106,
     "metadata": {},
     "output_type": "execute_result"
    }
   ],
   "source": [
    "doc_matrix_test = dfm_test[:,vocab_ids].dot(embed_matrix.loc[common_features,])\n",
    "doc_matrix_test.shape"
   ]
  },
  {
   "cell_type": "code",
   "execution_count": 107,
   "metadata": {},
   "outputs": [],
   "source": [
    "train_text, train_labels, test_text, test_labels = doc_matrix_train, train_df_aug['Category_New'], doc_matrix_test, test_df['Category_New']"
   ]
  },
  {
   "cell_type": "code",
   "execution_count": 108,
   "metadata": {},
   "outputs": [
    {
     "name": "stdout",
     "output_type": "stream",
     "text": [
      " Classification Report:\n",
      "              precision    recall  f1-score   support\n",
      "\n",
      "           A       0.56      0.31      0.40       376\n",
      "           B       0.15      0.31      0.20        68\n",
      "           C       0.08      0.22      0.12        18\n",
      "        None       0.33      0.35      0.34       225\n",
      "      Others       0.03      0.10      0.04        21\n",
      "\n",
      "    accuracy                           0.32       708\n",
      "   macro avg       0.23      0.26      0.22       708\n",
      "weighted avg       0.42      0.32      0.35       708\n",
      "\n",
      "Train vs Test Accuracy:\n",
      "Train:0.785\n",
      "Test:0.316\n"
     ]
    }
   ],
   "source": [
    "# scale data\n",
    "scaler = StandardScaler(with_mean=False)\n",
    "train_text_scaled = scaler.fit_transform(train_text)\n",
    "test_text_scaled = scaler.transform(test_text)\n",
    "\n",
    "# train model and return training accuracy\n",
    "clf = LogisticRegression(random_state=999, max_iter=1000).fit(train_text_scaled, train_labels)\n",
    "with open('./models/logistic.pkl', 'wb') as f: pickle.dump(clf, f)\n",
    "\n",
    "train_acc = clf.score(train_text_scaled, train_labels)\n",
    "\n",
    "# evaluate on test data \n",
    "y_pred = clf.predict(test_text_scaled)\n",
    "classification_rep = classification_report(test_labels, y_pred, zero_division=0)\n",
    "test_acc = clf.score(test_text_scaled, test_labels)\n",
    "\n",
    "# print classification report\n",
    "print(' Classification Report:')\n",
    "print(classification_rep)\n",
    "print('Train vs Test Accuracy:')\n",
    "print('Train:' + str(round(train_acc, 3)))\n",
    "print('Test:' + str(round(test_acc, 3)))"
   ]
  },
  {
   "cell_type": "code",
   "execution_count": 109,
   "metadata": {},
   "outputs": [],
   "source": [
    "# generate classification report\n",
    "report = classification_report(test_labels, y_pred, zero_division=0, output_dict=True)\n",
    "\n",
    "# extract precision, recall, and f1-score for each category\n",
    "categories = ['A', 'B', 'C', 'Others', 'None']\n",
    "metrics = ['precision', 'recall', 'f1-score']\n",
    "data = []\n",
    "for category in categories:\n",
    "    row = []\n",
    "    for metric in metrics:\n",
    "        row.append(round(report[category][metric], 2))\n",
    "    data.append(row)\n",
    "\n",
    "# create dataframe\n",
    "report_df = pd.DataFrame(data, columns=metrics, index=categories)"
   ]
  },
  {
   "cell_type": "code",
   "execution_count": 110,
   "metadata": {},
   "outputs": [
    {
     "data": {
      "image/png": "[encoded data removed]",
      "text/plain": [
       "<Figure size 600x800 with 1 Axes>"
      ]
     },
     "metadata": {},
     "output_type": "display_data"
    }
   ],
   "source": [
    "plt.figure(figsize=(6, 8))\n",
    "sns.heatmap(report_df, annot=True, cmap=custom_cmap_blues, cbar=False, vmin=0, vmax=1,  fmt='.2f',\n",
    "            annot_kws={\"fontfamily\": \"Arial\", \"fontsize\": 12})\n",
    "#plt.xlabel('Metrics', labelpad=12, fontname='Arial', fontsize=12)\n",
    "#plt.title('Classification report', fontname='Arial', fontsize=14, y=1.02)\n",
    "plt.xticks(fontname='Arial', fontsize=12)\n",
    "plt.yticks(fontname='Arial', fontsize=12, rotation=0)\n",
    "plt.tick_params(axis='y', length=0)\n",
    "plt.tick_params(axis='x', length=0)\n",
    "\n",
    "# save the figure\n",
    "save_path = os.path.join('draft', 'images', 'plot05-04.png')\n",
    "plt.savefig(save_path, dpi=300, bbox_inches='tight')\n",
    "\n",
    "plt.show()"
   ]
  },
  {
   "attachments": {},
   "cell_type": "markdown",
   "metadata": {},
   "source": [
    "### V. TF-IDF with Legal Word2Vec"
   ]
  },
  {
   "cell_type": "code",
   "execution_count": 89,
   "metadata": {},
   "outputs": [
    {
     "data": {
      "text/plain": [
       "<gensim.models.keyedvectors.KeyedVectors at 0x16a25acd0>"
      ]
     },
     "execution_count": 89,
     "metadata": {},
     "output_type": "execute_result"
    }
   ],
   "source": [
    "w2v_law"
   ]
  },
  {
   "cell_type": "code",
   "execution_count": 90,
   "metadata": {},
   "outputs": [
    {
     "data": {
      "text/plain": [
       "(3445, 200)"
      ]
     },
     "execution_count": 90,
     "metadata": {},
     "output_type": "execute_result"
    }
   ],
   "source": [
    "train_vectors = vectorizer.fit_transform(train_df_aug['text_clean'])\n",
    "train_doc_matrix = doc_matrix_w2v(train_vectors)\n",
    "train_doc_matrix.shape"
   ]
  },
  {
   "cell_type": "code",
   "execution_count": 91,
   "metadata": {},
   "outputs": [
    {
     "data": {
      "text/plain": [
       "(708, 200)"
      ]
     },
     "execution_count": 91,
     "metadata": {},
     "output_type": "execute_result"
    }
   ],
   "source": [
    "test_vectors = vectorizer.fit_transform(test_df['text_clean'])\n",
    "test_doc_matrix = doc_matrix_w2v(test_vectors)\n",
    "test_doc_matrix.shape"
   ]
  },
  {
   "cell_type": "code",
   "execution_count": 92,
   "metadata": {},
   "outputs": [],
   "source": [
    "train_text, train_labels, test_text, test_labels = train_doc_matrix, train_df_aug['Category_New'], test_doc_matrix, test_df['Category_New']"
   ]
  },
  {
   "cell_type": "code",
   "execution_count": 93,
   "metadata": {},
   "outputs": [
    {
     "name": "stdout",
     "output_type": "stream",
     "text": [
      " Classification Report:\n",
      "              precision    recall  f1-score   support\n",
      "\n",
      "           A       0.84      0.55      0.66       376\n",
      "           B       0.25      0.56      0.34        68\n",
      "           C       0.20      0.56      0.30        18\n",
      "        None       0.81      0.66      0.73       225\n",
      "      Others       0.17      0.62      0.27        21\n",
      "\n",
      "    accuracy                           0.59       708\n",
      "   macro avg       0.45      0.59      0.46       708\n",
      "weighted avg       0.74      0.59      0.63       708\n",
      "\n",
      "Train vs Test Accuracy:\n",
      "Train:0.792\n",
      "Test:0.588\n"
     ]
    }
   ],
   "source": [
    "# scale data\n",
    "scaler = StandardScaler(with_mean=False)\n",
    "train_text_scaled = scaler.fit_transform(train_text)\n",
    "test_text_scaled = scaler.transform(test_text)\n",
    "\n",
    "# train model and return training accuracy\n",
    "clf = LogisticRegression(random_state=999, max_iter=1000).fit(train_text_scaled, train_labels)\n",
    "with open('./models/logistic.pkl', 'wb') as f: pickle.dump(clf, f)\n",
    "\n",
    "train_acc = clf.score(train_text_scaled, train_labels)\n",
    "\n",
    "# evaluate on test data \n",
    "y_pred = clf.predict(test_text_scaled)\n",
    "classification_rep = classification_report(test_labels, y_pred, zero_division=0)\n",
    "test_acc = clf.score(test_text_scaled, test_labels)\n",
    "\n",
    "# print classification report\n",
    "print(' Classification Report:')\n",
    "print(classification_rep)\n",
    "print('Train vs Test Accuracy:')\n",
    "print('Train:' + str(round(train_acc, 3)))\n",
    "print('Test:' + str(round(test_acc, 3)))"
   ]
  },
  {
   "cell_type": "code",
   "execution_count": 94,
   "metadata": {},
   "outputs": [],
   "source": [
    "# generate classification report\n",
    "report = classification_report(test_labels, y_pred, zero_division=0, output_dict=True)\n",
    "\n",
    "# extract precision, recall, and f1-score for each category\n",
    "categories = ['A', 'B', 'C', 'Others', 'None']\n",
    "metrics = ['precision', 'recall', 'f1-score']\n",
    "data = []\n",
    "for category in categories:\n",
    "    row = []\n",
    "    for metric in metrics:\n",
    "        row.append(round(report[category][metric], 2))\n",
    "    data.append(row)\n",
    "\n",
    "# create dataframe\n",
    "report_df = pd.DataFrame(data, columns=metrics, index=categories)"
   ]
  },
  {
   "cell_type": "code",
   "execution_count": 101,
   "metadata": {},
   "outputs": [
    {
     "data": {
      "image/png": "[encoded data removed]",
      "text/plain": [
       "<Figure size 600x800 with 1 Axes>"
      ]
     },
     "metadata": {},
     "output_type": "display_data"
    }
   ],
   "source": [
    "plt.figure(figsize=(6, 8))\n",
    "sns.heatmap(report_df, annot=True, cmap=custom_cmap_blues, cbar=False, vmin=0, vmax=1,  fmt='.2f',\n",
    "            annot_kws={\"fontfamily\": \"Arial\", \"fontsize\": 12})\n",
    "#plt.xlabel('Metrics', labelpad=12, fontname='Arial', fontsize=12)\n",
    "#plt.title('Classification report', fontname='Arial', fontsize=14, y=1.02)\n",
    "plt.xticks(fontname='Arial', fontsize=12)\n",
    "plt.yticks(fontname='Arial', fontsize=12, rotation=0)\n",
    "plt.tick_params(axis='y', length=0)\n",
    "plt.tick_params(axis='x', length=0)\n",
    "\n",
    "# save the figure\n",
    "save_path = os.path.join('draft', 'images', 'plot05-05.png')\n",
    "plt.savefig(save_path, dpi=300, bbox_inches='tight')\n",
    "\n",
    "plt.show()"
   ]
  }
 ],
 "metadata": {
  "kernelspec": {
   "display_name": "mtc-models",
   "language": "python",
   "name": "python3"
  },
  "language_info": {
   "codemirror_mode": {
    "name": "ipython",
    "version": 3
   },
   "file_extension": ".py",
   "mimetype": "text/x-python",
   "name": "python",
   "nbconvert_exporter": "python",
   "pygments_lexer": "ipython3",
   "version": "3.8.16"
  },
  "orig_nbformat": 4
 },
 "nbformat": 4,
 "nbformat_minor": 2
}
