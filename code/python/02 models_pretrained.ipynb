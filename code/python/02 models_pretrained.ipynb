{
 "cells": [
  {
   "attachments": {},
   "cell_type": "markdown",
   "metadata": {},
   "source": [
    "# Multi-label Legal Text Classification for CIA"
   ]
  },
  {
   "attachments": {},
   "cell_type": "markdown",
   "metadata": {},
   "source": [
    "## Models and Experiments: Pre-Trained Embeddings"
   ]
  },
  {
   "cell_type": "code",
   "execution_count": null,
   "metadata": {},
   "outputs": [],
   "source": [
    "!pip install umap-learn"
   ]
  },
  {
   "cell_type": "code",
   "execution_count": 2,
   "metadata": {},
   "outputs": [],
   "source": [
    "import pandas as pd\n",
    "import numpy as np\n",
    "import matplotlib.pyplot as plt\n",
    "import seaborn as sns\n",
    "import os\n",
    "import csv"
   ]
  },
  {
   "cell_type": "code",
   "execution_count": 22,
   "metadata": {},
   "outputs": [],
   "source": [
    "from zipfile import ZipFile\n",
    "from gensim.test.utils import common_texts\n",
    "from gensim.models import Word2Vec\n",
    "import gensim.downloader as api\n",
    "from gensim.test.utils import datapath\n",
    "from gensim.models import KeyedVectors\n",
    "from nltk.tokenize import sent_tokenize, word_tokenize\n",
    "from sklearn.feature_extraction.text import TfidfVectorizer \n",
    "from sklearn.feature_extraction.text import CountVectorizer \n",
    "from sklearn.metrics.pairwise import cosine_similarity\n",
    "from numpy.linalg import norm\n",
    "import umap.umap_ as umap\n",
    "from sklearn.metrics import accuracy_score, precision_recall_fscore_support, precision_score, recall_score, classification_report, confusion_matrix"
   ]
  },
  {
   "cell_type": "code",
   "execution_count": 4,
   "metadata": {},
   "outputs": [
    {
     "data": {
      "text/plain": [
       "'/Users/janinedevera/Documents/School/MDS 2021-2023/Thesis/multilabel-legal-text-classification-CIA'"
      ]
     },
     "execution_count": 4,
     "metadata": {},
     "output_type": "execute_result"
    }
   ],
   "source": [
    "os.chdir(\"../..\")\n",
    "os.getcwd()"
   ]
  },
  {
   "attachments": {},
   "cell_type": "markdown",
   "metadata": {},
   "source": [
    "### Preliminaries"
   ]
  },
  {
   "attachments": {},
   "cell_type": "markdown",
   "metadata": {},
   "source": [
    "Load data"
   ]
  },
  {
   "cell_type": "code",
   "execution_count": 52,
   "metadata": {},
   "outputs": [],
   "source": [
    "text = pd.read_csv(\"data/01 legal_texts_pipeline_stopwords.csv\", index_col=0)\n",
    "text_labels = pd.read_csv(\"data/01 legal_texts_with_labels_grouped.csv\", index_col=0)\n",
    "defs = pd.read_csv(\"data/02 oecd_definitions_stopwords.csv\", index_col=0)\n",
    "defs_grouped = pd.read_csv(\"data/02 oecd_definitions_stopwords_grouped.csv\", index_col=0)"
   ]
  },
  {
   "cell_type": "code",
   "execution_count": 15,
   "metadata": {},
   "outputs": [
    {
     "data": {
      "text/html": [
       "<div>\n",
       "<style scoped>\n",
       "    .dataframe tbody tr th:only-of-type {\n",
       "        vertical-align: middle;\n",
       "    }\n",
       "\n",
       "    .dataframe tbody tr th {\n",
       "        vertical-align: top;\n",
       "    }\n",
       "\n",
       "    .dataframe thead th {\n",
       "        text-align: right;\n",
       "    }\n",
       "</style>\n",
       "<table border=\"1\" class=\"dataframe\">\n",
       "  <thead>\n",
       "    <tr style=\"text-align: right;\">\n",
       "      <th></th>\n",
       "      <th>Main</th>\n",
       "      <th>text_clean</th>\n",
       "      <th>length</th>\n",
       "    </tr>\n",
       "  </thead>\n",
       "  <tbody>\n",
       "    <tr>\n",
       "      <th>0</th>\n",
       "      <td>A</td>\n",
       "      <td>limit the number of supplier lead to the risk ...</td>\n",
       "      <td>833</td>\n",
       "    </tr>\n",
       "    <tr>\n",
       "      <th>1</th>\n",
       "      <td>B</td>\n",
       "      <td>regul can affect a supplier 's abil to compet ...</td>\n",
       "      <td>781</td>\n",
       "    </tr>\n",
       "    <tr>\n",
       "      <th>2</th>\n",
       "      <td>C</td>\n",
       "      <td>regul can affect supplier behaviour by not onl...</td>\n",
       "      <td>459</td>\n",
       "    </tr>\n",
       "    <tr>\n",
       "      <th>3</th>\n",
       "      <td>D</td>\n",
       "      <td>regul sometim limit choic avail to consum for ...</td>\n",
       "      <td>257</td>\n",
       "    </tr>\n",
       "  </tbody>\n",
       "</table>\n",
       "</div>"
      ],
      "text/plain": [
       "  Main                                         text_clean  length\n",
       "0    A  limit the number of supplier lead to the risk ...     833\n",
       "1    B  regul can affect a supplier 's abil to compet ...     781\n",
       "2    C  regul can affect supplier behaviour by not onl...     459\n",
       "3    D  regul sometim limit choic avail to consum for ...     257"
      ]
     },
     "execution_count": 15,
     "metadata": {},
     "output_type": "execute_result"
    }
   ],
   "source": [
    "defs_grouped"
   ]
  },
  {
   "attachments": {},
   "cell_type": "markdown",
   "metadata": {},
   "source": [
    "Clean labels"
   ]
  },
  {
   "cell_type": "code",
   "execution_count": 16,
   "metadata": {},
   "outputs": [
    {
     "data": {
      "text/plain": [
       "A       765\n",
       "None    663\n",
       "B        89\n",
       "C        15\n",
       "D         1\n",
       "Name: Category, dtype: int64"
      ]
     },
     "execution_count": 16,
     "metadata": {},
     "output_type": "execute_result"
    }
   ],
   "source": [
    "text_labels.Category.value_counts()"
   ]
  },
  {
   "attachments": {},
   "cell_type": "markdown",
   "metadata": {},
   "source": [
    "### I. GloVe"
   ]
  },
  {
   "attachments": {},
   "cell_type": "markdown",
   "metadata": {},
   "source": [
    "##### Document embedding matrix"
   ]
  },
  {
   "cell_type": "code",
   "execution_count": 17,
   "metadata": {},
   "outputs": [
    {
     "data": {
      "text/plain": [
       "(400000, 300)"
      ]
     },
     "execution_count": 17,
     "metadata": {},
     "output_type": "execute_result"
    }
   ],
   "source": [
    "# load GloVe embeddings\n",
    "dims = 300\n",
    "f = open(f'data/glove/glove.6B.{dims}d.txt') # download GloVe and save in data folder\n",
    "\n",
    "embed_matrix = pd.read_table(\n",
    "    f, sep = \" \", index_col = 0, \n",
    "    header = None, quoting = csv.QUOTE_NONE\n",
    ")\n",
    "\n",
    "embed_matrix.shape"
   ]
  },
  {
   "cell_type": "code",
   "execution_count": 18,
   "metadata": {},
   "outputs": [],
   "source": [
    "# function for doc embeddings\n",
    "def doc_embed(df, vectorizer):\n",
    "    dfm = vectorizer.fit_transform(df['text_clean'])\n",
    "    common_features = set(embed_matrix.index) & set(vectorizer.get_feature_names_out())\n",
    "    vocab_ids = [vectorizer.vocabulary_[x] for x in common_features]\n",
    "    matrix = dfm[:,vocab_ids].dot(embed_matrix.loc[common_features,])\n",
    "    return matrix"
   ]
  },
  {
   "cell_type": "code",
   "execution_count": 19,
   "metadata": {},
   "outputs": [],
   "source": [
    "vectorizer = TfidfVectorizer()"
   ]
  },
  {
   "cell_type": "code",
   "execution_count": 21,
   "metadata": {},
   "outputs": [
    {
     "name": "stderr",
     "output_type": "stream",
     "text": [
      "<ipython-input-18-a1551b9937a4>:6: FutureWarning: Passing a set as an indexer is deprecated and will raise in a future version. Use a list instead.\n",
      "  matrix = dfm[:,vocab_ids].dot(embed_matrix.loc[common_features,])\n"
     ]
    },
    {
     "data": {
      "text/plain": [
       "(1533, 300)"
      ]
     },
     "execution_count": 21,
     "metadata": {},
     "output_type": "execute_result"
    }
   ],
   "source": [
    "# doc embeddings for legal text\n",
    "text_labels_embed = doc_embed(text_labels, vectorizer)\n",
    "text_labels_embed.shape"
   ]
  },
  {
   "cell_type": "code",
   "execution_count": 24,
   "metadata": {},
   "outputs": [
    {
     "name": "stderr",
     "output_type": "stream",
     "text": [
      "<ipython-input-18-a1551b9937a4>:6: FutureWarning: Passing a set as an indexer is deprecated and will raise in a future version. Use a list instead.\n",
      "  matrix = dfm[:,vocab_ids].dot(embed_matrix.loc[common_features,])\n"
     ]
    },
    {
     "data": {
      "text/plain": [
       "(4, 300)"
      ]
     },
     "execution_count": 24,
     "metadata": {},
     "output_type": "execute_result"
    }
   ],
   "source": [
    "# doc embeddings for grouped labels\n",
    "defs_grouped_embed = doc_embed(defs_grouped, vectorizer)\n",
    "defs_grouped_embed.shape"
   ]
  },
  {
   "attachments": {},
   "cell_type": "markdown",
   "metadata": {},
   "source": [
    "##### Cosine similarities"
   ]
  },
  {
   "cell_type": "code",
   "execution_count": 25,
   "metadata": {},
   "outputs": [],
   "source": [
    "def cos_sim(a, b):\n",
    "    dot_product = np.dot(a, b)\n",
    "    norm_a = np.linalg.norm(a)\n",
    "    norm_b = np.linalg.norm(b)\n",
    "    return dot_product / (norm_a * norm_b)"
   ]
  },
  {
   "cell_type": "code",
   "execution_count": 26,
   "metadata": {},
   "outputs": [],
   "source": [
    "docs = []\n",
    "for i in range(len(text_labels_embed)):\n",
    "    scores = []\n",
    "    for j in range(len(defs_grouped_embed)):\n",
    "        A = text_labels_embed[i]\n",
    "        B = defs_grouped_embed[j]\n",
    "        scores += [(cos_sim(A,B)+1)/(1+1)] # centered \n",
    "    docs += [scores]"
   ]
  },
  {
   "cell_type": "code",
   "execution_count": 27,
   "metadata": {},
   "outputs": [],
   "source": [
    "scores_df = pd.DataFrame(docs, columns = [\"A\", \"B\", \"C\", \"D\"])"
   ]
  },
  {
   "cell_type": "code",
   "execution_count": 28,
   "metadata": {},
   "outputs": [
    {
     "data": {
      "text/html": [
       "<div>\n",
       "<style scoped>\n",
       "    .dataframe tbody tr th:only-of-type {\n",
       "        vertical-align: middle;\n",
       "    }\n",
       "\n",
       "    .dataframe tbody tr th {\n",
       "        vertical-align: top;\n",
       "    }\n",
       "\n",
       "    .dataframe thead th {\n",
       "        text-align: right;\n",
       "    }\n",
       "</style>\n",
       "<table border=\"1\" class=\"dataframe\">\n",
       "  <thead>\n",
       "    <tr style=\"text-align: right;\">\n",
       "      <th></th>\n",
       "      <th>A</th>\n",
       "      <th>B</th>\n",
       "      <th>C</th>\n",
       "      <th>D</th>\n",
       "    </tr>\n",
       "  </thead>\n",
       "  <tbody>\n",
       "    <tr>\n",
       "      <th>0</th>\n",
       "      <td>0.900639</td>\n",
       "      <td>0.891333</td>\n",
       "      <td>0.893115</td>\n",
       "      <td>0.898040</td>\n",
       "    </tr>\n",
       "    <tr>\n",
       "      <th>1</th>\n",
       "      <td>0.927538</td>\n",
       "      <td>0.921590</td>\n",
       "      <td>0.915604</td>\n",
       "      <td>0.913527</td>\n",
       "    </tr>\n",
       "    <tr>\n",
       "      <th>2</th>\n",
       "      <td>0.970012</td>\n",
       "      <td>0.964144</td>\n",
       "      <td>0.958430</td>\n",
       "      <td>0.957851</td>\n",
       "    </tr>\n",
       "    <tr>\n",
       "      <th>3</th>\n",
       "      <td>0.973165</td>\n",
       "      <td>0.971365</td>\n",
       "      <td>0.966159</td>\n",
       "      <td>0.967711</td>\n",
       "    </tr>\n",
       "    <tr>\n",
       "      <th>4</th>\n",
       "      <td>0.973165</td>\n",
       "      <td>0.971365</td>\n",
       "      <td>0.966159</td>\n",
       "      <td>0.967711</td>\n",
       "    </tr>\n",
       "    <tr>\n",
       "      <th>...</th>\n",
       "      <td>...</td>\n",
       "      <td>...</td>\n",
       "      <td>...</td>\n",
       "      <td>...</td>\n",
       "    </tr>\n",
       "    <tr>\n",
       "      <th>1528</th>\n",
       "      <td>0.910013</td>\n",
       "      <td>0.905642</td>\n",
       "      <td>0.910329</td>\n",
       "      <td>0.900373</td>\n",
       "    </tr>\n",
       "    <tr>\n",
       "      <th>1529</th>\n",
       "      <td>0.868029</td>\n",
       "      <td>0.862512</td>\n",
       "      <td>0.862505</td>\n",
       "      <td>0.851599</td>\n",
       "    </tr>\n",
       "    <tr>\n",
       "      <th>1530</th>\n",
       "      <td>0.806016</td>\n",
       "      <td>0.799959</td>\n",
       "      <td>0.801712</td>\n",
       "      <td>0.789647</td>\n",
       "    </tr>\n",
       "    <tr>\n",
       "      <th>1531</th>\n",
       "      <td>0.811392</td>\n",
       "      <td>0.808621</td>\n",
       "      <td>0.807262</td>\n",
       "      <td>0.811037</td>\n",
       "    </tr>\n",
       "    <tr>\n",
       "      <th>1532</th>\n",
       "      <td>0.749011</td>\n",
       "      <td>0.743079</td>\n",
       "      <td>0.742633</td>\n",
       "      <td>0.750731</td>\n",
       "    </tr>\n",
       "  </tbody>\n",
       "</table>\n",
       "<p>1533 rows × 4 columns</p>\n",
       "</div>"
      ],
      "text/plain": [
       "             A         B         C         D\n",
       "0     0.900639  0.891333  0.893115  0.898040\n",
       "1     0.927538  0.921590  0.915604  0.913527\n",
       "2     0.970012  0.964144  0.958430  0.957851\n",
       "3     0.973165  0.971365  0.966159  0.967711\n",
       "4     0.973165  0.971365  0.966159  0.967711\n",
       "...        ...       ...       ...       ...\n",
       "1528  0.910013  0.905642  0.910329  0.900373\n",
       "1529  0.868029  0.862512  0.862505  0.851599\n",
       "1530  0.806016  0.799959  0.801712  0.789647\n",
       "1531  0.811392  0.808621  0.807262  0.811037\n",
       "1532  0.749011  0.743079  0.742633  0.750731\n",
       "\n",
       "[1533 rows x 4 columns]"
      ]
     },
     "execution_count": 28,
     "metadata": {},
     "output_type": "execute_result"
    }
   ],
   "source": [
    "scores_df"
   ]
  },
  {
   "cell_type": "code",
   "execution_count": 29,
   "metadata": {},
   "outputs": [],
   "source": [
    "# df with scores\n",
    "text_scores_labels_glove = pd.merge(text_labels, scores_df, left_index=True, right_index=True)"
   ]
  },
  {
   "cell_type": "code",
   "execution_count": 30,
   "metadata": {},
   "outputs": [],
   "source": [
    "text_scores_labels_glove.to_csv(\"data/scores/01 sim_scores_glove_labeled.csv\")"
   ]
  },
  {
   "attachments": {},
   "cell_type": "markdown",
   "metadata": {},
   "source": [
    "##### Threshold test"
   ]
  },
  {
   "cell_type": "code",
   "execution_count": 10,
   "metadata": {},
   "outputs": [],
   "source": [
    "text_scores_labels_glove = pd.read_csv(\"data/scores/01 sim_scores_glove_labeled.csv\", index_col=0)"
   ]
  },
  {
   "cell_type": "code",
   "execution_count": 11,
   "metadata": {},
   "outputs": [
    {
     "data": {
      "text/html": [
       "<div>\n",
       "<style scoped>\n",
       "    .dataframe tbody tr th:only-of-type {\n",
       "        vertical-align: middle;\n",
       "    }\n",
       "\n",
       "    .dataframe tbody tr th {\n",
       "        vertical-align: top;\n",
       "    }\n",
       "\n",
       "    .dataframe thead th {\n",
       "        text-align: right;\n",
       "    }\n",
       "</style>\n",
       "<table border=\"1\" class=\"dataframe\">\n",
       "  <thead>\n",
       "    <tr style=\"text-align: right;\">\n",
       "      <th></th>\n",
       "      <th>Unnamed: 0</th>\n",
       "      <th>Law</th>\n",
       "      <th>Paragraph</th>\n",
       "      <th>Text</th>\n",
       "      <th>Category</th>\n",
       "      <th>text_clean</th>\n",
       "      <th>A</th>\n",
       "      <th>B</th>\n",
       "      <th>C</th>\n",
       "      <th>D</th>\n",
       "    </tr>\n",
       "  </thead>\n",
       "  <tbody>\n",
       "    <tr>\n",
       "      <th>0</th>\n",
       "      <td>0</td>\n",
       "      <td>Resolution 153/2010 by National Civil Aviation...</td>\n",
       "      <td>Art. 5, sole par</td>\n",
       "      <td>If any competent body on the matter imposes mo...</td>\n",
       "      <td>A</td>\n",
       "      <td>if ani compet bodi on the matter impos modif o...</td>\n",
       "      <td>0.900639</td>\n",
       "      <td>0.891333</td>\n",
       "      <td>0.893115</td>\n",
       "      <td>0.898040</td>\n",
       "    </tr>\n",
       "    <tr>\n",
       "      <th>2</th>\n",
       "      <td>2</td>\n",
       "      <td>Ministerial Ordinance 93/2020 by Ministry of I...</td>\n",
       "      <td>Art.4</td>\n",
       "      <td>The National Civil Aviation Secretary must aut...</td>\n",
       "      <td>A</td>\n",
       "      <td>the nation civil aviat secretari must authoris...</td>\n",
       "      <td>0.970012</td>\n",
       "      <td>0.964144</td>\n",
       "      <td>0.958430</td>\n",
       "      <td>0.957851</td>\n",
       "    </tr>\n",
       "    <tr>\n",
       "      <th>3</th>\n",
       "      <td>3</td>\n",
       "      <td>Ministerial Ordinance 93/2020 by Ministry of I...</td>\n",
       "      <td>Art. 6</td>\n",
       "      <td>The commercial contract which involves the use...</td>\n",
       "      <td>A</td>\n",
       "      <td>the commerci contract which involv the use of ...</td>\n",
       "      <td>0.973165</td>\n",
       "      <td>0.971365</td>\n",
       "      <td>0.966159</td>\n",
       "      <td>0.967711</td>\n",
       "    </tr>\n",
       "    <tr>\n",
       "      <th>4</th>\n",
       "      <td>4</td>\n",
       "      <td>Ministerial Ordinance 93/2020 by Ministry of I...</td>\n",
       "      <td>Art. 7</td>\n",
       "      <td>The National Civil Aviation Secretary may auth...</td>\n",
       "      <td>A</td>\n",
       "      <td>the nation civil aviat secretari may authoris ...</td>\n",
       "      <td>0.973165</td>\n",
       "      <td>0.971365</td>\n",
       "      <td>0.966159</td>\n",
       "      <td>0.967711</td>\n",
       "    </tr>\n",
       "    <tr>\n",
       "      <th>5</th>\n",
       "      <td>5</td>\n",
       "      <td>Ministerial Ordinance 93/2020 by Ministry of I...</td>\n",
       "      <td>Art. 7</td>\n",
       "      <td>The National Civil Aviation Secretary may auth...</td>\n",
       "      <td>A</td>\n",
       "      <td>the nation civil aviat secretari may authoris ...</td>\n",
       "      <td>0.922596</td>\n",
       "      <td>0.912327</td>\n",
       "      <td>0.910772</td>\n",
       "      <td>0.917047</td>\n",
       "    </tr>\n",
       "    <tr>\n",
       "      <th>...</th>\n",
       "      <td>...</td>\n",
       "      <td>...</td>\n",
       "      <td>...</td>\n",
       "      <td>...</td>\n",
       "      <td>...</td>\n",
       "      <td>...</td>\n",
       "      <td>...</td>\n",
       "      <td>...</td>\n",
       "      <td>...</td>\n",
       "      <td>...</td>\n",
       "    </tr>\n",
       "    <tr>\n",
       "      <th>1528</th>\n",
       "      <td>1528</td>\n",
       "      <td>Resolution 440/2017 by National Civil Aviation...</td>\n",
       "      <td>Art. 3</td>\n",
       "      <td>The procedures for registration and the calend...</td>\n",
       "      <td>None</td>\n",
       "      <td>the procedur for registr and the calendar of a...</td>\n",
       "      <td>0.910013</td>\n",
       "      <td>0.905642</td>\n",
       "      <td>0.910329</td>\n",
       "      <td>0.900373</td>\n",
       "    </tr>\n",
       "    <tr>\n",
       "      <th>1529</th>\n",
       "      <td>1529</td>\n",
       "      <td>Resolution 440/2017 by National Civil Aviation...</td>\n",
       "      <td>Art. 3 sole par</td>\n",
       "      <td>ANAC, by means of an ordinance, may exempt non...</td>\n",
       "      <td>None</td>\n",
       "      <td>anac by mean of an ordin may exempt non-regula...</td>\n",
       "      <td>0.868029</td>\n",
       "      <td>0.862512</td>\n",
       "      <td>0.862505</td>\n",
       "      <td>0.851599</td>\n",
       "    </tr>\n",
       "    <tr>\n",
       "      <th>1530</th>\n",
       "      <td>1530</td>\n",
       "      <td>Resolution 440/2017 by National Civil Aviation...</td>\n",
       "      <td>Art. 4</td>\n",
       "      <td>The flight stage may only be registered with A...</td>\n",
       "      <td>None</td>\n",
       "      <td>the flight stage may onli be regist with anac ...</td>\n",
       "      <td>0.806016</td>\n",
       "      <td>0.799959</td>\n",
       "      <td>0.801712</td>\n",
       "      <td>0.789647</td>\n",
       "    </tr>\n",
       "    <tr>\n",
       "      <th>1531</th>\n",
       "      <td>1531</td>\n",
       "      <td>Resolution 440/2017 by National Civil Aviation...</td>\n",
       "      <td>Art. 4 par 2</td>\n",
       "      <td>The offer of regular air transport services de...</td>\n",
       "      <td>None</td>\n",
       "      <td>the offer of regular air transport servic depe...</td>\n",
       "      <td>0.811392</td>\n",
       "      <td>0.808621</td>\n",
       "      <td>0.807262</td>\n",
       "      <td>0.811037</td>\n",
       "    </tr>\n",
       "    <tr>\n",
       "      <th>1532</th>\n",
       "      <td>1532</td>\n",
       "      <td>Resolution 440/2017 by National Civil Aviation...</td>\n",
       "      <td>Art. 4 par 3</td>\n",
       "      <td>Airlines with sharing of codes approved by ANA...</td>\n",
       "      <td>None</td>\n",
       "      <td>airlin with share of code approv by anac have ...</td>\n",
       "      <td>0.749011</td>\n",
       "      <td>0.743079</td>\n",
       "      <td>0.742633</td>\n",
       "      <td>0.750731</td>\n",
       "    </tr>\n",
       "  </tbody>\n",
       "</table>\n",
       "<p>1494 rows × 10 columns</p>\n",
       "</div>"
      ],
      "text/plain": [
       "      Unnamed: 0                                                Law  \\\n",
       "0              0  Resolution 153/2010 by National Civil Aviation...   \n",
       "2              2  Ministerial Ordinance 93/2020 by Ministry of I...   \n",
       "3              3  Ministerial Ordinance 93/2020 by Ministry of I...   \n",
       "4              4  Ministerial Ordinance 93/2020 by Ministry of I...   \n",
       "5              5  Ministerial Ordinance 93/2020 by Ministry of I...   \n",
       "...          ...                                                ...   \n",
       "1528        1528  Resolution 440/2017 by National Civil Aviation...   \n",
       "1529        1529  Resolution 440/2017 by National Civil Aviation...   \n",
       "1530        1530  Resolution 440/2017 by National Civil Aviation...   \n",
       "1531        1531  Resolution 440/2017 by National Civil Aviation...   \n",
       "1532        1532  Resolution 440/2017 by National Civil Aviation...   \n",
       "\n",
       "             Paragraph                                               Text  \\\n",
       "0     Art. 5, sole par  If any competent body on the matter imposes mo...   \n",
       "2                Art.4  The National Civil Aviation Secretary must aut...   \n",
       "3               Art. 6  The commercial contract which involves the use...   \n",
       "4               Art. 7  The National Civil Aviation Secretary may auth...   \n",
       "5               Art. 7  The National Civil Aviation Secretary may auth...   \n",
       "...                ...                                                ...   \n",
       "1528            Art. 3  The procedures for registration and the calend...   \n",
       "1529   Art. 3 sole par  ANAC, by means of an ordinance, may exempt non...   \n",
       "1530            Art. 4  The flight stage may only be registered with A...   \n",
       "1531      Art. 4 par 2  The offer of regular air transport services de...   \n",
       "1532      Art. 4 par 3  Airlines with sharing of codes approved by ANA...   \n",
       "\n",
       "     Category                                         text_clean         A  \\\n",
       "0           A  if ani compet bodi on the matter impos modif o...  0.900639   \n",
       "2           A  the nation civil aviat secretari must authoris...  0.970012   \n",
       "3           A  the commerci contract which involv the use of ...  0.973165   \n",
       "4           A  the nation civil aviat secretari may authoris ...  0.973165   \n",
       "5           A  the nation civil aviat secretari may authoris ...  0.922596   \n",
       "...       ...                                                ...       ...   \n",
       "1528     None  the procedur for registr and the calendar of a...  0.910013   \n",
       "1529     None  anac by mean of an ordin may exempt non-regula...  0.868029   \n",
       "1530     None  the flight stage may onli be regist with anac ...  0.806016   \n",
       "1531     None  the offer of regular air transport servic depe...  0.811392   \n",
       "1532     None  airlin with share of code approv by anac have ...  0.749011   \n",
       "\n",
       "             B         C         D  \n",
       "0     0.891333  0.893115  0.898040  \n",
       "2     0.964144  0.958430  0.957851  \n",
       "3     0.971365  0.966159  0.967711  \n",
       "4     0.971365  0.966159  0.967711  \n",
       "5     0.912327  0.910772  0.917047  \n",
       "...        ...       ...       ...  \n",
       "1528  0.905642  0.910329  0.900373  \n",
       "1529  0.862512  0.862505  0.851599  \n",
       "1530  0.799959  0.801712  0.789647  \n",
       "1531  0.808621  0.807262  0.811037  \n",
       "1532  0.743079  0.742633  0.750731  \n",
       "\n",
       "[1494 rows x 10 columns]"
      ]
     },
     "execution_count": 11,
     "metadata": {},
     "output_type": "execute_result"
    }
   ],
   "source": [
    "text_scores_labels_glove"
   ]
  },
  {
   "cell_type": "code",
   "execution_count": 14,
   "metadata": {},
   "outputs": [],
   "source": [
    "df_long = pd.melt(text_scores_labels_glove, id_vars=['Unnamed: 0', 'Law', 'Paragraph', 'Text', 'Category', 'text_clean'], var_name='Predict_Label', value_name='Score')"
   ]
  },
  {
   "cell_type": "code",
   "execution_count": 15,
   "metadata": {},
   "outputs": [
    {
     "data": {
      "text/html": [
       "<div>\n",
       "<style scoped>\n",
       "    .dataframe tbody tr th:only-of-type {\n",
       "        vertical-align: middle;\n",
       "    }\n",
       "\n",
       "    .dataframe tbody tr th {\n",
       "        vertical-align: top;\n",
       "    }\n",
       "\n",
       "    .dataframe thead th {\n",
       "        text-align: right;\n",
       "    }\n",
       "</style>\n",
       "<table border=\"1\" class=\"dataframe\">\n",
       "  <thead>\n",
       "    <tr style=\"text-align: right;\">\n",
       "      <th></th>\n",
       "      <th>Unnamed: 0</th>\n",
       "      <th>Law</th>\n",
       "      <th>Paragraph</th>\n",
       "      <th>Text</th>\n",
       "      <th>Category</th>\n",
       "      <th>text_clean</th>\n",
       "      <th>Predict_Label</th>\n",
       "      <th>Score</th>\n",
       "    </tr>\n",
       "  </thead>\n",
       "  <tbody>\n",
       "    <tr>\n",
       "      <th>0</th>\n",
       "      <td>0</td>\n",
       "      <td>Resolution 153/2010 by National Civil Aviation...</td>\n",
       "      <td>Art. 5, sole par</td>\n",
       "      <td>If any competent body on the matter imposes mo...</td>\n",
       "      <td>A</td>\n",
       "      <td>if ani compet bodi on the matter impos modif o...</td>\n",
       "      <td>A</td>\n",
       "      <td>0.900639</td>\n",
       "    </tr>\n",
       "    <tr>\n",
       "      <th>1</th>\n",
       "      <td>2</td>\n",
       "      <td>Ministerial Ordinance 93/2020 by Ministry of I...</td>\n",
       "      <td>Art.4</td>\n",
       "      <td>The National Civil Aviation Secretary must aut...</td>\n",
       "      <td>A</td>\n",
       "      <td>the nation civil aviat secretari must authoris...</td>\n",
       "      <td>A</td>\n",
       "      <td>0.970012</td>\n",
       "    </tr>\n",
       "    <tr>\n",
       "      <th>2</th>\n",
       "      <td>3</td>\n",
       "      <td>Ministerial Ordinance 93/2020 by Ministry of I...</td>\n",
       "      <td>Art. 6</td>\n",
       "      <td>The commercial contract which involves the use...</td>\n",
       "      <td>A</td>\n",
       "      <td>the commerci contract which involv the use of ...</td>\n",
       "      <td>A</td>\n",
       "      <td>0.973165</td>\n",
       "    </tr>\n",
       "    <tr>\n",
       "      <th>3</th>\n",
       "      <td>4</td>\n",
       "      <td>Ministerial Ordinance 93/2020 by Ministry of I...</td>\n",
       "      <td>Art. 7</td>\n",
       "      <td>The National Civil Aviation Secretary may auth...</td>\n",
       "      <td>A</td>\n",
       "      <td>the nation civil aviat secretari may authoris ...</td>\n",
       "      <td>A</td>\n",
       "      <td>0.973165</td>\n",
       "    </tr>\n",
       "    <tr>\n",
       "      <th>4</th>\n",
       "      <td>5</td>\n",
       "      <td>Ministerial Ordinance 93/2020 by Ministry of I...</td>\n",
       "      <td>Art. 7</td>\n",
       "      <td>The National Civil Aviation Secretary may auth...</td>\n",
       "      <td>A</td>\n",
       "      <td>the nation civil aviat secretari may authoris ...</td>\n",
       "      <td>A</td>\n",
       "      <td>0.922596</td>\n",
       "    </tr>\n",
       "    <tr>\n",
       "      <th>...</th>\n",
       "      <td>...</td>\n",
       "      <td>...</td>\n",
       "      <td>...</td>\n",
       "      <td>...</td>\n",
       "      <td>...</td>\n",
       "      <td>...</td>\n",
       "      <td>...</td>\n",
       "      <td>...</td>\n",
       "    </tr>\n",
       "    <tr>\n",
       "      <th>5971</th>\n",
       "      <td>1528</td>\n",
       "      <td>Resolution 440/2017 by National Civil Aviation...</td>\n",
       "      <td>Art. 3</td>\n",
       "      <td>The procedures for registration and the calend...</td>\n",
       "      <td>None</td>\n",
       "      <td>the procedur for registr and the calendar of a...</td>\n",
       "      <td>D</td>\n",
       "      <td>0.900373</td>\n",
       "    </tr>\n",
       "    <tr>\n",
       "      <th>5972</th>\n",
       "      <td>1529</td>\n",
       "      <td>Resolution 440/2017 by National Civil Aviation...</td>\n",
       "      <td>Art. 3 sole par</td>\n",
       "      <td>ANAC, by means of an ordinance, may exempt non...</td>\n",
       "      <td>None</td>\n",
       "      <td>anac by mean of an ordin may exempt non-regula...</td>\n",
       "      <td>D</td>\n",
       "      <td>0.851599</td>\n",
       "    </tr>\n",
       "    <tr>\n",
       "      <th>5973</th>\n",
       "      <td>1530</td>\n",
       "      <td>Resolution 440/2017 by National Civil Aviation...</td>\n",
       "      <td>Art. 4</td>\n",
       "      <td>The flight stage may only be registered with A...</td>\n",
       "      <td>None</td>\n",
       "      <td>the flight stage may onli be regist with anac ...</td>\n",
       "      <td>D</td>\n",
       "      <td>0.789647</td>\n",
       "    </tr>\n",
       "    <tr>\n",
       "      <th>5974</th>\n",
       "      <td>1531</td>\n",
       "      <td>Resolution 440/2017 by National Civil Aviation...</td>\n",
       "      <td>Art. 4 par 2</td>\n",
       "      <td>The offer of regular air transport services de...</td>\n",
       "      <td>None</td>\n",
       "      <td>the offer of regular air transport servic depe...</td>\n",
       "      <td>D</td>\n",
       "      <td>0.811037</td>\n",
       "    </tr>\n",
       "    <tr>\n",
       "      <th>5975</th>\n",
       "      <td>1532</td>\n",
       "      <td>Resolution 440/2017 by National Civil Aviation...</td>\n",
       "      <td>Art. 4 par 3</td>\n",
       "      <td>Airlines with sharing of codes approved by ANA...</td>\n",
       "      <td>None</td>\n",
       "      <td>airlin with share of code approv by anac have ...</td>\n",
       "      <td>D</td>\n",
       "      <td>0.750731</td>\n",
       "    </tr>\n",
       "  </tbody>\n",
       "</table>\n",
       "<p>5976 rows × 8 columns</p>\n",
       "</div>"
      ],
      "text/plain": [
       "      Unnamed: 0                                                Law  \\\n",
       "0              0  Resolution 153/2010 by National Civil Aviation...   \n",
       "1              2  Ministerial Ordinance 93/2020 by Ministry of I...   \n",
       "2              3  Ministerial Ordinance 93/2020 by Ministry of I...   \n",
       "3              4  Ministerial Ordinance 93/2020 by Ministry of I...   \n",
       "4              5  Ministerial Ordinance 93/2020 by Ministry of I...   \n",
       "...          ...                                                ...   \n",
       "5971        1528  Resolution 440/2017 by National Civil Aviation...   \n",
       "5972        1529  Resolution 440/2017 by National Civil Aviation...   \n",
       "5973        1530  Resolution 440/2017 by National Civil Aviation...   \n",
       "5974        1531  Resolution 440/2017 by National Civil Aviation...   \n",
       "5975        1532  Resolution 440/2017 by National Civil Aviation...   \n",
       "\n",
       "             Paragraph                                               Text  \\\n",
       "0     Art. 5, sole par  If any competent body on the matter imposes mo...   \n",
       "1                Art.4  The National Civil Aviation Secretary must aut...   \n",
       "2               Art. 6  The commercial contract which involves the use...   \n",
       "3               Art. 7  The National Civil Aviation Secretary may auth...   \n",
       "4               Art. 7  The National Civil Aviation Secretary may auth...   \n",
       "...                ...                                                ...   \n",
       "5971            Art. 3  The procedures for registration and the calend...   \n",
       "5972   Art. 3 sole par  ANAC, by means of an ordinance, may exempt non...   \n",
       "5973            Art. 4  The flight stage may only be registered with A...   \n",
       "5974      Art. 4 par 2  The offer of regular air transport services de...   \n",
       "5975      Art. 4 par 3  Airlines with sharing of codes approved by ANA...   \n",
       "\n",
       "     Category                                         text_clean  \\\n",
       "0           A  if ani compet bodi on the matter impos modif o...   \n",
       "1           A  the nation civil aviat secretari must authoris...   \n",
       "2           A  the commerci contract which involv the use of ...   \n",
       "3           A  the nation civil aviat secretari may authoris ...   \n",
       "4           A  the nation civil aviat secretari may authoris ...   \n",
       "...       ...                                                ...   \n",
       "5971     None  the procedur for registr and the calendar of a...   \n",
       "5972     None  anac by mean of an ordin may exempt non-regula...   \n",
       "5973     None  the flight stage may onli be regist with anac ...   \n",
       "5974     None  the offer of regular air transport servic depe...   \n",
       "5975     None  airlin with share of code approv by anac have ...   \n",
       "\n",
       "     Predict_Label     Score  \n",
       "0                A  0.900639  \n",
       "1                A  0.970012  \n",
       "2                A  0.973165  \n",
       "3                A  0.973165  \n",
       "4                A  0.922596  \n",
       "...            ...       ...  \n",
       "5971             D  0.900373  \n",
       "5972             D  0.851599  \n",
       "5973             D  0.789647  \n",
       "5974             D  0.811037  \n",
       "5975             D  0.750731  \n",
       "\n",
       "[5976 rows x 8 columns]"
      ]
     },
     "execution_count": 15,
     "metadata": {},
     "output_type": "execute_result"
    }
   ],
   "source": [
    "df_long"
   ]
  },
  {
   "cell_type": "code",
   "execution_count": 30,
   "metadata": {},
   "outputs": [],
   "source": [
    "results_multiclass = df_long \n",
    "results_multiclass['Predict'] = np.where(results_multiclass['Score'] > 0.90, results_multiclass['Predict_Label'], 'None')"
   ]
  },
  {
   "cell_type": "code",
   "execution_count": 31,
   "metadata": {},
   "outputs": [
    {
     "data": {
      "text/html": [
       "<div>\n",
       "<style scoped>\n",
       "    .dataframe tbody tr th:only-of-type {\n",
       "        vertical-align: middle;\n",
       "    }\n",
       "\n",
       "    .dataframe tbody tr th {\n",
       "        vertical-align: top;\n",
       "    }\n",
       "\n",
       "    .dataframe thead th {\n",
       "        text-align: right;\n",
       "    }\n",
       "</style>\n",
       "<table border=\"1\" class=\"dataframe\">\n",
       "  <thead>\n",
       "    <tr style=\"text-align: right;\">\n",
       "      <th></th>\n",
       "      <th>Unnamed: 0</th>\n",
       "      <th>Law</th>\n",
       "      <th>Paragraph</th>\n",
       "      <th>Text</th>\n",
       "      <th>Category</th>\n",
       "      <th>text_clean</th>\n",
       "      <th>Predict_Label</th>\n",
       "      <th>Score</th>\n",
       "      <th>Predict</th>\n",
       "    </tr>\n",
       "  </thead>\n",
       "  <tbody>\n",
       "    <tr>\n",
       "      <th>0</th>\n",
       "      <td>0</td>\n",
       "      <td>Resolution 153/2010 by National Civil Aviation...</td>\n",
       "      <td>Art. 5, sole par</td>\n",
       "      <td>If any competent body on the matter imposes mo...</td>\n",
       "      <td>A</td>\n",
       "      <td>if ani compet bodi on the matter impos modif o...</td>\n",
       "      <td>A</td>\n",
       "      <td>0.900639</td>\n",
       "      <td>A</td>\n",
       "    </tr>\n",
       "    <tr>\n",
       "      <th>1</th>\n",
       "      <td>2</td>\n",
       "      <td>Ministerial Ordinance 93/2020 by Ministry of I...</td>\n",
       "      <td>Art.4</td>\n",
       "      <td>The National Civil Aviation Secretary must aut...</td>\n",
       "      <td>A</td>\n",
       "      <td>the nation civil aviat secretari must authoris...</td>\n",
       "      <td>A</td>\n",
       "      <td>0.970012</td>\n",
       "      <td>A</td>\n",
       "    </tr>\n",
       "    <tr>\n",
       "      <th>2</th>\n",
       "      <td>3</td>\n",
       "      <td>Ministerial Ordinance 93/2020 by Ministry of I...</td>\n",
       "      <td>Art. 6</td>\n",
       "      <td>The commercial contract which involves the use...</td>\n",
       "      <td>A</td>\n",
       "      <td>the commerci contract which involv the use of ...</td>\n",
       "      <td>A</td>\n",
       "      <td>0.973165</td>\n",
       "      <td>A</td>\n",
       "    </tr>\n",
       "    <tr>\n",
       "      <th>3</th>\n",
       "      <td>4</td>\n",
       "      <td>Ministerial Ordinance 93/2020 by Ministry of I...</td>\n",
       "      <td>Art. 7</td>\n",
       "      <td>The National Civil Aviation Secretary may auth...</td>\n",
       "      <td>A</td>\n",
       "      <td>the nation civil aviat secretari may authoris ...</td>\n",
       "      <td>A</td>\n",
       "      <td>0.973165</td>\n",
       "      <td>A</td>\n",
       "    </tr>\n",
       "    <tr>\n",
       "      <th>4</th>\n",
       "      <td>5</td>\n",
       "      <td>Ministerial Ordinance 93/2020 by Ministry of I...</td>\n",
       "      <td>Art. 7</td>\n",
       "      <td>The National Civil Aviation Secretary may auth...</td>\n",
       "      <td>A</td>\n",
       "      <td>the nation civil aviat secretari may authoris ...</td>\n",
       "      <td>A</td>\n",
       "      <td>0.922596</td>\n",
       "      <td>A</td>\n",
       "    </tr>\n",
       "    <tr>\n",
       "      <th>...</th>\n",
       "      <td>...</td>\n",
       "      <td>...</td>\n",
       "      <td>...</td>\n",
       "      <td>...</td>\n",
       "      <td>...</td>\n",
       "      <td>...</td>\n",
       "      <td>...</td>\n",
       "      <td>...</td>\n",
       "      <td>...</td>\n",
       "    </tr>\n",
       "    <tr>\n",
       "      <th>5971</th>\n",
       "      <td>1528</td>\n",
       "      <td>Resolution 440/2017 by National Civil Aviation...</td>\n",
       "      <td>Art. 3</td>\n",
       "      <td>The procedures for registration and the calend...</td>\n",
       "      <td>None</td>\n",
       "      <td>the procedur for registr and the calendar of a...</td>\n",
       "      <td>D</td>\n",
       "      <td>0.900373</td>\n",
       "      <td>D</td>\n",
       "    </tr>\n",
       "    <tr>\n",
       "      <th>5972</th>\n",
       "      <td>1529</td>\n",
       "      <td>Resolution 440/2017 by National Civil Aviation...</td>\n",
       "      <td>Art. 3 sole par</td>\n",
       "      <td>ANAC, by means of an ordinance, may exempt non...</td>\n",
       "      <td>None</td>\n",
       "      <td>anac by mean of an ordin may exempt non-regula...</td>\n",
       "      <td>D</td>\n",
       "      <td>0.851599</td>\n",
       "      <td>None</td>\n",
       "    </tr>\n",
       "    <tr>\n",
       "      <th>5973</th>\n",
       "      <td>1530</td>\n",
       "      <td>Resolution 440/2017 by National Civil Aviation...</td>\n",
       "      <td>Art. 4</td>\n",
       "      <td>The flight stage may only be registered with A...</td>\n",
       "      <td>None</td>\n",
       "      <td>the flight stage may onli be regist with anac ...</td>\n",
       "      <td>D</td>\n",
       "      <td>0.789647</td>\n",
       "      <td>None</td>\n",
       "    </tr>\n",
       "    <tr>\n",
       "      <th>5974</th>\n",
       "      <td>1531</td>\n",
       "      <td>Resolution 440/2017 by National Civil Aviation...</td>\n",
       "      <td>Art. 4 par 2</td>\n",
       "      <td>The offer of regular air transport services de...</td>\n",
       "      <td>None</td>\n",
       "      <td>the offer of regular air transport servic depe...</td>\n",
       "      <td>D</td>\n",
       "      <td>0.811037</td>\n",
       "      <td>None</td>\n",
       "    </tr>\n",
       "    <tr>\n",
       "      <th>5975</th>\n",
       "      <td>1532</td>\n",
       "      <td>Resolution 440/2017 by National Civil Aviation...</td>\n",
       "      <td>Art. 4 par 3</td>\n",
       "      <td>Airlines with sharing of codes approved by ANA...</td>\n",
       "      <td>None</td>\n",
       "      <td>airlin with share of code approv by anac have ...</td>\n",
       "      <td>D</td>\n",
       "      <td>0.750731</td>\n",
       "      <td>None</td>\n",
       "    </tr>\n",
       "  </tbody>\n",
       "</table>\n",
       "<p>5976 rows × 9 columns</p>\n",
       "</div>"
      ],
      "text/plain": [
       "      Unnamed: 0                                                Law  \\\n",
       "0              0  Resolution 153/2010 by National Civil Aviation...   \n",
       "1              2  Ministerial Ordinance 93/2020 by Ministry of I...   \n",
       "2              3  Ministerial Ordinance 93/2020 by Ministry of I...   \n",
       "3              4  Ministerial Ordinance 93/2020 by Ministry of I...   \n",
       "4              5  Ministerial Ordinance 93/2020 by Ministry of I...   \n",
       "...          ...                                                ...   \n",
       "5971        1528  Resolution 440/2017 by National Civil Aviation...   \n",
       "5972        1529  Resolution 440/2017 by National Civil Aviation...   \n",
       "5973        1530  Resolution 440/2017 by National Civil Aviation...   \n",
       "5974        1531  Resolution 440/2017 by National Civil Aviation...   \n",
       "5975        1532  Resolution 440/2017 by National Civil Aviation...   \n",
       "\n",
       "             Paragraph                                               Text  \\\n",
       "0     Art. 5, sole par  If any competent body on the matter imposes mo...   \n",
       "1                Art.4  The National Civil Aviation Secretary must aut...   \n",
       "2               Art. 6  The commercial contract which involves the use...   \n",
       "3               Art. 7  The National Civil Aviation Secretary may auth...   \n",
       "4               Art. 7  The National Civil Aviation Secretary may auth...   \n",
       "...                ...                                                ...   \n",
       "5971            Art. 3  The procedures for registration and the calend...   \n",
       "5972   Art. 3 sole par  ANAC, by means of an ordinance, may exempt non...   \n",
       "5973            Art. 4  The flight stage may only be registered with A...   \n",
       "5974      Art. 4 par 2  The offer of regular air transport services de...   \n",
       "5975      Art. 4 par 3  Airlines with sharing of codes approved by ANA...   \n",
       "\n",
       "     Category                                         text_clean  \\\n",
       "0           A  if ani compet bodi on the matter impos modif o...   \n",
       "1           A  the nation civil aviat secretari must authoris...   \n",
       "2           A  the commerci contract which involv the use of ...   \n",
       "3           A  the nation civil aviat secretari may authoris ...   \n",
       "4           A  the nation civil aviat secretari may authoris ...   \n",
       "...       ...                                                ...   \n",
       "5971     None  the procedur for registr and the calendar of a...   \n",
       "5972     None  anac by mean of an ordin may exempt non-regula...   \n",
       "5973     None  the flight stage may onli be regist with anac ...   \n",
       "5974     None  the offer of regular air transport servic depe...   \n",
       "5975     None  airlin with share of code approv by anac have ...   \n",
       "\n",
       "     Predict_Label     Score Predict  \n",
       "0                A  0.900639       A  \n",
       "1                A  0.970012       A  \n",
       "2                A  0.973165       A  \n",
       "3                A  0.973165       A  \n",
       "4                A  0.922596       A  \n",
       "...            ...       ...     ...  \n",
       "5971             D  0.900373       D  \n",
       "5972             D  0.851599    None  \n",
       "5973             D  0.789647    None  \n",
       "5974             D  0.811037    None  \n",
       "5975             D  0.750731    None  \n",
       "\n",
       "[5976 rows x 9 columns]"
      ]
     },
     "execution_count": 31,
     "metadata": {},
     "output_type": "execute_result"
    }
   ],
   "source": [
    "results_multiclass.drop_duplicates()"
   ]
  },
  {
   "cell_type": "code",
   "execution_count": 32,
   "metadata": {},
   "outputs": [
    {
     "name": "stdout",
     "output_type": "stream",
     "text": [
      "              precision    recall  f1-score   support\n",
      "\n",
      "           A       0.50      0.18      0.26      3048\n",
      "           B       0.06      0.17      0.09       356\n",
      "           C       0.01      0.16      0.01        44\n",
      "           D       0.00      0.25      0.00         4\n",
      "        None       0.42      0.31      0.36      2524\n",
      "\n",
      "    accuracy                           0.23      5976\n",
      "   macro avg       0.20      0.21      0.15      5976\n",
      "weighted avg       0.44      0.23      0.29      5976\n",
      "\n"
     ]
    }
   ],
   "source": [
    "report = classification_report(results_multiclass['Category'], results_multiclass['Predict'])\n",
    "print(report)"
   ]
  },
  {
   "cell_type": "code",
   "execution_count": 44,
   "metadata": {},
   "outputs": [],
   "source": [
    "results_binary = df_long "
   ]
  },
  {
   "cell_type": "code",
   "execution_count": 45,
   "metadata": {},
   "outputs": [],
   "source": [
    "results_max_score = results_binary.groupby('Text')['Score'].max()"
   ]
  },
  {
   "cell_type": "code",
   "execution_count": 46,
   "metadata": {},
   "outputs": [],
   "source": [
    "results_final = pd.merge(results_binary, results_max_score, on=['Text', 'Score'])"
   ]
  },
  {
   "cell_type": "code",
   "execution_count": 47,
   "metadata": {},
   "outputs": [],
   "source": [
    "results_final['Predict'] = np.where(results_final['Score'] > 0.90, 'Yes', 'None')\n",
    "results_final['Category'] = np.where(results_final['Category'] == 'None', results_final['Category'], 'Yes')"
   ]
  },
  {
   "cell_type": "code",
   "execution_count": 48,
   "metadata": {},
   "outputs": [
    {
     "name": "stdout",
     "output_type": "stream",
     "text": [
      "              precision    recall  f1-score   support\n",
      "\n",
      "        None       0.62      0.27      0.38       629\n",
      "         Yes       0.52      0.82      0.64       604\n",
      "\n",
      "    accuracy                           0.54      1233\n",
      "   macro avg       0.57      0.55      0.51      1233\n",
      "weighted avg       0.57      0.54      0.51      1233\n",
      "\n"
     ]
    }
   ],
   "source": [
    "report = classification_report(results_final['Category'], results_final['Predict'])\n",
    "print(report)"
   ]
  },
  {
   "attachments": {},
   "cell_type": "markdown",
   "metadata": {},
   "source": [
    "##### Dimensionality reduction"
   ]
  },
  {
   "cell_type": "code",
   "execution_count": 31,
   "metadata": {},
   "outputs": [
    {
     "name": "stderr",
     "output_type": "stream",
     "text": [
      "<ipython-input-31-c789cd2f3e17>:2: FutureWarning: The frame.append method is deprecated and will be removed from pandas in a future version. Use pandas.concat instead.\n",
      "  df_comb = (text_labels_grouped[['Law', 'Paragraph', 'text_clean', 'Category']]\n"
     ]
    },
    {
     "data": {
      "text/html": [
       "<div>\n",
       "<style scoped>\n",
       "    .dataframe tbody tr th:only-of-type {\n",
       "        vertical-align: middle;\n",
       "    }\n",
       "\n",
       "    .dataframe tbody tr th {\n",
       "        vertical-align: top;\n",
       "    }\n",
       "\n",
       "    .dataframe thead th {\n",
       "        text-align: right;\n",
       "    }\n",
       "</style>\n",
       "<table border=\"1\" class=\"dataframe\">\n",
       "  <thead>\n",
       "    <tr style=\"text-align: right;\">\n",
       "      <th></th>\n",
       "      <th>name</th>\n",
       "      <th>Paragraph</th>\n",
       "      <th>text_clean</th>\n",
       "      <th>Category</th>\n",
       "    </tr>\n",
       "  </thead>\n",
       "  <tbody>\n",
       "    <tr>\n",
       "      <th>0</th>\n",
       "      <td>Resolution 153/2010 by National Civil Aviation...</td>\n",
       "      <td>Art. 5, sole par</td>\n",
       "      <td>if ani compet bodi on the matter impos modif o...</td>\n",
       "      <td>A</td>\n",
       "    </tr>\n",
       "    <tr>\n",
       "      <th>2</th>\n",
       "      <td>Ministerial Ordinance 93/2020 by Ministry of I...</td>\n",
       "      <td>Art.4</td>\n",
       "      <td>the nation civil aviat secretari must authoris...</td>\n",
       "      <td>A</td>\n",
       "    </tr>\n",
       "    <tr>\n",
       "      <th>3</th>\n",
       "      <td>Ministerial Ordinance 93/2020 by Ministry of I...</td>\n",
       "      <td>Art. 6</td>\n",
       "      <td>the commerci contract which involv the use of ...</td>\n",
       "      <td>A</td>\n",
       "    </tr>\n",
       "    <tr>\n",
       "      <th>4</th>\n",
       "      <td>Ministerial Ordinance 93/2020 by Ministry of I...</td>\n",
       "      <td>Art. 7</td>\n",
       "      <td>the nation civil aviat secretari may authoris ...</td>\n",
       "      <td>A</td>\n",
       "    </tr>\n",
       "    <tr>\n",
       "      <th>5</th>\n",
       "      <td>Ministerial Ordinance 93/2020 by Ministry of I...</td>\n",
       "      <td>Art. 7</td>\n",
       "      <td>the nation civil aviat secretari may authoris ...</td>\n",
       "      <td>A</td>\n",
       "    </tr>\n",
       "    <tr>\n",
       "      <th>...</th>\n",
       "      <td>...</td>\n",
       "      <td>...</td>\n",
       "      <td>...</td>\n",
       "      <td>...</td>\n",
       "    </tr>\n",
       "    <tr>\n",
       "      <th>1571</th>\n",
       "      <td>Resolution 140/2010 by National Civil Aviation...</td>\n",
       "      <td>Art. 15 item II</td>\n",
       "      <td>thi resolut goe into effect on juli 1st when i...</td>\n",
       "      <td>None</td>\n",
       "    </tr>\n",
       "    <tr>\n",
       "      <th>0</th>\n",
       "      <td>A</td>\n",
       "      <td>NaN</td>\n",
       "      <td>limit the number of supplier lead to the risk ...</td>\n",
       "      <td>NaN</td>\n",
       "    </tr>\n",
       "    <tr>\n",
       "      <th>1</th>\n",
       "      <td>B</td>\n",
       "      <td>NaN</td>\n",
       "      <td>regul can affect a supplier 's abil to compet ...</td>\n",
       "      <td>NaN</td>\n",
       "    </tr>\n",
       "    <tr>\n",
       "      <th>2</th>\n",
       "      <td>C</td>\n",
       "      <td>NaN</td>\n",
       "      <td>regul can affect supplier behaviour by not onl...</td>\n",
       "      <td>NaN</td>\n",
       "    </tr>\n",
       "    <tr>\n",
       "      <th>3</th>\n",
       "      <td>D</td>\n",
       "      <td>NaN</td>\n",
       "      <td>regul sometim limit choic avail to consum for ...</td>\n",
       "      <td>NaN</td>\n",
       "    </tr>\n",
       "  </tbody>\n",
       "</table>\n",
       "<p>1537 rows × 4 columns</p>\n",
       "</div>"
      ],
      "text/plain": [
       "                                                   name         Paragraph  \\\n",
       "0     Resolution 153/2010 by National Civil Aviation...  Art. 5, sole par   \n",
       "2     Ministerial Ordinance 93/2020 by Ministry of I...             Art.4   \n",
       "3     Ministerial Ordinance 93/2020 by Ministry of I...            Art. 6   \n",
       "4     Ministerial Ordinance 93/2020 by Ministry of I...            Art. 7   \n",
       "5     Ministerial Ordinance 93/2020 by Ministry of I...            Art. 7   \n",
       "...                                                 ...               ...   \n",
       "1571  Resolution 140/2010 by National Civil Aviation...   Art. 15 item II   \n",
       "0                                                     A               NaN   \n",
       "1                                                     B               NaN   \n",
       "2                                                     C               NaN   \n",
       "3                                                     D               NaN   \n",
       "\n",
       "                                             text_clean Category  \n",
       "0     if ani compet bodi on the matter impos modif o...        A  \n",
       "2     the nation civil aviat secretari must authoris...        A  \n",
       "3     the commerci contract which involv the use of ...        A  \n",
       "4     the nation civil aviat secretari may authoris ...        A  \n",
       "5     the nation civil aviat secretari may authoris ...        A  \n",
       "...                                                 ...      ...  \n",
       "1571  thi resolut goe into effect on juli 1st when i...     None  \n",
       "0     limit the number of supplier lead to the risk ...      NaN  \n",
       "1     regul can affect a supplier 's abil to compet ...      NaN  \n",
       "2     regul can affect supplier behaviour by not onl...      NaN  \n",
       "3     regul sometim limit choic avail to consum for ...      NaN  \n",
       "\n",
       "[1537 rows x 4 columns]"
      ]
     },
     "execution_count": 31,
     "metadata": {},
     "output_type": "execute_result"
    }
   ],
   "source": [
    "# df combining text and labels\n",
    "df_comb = (text_labels_grouped[['Law', 'Paragraph', 'text_clean', 'Category']]\n",
    "           .rename(columns = {'Law':'name'})\n",
    "           .append(defs_grouped[['Main', 'text_clean']]\n",
    "                   .rename(columns = {'Main':'name'})))\n",
    "df_comb"
   ]
  },
  {
   "cell_type": "code",
   "execution_count": 54,
   "metadata": {},
   "outputs": [],
   "source": [
    "#categories = [\"A\", \"B\", \"C\", \"D\"]\n",
    "#df_comb['Category'] = df_comb['name'].apply(lambda x: x if x in categories else 'text')"
   ]
  },
  {
   "cell_type": "code",
   "execution_count": 32,
   "metadata": {},
   "outputs": [],
   "source": [
    "reducer = umap.UMAP()\n",
    "\n",
    "# dfm combining embeddings \n",
    "def dfm_combined(df, dfm1, dfm2):\n",
    "    dfm_comb = np.vstack((dfm1, dfm2))\n",
    "    embed = reducer.fit_transform(dfm_comb)\n",
    "    df[\"x\"] = embed[:,0]\n",
    "    df[\"y\"] = embed[:,1]\n",
    "    return df"
   ]
  },
  {
   "cell_type": "code",
   "execution_count": 33,
   "metadata": {},
   "outputs": [],
   "source": [
    "dfm_comb = dfm_combined(df_comb, text_labels_embed, defs_grouped_embed)"
   ]
  },
  {
   "cell_type": "code",
   "execution_count": 34,
   "metadata": {},
   "outputs": [
    {
     "data": {
      "text/plain": [
       "<seaborn.axisgrid.FacetGrid at 0x173f55b50>"
      ]
     },
     "execution_count": 34,
     "metadata": {},
     "output_type": "execute_result"
    },
    {
     "data": {
      "image/png": "[encoded data removed]",
      "text/plain": [
       "<Figure size 422x360 with 1 Axes>"
      ]
     },
     "metadata": {
      "needs_background": "light"
     },
     "output_type": "display_data"
    }
   ],
   "source": [
    "cdict = {\n",
    "'None': '#7ec1e6',\n",
    "'A': '#910707',\n",
    "'B': '#f08e1f',\n",
    "'C': '#ba50a5',\n",
    "'D': '#ede732'\n",
    "}\n",
    "\n",
    "sns.relplot(\n",
    "data=dfm_comb, x=\"x\", y=\"y\", hue=\"Category\", edgecolor=\"grey\",\n",
    "s=8, palette = cdict, facet_kws={\"despine\": False}\n",
    ")"
   ]
  },
  {
   "cell_type": "code",
   "execution_count": 35,
   "metadata": {},
   "outputs": [],
   "source": [
    "df_comb.to_csv(\"data/scores/02 sim_scores_dim_reduced_glove.csv\")"
   ]
  },
  {
   "attachments": {},
   "cell_type": "markdown",
   "metadata": {},
   "source": [
    "### II. Legal Word2Vec"
   ]
  },
  {
   "attachments": {},
   "cell_type": "markdown",
   "metadata": {},
   "source": [
    "##### Document embedding matrix (from SigmaLaw word2vec trained from legal corpus)"
   ]
  },
  {
   "cell_type": "code",
   "execution_count": 36,
   "metadata": {},
   "outputs": [
    {
     "data": {
      "text/plain": [
       "(52431, 200)"
      ]
     },
     "execution_count": 36,
     "metadata": {},
     "output_type": "execute_result"
    }
   ],
   "source": [
    "w2v_law = KeyedVectors.load_word2vec_format(\"data/sigma-lemmatized-legal/legallemmatextreplacewithnnp.bin\", binary=True, unicode_errors='ignore') \n",
    "w2v_law.vectors.shape"
   ]
  },
  {
   "cell_type": "code",
   "execution_count": 37,
   "metadata": {},
   "outputs": [],
   "source": [
    "def doc_matrix_w2v(dfm):\n",
    "    words = set(vectorizer.get_feature_names_out())\n",
    "    text_vocab = list(words)\n",
    "\n",
    "    common_features = []\n",
    "    for word in text_vocab:\n",
    "        if word in w2v_law:\n",
    "            common_features += [word]\n",
    "\n",
    "    embed_common=np.empty((0,200))\n",
    "    for word in words:\n",
    "        if word in w2v_law:\n",
    "            embed_common=np.vstack([embed_common, w2v_law[word]])\n",
    "\n",
    "    vocab_ids = [vectorizer.vocabulary_[x] for x in common_features]\n",
    "    doc_matrix_w2v = dfm[:,vocab_ids].dot(embed_common)\n",
    "\n",
    "    return doc_matrix_w2v\n",
    "    "
   ]
  },
  {
   "cell_type": "code",
   "execution_count": 39,
   "metadata": {},
   "outputs": [
    {
     "data": {
      "text/plain": [
       "(1533, 200)"
      ]
     },
     "execution_count": 39,
     "metadata": {},
     "output_type": "execute_result"
    }
   ],
   "source": [
    "text_dfm = vectorizer.fit_transform(text_labels['text_clean'])\n",
    "text_doc_matrix = doc_matrix_w2v(text_dfm)\n",
    "text_doc_matrix.shape"
   ]
  },
  {
   "cell_type": "code",
   "execution_count": 40,
   "metadata": {},
   "outputs": [
    {
     "data": {
      "text/plain": [
       "(4, 200)"
      ]
     },
     "execution_count": 40,
     "metadata": {},
     "output_type": "execute_result"
    }
   ],
   "source": [
    "defs_dfm = vectorizer.fit_transform(defs_grouped['text_clean'])\n",
    "defs_doc_matrix = doc_matrix_w2v(defs_dfm)\n",
    "defs_doc_matrix.shape"
   ]
  },
  {
   "attachments": {},
   "cell_type": "markdown",
   "metadata": {},
   "source": [
    "Full sample"
   ]
  },
  {
   "cell_type": "code",
   "execution_count": 41,
   "metadata": {},
   "outputs": [],
   "source": [
    "# get corpus vocabulary\n",
    "text_dfm = vectorizer.fit_transform(text_labels_grouped['text_clean'])\n",
    "words = set(vectorizer.get_feature_names_out())\n",
    "text_vocab = list(words)"
   ]
  },
  {
   "cell_type": "code",
   "execution_count": 42,
   "metadata": {},
   "outputs": [
    {
     "data": {
      "text/plain": [
       "1387"
      ]
     },
     "execution_count": 42,
     "metadata": {},
     "output_type": "execute_result"
    }
   ],
   "source": [
    "# get common features between vocab & w2v legal\n",
    "common_features = []\n",
    "for word in text_vocab:\n",
    "    if word in w2v_law:\n",
    "        common_features += [word]\n",
    "len(common_features)"
   ]
  },
  {
   "cell_type": "code",
   "execution_count": 43,
   "metadata": {},
   "outputs": [
    {
     "data": {
      "text/plain": [
       "(1387, 200)"
      ]
     },
     "execution_count": 43,
     "metadata": {},
     "output_type": "execute_result"
    }
   ],
   "source": [
    "# get embedding matrix of common features\n",
    "embed_common=np.empty((0,200))\n",
    "for word in words:\n",
    "    if word in w2v_law:\n",
    "        embed_common=np.vstack([embed_common, w2v_law[word]])\n",
    "embed_common.shape"
   ]
  },
  {
   "cell_type": "code",
   "execution_count": 44,
   "metadata": {},
   "outputs": [
    {
     "data": {
      "text/plain": [
       "(1533, 200)"
      ]
     },
     "execution_count": 44,
     "metadata": {},
     "output_type": "execute_result"
    }
   ],
   "source": [
    "vocab_ids = [vectorizer.vocabulary_[x] for x in common_features] # vocab id of common features\n",
    "text_doc_matrix = text_dfm[:,vocab_ids].dot(embed_common)\n",
    "text_doc_matrix.shape"
   ]
  },
  {
   "attachments": {},
   "cell_type": "markdown",
   "metadata": {},
   "source": [
    "##### Cosine similarities"
   ]
  },
  {
   "cell_type": "code",
   "execution_count": 45,
   "metadata": {},
   "outputs": [],
   "source": [
    "docs = []\n",
    "for i in range(len(text_doc_matrix)):\n",
    "    scores = []\n",
    "    for j in range(len(defs_doc_matrix)):\n",
    "        A = text_doc_matrix[i]\n",
    "        B = defs_doc_matrix[j]\n",
    "        scores += [(cos_sim(A,B)+1)/(1+1)] # centered \n",
    "    docs += [scores]"
   ]
  },
  {
   "cell_type": "code",
   "execution_count": 46,
   "metadata": {},
   "outputs": [],
   "source": [
    "scores_df = pd.DataFrame(docs, columns = [\"A\", \"B\", \"C\", \"D\"])"
   ]
  },
  {
   "cell_type": "code",
   "execution_count": 47,
   "metadata": {},
   "outputs": [
    {
     "data": {
      "text/html": [
       "<div>\n",
       "<style scoped>\n",
       "    .dataframe tbody tr th:only-of-type {\n",
       "        vertical-align: middle;\n",
       "    }\n",
       "\n",
       "    .dataframe tbody tr th {\n",
       "        vertical-align: top;\n",
       "    }\n",
       "\n",
       "    .dataframe thead th {\n",
       "        text-align: right;\n",
       "    }\n",
       "</style>\n",
       "<table border=\"1\" class=\"dataframe\">\n",
       "  <thead>\n",
       "    <tr style=\"text-align: right;\">\n",
       "      <th></th>\n",
       "      <th>A</th>\n",
       "      <th>B</th>\n",
       "      <th>C</th>\n",
       "      <th>D</th>\n",
       "    </tr>\n",
       "  </thead>\n",
       "  <tbody>\n",
       "    <tr>\n",
       "      <th>0</th>\n",
       "      <td>0.655081</td>\n",
       "      <td>0.611224</td>\n",
       "      <td>0.613267</td>\n",
       "      <td>0.616344</td>\n",
       "    </tr>\n",
       "    <tr>\n",
       "      <th>1</th>\n",
       "      <td>0.639082</td>\n",
       "      <td>0.642908</td>\n",
       "      <td>0.636596</td>\n",
       "      <td>0.622064</td>\n",
       "    </tr>\n",
       "    <tr>\n",
       "      <th>2</th>\n",
       "      <td>0.725378</td>\n",
       "      <td>0.726920</td>\n",
       "      <td>0.692451</td>\n",
       "      <td>0.690617</td>\n",
       "    </tr>\n",
       "    <tr>\n",
       "      <th>3</th>\n",
       "      <td>0.732173</td>\n",
       "      <td>0.733428</td>\n",
       "      <td>0.727870</td>\n",
       "      <td>0.700281</td>\n",
       "    </tr>\n",
       "    <tr>\n",
       "      <th>4</th>\n",
       "      <td>0.732173</td>\n",
       "      <td>0.733428</td>\n",
       "      <td>0.727870</td>\n",
       "      <td>0.700281</td>\n",
       "    </tr>\n",
       "    <tr>\n",
       "      <th>...</th>\n",
       "      <td>...</td>\n",
       "      <td>...</td>\n",
       "      <td>...</td>\n",
       "      <td>...</td>\n",
       "    </tr>\n",
       "    <tr>\n",
       "      <th>1528</th>\n",
       "      <td>0.494828</td>\n",
       "      <td>0.494364</td>\n",
       "      <td>0.525171</td>\n",
       "      <td>0.568176</td>\n",
       "    </tr>\n",
       "    <tr>\n",
       "      <th>1529</th>\n",
       "      <td>0.702454</td>\n",
       "      <td>0.639906</td>\n",
       "      <td>0.657684</td>\n",
       "      <td>0.545291</td>\n",
       "    </tr>\n",
       "    <tr>\n",
       "      <th>1530</th>\n",
       "      <td>0.557336</td>\n",
       "      <td>0.537643</td>\n",
       "      <td>0.553452</td>\n",
       "      <td>0.492651</td>\n",
       "    </tr>\n",
       "    <tr>\n",
       "      <th>1531</th>\n",
       "      <td>0.649995</td>\n",
       "      <td>0.612506</td>\n",
       "      <td>0.633116</td>\n",
       "      <td>0.607105</td>\n",
       "    </tr>\n",
       "    <tr>\n",
       "      <th>1532</th>\n",
       "      <td>0.620458</td>\n",
       "      <td>0.588763</td>\n",
       "      <td>0.616742</td>\n",
       "      <td>0.589595</td>\n",
       "    </tr>\n",
       "  </tbody>\n",
       "</table>\n",
       "<p>1533 rows × 4 columns</p>\n",
       "</div>"
      ],
      "text/plain": [
       "             A         B         C         D\n",
       "0     0.655081  0.611224  0.613267  0.616344\n",
       "1     0.639082  0.642908  0.636596  0.622064\n",
       "2     0.725378  0.726920  0.692451  0.690617\n",
       "3     0.732173  0.733428  0.727870  0.700281\n",
       "4     0.732173  0.733428  0.727870  0.700281\n",
       "...        ...       ...       ...       ...\n",
       "1528  0.494828  0.494364  0.525171  0.568176\n",
       "1529  0.702454  0.639906  0.657684  0.545291\n",
       "1530  0.557336  0.537643  0.553452  0.492651\n",
       "1531  0.649995  0.612506  0.633116  0.607105\n",
       "1532  0.620458  0.588763  0.616742  0.589595\n",
       "\n",
       "[1533 rows x 4 columns]"
      ]
     },
     "execution_count": 47,
     "metadata": {},
     "output_type": "execute_result"
    }
   ],
   "source": [
    "scores_df"
   ]
  },
  {
   "cell_type": "code",
   "execution_count": 50,
   "metadata": {},
   "outputs": [],
   "source": [
    "text_scores_legalw2v = pd.merge(text_labels, scores_df, left_index=True, right_index=True)"
   ]
  },
  {
   "cell_type": "code",
   "execution_count": 51,
   "metadata": {},
   "outputs": [],
   "source": [
    "text_scores_legalw2v.to_csv(\"data/scores/01 sim_scores_legalw2v_labeled.csv\")"
   ]
  },
  {
   "attachments": {},
   "cell_type": "markdown",
   "metadata": {},
   "source": [
    "##### Dimensionality reduction"
   ]
  },
  {
   "cell_type": "code",
   "execution_count": 53,
   "metadata": {},
   "outputs": [],
   "source": [
    "dfm_comb = dfm_combined(df_comb, text_doc_matrix, defs_doc_matrix)"
   ]
  },
  {
   "cell_type": "code",
   "execution_count": 54,
   "metadata": {},
   "outputs": [
    {
     "data": {
      "text/plain": [
       "<seaborn.axisgrid.FacetGrid at 0x29d362670>"
      ]
     },
     "execution_count": 54,
     "metadata": {},
     "output_type": "execute_result"
    },
    {
     "data": {
      "image/png": "[encoded data removed]",
      "text/plain": [
       "<Figure size 422x360 with 1 Axes>"
      ]
     },
     "metadata": {
      "needs_background": "light"
     },
     "output_type": "display_data"
    }
   ],
   "source": [
    "cdict = {\n",
    "'None': '#7ec1e6',\n",
    "'A': '#910707',\n",
    "'B': '#f08e1f',\n",
    "'C': '#ba50a5',\n",
    "'D': '#ede732'\n",
    "}\n",
    "\n",
    "sns.relplot(\n",
    "data=df_comb, x=\"x\", y=\"y\", hue=\"Category\", edgecolor=\"grey\",\n",
    "s=8, palette = cdict, facet_kws={\"despine\": False}\n",
    ")"
   ]
  },
  {
   "cell_type": "code",
   "execution_count": 55,
   "metadata": {},
   "outputs": [],
   "source": [
    "df_comb.to_csv(\"data/scores/02 sim_scores_dim_reduced_legal.csv\")"
   ]
  },
  {
   "cell_type": "code",
   "execution_count": null,
   "metadata": {},
   "outputs": [],
   "source": []
  }
 ],
 "metadata": {
  "kernelspec": {
   "display_name": "torch-gpu",
   "language": "python",
   "name": "python3"
  },
  "language_info": {
   "codemirror_mode": {
    "name": "ipython",
    "version": 3
   },
   "file_extension": ".py",
   "mimetype": "text/x-python",
   "name": "python",
   "nbconvert_exporter": "python",
   "pygments_lexer": "ipython3",
   "version": "3.8.16"
  },
  "orig_nbformat": 4
 },
 "nbformat": 4,
 "nbformat_minor": 2
}
