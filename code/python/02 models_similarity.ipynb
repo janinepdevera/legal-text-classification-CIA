{
 "cells": [
  {
   "attachments": {},
   "cell_type": "markdown",
   "metadata": {},
   "source": [
    "# Legal Text Classification for CIA"
   ]
  },
  {
   "attachments": {},
   "cell_type": "markdown",
   "metadata": {},
   "source": [
    "## Models and Experiments: Similarity Measures"
   ]
  },
  {
   "cell_type": "code",
   "execution_count": null,
   "metadata": {},
   "outputs": [],
   "source": [
    "!pip install umap-learn"
   ]
  },
  {
   "cell_type": "code",
   "execution_count": 1,
   "metadata": {},
   "outputs": [
    {
     "name": "stderr",
     "output_type": "stream",
     "text": [
      "[nltk_data] Downloading package stopwords to\n",
      "[nltk_data]     /Users/janinedevera/nltk_data...\n",
      "[nltk_data]   Package stopwords is already up-to-date!\n",
      "[nltk_data] Downloading package punkt to\n",
      "[nltk_data]     /Users/janinedevera/nltk_data...\n",
      "[nltk_data]   Package punkt is already up-to-date!\n",
      "/Users/janinedevera/opt/miniconda3/envs/mtc-models/lib/python3.8/site-packages/tqdm/auto.py:21: TqdmWarning: IProgress not found. Please update jupyter and ipywidgets. See https://ipywidgets.readthedocs.io/en/stable/user_install.html\n",
      "  from .autonotebook import tqdm as notebook_tqdm\n"
     ]
    }
   ],
   "source": [
    "import pandas as pd\n",
    "import numpy as np\n",
    "import matplotlib.pyplot as plt\n",
    "import seaborn as sns\n",
    "import os\n",
    "import csv\n",
    "\n",
    "from functions.source_parsing import *\n",
    "from zipfile import ZipFile\n",
    "from gensim.test.utils import common_texts\n",
    "from gensim.models import Word2Vec\n",
    "import gensim.downloader as api\n",
    "from gensim.test.utils import datapath\n",
    "from gensim.models import KeyedVectors\n",
    "from nltk.tokenize import sent_tokenize, word_tokenize\n",
    "from numpy.linalg import norm\n",
    "import umap.umap_ as umap\n",
    "\n",
    "from sklearn.feature_extraction.text import TfidfVectorizer \n",
    "from sklearn.feature_extraction.text import CountVectorizer \n",
    "from sklearn.preprocessing import StandardScaler\n",
    "from sklearn.metrics.pairwise import cosine_similarity\n",
    "from sklearn.model_selection import learning_curve\n",
    "from sklearn.model_selection import train_test_split\n",
    "from sklearn.preprocessing import LabelEncoder\n",
    "from sklearn.linear_model import LogisticRegression\n",
    "from xgboost import XGBClassifier\n",
    "from sklearn.metrics import accuracy_score, precision_recall_fscore_support, precision_score, recall_score\n",
    "from sklearn.metrics import classification_report, confusion_matrix\n",
    "import pickle"
   ]
  },
  {
   "cell_type": "code",
   "execution_count": 3,
   "metadata": {},
   "outputs": [
    {
     "data": {
      "text/plain": [
       "'/Users/janinedevera/Documents/School/MDS 2021-2023/Thesis/multilabel-legal-text-classification-CIA'"
      ]
     },
     "execution_count": 3,
     "metadata": {},
     "output_type": "execute_result"
    }
   ],
   "source": [
    "os.chdir(\"../..\")\n",
    "os.getcwd()"
   ]
  },
  {
   "attachments": {},
   "cell_type": "markdown",
   "metadata": {},
   "source": [
    "### Preliminaries"
   ]
  },
  {
   "cell_type": "code",
   "execution_count": 5,
   "metadata": {},
   "outputs": [],
   "source": [
    "# legal text, labeled\n",
    "text = pd.read_csv(\"data/01 legal_texts_pipeline_stopwords.csv\", index_col=0)\n",
    "text_labels = pd.read_csv(\"data/01 legal_texts_with_labels_grouped.csv\", index_col=0)\n",
    "\n",
    "# augmented training set and raw test set\n",
    "train_df_aug = pd.read_csv(\"data/01 train_data_augmented.csv\", index_col=0)\n",
    "test_df = pd.read_csv(\"data/01 test_data.csv\", index_col=0)\n",
    "\n",
    "# definitions\n",
    "defs = pd.read_csv(\"data/02 oecd_definitions_stopwords.csv\", index_col=0)\n",
    "defs_grouped = pd.read_csv(\"data/02 oecd_definitions_stopwords_grouped.csv\", index_col=0)"
   ]
  },
  {
   "cell_type": "code",
   "execution_count": 52,
   "metadata": {},
   "outputs": [],
   "source": [
    "unlabeled = pd.read_csv(\"data/01 legal_texts_pipeline_stopwords.csv\", index_col=0)"
   ]
  },
  {
   "cell_type": "code",
   "execution_count": 59,
   "metadata": {},
   "outputs": [],
   "source": [
    "new = pd.concat([unlabeled['text_clean'], text_labels['text_clean']], axis=0).reset_index(drop=True)\n",
    "new_df = pd.DataFrame({'text_clean': new})"
   ]
  },
  {
   "cell_type": "code",
   "execution_count": 60,
   "metadata": {},
   "outputs": [],
   "source": [
    "new_df['length'] = new_df['text_clean'].apply(lambda x: len(x.split()))"
   ]
  },
  {
   "cell_type": "code",
   "execution_count": 62,
   "metadata": {},
   "outputs": [
    {
     "data": {
      "text/plain": [
       "count    7023.000000\n",
       "mean      163.469173\n",
       "std       382.004903\n",
       "min         6.000000\n",
       "25%        30.000000\n",
       "50%        58.000000\n",
       "75%       141.000000\n",
       "max      7116.000000\n",
       "Name: length, dtype: float64"
      ]
     },
     "execution_count": 62,
     "metadata": {},
     "output_type": "execute_result"
    }
   ],
   "source": [
    "new_df['length'].describe()"
   ]
  },
  {
   "cell_type": "code",
   "execution_count": 6,
   "metadata": {},
   "outputs": [
    {
     "data": {
      "text/html": [
       "<div>\n",
       "<style scoped>\n",
       "    .dataframe tbody tr th:only-of-type {\n",
       "        vertical-align: middle;\n",
       "    }\n",
       "\n",
       "    .dataframe tbody tr th {\n",
       "        vertical-align: top;\n",
       "    }\n",
       "\n",
       "    .dataframe thead th {\n",
       "        text-align: right;\n",
       "    }\n",
       "</style>\n",
       "<table border=\"1\" class=\"dataframe\">\n",
       "  <thead>\n",
       "    <tr style=\"text-align: right;\">\n",
       "      <th></th>\n",
       "      <th>Main</th>\n",
       "      <th>text_clean</th>\n",
       "      <th>length</th>\n",
       "    </tr>\n",
       "  </thead>\n",
       "  <tbody>\n",
       "    <tr>\n",
       "      <th>0</th>\n",
       "      <td>A</td>\n",
       "      <td>limit the number of supplier lead to the risk ...</td>\n",
       "      <td>833</td>\n",
       "    </tr>\n",
       "    <tr>\n",
       "      <th>1</th>\n",
       "      <td>B</td>\n",
       "      <td>regul can affect a supplier 's abil to compet ...</td>\n",
       "      <td>781</td>\n",
       "    </tr>\n",
       "    <tr>\n",
       "      <th>2</th>\n",
       "      <td>C</td>\n",
       "      <td>regul can affect supplier behaviour by not onl...</td>\n",
       "      <td>459</td>\n",
       "    </tr>\n",
       "    <tr>\n",
       "      <th>3</th>\n",
       "      <td>Others</td>\n",
       "      <td>regul sometim limit choic avail to consum for ...</td>\n",
       "      <td>257</td>\n",
       "    </tr>\n",
       "  </tbody>\n",
       "</table>\n",
       "</div>"
      ],
      "text/plain": [
       "     Main                                         text_clean  length\n",
       "0       A  limit the number of supplier lead to the risk ...     833\n",
       "1       B  regul can affect a supplier 's abil to compet ...     781\n",
       "2       C  regul can affect supplier behaviour by not onl...     459\n",
       "3  Others  regul sometim limit choic avail to consum for ...     257"
      ]
     },
     "execution_count": 6,
     "metadata": {},
     "output_type": "execute_result"
    }
   ],
   "source": [
    "defs_grouped['Main'] = defs_grouped['Main'].replace('D', 'Others')\n",
    "defs_grouped"
   ]
  },
  {
   "cell_type": "code",
   "execution_count": 7,
   "metadata": {},
   "outputs": [],
   "source": [
    "# pre-process text (lemmatization only)\n",
    "train_df_aug['text_clean'] = preprocess_corpus_keep_stop_words(train_df_aug['Text'])\n",
    "train_df_aug['text_clean'] = [lemmatize(text) for text in train_df_aug['text_clean']]\n",
    "\n",
    "test_df['text_clean'] = preprocess_corpus_keep_stop_words(test_df['Text'])\n",
    "test_df['text_clean'] = [lemmatize(text) for text in test_df['text_clean']]"
   ]
  },
  {
   "cell_type": "code",
   "execution_count": 8,
   "metadata": {},
   "outputs": [],
   "source": [
    "# create binary_label column\n",
    "train_df_aug['binary_label'] = train_df_aug['Category_New'].apply(lambda x: 0 if x == \"None\" else 1)\n",
    "test_df['binary_label'] = test_df['Category_New'].apply(lambda x: 0 if x == \"None\" else 1)"
   ]
  },
  {
   "cell_type": "code",
   "execution_count": 9,
   "metadata": {},
   "outputs": [],
   "source": [
    "train_df_binary = train_df_aug\n",
    "train_df_binary = train_df_binary.drop_duplicates(subset=('text_clean', 'binary_label'), keep='first')\n",
    "\n",
    "test_df_binary = test_df\n",
    "test_df_binary = test_df_binary.drop_duplicates(subset=('text_clean', 'binary_label'), keep='first')"
   ]
  },
  {
   "cell_type": "code",
   "execution_count": 10,
   "metadata": {},
   "outputs": [],
   "source": [
    "bert_scores_old = pd.read_csv(\"data/scores/03 sim_scores_bert.csv\", index_col=0)\n",
    "bert_scores = pd.read_csv(\"data/scores/03 sim_scores_bert_sts.csv\", index_col=0)"
   ]
  },
  {
   "cell_type": "code",
   "execution_count": 11,
   "metadata": {},
   "outputs": [
    {
     "data": {
      "text/html": [
       "<div>\n",
       "<style scoped>\n",
       "    .dataframe tbody tr th:only-of-type {\n",
       "        vertical-align: middle;\n",
       "    }\n",
       "\n",
       "    .dataframe tbody tr th {\n",
       "        vertical-align: top;\n",
       "    }\n",
       "\n",
       "    .dataframe thead th {\n",
       "        text-align: right;\n",
       "    }\n",
       "</style>\n",
       "<table border=\"1\" class=\"dataframe\">\n",
       "  <thead>\n",
       "    <tr style=\"text-align: right;\">\n",
       "      <th></th>\n",
       "      <th>Text</th>\n",
       "      <th>Label_Text</th>\n",
       "      <th>Name</th>\n",
       "      <th>Score</th>\n",
       "      <th>Label</th>\n",
       "      <th>Label_True</th>\n",
       "    </tr>\n",
       "  </thead>\n",
       "  <tbody>\n",
       "    <tr>\n",
       "      <th>0</th>\n",
       "      <td>In public aerodromes, if the operator does not...</td>\n",
       "      <td>when govern deregul introduc market previous e...</td>\n",
       "      <td>D3</td>\n",
       "      <td>0.317244</td>\n",
       "      <td>None</td>\n",
       "      <td>None</td>\n",
       "    </tr>\n",
       "    <tr>\n",
       "      <th>1</th>\n",
       "      <td>In public aerodromes, if the operator does not...</td>\n",
       "      <td>regul make consum le will switch supplier affe...</td>\n",
       "      <td>D2</td>\n",
       "      <td>0.244662</td>\n",
       "      <td>None</td>\n",
       "      <td>None</td>\n",
       "    </tr>\n",
       "    <tr>\n",
       "      <th>2</th>\n",
       "      <td>In public aerodromes, if the operator does not...</td>\n",
       "      <td>regul sometim limit choic avail consum for exa...</td>\n",
       "      <td>D1</td>\n",
       "      <td>0.329156</td>\n",
       "      <td>None</td>\n",
       "      <td>None</td>\n",
       "    </tr>\n",
       "    <tr>\n",
       "      <th>3</th>\n",
       "      <td>In public aerodromes, if the operator does not...</td>\n",
       "      <td>in mani countri particular supplier econom sec...</td>\n",
       "      <td>C3</td>\n",
       "      <td>0.323133</td>\n",
       "      <td>None</td>\n",
       "      <td>None</td>\n",
       "    </tr>\n",
       "    <tr>\n",
       "      <th>4</th>\n",
       "      <td>In public aerodromes, if the operator does not...</td>\n",
       "      <td>regul requir market particip publish inform pr...</td>\n",
       "      <td>C2</td>\n",
       "      <td>0.262859</td>\n",
       "      <td>None</td>\n",
       "      <td>None</td>\n",
       "    </tr>\n",
       "    <tr>\n",
       "      <th>...</th>\n",
       "      <td>...</td>\n",
       "      <td>...</td>\n",
       "      <td>...</td>\n",
       "      <td>...</td>\n",
       "      <td>...</td>\n",
       "      <td>...</td>\n",
       "    </tr>\n",
       "    <tr>\n",
       "      <th>14143</th>\n",
       "      <td>In the first five years, share transfer leadin...</td>\n",
       "      <td>regul rais cost entri exit market tend discour...</td>\n",
       "      <td>A4</td>\n",
       "      <td>0.416960</td>\n",
       "      <td>A2</td>\n",
       "      <td>A</td>\n",
       "    </tr>\n",
       "    <tr>\n",
       "      <th>14144</th>\n",
       "      <td>In the first five years, share transfer leadin...</td>\n",
       "      <td>govern limit abil certain supplier particip bu...</td>\n",
       "      <td>A3</td>\n",
       "      <td>0.520037</td>\n",
       "      <td>A2</td>\n",
       "      <td>A</td>\n",
       "    </tr>\n",
       "    <tr>\n",
       "      <th>14145</th>\n",
       "      <td>In the first five years, share transfer leadin...</td>\n",
       "      <td>licens permit requir oper necessarili restrict...</td>\n",
       "      <td>A2</td>\n",
       "      <td>0.487934</td>\n",
       "      <td>A2</td>\n",
       "      <td>A</td>\n",
       "    </tr>\n",
       "    <tr>\n",
       "      <th>14146</th>\n",
       "      <td>In the first five years, share transfer leadin...</td>\n",
       "      <td>grant exclus right produc certain good provid ...</td>\n",
       "      <td>A1</td>\n",
       "      <td>0.497762</td>\n",
       "      <td>A2</td>\n",
       "      <td>A</td>\n",
       "    </tr>\n",
       "    <tr>\n",
       "      <th>14147</th>\n",
       "      <td>In the first five years, share transfer leadin...</td>\n",
       "      <td>limit number supplier lead risk market power c...</td>\n",
       "      <td>A</td>\n",
       "      <td>0.442294</td>\n",
       "      <td>A2</td>\n",
       "      <td>A</td>\n",
       "    </tr>\n",
       "  </tbody>\n",
       "</table>\n",
       "<p>14148 rows × 6 columns</p>\n",
       "</div>"
      ],
      "text/plain": [
       "                                                    Text  \\\n",
       "0      In public aerodromes, if the operator does not...   \n",
       "1      In public aerodromes, if the operator does not...   \n",
       "2      In public aerodromes, if the operator does not...   \n",
       "3      In public aerodromes, if the operator does not...   \n",
       "4      In public aerodromes, if the operator does not...   \n",
       "...                                                  ...   \n",
       "14143  In the first five years, share transfer leadin...   \n",
       "14144  In the first five years, share transfer leadin...   \n",
       "14145  In the first five years, share transfer leadin...   \n",
       "14146  In the first five years, share transfer leadin...   \n",
       "14147  In the first five years, share transfer leadin...   \n",
       "\n",
       "                                              Label_Text Name     Score Label  \\\n",
       "0      when govern deregul introduc market previous e...   D3  0.317244  None   \n",
       "1      regul make consum le will switch supplier affe...   D2  0.244662  None   \n",
       "2      regul sometim limit choic avail consum for exa...   D1  0.329156  None   \n",
       "3      in mani countri particular supplier econom sec...   C3  0.323133  None   \n",
       "4      regul requir market particip publish inform pr...   C2  0.262859  None   \n",
       "...                                                  ...  ...       ...   ...   \n",
       "14143  regul rais cost entri exit market tend discour...   A4  0.416960    A2   \n",
       "14144  govern limit abil certain supplier particip bu...   A3  0.520037    A2   \n",
       "14145  licens permit requir oper necessarili restrict...   A2  0.487934    A2   \n",
       "14146  grant exclus right produc certain good provid ...   A1  0.497762    A2   \n",
       "14147  limit number supplier lead risk market power c...    A  0.442294    A2   \n",
       "\n",
       "      Label_True  \n",
       "0           None  \n",
       "1           None  \n",
       "2           None  \n",
       "3           None  \n",
       "4           None  \n",
       "...          ...  \n",
       "14143          A  \n",
       "14144          A  \n",
       "14145          A  \n",
       "14146          A  \n",
       "14147          A  \n",
       "\n",
       "[14148 rows x 6 columns]"
      ]
     },
     "execution_count": 11,
     "metadata": {},
     "output_type": "execute_result"
    }
   ],
   "source": [
    "bert_scores_old['Label_True'] = bert_scores_old['Label'].apply(lambda x: re.sub(r'[^a-zA-Z]', '', x))\n",
    "bert_scores_old[\"Label_True\"] = bert_scores_old[\"Label_True\"].replace(\"D\", \"Others\")\n",
    "bert_scores_old"
   ]
  },
  {
   "cell_type": "code",
   "execution_count": 37,
   "metadata": {},
   "outputs": [],
   "source": [
    "score_median = bert_scores_old['Score'].median()\n",
    "score_median_adjusted = score_median "
   ]
  },
  {
   "cell_type": "code",
   "execution_count": 13,
   "metadata": {},
   "outputs": [
    {
     "data": {
      "image/png": "[encoded data removed]",
      "text/plain": [
       "<Figure size 640x480 with 1 Axes>"
      ]
     },
     "metadata": {},
     "output_type": "display_data"
    }
   ],
   "source": [
    "import matplotlib.font_manager as fm\n",
    "\n",
    "plt.hist(bert_scores_old['Score'], bins=50, edgecolor='white', alpha=0.8, label='SBERT', color = '#C85B89')\n",
    "plt.hist(bert_scores['Score'], bins=50, edgecolor='white', alpha=0.8, label='SBERT + TSDAE', color = '#306294')\n",
    "\n",
    "plt.xlabel('Similarity Score', fontname='Arial', fontsize=12, labelpad=15)\n",
    "#plt.ylabel('Count', fontname='Arial', fontsize=12, labelpad=15)\n",
    "plt.xticks(fontname='Arial', fontsize=12)\n",
    "plt.yticks(fontname='Arial', fontsize=12, rotation=0)\n",
    "\n",
    "prop = fm.FontProperties(family='Arial', size=11)\n",
    "plt.legend(prop=prop)\n",
    "\n",
    "save_path = os.path.join('draft', 'images', 'plot05-15.png')\n",
    "plt.savefig(save_path, dpi=300, bbox_inches='tight')\n",
    "\n",
    "plt.show()"
   ]
  },
  {
   "cell_type": "code",
   "execution_count": 38,
   "metadata": {},
   "outputs": [
    {
     "data": {
      "text/html": [
       "<div>\n",
       "<style scoped>\n",
       "    .dataframe tbody tr th:only-of-type {\n",
       "        vertical-align: middle;\n",
       "    }\n",
       "\n",
       "    .dataframe tbody tr th {\n",
       "        vertical-align: top;\n",
       "    }\n",
       "\n",
       "    .dataframe thead th {\n",
       "        text-align: right;\n",
       "    }\n",
       "</style>\n",
       "<table border=\"1\" class=\"dataframe\">\n",
       "  <thead>\n",
       "    <tr style=\"text-align: right;\">\n",
       "      <th></th>\n",
       "      <th>Text</th>\n",
       "      <th>Score</th>\n",
       "      <th>Label_True</th>\n",
       "      <th>Predict</th>\n",
       "    </tr>\n",
       "  </thead>\n",
       "  <tbody>\n",
       "    <tr>\n",
       "      <th>0</th>\n",
       "      <td>In public aerodromes, if the operator does not...</td>\n",
       "      <td>0.317244</td>\n",
       "      <td>None</td>\n",
       "      <td>None</td>\n",
       "    </tr>\n",
       "    <tr>\n",
       "      <th>1</th>\n",
       "      <td>In public aerodromes, if the operator does not...</td>\n",
       "      <td>0.244662</td>\n",
       "      <td>None</td>\n",
       "      <td>None</td>\n",
       "    </tr>\n",
       "    <tr>\n",
       "      <th>2</th>\n",
       "      <td>In public aerodromes, if the operator does not...</td>\n",
       "      <td>0.329156</td>\n",
       "      <td>None</td>\n",
       "      <td>None</td>\n",
       "    </tr>\n",
       "    <tr>\n",
       "      <th>3</th>\n",
       "      <td>In public aerodromes, if the operator does not...</td>\n",
       "      <td>0.323133</td>\n",
       "      <td>None</td>\n",
       "      <td>None</td>\n",
       "    </tr>\n",
       "    <tr>\n",
       "      <th>4</th>\n",
       "      <td>In public aerodromes, if the operator does not...</td>\n",
       "      <td>0.262859</td>\n",
       "      <td>None</td>\n",
       "      <td>None</td>\n",
       "    </tr>\n",
       "    <tr>\n",
       "      <th>...</th>\n",
       "      <td>...</td>\n",
       "      <td>...</td>\n",
       "      <td>...</td>\n",
       "      <td>...</td>\n",
       "    </tr>\n",
       "    <tr>\n",
       "      <th>14143</th>\n",
       "      <td>In the first five years, share transfer leadin...</td>\n",
       "      <td>0.416960</td>\n",
       "      <td>A</td>\n",
       "      <td>A</td>\n",
       "    </tr>\n",
       "    <tr>\n",
       "      <th>14144</th>\n",
       "      <td>In the first five years, share transfer leadin...</td>\n",
       "      <td>0.520037</td>\n",
       "      <td>A</td>\n",
       "      <td>A</td>\n",
       "    </tr>\n",
       "    <tr>\n",
       "      <th>14145</th>\n",
       "      <td>In the first five years, share transfer leadin...</td>\n",
       "      <td>0.487934</td>\n",
       "      <td>A</td>\n",
       "      <td>A</td>\n",
       "    </tr>\n",
       "    <tr>\n",
       "      <th>14146</th>\n",
       "      <td>In the first five years, share transfer leadin...</td>\n",
       "      <td>0.497762</td>\n",
       "      <td>A</td>\n",
       "      <td>A</td>\n",
       "    </tr>\n",
       "    <tr>\n",
       "      <th>14147</th>\n",
       "      <td>In the first five years, share transfer leadin...</td>\n",
       "      <td>0.442294</td>\n",
       "      <td>A</td>\n",
       "      <td>A</td>\n",
       "    </tr>\n",
       "  </tbody>\n",
       "</table>\n",
       "<p>11754 rows × 4 columns</p>\n",
       "</div>"
      ],
      "text/plain": [
       "                                                    Text     Score Label_True  \\\n",
       "0      In public aerodromes, if the operator does not...  0.317244       None   \n",
       "1      In public aerodromes, if the operator does not...  0.244662       None   \n",
       "2      In public aerodromes, if the operator does not...  0.329156       None   \n",
       "3      In public aerodromes, if the operator does not...  0.323133       None   \n",
       "4      In public aerodromes, if the operator does not...  0.262859       None   \n",
       "...                                                  ...       ...        ...   \n",
       "14143  In the first five years, share transfer leadin...  0.416960          A   \n",
       "14144  In the first five years, share transfer leadin...  0.520037          A   \n",
       "14145  In the first five years, share transfer leadin...  0.487934          A   \n",
       "14146  In the first five years, share transfer leadin...  0.497762          A   \n",
       "14147  In the first five years, share transfer leadin...  0.442294          A   \n",
       "\n",
       "      Predict  \n",
       "0        None  \n",
       "1        None  \n",
       "2        None  \n",
       "3        None  \n",
       "4        None  \n",
       "...       ...  \n",
       "14143       A  \n",
       "14144       A  \n",
       "14145       A  \n",
       "14146       A  \n",
       "14147       A  \n",
       "\n",
       "[11754 rows x 4 columns]"
      ]
     },
     "execution_count": 38,
     "metadata": {},
     "output_type": "execute_result"
    }
   ],
   "source": [
    "bert_scores_old = bert_scores_old[bert_scores_old['Label_True'].isin(['A', 'B', 'C', 'Others', \"None\"])]\n",
    "bert_scores_old = bert_scores_old[bert_scores_old['Name'] != 'None']\n",
    "bert_scores_old['Predict'] = np.where(bert_scores_old['Score'] >= score_median-0.03, bert_scores_old['Label_True'], 'None')\n",
    "bert_scores_old[['Text', 'Score', 'Label_True', 'Predict']].drop_duplicates()"
   ]
  },
  {
   "cell_type": "code",
   "execution_count": 40,
   "metadata": {},
   "outputs": [
    {
     "name": "stdout",
     "output_type": "stream",
     "text": [
      "              precision    recall  f1-score   support\n",
      "\n",
      "           A       1.00      0.65      0.79      7164\n",
      "           B       1.00      0.86      0.92       702\n",
      "           C       1.00      0.51      0.67       108\n",
      "        None       0.69      1.00      0.82      5904\n",
      "      Others       1.00      0.50      0.67        18\n",
      "\n",
      "    accuracy                           0.81     13896\n",
      "   macro avg       0.94      0.70      0.77     13896\n",
      "weighted avg       0.87      0.81      0.81     13896\n",
      "\n"
     ]
    }
   ],
   "source": [
    "report = classification_report(bert_scores_old['Label_True'], bert_scores_old['Predict'])\n",
    "print(report)"
   ]
  },
  {
   "cell_type": "code",
   "execution_count": 41,
   "metadata": {},
   "outputs": [],
   "source": [
    "def class_report_df(labels, predictions):\n",
    "    report = classification_report(labels, predictions, zero_division=0, output_dict=True)\n",
    "\n",
    "    categories = ['A', 'B', 'C', 'Others', 'None']\n",
    "    metrics = ['precision', 'recall', 'f1-score']\n",
    "    data = []\n",
    "    for category in categories:\n",
    "        row = []\n",
    "        for metric in metrics:\n",
    "            row.append(round(report[category][metric], 2))\n",
    "        data.append(row)\n",
    "\n",
    "    report_df = pd.DataFrame(data, columns=metrics, index=categories)\n",
    "\n",
    "    return report_df"
   ]
  },
  {
   "cell_type": "code",
   "execution_count": 42,
   "metadata": {},
   "outputs": [],
   "source": [
    "report = class_report_df(bert_scores_old['Label_True'], bert_scores_old['Predict'])"
   ]
  },
  {
   "cell_type": "code",
   "execution_count": 43,
   "metadata": {},
   "outputs": [],
   "source": [
    "def report_heatmap(report_df, file_name, color):\n",
    "    plt.figure(figsize=(6, 8))\n",
    "    sns.heatmap(report_df, annot=True, cmap=color, cbar=False, vmin=0, vmax=1,  fmt='.2f',\n",
    "            annot_kws={\"fontfamily\": \"Arial\", \"fontsize\": 12})\n",
    "    #plt.xlabel('Metrics', labelpad=12, fontname='Arial', fontsize=12)\n",
    "    #plt.title('Classification report', fontname='Arial', fontsize=14, y=1.02)\n",
    "    plt.xticks(fontname='Arial', fontsize=12)\n",
    "    plt.yticks(fontname='Arial', fontsize=12, rotation=0)\n",
    "    plt.tick_params(axis='y', length=0)\n",
    "    plt.tick_params(axis='x', length=0)\n",
    "\n",
    "    # save the figure\n",
    "    save_path = os.path.join('draft', 'images', file_name)\n",
    "    plt.savefig(save_path, dpi=300, bbox_inches='tight')\n",
    "\n",
    "    plt.show()  \n"
   ]
  },
  {
   "cell_type": "code",
   "execution_count": 44,
   "metadata": {},
   "outputs": [
    {
     "data": {
      "image/png": "[encoded data removed]",
      "text/plain": [
       "<Figure size 600x800 with 1 Axes>"
      ]
     },
     "metadata": {},
     "output_type": "display_data"
    }
   ],
   "source": [
    "custom_cmap_blues = sns.color_palette(['#A9BBD3', '#A0B4CF', '#8FA8C6', '#7E9CBD', '#6D8FB4', '#537CA6', '#416F9D', '#306294', '#0F4A82'])\n",
    "report_heatmap(report, 'plot06-03.png', custom_cmap_blues)"
   ]
  },
  {
   "cell_type": "code",
   "execution_count": 45,
   "metadata": {},
   "outputs": [],
   "source": [
    "score_median = bert_scores['Score'].median()"
   ]
  },
  {
   "cell_type": "code",
   "execution_count": 46,
   "metadata": {},
   "outputs": [
    {
     "data": {
      "text/html": [
       "<div>\n",
       "<style scoped>\n",
       "    .dataframe tbody tr th:only-of-type {\n",
       "        vertical-align: middle;\n",
       "    }\n",
       "\n",
       "    .dataframe tbody tr th {\n",
       "        vertical-align: top;\n",
       "    }\n",
       "\n",
       "    .dataframe thead th {\n",
       "        text-align: right;\n",
       "    }\n",
       "</style>\n",
       "<table border=\"1\" class=\"dataframe\">\n",
       "  <thead>\n",
       "    <tr style=\"text-align: right;\">\n",
       "      <th></th>\n",
       "      <th>Text</th>\n",
       "      <th>Score</th>\n",
       "      <th>Label_True</th>\n",
       "      <th>Predict</th>\n",
       "    </tr>\n",
       "  </thead>\n",
       "  <tbody>\n",
       "    <tr>\n",
       "      <th>0</th>\n",
       "      <td>• articl of the act stipul that the violat of ...</td>\n",
       "      <td>0.620997</td>\n",
       "      <td>B</td>\n",
       "      <td>B</td>\n",
       "    </tr>\n",
       "    <tr>\n",
       "      <th>1</th>\n",
       "      <td>• articl of the act stipul that the violat of ...</td>\n",
       "      <td>0.599725</td>\n",
       "      <td>B</td>\n",
       "      <td>B</td>\n",
       "    </tr>\n",
       "    <tr>\n",
       "      <th>2</th>\n",
       "      <td>• articl of the act stipul that the violat of ...</td>\n",
       "      <td>0.601265</td>\n",
       "      <td>B</td>\n",
       "      <td>B</td>\n",
       "    </tr>\n",
       "    <tr>\n",
       "      <th>3</th>\n",
       "      <td>• articl of the act stipul that the violat of ...</td>\n",
       "      <td>0.752252</td>\n",
       "      <td>B</td>\n",
       "      <td>B</td>\n",
       "    </tr>\n",
       "    <tr>\n",
       "      <th>4</th>\n",
       "      <td>articl of the act stipul that a breach of thi ...</td>\n",
       "      <td>0.529027</td>\n",
       "      <td>B</td>\n",
       "      <td>B</td>\n",
       "    </tr>\n",
       "    <tr>\n",
       "      <th>...</th>\n",
       "      <td>...</td>\n",
       "      <td>...</td>\n",
       "      <td>...</td>\n",
       "      <td>...</td>\n",
       "    </tr>\n",
       "    <tr>\n",
       "      <th>13775</th>\n",
       "      <td>establish subject to thi norm i.e those that m...</td>\n",
       "      <td>0.527197</td>\n",
       "      <td>A</td>\n",
       "      <td>A</td>\n",
       "    </tr>\n",
       "    <tr>\n",
       "      <th>13776</th>\n",
       "      <td>the minimum number of pilotag run per semest c...</td>\n",
       "      <td>0.602872</td>\n",
       "      <td>A</td>\n",
       "      <td>A</td>\n",
       "    </tr>\n",
       "    <tr>\n",
       "      <th>13777</th>\n",
       "      <td>the minimum number of pilotag run per semest c...</td>\n",
       "      <td>0.527284</td>\n",
       "      <td>A</td>\n",
       "      <td>A</td>\n",
       "    </tr>\n",
       "    <tr>\n",
       "      <th>13778</th>\n",
       "      <td>the minimum number of pilotag run per semest c...</td>\n",
       "      <td>0.515223</td>\n",
       "      <td>A</td>\n",
       "      <td>None</td>\n",
       "    </tr>\n",
       "    <tr>\n",
       "      <th>13779</th>\n",
       "      <td>the minimum number of pilotag run per semest c...</td>\n",
       "      <td>0.578407</td>\n",
       "      <td>A</td>\n",
       "      <td>A</td>\n",
       "    </tr>\n",
       "  </tbody>\n",
       "</table>\n",
       "<p>13620 rows × 4 columns</p>\n",
       "</div>"
      ],
      "text/plain": [
       "                                                    Text     Score Label_True  \\\n",
       "0      • articl of the act stipul that the violat of ...  0.620997          B   \n",
       "1      • articl of the act stipul that the violat of ...  0.599725          B   \n",
       "2      • articl of the act stipul that the violat of ...  0.601265          B   \n",
       "3      • articl of the act stipul that the violat of ...  0.752252          B   \n",
       "4      articl of the act stipul that a breach of thi ...  0.529027          B   \n",
       "...                                                  ...       ...        ...   \n",
       "13775  establish subject to thi norm i.e those that m...  0.527197          A   \n",
       "13776  the minimum number of pilotag run per semest c...  0.602872          A   \n",
       "13777  the minimum number of pilotag run per semest c...  0.527284          A   \n",
       "13778  the minimum number of pilotag run per semest c...  0.515223          A   \n",
       "13779  the minimum number of pilotag run per semest c...  0.578407          A   \n",
       "\n",
       "      Predict  \n",
       "0           B  \n",
       "1           B  \n",
       "2           B  \n",
       "3           B  \n",
       "4           B  \n",
       "...       ...  \n",
       "13775       A  \n",
       "13776       A  \n",
       "13777       A  \n",
       "13778    None  \n",
       "13779       A  \n",
       "\n",
       "[13620 rows x 4 columns]"
      ]
     },
     "execution_count": 46,
     "metadata": {},
     "output_type": "execute_result"
    }
   ],
   "source": [
    "bert_scores['Predict'] = np.where(bert_scores['Score'] >= score_median, bert_scores['Label_True'], 'None')\n",
    "bert_scores[['Text', 'Score', 'Label_True', 'Predict']].drop_duplicates()"
   ]
  },
  {
   "cell_type": "code",
   "execution_count": 47,
   "metadata": {},
   "outputs": [
    {
     "name": "stdout",
     "output_type": "stream",
     "text": [
      "              precision    recall  f1-score   support\n",
      "\n",
      "           A       1.00      0.48      0.65      2460\n",
      "           B       1.00      0.55      0.71      3540\n",
      "           C       1.00      0.36      0.53      2584\n",
      "        None       0.26      1.00      0.42      2084\n",
      "      Others       1.00      0.57      0.73      2952\n",
      "\n",
      "    accuracy                           0.57     13620\n",
      "   macro avg       0.85      0.59      0.61     13620\n",
      "weighted avg       0.89      0.57      0.62     13620\n",
      "\n"
     ]
    }
   ],
   "source": [
    "report = classification_report(bert_scores['Label_True'], bert_scores['Predict'])\n",
    "print(report)"
   ]
  },
  {
   "cell_type": "code",
   "execution_count": 48,
   "metadata": {},
   "outputs": [],
   "source": [
    "report = class_report_df(bert_scores['Label_True'], bert_scores['Predict'])"
   ]
  },
  {
   "cell_type": "code",
   "execution_count": 49,
   "metadata": {},
   "outputs": [
    {
     "data": {
      "image/png": "[encoded data removed]",
      "text/plain": [
       "<Figure size 600x800 with 1 Axes>"
      ]
     },
     "metadata": {},
     "output_type": "display_data"
    }
   ],
   "source": [
    "report_heatmap(report, 'plot06-04.png', custom_cmap_blues)"
   ]
  },
  {
   "attachments": {},
   "cell_type": "markdown",
   "metadata": {},
   "source": [
    "### I. GloVe"
   ]
  },
  {
   "attachments": {},
   "cell_type": "markdown",
   "metadata": {},
   "source": [
    "##### a. Document embedding matrix"
   ]
  },
  {
   "cell_type": "code",
   "execution_count": null,
   "metadata": {},
   "outputs": [],
   "source": [
    "# load GloVe embeddings\n",
    "dims = 300\n",
    "f = open(f'data/glove/glove.6B.{dims}d.txt') # download GloVe and save in data folder\n",
    "\n",
    "embed_matrix = pd.read_table(\n",
    "    f, sep = \" \", index_col = 0, \n",
    "    header = None, quoting = csv.QUOTE_NONE\n",
    ")\n",
    "\n",
    "embed_matrix.shape"
   ]
  },
  {
   "cell_type": "code",
   "execution_count": null,
   "metadata": {},
   "outputs": [],
   "source": [
    "# function for doc embeddings\n",
    "def doc_embed(df, vectorizer):\n",
    "    dfm = vectorizer.fit_transform(df['text_clean'])\n",
    "    common_features = set(embed_matrix.index) & set(vectorizer.get_feature_names_out())\n",
    "    vocab_ids = [vectorizer.vocabulary_[x] for x in common_features]\n",
    "    matrix = dfm[:,vocab_ids].dot(embed_matrix.loc[common_features,])\n",
    "    return matrix"
   ]
  },
  {
   "cell_type": "code",
   "execution_count": null,
   "metadata": {},
   "outputs": [],
   "source": [
    "vectorizer = TfidfVectorizer()\n",
    "countvectorizer = CountVectorizer()"
   ]
  },
  {
   "cell_type": "code",
   "execution_count": null,
   "metadata": {},
   "outputs": [],
   "source": [
    "# doc embeddings for legal text\n",
    "text_labels_embed = doc_embed(train_df_aug, vectorizer)\n",
    "text_labels_embed.shape"
   ]
  },
  {
   "cell_type": "code",
   "execution_count": null,
   "metadata": {},
   "outputs": [],
   "source": [
    "# doc embeddings for grouped labels\n",
    "defs_grouped_embed = doc_embed(defs_grouped, vectorizer)\n",
    "defs_grouped_embed.shape"
   ]
  },
  {
   "attachments": {},
   "cell_type": "markdown",
   "metadata": {},
   "source": [
    "##### b. Cosine similarities"
   ]
  },
  {
   "cell_type": "code",
   "execution_count": null,
   "metadata": {},
   "outputs": [],
   "source": [
    "def cos_sim(a, b):\n",
    "    dot_product = np.dot(a, b)\n",
    "    norm_a = np.linalg.norm(a)\n",
    "    norm_b = np.linalg.norm(b)\n",
    "    return dot_product / (norm_a * norm_b)"
   ]
  },
  {
   "cell_type": "code",
   "execution_count": null,
   "metadata": {},
   "outputs": [],
   "source": [
    "docs = []\n",
    "for i in range(len(text_labels_embed)):\n",
    "    scores = []\n",
    "    for j in range(len(defs_grouped_embed)):\n",
    "        A = text_labels_embed[i]\n",
    "        B = defs_grouped_embed[j]\n",
    "        scores += [(cos_sim(A,B)+1)/(1+1)] # centered \n",
    "    docs += [scores]"
   ]
  },
  {
   "cell_type": "code",
   "execution_count": null,
   "metadata": {},
   "outputs": [],
   "source": [
    "scores_df = pd.DataFrame(docs, columns = [\"A\", \"B\", \"C\", \"Others\"])\n",
    "scores_df.head()"
   ]
  },
  {
   "cell_type": "code",
   "execution_count": null,
   "metadata": {},
   "outputs": [],
   "source": [
    "plt.figure(figsize=(8, 5))\n",
    "plt.hist(scores_df.values.flatten(), bins=50, alpha=0.5, fill='#0C6291')\n",
    "plt.xlabel('Value', fontname='Arial', fontsize=12, labelpad=10)\n",
    "plt.ylabel('Frequency', fontname='Arial', fontsize=12, labelpad=10)\n",
    "plt.title('Distribution of Scores in All Categories', fontname='Arial', fontsize=14)\n",
    "plt.xticks(fontname='Arial', fontsize=12)\n",
    "plt.yticks(fontname='Arial', fontsize=12)\n",
    "plt.show()"
   ]
  },
  {
   "cell_type": "code",
   "execution_count": null,
   "metadata": {},
   "outputs": [],
   "source": [
    "# df with scores\n",
    "text_scores_labels_glove = pd.merge(train_df_aug, scores_df, left_index=True, right_index=True)\n",
    "text_scores_labels_glove.to_csv(\"data/scores/01 sim_scores_glove_labeled.csv\")"
   ]
  },
  {
   "attachments": {},
   "cell_type": "markdown",
   "metadata": {},
   "source": [
    "##### c. Threshold test"
   ]
  },
  {
   "cell_type": "code",
   "execution_count": null,
   "metadata": {},
   "outputs": [],
   "source": [
    "text_scores_labels_glove = pd.read_csv(\"data/scores/01 sim_scores_glove_labeled.csv\", index_col=0)"
   ]
  },
  {
   "cell_type": "code",
   "execution_count": null,
   "metadata": {},
   "outputs": [],
   "source": [
    "df_long = pd.melt(text_scores_labels_glove, id_vars=['Law', 'Text', 'Category',  'Category_New', 'text_clean'], \n",
    "                  var_name='Predict_Label', value_name='Score') #scores df to long format \n",
    "df_long.head()"
   ]
  },
  {
   "cell_type": "code",
   "execution_count": null,
   "metadata": {},
   "outputs": [],
   "source": [
    "results_multiclass = df_long \n",
    "results_multiclass['Predict'] = np.where(results_multiclass['Score'] > 0.90, results_multiclass['Predict_Label'], 'None') #set threshold\n",
    "results_multiclass[['Law', 'Text', 'text_clean', 'Score', 'Category_New', 'Predict']].drop_duplicates()"
   ]
  },
  {
   "cell_type": "code",
   "execution_count": null,
   "metadata": {},
   "outputs": [],
   "source": [
    "report = classification_report(results_multiclass['Category_New'], results_multiclass['Predict'])\n",
    "print(report)"
   ]
  },
  {
   "cell_type": "code",
   "execution_count": null,
   "metadata": {},
   "outputs": [],
   "source": [
    "# generate classification report\n",
    "report = classification_report(results_multiclass['Category_New'], results_multiclass['Predict'], zero_division=0, output_dict=True)\n",
    "\n",
    "# extract precision, recall, and f1-score for each category\n",
    "categories = ['A', 'B', 'C', 'Others', 'None']\n",
    "metrics = ['precision', 'recall', 'f1-score']\n",
    "data = []\n",
    "for category in categories:\n",
    "    row = []\n",
    "    for metric in metrics:\n",
    "        row.append(round(report[category][metric], 2))\n",
    "    data.append(row)\n",
    "\n",
    "# create dataframe\n",
    "report_df = pd.DataFrame(data, columns=metrics, index=categories)"
   ]
  },
  {
   "cell_type": "code",
   "execution_count": null,
   "metadata": {},
   "outputs": [],
   "source": [
    "plt.figure(figsize=(6, 8))\n",
    "sns.heatmap(report_df, annot=True, cmap=custom_cmap_blues, cbar=False, vmin=0, vmax=1,  fmt='.2f',\n",
    "            annot_kws={\"fontfamily\": \"Arial\", \"fontsize\": 12})\n",
    "#plt.xlabel('Metrics', labelpad=12, fontname='Arial', fontsize=12)\n",
    "#plt.title('Classification report', fontname='Arial', fontsize=14, y=1.02)\n",
    "plt.xticks(fontname='Arial', fontsize=12)\n",
    "plt.yticks(fontname='Arial', fontsize=12, rotation=0)\n",
    "plt.tick_params(axis='y', length=0)\n",
    "plt.tick_params(axis='x', length=0)\n",
    "plt.show()"
   ]
  },
  {
   "attachments": {},
   "cell_type": "markdown",
   "metadata": {},
   "source": [
    "##### d. Binary threshold test"
   ]
  },
  {
   "cell_type": "code",
   "execution_count": null,
   "metadata": {},
   "outputs": [],
   "source": [
    "results_binary = df_long \n",
    "results_max_score = results_binary.groupby('Text')['Score'].max() #get the highest score among 4 categories\n",
    "results_final = pd.merge(results_binary, results_max_score, on=['Text', 'Score'])\n",
    "\n",
    "results_final['Predict'] = np.where(results_final['Score'] > 0.90, 'Yes', 'None') #if max score of highest category is above 0.95, predicted label = yes\n",
    "results_final['Category_New'] = np.where(results_final['Category_New'] == 'None', results_final['Category_New'], 'Yes') #all categories changed to 'yes' except none"
   ]
  },
  {
   "cell_type": "code",
   "execution_count": null,
   "metadata": {},
   "outputs": [],
   "source": [
    "report = classification_report(results_final['Category_New'], results_final['Predict'])\n",
    "print(report)"
   ]
  },
  {
   "attachments": {},
   "cell_type": "markdown",
   "metadata": {},
   "source": [
    "##### e. Dimensionality reduction"
   ]
  },
  {
   "cell_type": "code",
   "execution_count": null,
   "metadata": {},
   "outputs": [],
   "source": [
    "# df combining text and labels\n",
    "df_comb = (text_scores_labels_glove[['Law', 'text_clean', 'Category_New']]\n",
    "           .rename(columns = {'Law':'name'})\n",
    "           .append(defs_grouped[['Main', 'text_clean']]\n",
    "                   .rename(columns = {'Main':'name'})))\n",
    "df_comb.head()"
   ]
  },
  {
   "cell_type": "code",
   "execution_count": null,
   "metadata": {},
   "outputs": [],
   "source": [
    "reducer = umap.UMAP()\n",
    "\n",
    "# dfm combining embeddings \n",
    "def dfm_combined(df, dfm1, dfm2):\n",
    "    dfm_comb = np.vstack((dfm1, dfm2))\n",
    "    embed = reducer.fit_transform(dfm_comb)\n",
    "    df[\"x\"] = embed[:,0]\n",
    "    df[\"y\"] = embed[:,1]\n",
    "    return df"
   ]
  },
  {
   "cell_type": "code",
   "execution_count": null,
   "metadata": {},
   "outputs": [],
   "source": [
    "dfm_reduced = dfm_combined(df_comb, text_labels_embed, defs_grouped_embed)"
   ]
  },
  {
   "cell_type": "code",
   "execution_count": null,
   "metadata": {},
   "outputs": [],
   "source": [
    "dfm_reduced.to_csv(\"data/scores/02 sim_scores_dim_reduced_glove.csv\")"
   ]
  },
  {
   "cell_type": "code",
   "execution_count": null,
   "metadata": {},
   "outputs": [],
   "source": [
    "text_labels_embed_nonaug = doc_embed(text_labels, vectorizer)\n",
    "text_labels_embed_nonaug.shape"
   ]
  },
  {
   "cell_type": "code",
   "execution_count": null,
   "metadata": {},
   "outputs": [],
   "source": [
    "embed = reducer.fit_transform(text_labels_embed_nonaug)\n",
    "text_labels[\"x\"] = embed[:,0]\n",
    "text_labels[\"y\"] = embed[:,1]"
   ]
  },
  {
   "cell_type": "code",
   "execution_count": null,
   "metadata": {},
   "outputs": [],
   "source": [
    "text_labels.to_csv(\"data/03 word_embed_glove.csv\")"
   ]
  },
  {
   "attachments": {},
   "cell_type": "markdown",
   "metadata": {},
   "source": [
    "### II. Legalw2v"
   ]
  },
  {
   "attachments": {},
   "cell_type": "markdown",
   "metadata": {},
   "source": [
    "##### a. Document embedding matrix (from SigmaLaw word2vec trained from legal corpus)"
   ]
  },
  {
   "cell_type": "code",
   "execution_count": null,
   "metadata": {},
   "outputs": [],
   "source": [
    "w2v_law = KeyedVectors.load_word2vec_format(\"data/sigma-lemmatized-legal/legallemmatextreplacewithnnp.bin\", binary=True, unicode_errors='ignore') \n",
    "w2v_law.vectors.shape"
   ]
  },
  {
   "cell_type": "code",
   "execution_count": null,
   "metadata": {},
   "outputs": [],
   "source": [
    "def doc_matrix_w2v(dfm):\n",
    "    words = set(vectorizer.get_feature_names_out())\n",
    "    text_vocab = list(words)\n",
    "\n",
    "    common_features = []\n",
    "    for word in text_vocab:\n",
    "        if word in w2v_law:\n",
    "            common_features += [word]\n",
    "\n",
    "    embed_common=np.empty((0,200))\n",
    "    for word in words:\n",
    "        if word in w2v_law:\n",
    "            embed_common=np.vstack([embed_common, w2v_law[word]])\n",
    "\n",
    "    vocab_ids = [vectorizer.vocabulary_[x] for x in common_features]\n",
    "    doc_matrix_w2v = dfm[:,vocab_ids].dot(embed_common)\n",
    "\n",
    "    return doc_matrix_w2v\n",
    "    "
   ]
  },
  {
   "cell_type": "code",
   "execution_count": null,
   "metadata": {},
   "outputs": [],
   "source": [
    "text_dfm = vectorizer.fit_transform(train_df_aug['text_clean'])\n",
    "text_doc_matrix = doc_matrix_w2v(text_dfm)\n",
    "text_doc_matrix.shape"
   ]
  },
  {
   "cell_type": "code",
   "execution_count": null,
   "metadata": {},
   "outputs": [],
   "source": [
    "defs_dfm = vectorizer.fit_transform(defs_grouped['text_clean'])\n",
    "defs_doc_matrix = doc_matrix_w2v(defs_dfm)\n",
    "defs_doc_matrix.shape"
   ]
  },
  {
   "attachments": {},
   "cell_type": "markdown",
   "metadata": {},
   "source": [
    "##### b. Cosine similarities"
   ]
  },
  {
   "cell_type": "code",
   "execution_count": null,
   "metadata": {},
   "outputs": [],
   "source": [
    "plt.figure(figsize=(8, 5))\n",
    "plt.hist(scores_df.values.flatten(), bins=50, alpha=0.5, fill='#0C6291')\n",
    "plt.xlabel('Value', fontname='Arial', fontsize=12, labelpad=10)\n",
    "plt.ylabel('Frequency', fontname='Arial', fontsize=12, labelpad=10)\n",
    "plt.title('Distribution of Scores in All Categories', fontname='Arial', fontsize=14)\n",
    "plt.xticks(fontname='Arial', fontsize=12)\n",
    "plt.yticks(fontname='Arial', fontsize=12)\n",
    "plt.show()"
   ]
  },
  {
   "cell_type": "code",
   "execution_count": null,
   "metadata": {},
   "outputs": [],
   "source": [
    "# df with scores\n",
    "text_scores_legalw2v = pd.merge(train_df_aug, scores_df, left_index=True, right_index=True)\n",
    "text_scores_legalw2v.to_csv(\"data/scores/01 sim_scores_legalw2v_labeled.csv\")"
   ]
  },
  {
   "attachments": {},
   "cell_type": "markdown",
   "metadata": {},
   "source": [
    "##### c. Threshold test"
   ]
  },
  {
   "cell_type": "code",
   "execution_count": null,
   "metadata": {},
   "outputs": [],
   "source": [
    "df_long = pd.melt(text_scores_legalw2v, id_vars=['Law', 'Text', 'Category',  'Category_New', 'text_clean'], \n",
    "                  var_name='Predict_Label', value_name='Score') #scores df to long format \n",
    "df_long.head()"
   ]
  },
  {
   "cell_type": "code",
   "execution_count": null,
   "metadata": {},
   "outputs": [],
   "source": [
    "results_multiclass = df_long \n",
    "results_multiclass['Predict'] = np.where(results_multiclass['Score'] > 0.70, results_multiclass['Predict_Label'], 'None') #set threshold\n",
    "results_multiclass[['Law', 'Text', 'text_clean', 'Score', 'Category_New', 'Predict']].drop_duplicates()"
   ]
  },
  {
   "cell_type": "code",
   "execution_count": null,
   "metadata": {},
   "outputs": [],
   "source": [
    "report = classification_report(results_multiclass['Category_New'], results_multiclass['Predict'])\n",
    "print(report)"
   ]
  },
  {
   "cell_type": "code",
   "execution_count": null,
   "metadata": {},
   "outputs": [],
   "source": [
    "# generate classification report\n",
    "report = classification_report(results_multiclass['Category_New'], results_multiclass['Predict'], zero_division=0, output_dict=True)\n",
    "\n",
    "# extract precision, recall, and f1-score for each category\n",
    "categories = ['A', 'B', 'C', 'Others', 'None']\n",
    "metrics = ['precision', 'recall', 'f1-score']\n",
    "data = []\n",
    "for category in categories:\n",
    "    row = []\n",
    "    for metric in metrics:\n",
    "        row.append(round(report[category][metric], 2))\n",
    "    data.append(row)\n",
    "\n",
    "# create dataframe\n",
    "report_df = pd.DataFrame(data, columns=metrics, index=categories)"
   ]
  },
  {
   "cell_type": "code",
   "execution_count": null,
   "metadata": {},
   "outputs": [],
   "source": [
    "plt.figure(figsize=(6, 8))\n",
    "sns.heatmap(report_df, annot=True, cmap=custom_cmap_blues, cbar=False, vmin=0, vmax=1,  fmt='.2f',\n",
    "            annot_kws={\"fontfamily\": \"Arial\", \"fontsize\": 12})\n",
    "#plt.xlabel('Metrics', labelpad=12, fontname='Arial', fontsize=12)\n",
    "#plt.title('Classification report', fontname='Arial', fontsize=14, y=1.02)\n",
    "plt.xticks(fontname='Arial', fontsize=12)\n",
    "plt.yticks(fontname='Arial', fontsize=12, rotation=0)\n",
    "plt.tick_params(axis='y', length=0)\n",
    "plt.tick_params(axis='x', length=0)\n",
    "plt.show()"
   ]
  },
  {
   "attachments": {},
   "cell_type": "markdown",
   "metadata": {},
   "source": [
    "##### d. Binary threshold test"
   ]
  },
  {
   "cell_type": "code",
   "execution_count": null,
   "metadata": {},
   "outputs": [],
   "source": [
    "results_binary = df_long \n",
    "results_max_score = results_binary.groupby('Text')['Score'].max() #get the highest score among 4 categories\n",
    "results_final = pd.merge(results_binary, results_max_score, on=['Text', 'Score'])\n",
    "\n",
    "results_final['Predict'] = np.where(results_final['Score'] > 0.70, 'Yes', 'None') #if max score of highest category is above 0.95, predicted label = yes\n",
    "results_final['Category_New'] = np.where(results_final['Category_New'] == 'None', results_final['Category_New'], 'Yes') #all categories changed to 'yes' except none"
   ]
  },
  {
   "cell_type": "code",
   "execution_count": null,
   "metadata": {},
   "outputs": [],
   "source": [
    "report = classification_report(results_final['Category_New'], results_final['Predict'])\n",
    "print(report)"
   ]
  },
  {
   "attachments": {},
   "cell_type": "markdown",
   "metadata": {},
   "source": [
    "##### e. Dimensionality reduction"
   ]
  },
  {
   "cell_type": "code",
   "execution_count": null,
   "metadata": {},
   "outputs": [],
   "source": [
    "dfm_reduced = dfm_combined(df_comb, text_doc_matrix, defs_doc_matrix)"
   ]
  },
  {
   "cell_type": "code",
   "execution_count": null,
   "metadata": {},
   "outputs": [],
   "source": [
    "dfm_reduced.to_csv(\"data/scores/02 sim_scores_dim_reduced_legal.csv\")"
   ]
  },
  {
   "attachments": {},
   "cell_type": "markdown",
   "metadata": {},
   "source": [
    "Labeled data (not augmented)"
   ]
  },
  {
   "cell_type": "code",
   "execution_count": null,
   "metadata": {},
   "outputs": [],
   "source": [
    "legal_embed_nonaug = vectorizer.fit_transform(text_labels['text_clean'])\n",
    "legal_dfm = doc_matrix_w2v(legal_embed_nonaug)\n",
    "legal_dfm.shape"
   ]
  },
  {
   "cell_type": "code",
   "execution_count": null,
   "metadata": {},
   "outputs": [],
   "source": [
    "embed = reducer.fit_transform(legal_dfm)\n",
    "text_labels[\"x\"] = embed[:,0]\n",
    "text_labels[\"y\"] = embed[:,1]"
   ]
  },
  {
   "cell_type": "code",
   "execution_count": null,
   "metadata": {},
   "outputs": [],
   "source": [
    "text_labels.to_csv(\"data/03 word_embed_legal.csv\")"
   ]
  }
 ],
 "metadata": {
  "kernelspec": {
   "display_name": "mtc-models",
   "language": "python",
   "name": "python3"
  },
  "language_info": {
   "codemirror_mode": {
    "name": "ipython",
    "version": 3
   },
   "file_extension": ".py",
   "mimetype": "text/x-python",
   "name": "python",
   "nbconvert_exporter": "python",
   "pygments_lexer": "ipython3",
   "version": "3.8.16"
  },
  "orig_nbformat": 4
 },
 "nbformat": 4,
 "nbformat_minor": 2
}
