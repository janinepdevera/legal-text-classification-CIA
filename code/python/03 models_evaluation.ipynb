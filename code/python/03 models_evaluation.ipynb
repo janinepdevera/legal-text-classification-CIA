{
 "cells": [
  {
   "attachments": {},
   "cell_type": "markdown",
   "metadata": {},
   "source": [
    "# Multi-label Legal Text Classification for CIA"
   ]
  },
  {
   "attachments": {},
   "cell_type": "markdown",
   "metadata": {},
   "source": [
    "## Model Evaluation"
   ]
  },
  {
   "cell_type": "code",
   "execution_count": 1,
   "metadata": {},
   "outputs": [],
   "source": [
    "import pandas as pd\n",
    "import numpy as np\n",
    "import matplotlib.pyplot as plt\n",
    "import seaborn as sns\n",
    "import os\n",
    "import csv\n",
    "import gzip\n",
    "import random"
   ]
  },
  {
   "cell_type": "code",
   "execution_count": 2,
   "metadata": {},
   "outputs": [],
   "source": [
    "from sklearn.model_selection import train_test_split\n",
    "from sklearn.preprocessing import LabelEncoder\n",
    "from sklearn.linear_model import LogisticRegression\n",
    "from sklearn.metrics import accuracy_score, precision_recall_fscore_support, precision_score, recall_score, classification_report, confusion_matrix"
   ]
  },
  {
   "cell_type": "code",
   "execution_count": 3,
   "metadata": {},
   "outputs": [
    {
     "name": "stderr",
     "output_type": "stream",
     "text": [
      "/Users/janinedevera/opt/miniconda3/envs/mtc-models/lib/python3.8/site-packages/tqdm/auto.py:21: TqdmWarning: IProgress not found. Please update jupyter and ipywidgets. See https://ipywidgets.readthedocs.io/en/stable/user_install.html\n",
      "  from .autonotebook import tqdm as notebook_tqdm\n"
     ]
    }
   ],
   "source": [
    "from sentence_transformers import models, losses, datasets\n",
    "from sentence_transformers import LoggingHandler, SentenceTransformer, util, InputExample\n",
    "from sentence_transformers.evaluation import EmbeddingSimilarityEvaluator\n",
    "from sentence_transformers.datasets import DenoisingAutoEncoderDataset\n",
    "import torch\n",
    "from torch.optim import Adam\n",
    "from torch.utils.data import DataLoader\n",
    "from tqdm import tqdm\n",
    "import math\n",
    "import logging\n",
    "from datetime import datetime"
   ]
  },
  {
   "cell_type": "code",
   "execution_count": 4,
   "metadata": {},
   "outputs": [
    {
     "data": {
      "text/plain": [
       "'/Users/janinedevera/Documents/School/MDS 2021-2023/Thesis/multilabel-legal-text-classification-CIA'"
      ]
     },
     "execution_count": 4,
     "metadata": {},
     "output_type": "execute_result"
    }
   ],
   "source": [
    "os.chdir(\"/Users/janinedevera/Documents/School/MDS 2021-2023/Thesis/multilabel-legal-text-classification-CIA\")\n",
    "os.getcwd()"
   ]
  },
  {
   "attachments": {},
   "cell_type": "markdown",
   "metadata": {},
   "source": [
    "Prepare test data"
   ]
  },
  {
   "cell_type": "code",
   "execution_count": 7,
   "metadata": {},
   "outputs": [],
   "source": [
    "# definitions\n",
    "oecd_defs = pd.read_csv(\"data/02 oecd_definitions_stopwords_grouped.csv\", index_col=0)\n",
    "\n",
    "# sample test data\n",
    "test_data = pd.read_csv(\"data/01 train_data_augmented.csv\", index_col=0).drop_duplicates()"
   ]
  },
  {
   "cell_type": "code",
   "execution_count": 16,
   "metadata": {},
   "outputs": [
    {
     "data": {
      "text/html": [
       "<div>\n",
       "<style scoped>\n",
       "    .dataframe tbody tr th:only-of-type {\n",
       "        vertical-align: middle;\n",
       "    }\n",
       "\n",
       "    .dataframe tbody tr th {\n",
       "        vertical-align: top;\n",
       "    }\n",
       "\n",
       "    .dataframe thead th {\n",
       "        text-align: right;\n",
       "    }\n",
       "</style>\n",
       "<table border=\"1\" class=\"dataframe\">\n",
       "  <thead>\n",
       "    <tr style=\"text-align: right;\">\n",
       "      <th></th>\n",
       "      <th>Main</th>\n",
       "      <th>text_clean</th>\n",
       "      <th>length</th>\n",
       "      <th>Category_New</th>\n",
       "    </tr>\n",
       "  </thead>\n",
       "  <tbody>\n",
       "    <tr>\n",
       "      <th>0</th>\n",
       "      <td>A</td>\n",
       "      <td>limit the number of supplier lead to the risk ...</td>\n",
       "      <td>833</td>\n",
       "      <td>A</td>\n",
       "    </tr>\n",
       "    <tr>\n",
       "      <th>1</th>\n",
       "      <td>B</td>\n",
       "      <td>regul can affect a supplier 's abil to compet ...</td>\n",
       "      <td>781</td>\n",
       "      <td>B</td>\n",
       "    </tr>\n",
       "    <tr>\n",
       "      <th>2</th>\n",
       "      <td>C</td>\n",
       "      <td>regul can affect supplier behaviour by not onl...</td>\n",
       "      <td>459</td>\n",
       "      <td>C</td>\n",
       "    </tr>\n",
       "    <tr>\n",
       "      <th>3</th>\n",
       "      <td>D</td>\n",
       "      <td>regul sometim limit choic avail to consum for ...</td>\n",
       "      <td>257</td>\n",
       "      <td>Others</td>\n",
       "    </tr>\n",
       "  </tbody>\n",
       "</table>\n",
       "</div>"
      ],
      "text/plain": [
       "  Main                                         text_clean  length Category_New\n",
       "0    A  limit the number of supplier lead to the risk ...     833            A\n",
       "1    B  regul can affect a supplier 's abil to compet ...     781            B\n",
       "2    C  regul can affect supplier behaviour by not onl...     459            C\n",
       "3    D  regul sometim limit choic avail to consum for ...     257       Others"
      ]
     },
     "execution_count": 16,
     "metadata": {},
     "output_type": "execute_result"
    }
   ],
   "source": [
    "oecd_defs['Category_New'] = oecd_defs['Main'].replace('D', 'Others')\n",
    "oecd_defs"
   ]
  },
  {
   "attachments": {},
   "cell_type": "markdown",
   "metadata": {},
   "source": [
    "Similarity scores"
   ]
  },
  {
   "cell_type": "code",
   "execution_count": 8,
   "metadata": {},
   "outputs": [],
   "source": [
    "def calculate_sim_scores(list1, list2, defs_name, labels_true, model): \n",
    "    \n",
    "    df = pd.DataFrame(columns = ['Text', 'Label_Text', 'Label_Name', 'Score', 'Label_True'])\n",
    "    \n",
    "    for i, label in zip(list1, labels_true):\n",
    "        embeddings1 = model.encode(i, convert_to_tensor = True)\n",
    "        for j, name in zip(list2, defs_name):\n",
    "            embeddings2 = model.encode(j, convert_to_tensor = True)\n",
    "            cosine_scores = util.cos_sim(embeddings1, embeddings2)\n",
    "\n",
    "            row = pd.DataFrame({'Text': i, 'Label_Text': j, 'Label_Name': name, 'Label_True': label, 'Score': cosine_scores[0]}, index=[0])\n",
    "            df = pd.concat([row,df.loc[:]]).reset_index(drop=True)\n",
    "\n",
    "    return df"
   ]
  },
  {
   "cell_type": "code",
   "execution_count": 18,
   "metadata": {},
   "outputs": [],
   "source": [
    "test_list = test_data['text_clean'] \n",
    "labels_list = test_data['Category_New']\n",
    "defs_list = oecd_defs['text_clean']\n",
    "defs_name = oecd_defs['Category_New']"
   ]
  },
  {
   "attachments": {},
   "cell_type": "markdown",
   "metadata": {},
   "source": [
    "### A. BERT base + TSDAE + STS"
   ]
  },
  {
   "cell_type": "code",
   "execution_count": 20,
   "metadata": {},
   "outputs": [],
   "source": [
    "# specify trained model \n",
    "model_sbert_sts = SentenceTransformer('models/sbert_stsbenchmark-2023-03-23_09-50')\n",
    "model_tsdae = SentenceTransformer('models/tsdae-2023-03-22_12-39')"
   ]
  },
  {
   "cell_type": "code",
   "execution_count": 21,
   "metadata": {},
   "outputs": [],
   "source": [
    "results = calculate_sim_scores(test_list, defs_list, defs_name, labels_list, model_sbert_sts).drop_duplicates()"
   ]
  },
  {
   "cell_type": "code",
   "execution_count": 22,
   "metadata": {},
   "outputs": [],
   "source": [
    "results.to_csv(\"data/scores/03 sim_scores_bert_sts.csv\")"
   ]
  },
  {
   "attachments": {},
   "cell_type": "markdown",
   "metadata": {},
   "source": [
    "Threshold based predictions"
   ]
  },
  {
   "cell_type": "code",
   "execution_count": 24,
   "metadata": {},
   "outputs": [],
   "source": [
    "results = pd.read_csv(\"data/scores/03 sim_scores_bert_sts.csv\", index_col = 0)"
   ]
  },
  {
   "cell_type": "code",
   "execution_count": 35,
   "metadata": {},
   "outputs": [],
   "source": [
    "results_multiclass = results\n",
    "results_multiclass['Predict'] = np.where(results_multiclass['Score'] > 0.65, results_multiclass['Label_Name'], 'None')"
   ]
  },
  {
   "cell_type": "code",
   "execution_count": 36,
   "metadata": {},
   "outputs": [
    {
     "data": {
      "image/png": "[encoded data removed]",
      "text/plain": [
       "<Figure size 800x500 with 1 Axes>"
      ]
     },
     "metadata": {},
     "output_type": "display_data"
    }
   ],
   "source": [
    "plt.figure(figsize=(8, 5))\n",
    "plt.hist(results_multiclass['Score'], bins=50, alpha=0.5, fill='#0C6291')\n",
    "plt.xlabel('Value', fontname='Arial', fontsize=12, labelpad=10)\n",
    "plt.ylabel('Frequency', fontname='Arial', fontsize=12, labelpad=10)\n",
    "plt.title('Distribution of Scores in All Categories', fontname='Arial', fontsize=14)\n",
    "plt.xticks(fontname='Arial', fontsize=12)\n",
    "plt.yticks(fontname='Arial', fontsize=12)\n",
    "plt.show()"
   ]
  },
  {
   "cell_type": "code",
   "execution_count": 37,
   "metadata": {},
   "outputs": [
    {
     "data": {
      "text/html": [
       "<div>\n",
       "<style scoped>\n",
       "    .dataframe tbody tr th:only-of-type {\n",
       "        vertical-align: middle;\n",
       "    }\n",
       "\n",
       "    .dataframe tbody tr th {\n",
       "        vertical-align: top;\n",
       "    }\n",
       "\n",
       "    .dataframe thead th {\n",
       "        text-align: right;\n",
       "    }\n",
       "</style>\n",
       "<table border=\"1\" class=\"dataframe\">\n",
       "  <thead>\n",
       "    <tr style=\"text-align: right;\">\n",
       "      <th></th>\n",
       "      <th>Text</th>\n",
       "      <th>Label_Text</th>\n",
       "      <th>Label_Name</th>\n",
       "      <th>Label_True</th>\n",
       "      <th>Score</th>\n",
       "      <th>Predict</th>\n",
       "    </tr>\n",
       "  </thead>\n",
       "  <tbody>\n",
       "    <tr>\n",
       "      <th>0</th>\n",
       "      <td>• articl of the act stipul that the violat of ...</td>\n",
       "      <td>regul sometim limit choic avail to consum for ...</td>\n",
       "      <td>Others</td>\n",
       "      <td>B</td>\n",
       "      <td>0.620997</td>\n",
       "      <td>None</td>\n",
       "    </tr>\n",
       "    <tr>\n",
       "      <th>1</th>\n",
       "      <td>• articl of the act stipul that the violat of ...</td>\n",
       "      <td>regul can affect supplier behaviour by not onl...</td>\n",
       "      <td>C</td>\n",
       "      <td>B</td>\n",
       "      <td>0.599725</td>\n",
       "      <td>None</td>\n",
       "    </tr>\n",
       "    <tr>\n",
       "      <th>2</th>\n",
       "      <td>• articl of the act stipul that the violat of ...</td>\n",
       "      <td>regul can affect a supplier 's abil to compet ...</td>\n",
       "      <td>B</td>\n",
       "      <td>B</td>\n",
       "      <td>0.601265</td>\n",
       "      <td>None</td>\n",
       "    </tr>\n",
       "    <tr>\n",
       "      <th>3</th>\n",
       "      <td>• articl of the act stipul that the violat of ...</td>\n",
       "      <td>limit the number of supplier lead to the risk ...</td>\n",
       "      <td>A</td>\n",
       "      <td>B</td>\n",
       "      <td>0.752252</td>\n",
       "      <td>A</td>\n",
       "    </tr>\n",
       "    <tr>\n",
       "      <th>4</th>\n",
       "      <td>articl of the act stipul that a breach of thi ...</td>\n",
       "      <td>regul sometim limit choic avail to consum for ...</td>\n",
       "      <td>Others</td>\n",
       "      <td>B</td>\n",
       "      <td>0.529027</td>\n",
       "      <td>None</td>\n",
       "    </tr>\n",
       "    <tr>\n",
       "      <th>...</th>\n",
       "      <td>...</td>\n",
       "      <td>...</td>\n",
       "      <td>...</td>\n",
       "      <td>...</td>\n",
       "      <td>...</td>\n",
       "      <td>...</td>\n",
       "    </tr>\n",
       "    <tr>\n",
       "      <th>13775</th>\n",
       "      <td>establish subject to thi norm i.e those that m...</td>\n",
       "      <td>limit the number of supplier lead to the risk ...</td>\n",
       "      <td>A</td>\n",
       "      <td>A</td>\n",
       "      <td>0.527197</td>\n",
       "      <td>None</td>\n",
       "    </tr>\n",
       "    <tr>\n",
       "      <th>13776</th>\n",
       "      <td>the minimum number of pilotag run per semest c...</td>\n",
       "      <td>regul sometim limit choic avail to consum for ...</td>\n",
       "      <td>Others</td>\n",
       "      <td>A</td>\n",
       "      <td>0.602872</td>\n",
       "      <td>None</td>\n",
       "    </tr>\n",
       "    <tr>\n",
       "      <th>13777</th>\n",
       "      <td>the minimum number of pilotag run per semest c...</td>\n",
       "      <td>regul can affect supplier behaviour by not onl...</td>\n",
       "      <td>C</td>\n",
       "      <td>A</td>\n",
       "      <td>0.527284</td>\n",
       "      <td>None</td>\n",
       "    </tr>\n",
       "    <tr>\n",
       "      <th>13778</th>\n",
       "      <td>the minimum number of pilotag run per semest c...</td>\n",
       "      <td>regul can affect a supplier 's abil to compet ...</td>\n",
       "      <td>B</td>\n",
       "      <td>A</td>\n",
       "      <td>0.515223</td>\n",
       "      <td>None</td>\n",
       "    </tr>\n",
       "    <tr>\n",
       "      <th>13779</th>\n",
       "      <td>the minimum number of pilotag run per semest c...</td>\n",
       "      <td>limit the number of supplier lead to the risk ...</td>\n",
       "      <td>A</td>\n",
       "      <td>A</td>\n",
       "      <td>0.578407</td>\n",
       "      <td>None</td>\n",
       "    </tr>\n",
       "  </tbody>\n",
       "</table>\n",
       "<p>13620 rows × 6 columns</p>\n",
       "</div>"
      ],
      "text/plain": [
       "                                                    Text  \\\n",
       "0      • articl of the act stipul that the violat of ...   \n",
       "1      • articl of the act stipul that the violat of ...   \n",
       "2      • articl of the act stipul that the violat of ...   \n",
       "3      • articl of the act stipul that the violat of ...   \n",
       "4      articl of the act stipul that a breach of thi ...   \n",
       "...                                                  ...   \n",
       "13775  establish subject to thi norm i.e those that m...   \n",
       "13776  the minimum number of pilotag run per semest c...   \n",
       "13777  the minimum number of pilotag run per semest c...   \n",
       "13778  the minimum number of pilotag run per semest c...   \n",
       "13779  the minimum number of pilotag run per semest c...   \n",
       "\n",
       "                                              Label_Text Label_Name  \\\n",
       "0      regul sometim limit choic avail to consum for ...     Others   \n",
       "1      regul can affect supplier behaviour by not onl...          C   \n",
       "2      regul can affect a supplier 's abil to compet ...          B   \n",
       "3      limit the number of supplier lead to the risk ...          A   \n",
       "4      regul sometim limit choic avail to consum for ...     Others   \n",
       "...                                                  ...        ...   \n",
       "13775  limit the number of supplier lead to the risk ...          A   \n",
       "13776  regul sometim limit choic avail to consum for ...     Others   \n",
       "13777  regul can affect supplier behaviour by not onl...          C   \n",
       "13778  regul can affect a supplier 's abil to compet ...          B   \n",
       "13779  limit the number of supplier lead to the risk ...          A   \n",
       "\n",
       "      Label_True     Score Predict  \n",
       "0              B  0.620997    None  \n",
       "1              B  0.599725    None  \n",
       "2              B  0.601265    None  \n",
       "3              B  0.752252       A  \n",
       "4              B  0.529027    None  \n",
       "...          ...       ...     ...  \n",
       "13775          A  0.527197    None  \n",
       "13776          A  0.602872    None  \n",
       "13777          A  0.527284    None  \n",
       "13778          A  0.515223    None  \n",
       "13779          A  0.578407    None  \n",
       "\n",
       "[13620 rows x 6 columns]"
      ]
     },
     "execution_count": 37,
     "metadata": {},
     "output_type": "execute_result"
    }
   ],
   "source": [
    "results_multiclass"
   ]
  },
  {
   "cell_type": "code",
   "execution_count": 38,
   "metadata": {},
   "outputs": [
    {
     "name": "stdout",
     "output_type": "stream",
     "text": [
      "              precision    recall  f1-score   support\n",
      "\n",
      "           A       0.16      0.05      0.08      2460\n",
      "           B       0.30      0.01      0.02      3540\n",
      "           C       0.34      0.02      0.04      2584\n",
      "        None       0.15      0.90      0.26      2084\n",
      "      Others       0.16      0.01      0.01      2952\n",
      "\n",
      "    accuracy                           0.15     13620\n",
      "   macro avg       0.22      0.20      0.08     13620\n",
      "weighted avg       0.23      0.15      0.07     13620\n",
      "\n"
     ]
    }
   ],
   "source": [
    "# Generate the classification report\n",
    "report = classification_report(results_multiclass['Label_True'], results_multiclass['Predict'])\n",
    "print(report)"
   ]
  },
  {
   "cell_type": "code",
   "execution_count": 39,
   "metadata": {},
   "outputs": [],
   "source": [
    "# generate classification report\n",
    "report = classification_report(results_multiclass['Label_True'], results_multiclass['Predict'], zero_division=0, output_dict=True)\n",
    "\n",
    "# extract precision, recall, and f1-score for each category\n",
    "categories = ['A', 'B', 'C', 'Others', 'None']\n",
    "metrics = ['precision', 'recall', 'f1-score']\n",
    "data = []\n",
    "for category in categories:\n",
    "    row = []\n",
    "    for metric in metrics:\n",
    "        row.append(round(report[category][metric], 2))\n",
    "    data.append(row)\n",
    "\n",
    "# create dataframe\n",
    "report_df = pd.DataFrame(data, columns=metrics, index=categories)"
   ]
  },
  {
   "cell_type": "code",
   "execution_count": 41,
   "metadata": {},
   "outputs": [
    {
     "data": {
      "image/png": "[encoded data removed]",
      "text/plain": [
       "<Figure size 600x800 with 1 Axes>"
      ]
     },
     "metadata": {},
     "output_type": "display_data"
    }
   ],
   "source": [
    "custom_cmap_blues = sns.color_palette(['#A9BBD3', '#A0B4CF', '#8FA8C6', '#7E9CBD', '#6D8FB4', '#537CA6', '#416F9D', '#306294', '#0F4A82'])\n",
    "custom_cmap_pinks = sns.color_palette(['#FFE6F2', '#FFCCE4', '#F99FC8', '#F28AB9', '#E177A5', '#D56997', '#C85B89', '#B9537E'])\n",
    "\n",
    "plt.figure(figsize=(6, 8))\n",
    "sns.heatmap(report_df, annot=True, cmap=custom_cmap_blues, cbar=False, vmin=0, vmax=1,  fmt='.2f',\n",
    "            annot_kws={\"fontfamily\": \"Arial\", \"fontsize\": 12})\n",
    "#plt.xlabel('Metrics', labelpad=12, fontname='Arial', fontsize=12)\n",
    "#plt.title('Classification report', fontname='Arial', fontsize=14, y=1.02)\n",
    "plt.xticks(fontname='Arial', fontsize=12)\n",
    "plt.yticks(fontname='Arial', fontsize=12, rotation=0)\n",
    "plt.tick_params(axis='y', length=0)\n",
    "plt.tick_params(axis='x', length=0)\n",
    "plt.show()"
   ]
  },
  {
   "attachments": {},
   "cell_type": "markdown",
   "metadata": {},
   "source": [
    "Threshold based predictions: binary"
   ]
  },
  {
   "cell_type": "code",
   "execution_count": 42,
   "metadata": {},
   "outputs": [],
   "source": [
    "results_binary = results"
   ]
  },
  {
   "cell_type": "code",
   "execution_count": 43,
   "metadata": {},
   "outputs": [
    {
     "data": {
      "text/html": [
       "<div>\n",
       "<style scoped>\n",
       "    .dataframe tbody tr th:only-of-type {\n",
       "        vertical-align: middle;\n",
       "    }\n",
       "\n",
       "    .dataframe tbody tr th {\n",
       "        vertical-align: top;\n",
       "    }\n",
       "\n",
       "    .dataframe thead th {\n",
       "        text-align: right;\n",
       "    }\n",
       "</style>\n",
       "<table border=\"1\" class=\"dataframe\">\n",
       "  <thead>\n",
       "    <tr style=\"text-align: right;\">\n",
       "      <th></th>\n",
       "      <th>Text</th>\n",
       "      <th>Label_Text</th>\n",
       "      <th>Label_Name</th>\n",
       "      <th>Label_True</th>\n",
       "      <th>Score</th>\n",
       "      <th>Predict</th>\n",
       "    </tr>\n",
       "  </thead>\n",
       "  <tbody>\n",
       "    <tr>\n",
       "      <th>0</th>\n",
       "      <td>• articl of the act stipul that the violat of ...</td>\n",
       "      <td>regul sometim limit choic avail to consum for ...</td>\n",
       "      <td>Others</td>\n",
       "      <td>B</td>\n",
       "      <td>0.620997</td>\n",
       "      <td>None</td>\n",
       "    </tr>\n",
       "    <tr>\n",
       "      <th>1</th>\n",
       "      <td>• articl of the act stipul that the violat of ...</td>\n",
       "      <td>regul can affect supplier behaviour by not onl...</td>\n",
       "      <td>C</td>\n",
       "      <td>B</td>\n",
       "      <td>0.599725</td>\n",
       "      <td>None</td>\n",
       "    </tr>\n",
       "    <tr>\n",
       "      <th>2</th>\n",
       "      <td>• articl of the act stipul that the violat of ...</td>\n",
       "      <td>regul can affect a supplier 's abil to compet ...</td>\n",
       "      <td>B</td>\n",
       "      <td>B</td>\n",
       "      <td>0.601265</td>\n",
       "      <td>None</td>\n",
       "    </tr>\n",
       "    <tr>\n",
       "      <th>3</th>\n",
       "      <td>• articl of the act stipul that the violat of ...</td>\n",
       "      <td>limit the number of supplier lead to the risk ...</td>\n",
       "      <td>A</td>\n",
       "      <td>B</td>\n",
       "      <td>0.752252</td>\n",
       "      <td>A</td>\n",
       "    </tr>\n",
       "    <tr>\n",
       "      <th>4</th>\n",
       "      <td>articl of the act stipul that a breach of thi ...</td>\n",
       "      <td>regul sometim limit choic avail to consum for ...</td>\n",
       "      <td>Others</td>\n",
       "      <td>B</td>\n",
       "      <td>0.529027</td>\n",
       "      <td>None</td>\n",
       "    </tr>\n",
       "    <tr>\n",
       "      <th>...</th>\n",
       "      <td>...</td>\n",
       "      <td>...</td>\n",
       "      <td>...</td>\n",
       "      <td>...</td>\n",
       "      <td>...</td>\n",
       "      <td>...</td>\n",
       "    </tr>\n",
       "    <tr>\n",
       "      <th>13775</th>\n",
       "      <td>establish subject to thi norm i.e those that m...</td>\n",
       "      <td>limit the number of supplier lead to the risk ...</td>\n",
       "      <td>A</td>\n",
       "      <td>A</td>\n",
       "      <td>0.527197</td>\n",
       "      <td>None</td>\n",
       "    </tr>\n",
       "    <tr>\n",
       "      <th>13776</th>\n",
       "      <td>the minimum number of pilotag run per semest c...</td>\n",
       "      <td>regul sometim limit choic avail to consum for ...</td>\n",
       "      <td>Others</td>\n",
       "      <td>A</td>\n",
       "      <td>0.602872</td>\n",
       "      <td>None</td>\n",
       "    </tr>\n",
       "    <tr>\n",
       "      <th>13777</th>\n",
       "      <td>the minimum number of pilotag run per semest c...</td>\n",
       "      <td>regul can affect supplier behaviour by not onl...</td>\n",
       "      <td>C</td>\n",
       "      <td>A</td>\n",
       "      <td>0.527284</td>\n",
       "      <td>None</td>\n",
       "    </tr>\n",
       "    <tr>\n",
       "      <th>13778</th>\n",
       "      <td>the minimum number of pilotag run per semest c...</td>\n",
       "      <td>regul can affect a supplier 's abil to compet ...</td>\n",
       "      <td>B</td>\n",
       "      <td>A</td>\n",
       "      <td>0.515223</td>\n",
       "      <td>None</td>\n",
       "    </tr>\n",
       "    <tr>\n",
       "      <th>13779</th>\n",
       "      <td>the minimum number of pilotag run per semest c...</td>\n",
       "      <td>limit the number of supplier lead to the risk ...</td>\n",
       "      <td>A</td>\n",
       "      <td>A</td>\n",
       "      <td>0.578407</td>\n",
       "      <td>None</td>\n",
       "    </tr>\n",
       "  </tbody>\n",
       "</table>\n",
       "<p>13620 rows × 6 columns</p>\n",
       "</div>"
      ],
      "text/plain": [
       "                                                    Text  \\\n",
       "0      • articl of the act stipul that the violat of ...   \n",
       "1      • articl of the act stipul that the violat of ...   \n",
       "2      • articl of the act stipul that the violat of ...   \n",
       "3      • articl of the act stipul that the violat of ...   \n",
       "4      articl of the act stipul that a breach of thi ...   \n",
       "...                                                  ...   \n",
       "13775  establish subject to thi norm i.e those that m...   \n",
       "13776  the minimum number of pilotag run per semest c...   \n",
       "13777  the minimum number of pilotag run per semest c...   \n",
       "13778  the minimum number of pilotag run per semest c...   \n",
       "13779  the minimum number of pilotag run per semest c...   \n",
       "\n",
       "                                              Label_Text Label_Name  \\\n",
       "0      regul sometim limit choic avail to consum for ...     Others   \n",
       "1      regul can affect supplier behaviour by not onl...          C   \n",
       "2      regul can affect a supplier 's abil to compet ...          B   \n",
       "3      limit the number of supplier lead to the risk ...          A   \n",
       "4      regul sometim limit choic avail to consum for ...     Others   \n",
       "...                                                  ...        ...   \n",
       "13775  limit the number of supplier lead to the risk ...          A   \n",
       "13776  regul sometim limit choic avail to consum for ...     Others   \n",
       "13777  regul can affect supplier behaviour by not onl...          C   \n",
       "13778  regul can affect a supplier 's abil to compet ...          B   \n",
       "13779  limit the number of supplier lead to the risk ...          A   \n",
       "\n",
       "      Label_True     Score Predict  \n",
       "0              B  0.620997    None  \n",
       "1              B  0.599725    None  \n",
       "2              B  0.601265    None  \n",
       "3              B  0.752252       A  \n",
       "4              B  0.529027    None  \n",
       "...          ...       ...     ...  \n",
       "13775          A  0.527197    None  \n",
       "13776          A  0.602872    None  \n",
       "13777          A  0.527284    None  \n",
       "13778          A  0.515223    None  \n",
       "13779          A  0.578407    None  \n",
       "\n",
       "[13620 rows x 6 columns]"
      ]
     },
     "execution_count": 43,
     "metadata": {},
     "output_type": "execute_result"
    }
   ],
   "source": [
    "results_binary"
   ]
  },
  {
   "cell_type": "code",
   "execution_count": 44,
   "metadata": {},
   "outputs": [],
   "source": [
    "results_max_score = results_binary.groupby('Text')['Score'].max()"
   ]
  },
  {
   "cell_type": "code",
   "execution_count": 45,
   "metadata": {},
   "outputs": [],
   "source": [
    "results_final = pd.merge(results_binary, results_max_score, on=['Text', 'Score'])"
   ]
  },
  {
   "cell_type": "code",
   "execution_count": 46,
   "metadata": {},
   "outputs": [],
   "source": [
    "results_final['Predict'] = np.where(results_final['Score'] > 0.60, 'Yes', 'None')\n",
    "results_final['Label_True'] = np.where(results_final['Label_True'] == 'None', results_final['Label_True'], 'Yes')"
   ]
  },
  {
   "cell_type": "code",
   "execution_count": 47,
   "metadata": {},
   "outputs": [
    {
     "data": {
      "text/html": [
       "<div>\n",
       "<style scoped>\n",
       "    .dataframe tbody tr th:only-of-type {\n",
       "        vertical-align: middle;\n",
       "    }\n",
       "\n",
       "    .dataframe tbody tr th {\n",
       "        vertical-align: top;\n",
       "    }\n",
       "\n",
       "    .dataframe thead th {\n",
       "        text-align: right;\n",
       "    }\n",
       "</style>\n",
       "<table border=\"1\" class=\"dataframe\">\n",
       "  <thead>\n",
       "    <tr style=\"text-align: right;\">\n",
       "      <th></th>\n",
       "      <th>Text</th>\n",
       "      <th>Label_Text</th>\n",
       "      <th>Label_Name</th>\n",
       "      <th>Label_True</th>\n",
       "      <th>Score</th>\n",
       "      <th>Predict</th>\n",
       "    </tr>\n",
       "  </thead>\n",
       "  <tbody>\n",
       "    <tr>\n",
       "      <th>0</th>\n",
       "      <td>• articl of the act stipul that the violat of ...</td>\n",
       "      <td>limit the number of supplier lead to the risk ...</td>\n",
       "      <td>A</td>\n",
       "      <td>Yes</td>\n",
       "      <td>0.752252</td>\n",
       "      <td>Yes</td>\n",
       "    </tr>\n",
       "    <tr>\n",
       "      <th>1</th>\n",
       "      <td>articl of the act stipul that a breach of thi ...</td>\n",
       "      <td>limit the number of supplier lead to the risk ...</td>\n",
       "      <td>A</td>\n",
       "      <td>Yes</td>\n",
       "      <td>0.647846</td>\n",
       "      <td>Yes</td>\n",
       "    </tr>\n",
       "    <tr>\n",
       "      <th>2</th>\n",
       "      <td>articl of the act state that the violat of thi...</td>\n",
       "      <td>limit the number of supplier lead to the risk ...</td>\n",
       "      <td>A</td>\n",
       "      <td>Yes</td>\n",
       "      <td>0.680944</td>\n",
       "      <td>Yes</td>\n",
       "    </tr>\n",
       "    <tr>\n",
       "      <th>3</th>\n",
       "      <td>accord to articl of the act an infring of thi ...</td>\n",
       "      <td>limit the number of supplier lead to the risk ...</td>\n",
       "      <td>A</td>\n",
       "      <td>Yes</td>\n",
       "      <td>0.668809</td>\n",
       "      <td>Yes</td>\n",
       "    </tr>\n",
       "    <tr>\n",
       "      <th>4</th>\n",
       "      <td>articl of the law state that an infring of thi...</td>\n",
       "      <td>limit the number of supplier lead to the risk ...</td>\n",
       "      <td>A</td>\n",
       "      <td>Yes</td>\n",
       "      <td>0.629033</td>\n",
       "      <td>Yes</td>\n",
       "    </tr>\n",
       "    <tr>\n",
       "      <th>...</th>\n",
       "      <td>...</td>\n",
       "      <td>...</td>\n",
       "      <td>...</td>\n",
       "      <td>...</td>\n",
       "      <td>...</td>\n",
       "      <td>...</td>\n",
       "    </tr>\n",
       "    <tr>\n",
       "      <th>3400</th>\n",
       "      <td>the respons parti that pay the indemn is exone...</td>\n",
       "      <td>limit the number of supplier lead to the risk ...</td>\n",
       "      <td>A</td>\n",
       "      <td>None</td>\n",
       "      <td>0.660084</td>\n",
       "      <td>Yes</td>\n",
       "    </tr>\n",
       "    <tr>\n",
       "      <th>3401</th>\n",
       "      <td>duti period limit for flight and cabin crew of...</td>\n",
       "      <td>limit the number of supplier lead to the risk ...</td>\n",
       "      <td>A</td>\n",
       "      <td>Yes</td>\n",
       "      <td>0.508737</td>\n",
       "      <td>None</td>\n",
       "    </tr>\n",
       "    <tr>\n",
       "      <th>3402</th>\n",
       "      <td>the norm specif state that it is not in line w...</td>\n",
       "      <td>regul can affect supplier behaviour by not onl...</td>\n",
       "      <td>C</td>\n",
       "      <td>Yes</td>\n",
       "      <td>0.568243</td>\n",
       "      <td>None</td>\n",
       "    </tr>\n",
       "    <tr>\n",
       "      <th>3403</th>\n",
       "      <td>establish subject to thi norm i.e those that m...</td>\n",
       "      <td>regul sometim limit choic avail to consum for ...</td>\n",
       "      <td>Others</td>\n",
       "      <td>Yes</td>\n",
       "      <td>0.573974</td>\n",
       "      <td>None</td>\n",
       "    </tr>\n",
       "    <tr>\n",
       "      <th>3404</th>\n",
       "      <td>the minimum number of pilotag run per semest c...</td>\n",
       "      <td>regul sometim limit choic avail to consum for ...</td>\n",
       "      <td>Others</td>\n",
       "      <td>Yes</td>\n",
       "      <td>0.602872</td>\n",
       "      <td>Yes</td>\n",
       "    </tr>\n",
       "  </tbody>\n",
       "</table>\n",
       "<p>3405 rows × 6 columns</p>\n",
       "</div>"
      ],
      "text/plain": [
       "                                                   Text  \\\n",
       "0     • articl of the act stipul that the violat of ...   \n",
       "1     articl of the act stipul that a breach of thi ...   \n",
       "2     articl of the act state that the violat of thi...   \n",
       "3     accord to articl of the act an infring of thi ...   \n",
       "4     articl of the law state that an infring of thi...   \n",
       "...                                                 ...   \n",
       "3400  the respons parti that pay the indemn is exone...   \n",
       "3401  duti period limit for flight and cabin crew of...   \n",
       "3402  the norm specif state that it is not in line w...   \n",
       "3403  establish subject to thi norm i.e those that m...   \n",
       "3404  the minimum number of pilotag run per semest c...   \n",
       "\n",
       "                                             Label_Text Label_Name Label_True  \\\n",
       "0     limit the number of supplier lead to the risk ...          A        Yes   \n",
       "1     limit the number of supplier lead to the risk ...          A        Yes   \n",
       "2     limit the number of supplier lead to the risk ...          A        Yes   \n",
       "3     limit the number of supplier lead to the risk ...          A        Yes   \n",
       "4     limit the number of supplier lead to the risk ...          A        Yes   \n",
       "...                                                 ...        ...        ...   \n",
       "3400  limit the number of supplier lead to the risk ...          A       None   \n",
       "3401  limit the number of supplier lead to the risk ...          A        Yes   \n",
       "3402  regul can affect supplier behaviour by not onl...          C        Yes   \n",
       "3403  regul sometim limit choic avail to consum for ...     Others        Yes   \n",
       "3404  regul sometim limit choic avail to consum for ...     Others        Yes   \n",
       "\n",
       "         Score Predict  \n",
       "0     0.752252     Yes  \n",
       "1     0.647846     Yes  \n",
       "2     0.680944     Yes  \n",
       "3     0.668809     Yes  \n",
       "4     0.629033     Yes  \n",
       "...        ...     ...  \n",
       "3400  0.660084     Yes  \n",
       "3401  0.508737    None  \n",
       "3402  0.568243    None  \n",
       "3403  0.573974    None  \n",
       "3404  0.602872     Yes  \n",
       "\n",
       "[3405 rows x 6 columns]"
      ]
     },
     "execution_count": 47,
     "metadata": {},
     "output_type": "execute_result"
    }
   ],
   "source": [
    "results_final"
   ]
  },
  {
   "cell_type": "code",
   "execution_count": 48,
   "metadata": {},
   "outputs": [
    {
     "name": "stdout",
     "output_type": "stream",
     "text": [
      "              precision    recall  f1-score   support\n",
      "\n",
      "        None       0.14      0.51      0.21       521\n",
      "         Yes       0.82      0.42      0.55      2884\n",
      "\n",
      "    accuracy                           0.43      3405\n",
      "   macro avg       0.48      0.46      0.38      3405\n",
      "weighted avg       0.72      0.43      0.50      3405\n",
      "\n"
     ]
    }
   ],
   "source": [
    "report = classification_report(results_final['Label_True'], results_final['Predict'])\n",
    "print(report)"
   ]
  },
  {
   "attachments": {},
   "cell_type": "markdown",
   "metadata": {},
   "source": [
    "### B. Off Shelf SBERT"
   ]
  },
  {
   "cell_type": "code",
   "execution_count": 10,
   "metadata": {},
   "outputs": [
    {
     "name": "stderr",
     "output_type": "stream",
     "text": [
      "Some weights of the model checkpoint at bert-base-uncased were not used when initializing BertModel: ['cls.predictions.transform.LayerNorm.weight', 'cls.seq_relationship.bias', 'cls.predictions.bias', 'cls.predictions.transform.LayerNorm.bias', 'cls.predictions.transform.dense.weight', 'cls.predictions.transform.dense.bias', 'cls.seq_relationship.weight', 'cls.predictions.decoder.weight']\n",
      "- This IS expected if you are initializing BertModel from the checkpoint of a model trained on another task or with another architecture (e.g. initializing a BertForSequenceClassification model from a BertForPreTraining model).\n",
      "- This IS NOT expected if you are initializing BertModel from the checkpoint of a model that you expect to be exactly identical (initializing a BertForSequenceClassification model from a BertForSequenceClassification model).\n"
     ]
    }
   ],
   "source": [
    "# initialize model \n",
    "word_embedding_model = models.Transformer('bert-base-uncased')\n",
    "pooling_model = models.Pooling(word_embedding_model.get_word_embedding_dimension(), 'mean')\n",
    "model_off_shelf = SentenceTransformer(modules=[word_embedding_model, pooling_model])"
   ]
  },
  {
   "cell_type": "code",
   "execution_count": 13,
   "metadata": {},
   "outputs": [],
   "source": [
    "results_os = calculate_sim_scores(test_list, defs_list, defs_name, labels_list, model_off_shelf).drop_duplicates()"
   ]
  },
  {
   "cell_type": "code",
   "execution_count": 129,
   "metadata": {},
   "outputs": [],
   "source": [
    "results_multiclass = results_os \n",
    "results_os['Predict'] = np.where(results_os['Score'] > 0.60, results_os['Label_Name'], 'None')"
   ]
  },
  {
   "cell_type": "code",
   "execution_count": 130,
   "metadata": {},
   "outputs": [
    {
     "name": "stdout",
     "output_type": "stream",
     "text": [
      "              precision    recall  f1-score   support\n",
      "\n",
      "           A       0.36      0.25      0.29      1652\n",
      "           B       0.07      0.25      0.10       308\n",
      "           C       0.01      0.25      0.02        52\n",
      "           D       0.00      0.25      0.00         4\n",
      "        None       0.64      0.01      0.03      2640\n",
      "\n",
      "    accuracy                           0.11      4656\n",
      "   macro avg       0.22      0.20      0.09      4656\n",
      "weighted avg       0.49      0.11      0.13      4656\n",
      "\n"
     ]
    }
   ],
   "source": [
    "# Generate the classification report\n",
    "report = classification_report(results_os['Label_True'], results_os['Predict'])\n",
    "print(report)"
   ]
  }
 ],
 "metadata": {
  "kernelspec": {
   "display_name": "torch-gpu",
   "language": "python",
   "name": "python3"
  },
  "language_info": {
   "codemirror_mode": {
    "name": "ipython",
    "version": 3
   },
   "file_extension": ".py",
   "mimetype": "text/x-python",
   "name": "python",
   "nbconvert_exporter": "python",
   "pygments_lexer": "ipython3",
   "version": "3.8.16"
  },
  "orig_nbformat": 4
 },
 "nbformat": 4,
 "nbformat_minor": 2
}
