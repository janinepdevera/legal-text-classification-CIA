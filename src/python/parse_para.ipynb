{
 "cells": [
  {
   "attachments": {},
   "cell_type": "markdown",
   "metadata": {},
   "source": [
    "## Multi-label Legal Text Classification for CIA"
   ]
  },
  {
   "attachments": {},
   "cell_type": "markdown",
   "metadata": {},
   "source": [
    "### Data Collection"
   ]
  },
  {
   "attachments": {},
   "cell_type": "markdown",
   "metadata": {},
   "source": [
    "This study uses two main databases -- (1) a corpus of legal text and (2) a corpus of definitions of potential competition restrictions from the OECD. "
   ]
  },
  {
   "attachments": {},
   "cell_type": "markdown",
   "metadata": {},
   "source": [
    "### I. Legal Texts"
   ]
  },
  {
   "attachments": {},
   "cell_type": "markdown",
   "metadata": {},
   "source": [
    "*Legal texts*\n",
    "\n",
    "The input data used for this study is a collection of legal texts including bills, acts, resolutions, decrees, memorandums, executive orders, etc. The laws were collected from databases of two sample countries - Philippines and Singapore - in PDF format which were parsed and processed accordingly to transform them into a usable format. Each observation consists of a unique paragraph from a total of 36 pieces of legislation. After data cleaning and filtering out sections unrrelated to the substantive content of the law, 3,180 unique paragraphs remain. The usual text pre-processing steps such as removal of stopwords, punctuations, and numeric characters, as well as stemming and lemmatization were then performed."
   ]
  },
  {
   "attachments": {},
   "cell_type": "markdown",
   "metadata": {},
   "source": [
    "##### a. Parsing"
   ]
  },
  {
   "cell_type": "code",
   "execution_count": 49,
   "metadata": {},
   "outputs": [
    {
     "name": "stdout",
     "output_type": "stream",
     "text": [
      "Requirement already satisfied: bs4 in /Users/janinedevera/opt/miniconda3/lib/python3.9/site-packages (0.0.1)\n",
      "Requirement already satisfied: beautifulsoup4 in /Users/janinedevera/opt/miniconda3/lib/python3.9/site-packages (from bs4) (4.11.2)\n",
      "Requirement already satisfied: soupsieve>1.2 in /Users/janinedevera/opt/miniconda3/lib/python3.9/site-packages (from beautifulsoup4->bs4) (2.4)\n",
      "Collecting seaborn\n",
      "  Downloading seaborn-0.12.2-py3-none-any.whl (293 kB)\n",
      "\u001b[2K     \u001b[90m━━━━━━━━━━━━━━━━━━━━━━━━━━━━━━━━━━━━━━━\u001b[0m \u001b[32m293.3/293.3 kB\u001b[0m \u001b[31m4.6 MB/s\u001b[0m eta \u001b[36m0:00:00\u001b[0ma \u001b[36m0:00:01\u001b[0m\n",
      "\u001b[?25hRequirement already satisfied: numpy!=1.24.0,>=1.17 in /Users/janinedevera/opt/miniconda3/lib/python3.9/site-packages (from seaborn) (1.23.3)\n",
      "Requirement already satisfied: pandas>=0.25 in /Users/janinedevera/opt/miniconda3/lib/python3.9/site-packages (from seaborn) (1.4.4)\n",
      "Requirement already satisfied: matplotlib!=3.6.1,>=3.1 in /Users/janinedevera/opt/miniconda3/lib/python3.9/site-packages (from seaborn) (3.5.2)\n",
      "Requirement already satisfied: pillow>=6.2.0 in /Users/janinedevera/opt/miniconda3/lib/python3.9/site-packages (from matplotlib!=3.6.1,>=3.1->seaborn) (9.2.0)\n",
      "Requirement already satisfied: pyparsing>=2.2.1 in /Users/janinedevera/.local/lib/python3.9/site-packages (from matplotlib!=3.6.1,>=3.1->seaborn) (3.0.9)\n",
      "Requirement already satisfied: python-dateutil>=2.7 in /Users/janinedevera/.local/lib/python3.9/site-packages (from matplotlib!=3.6.1,>=3.1->seaborn) (2.8.2)\n",
      "Requirement already satisfied: fonttools>=4.22.0 in /Users/janinedevera/opt/miniconda3/lib/python3.9/site-packages (from matplotlib!=3.6.1,>=3.1->seaborn) (4.25.0)\n",
      "Requirement already satisfied: packaging>=20.0 in /Users/janinedevera/.local/lib/python3.9/site-packages (from matplotlib!=3.6.1,>=3.1->seaborn) (21.3)\n",
      "Requirement already satisfied: kiwisolver>=1.0.1 in /Users/janinedevera/opt/miniconda3/lib/python3.9/site-packages (from matplotlib!=3.6.1,>=3.1->seaborn) (1.4.4)\n",
      "Requirement already satisfied: cycler>=0.10 in /Users/janinedevera/opt/miniconda3/lib/python3.9/site-packages (from matplotlib!=3.6.1,>=3.1->seaborn) (0.11.0)\n",
      "Requirement already satisfied: pytz>=2020.1 in /Users/janinedevera/opt/miniconda3/lib/python3.9/site-packages (from pandas>=0.25->seaborn) (2022.7)\n",
      "Requirement already satisfied: six>=1.5 in /Users/janinedevera/opt/miniconda3/lib/python3.9/site-packages (from python-dateutil>=2.7->matplotlib!=3.6.1,>=3.1->seaborn) (1.16.0)\n",
      "Installing collected packages: seaborn\n",
      "Successfully installed seaborn-0.12.2\n"
     ]
    }
   ],
   "source": [
    "!pip install bs4\n",
    "!pip install seaborn"
   ]
  },
  {
   "cell_type": "code",
   "execution_count": 1,
   "metadata": {},
   "outputs": [],
   "source": [
    "# main\n",
    "import pandas as pd\n",
    "import numpy as np\n",
    "import matplotlib.pyplot as plt\n",
    "import seaborn as sns"
   ]
  },
  {
   "cell_type": "code",
   "execution_count": 2,
   "metadata": {},
   "outputs": [],
   "source": [
    "# parsing\n",
    "from glob import glob\n",
    "import os \n",
    "import re\n",
    "\n",
    "import pdfplumber\n",
    "from pdfminer.high_level import extract_text\n",
    "from langdetect import detect, DetectorFactory\n",
    "from deep_translator import GoogleTranslator"
   ]
  },
  {
   "cell_type": "code",
   "execution_count": 3,
   "metadata": {},
   "outputs": [
    {
     "data": {
      "text/plain": [
       "'/Users/janinedevera/Documents/School/MDS 2021-2023/Thesis/multilabel-legal-text-classification-CIA'"
      ]
     },
     "execution_count": 3,
     "metadata": {},
     "output_type": "execute_result"
    }
   ],
   "source": [
    "os.chdir(\"../..\")\n",
    "os.getcwd()"
   ]
  },
  {
   "cell_type": "code",
   "execution_count": 4,
   "metadata": {},
   "outputs": [
    {
     "data": {
      "text/plain": [
       "72"
      ]
     },
     "execution_count": 4,
     "metadata": {},
     "output_type": "execute_result"
    }
   ],
   "source": [
    "countries = [\"Brunei\", \"Indonesia\", \"Malaysia\", \"Philippines\", \"Singapore\"]\n",
    "dirs = []\n",
    "for country in countries:\n",
    "    dir = \"data/legislation/\" + str(country) + \"/\"\n",
    "    dirs.append(dir)\n",
    "\n",
    "pdf_list = []\n",
    "for path in dirs:\n",
    "    list = glob(os.path.join(path, \"*.pdf\"))\n",
    "    pdf_list.extend(list)\n",
    "\n",
    "len(pdf_list)"
   ]
  },
  {
   "cell_type": "code",
   "execution_count": 5,
   "metadata": {},
   "outputs": [
    {
     "data": {
      "text/plain": [
       "['data/legislation/Brunei/BN_Companies Act Chapter 39, 2016.pdf',\n",
       " 'data/legislation/Brunei/BN_Post Office Act Chapter 52 1984.pdf',\n",
       " 'data/legislation/Brunei/BN_Post Office Rules 1993.pdf',\n",
       " 'data/legislation/Brunei/BN_Monopolies Act Chapter 73 2003.pdf',\n",
       " 'data/legislation/Indonesia/IN_PR No. 44:2016 Negative Investment List.pdf',\n",
       " 'data/legislation/Indonesia/IN_Law 14:2008 Public Information Disclosure.pdf',\n",
       " 'data/legislation/Indonesia/IN_Law 40:2007 Limited Liability Companies.pdf',\n",
       " 'data/legislation/Indonesia/IN_Regulation 7:2018 Electronically Integrated Business Licensing.pdf',\n",
       " 'data/legislation/Indonesia/IN_Law 25:2007 Investment.pdf',\n",
       " 'data/legislation/Indonesia/IN_Law 07:2014 Trade.pdf',\n",
       " 'data/legislation/Indonesia/IN_Law 05:1999 Monopolistic Practices and Unfair Business Competition.pdf',\n",
       " 'data/legislation/Indonesia/IN_Law 13:2003 Manpower.pdf',\n",
       " 'data/legislation/Indonesia/IN_Law 19:2003 State-Owned Enterprises.pdf',\n",
       " 'data/legislation/Indonesia/IN_Law 08:1995 Capital Market.pdf',\n",
       " 'data/legislation/Indonesia/IN_Law 38:2009 Post.pdf',\n",
       " 'data/legislation/Indonesia/IN_Regulation 36:M-DAG:PER:9:2007 Trade Licenses.pdf',\n",
       " 'data/legislation/Indonesia/IN_Regulation 33:POJK.04:2014 Public Companies.pdf',\n",
       " 'data/legislation/Indonesia/IN_Regulation 176:PMK.011:2009 Import Duties.pdf',\n",
       " 'data/legislation/Indonesia/IN_Law 17:2017 Long-Term National Development Plan (2005-2025).pdf',\n",
       " 'data/legislation/Indonesia/IN_PR 16:2018 Government Procurement.pdf',\n",
       " 'data/legislation/Indonesia/IN_Regulation 5:2013 Implementation of Post Law.pdf',\n",
       " 'data/legislation/Indonesia/IN_Regulation 30:PMK.08:2012 Government Assurance Obligation Budget.pdf',\n",
       " 'data/legislation/Indonesia/IN_Law 01:2004 State Treasury.pdf',\n",
       " 'data/legislation/Indonesia/IN_Regulation 155:PMK.02:2010 Postal General Service Obligations.pdf',\n",
       " 'data/legislation/Malaysia/MY_Non-Universal Service License Application Guidelines.pdf',\n",
       " 'data/legislation/Malaysia/MY_Guidelines for Dispute Resolution July 2003.pdf',\n",
       " 'data/legislation/Malaysia/MY_Postal Service Regulations 2015 Universal Service.pdf',\n",
       " 'data/legislation/Malaysia/MY_Act 658 Electronic Commerce Act 2006.pdf',\n",
       " 'data/legislation/Malaysia/MY_Postal Service Regulations 2020 Postage Rates.pdf',\n",
       " 'data/legislation/Malaysia/MY_Act 91 Courts of Judicature Act 1964.pdf',\n",
       " 'data/legislation/Malaysia/MY_Act 589 Communication and Multimedia Commission Act 1998.pdf',\n",
       " 'data/legislation/Malaysia/MY_Act 741 Postal Services Act 2012.pdf',\n",
       " 'data/legislation/Malaysia/MY_Act 712 Competition Act 2010.pdf',\n",
       " 'data/legislation/Malaysia/MY_Act 235 Customs Act 1967.pdf',\n",
       " 'data/legislation/Malaysia/MY_Postal Service Regulations 2015 Licensing.pdf',\n",
       " 'data/legislation/Malaysia/MY_Act 452 Employees Provident Fund Act 1991.pdf',\n",
       " 'data/legislation/Philippines/PH_RA 9337 Amendments to Internal Revenue Code 2005.pdf',\n",
       " 'data/legislation/Philippines/PH_RA 7354 Postal Service Act 1992.pdf',\n",
       " 'data/legislation/Philippines/PH_EO 292 Administrative Code 1987.pdf',\n",
       " 'data/legislation/Philippines/PH_RA 7160 Local Government Code 1991.pdf',\n",
       " 'data/legislation/Philippines/PH_RA 11232 Revised Corporation Code 2019.pdf',\n",
       " 'data/legislation/Philippines/PH_CA 146 Public Service Act 1936.pdf',\n",
       " 'data/legislation/Philippines/PH_RA 4136 Land Transportation Act 1964.pdf',\n",
       " 'data/legislation/Philippines/PH_EO 24 2011.pdf',\n",
       " 'data/legislation/Philippines/PH_RA 9184 Government Procurement Act IRR 2016.pdf',\n",
       " 'data/legislation/Philippines/PH_EO 203.pdf',\n",
       " 'data/legislation/Philippines/PH_RA 11032 EODB 2017.pdf',\n",
       " 'data/legislation/Philippines/PH_EO 80 2012.pdf',\n",
       " 'data/legislation/Philippines/PH_RA 8794 Motor Vehicle User Charge Law 2000.pdf',\n",
       " 'data/legislation/Philippines/PH_EO 7 2010.pdf',\n",
       " 'data/legislation/Philippines/PH_EO 47 2011.pdf',\n",
       " 'data/legislation/Philippines/PH_GR 105371 Franking Privilege 1993.pdf',\n",
       " 'data/legislation/Philippines/PH_RA 9184 Government Procurement Act 2002.pdf',\n",
       " 'data/legislation/Philippines/PH_Constitution Republic of the Philippines 1987.pdf',\n",
       " 'data/legislation/Philippines/PH_RA 10149 GOCC Governance Act 2011.pdf',\n",
       " 'data/legislation/Philippines/PH_RA 10844 DICT Act 2016.pdf',\n",
       " 'data/legislation/Singapore/SG_Postal Competition Code 2017.pdf',\n",
       " 'data/legislation/Singapore/SG_Postal Services Composition of Offences 2008.pdf',\n",
       " 'data/legislation/Singapore/SG_Control of Designated Postal Licence 2012.pdf',\n",
       " 'data/legislation/Singapore/SG_License to Provide Postal Services WMG 2018.pdf',\n",
       " 'data/legislation/Singapore/SG_Postal Services Act Regulation Amendment 2008.pdf',\n",
       " 'data/legislation/Singapore/SG_License to Provide Postal Services SP 2017.pdf',\n",
       " 'data/legislation/Singapore/SG_License to Provide Postal Services Asendia 2017.pdf',\n",
       " 'data/legislation/Singapore/SG_Postal Services Amendment 2021.pdf',\n",
       " 'data/legislation/Singapore/SG_Guidelines for Express Letter Service 2019.pdf',\n",
       " 'data/legislation/Singapore/SG_Postal Accounting Separation Framework 2010.pdf',\n",
       " 'data/legislation/Singapore/SG_Postal Services Operations Code 2017.pdf',\n",
       " 'data/legislation/Singapore/SG_Postal Services Act Chapter 237A.pdf',\n",
       " 'data/legislation/Singapore/SG_License to Provide Postal Services DHL 2019.pdf',\n",
       " 'data/legislation/Singapore/SG_Guidelines for Postal Service Operations 2019.pdf',\n",
       " 'data/legislation/Singapore/SG_Postal Services Act Regulation 2005.pdf',\n",
       " 'data/legislation/Singapore/SG_Public Consultation Paper on Draft Amendment 2020.pdf']"
      ]
     },
     "execution_count": 5,
     "metadata": {},
     "output_type": "execute_result"
    }
   ],
   "source": [
    "pdf_list"
   ]
  },
  {
   "attachments": {},
   "cell_type": "markdown",
   "metadata": {},
   "source": [
    "Parse PDFs with pdfplumber"
   ]
  },
  {
   "cell_type": "code",
   "execution_count": 18,
   "metadata": {},
   "outputs": [],
   "source": [
    "## DO NOT RUN (USE 2 LEVEL SPLIT)\n",
    "\n",
    "def text_split(text):\n",
    "    # find double line breaks\n",
    "    if text.find(\"\\n\\n\") != -1:\n",
    "        split = text.split(\"\\n\\n\")\n",
    "    elif text.find(\"\\n \\n\") != -1:\n",
    "        split = text.split(\"\\n \\n\")\n",
    "    # find section/article divisions\n",
    "    elif len(re.findall('\\\\n[A-Z]{2,}', text)) > 0:\n",
    "        split = re.split('\\\\n[A-Z]{2,}', text)\n",
    "    elif len(re.findall('\\\\nSection', text)) > 0:\n",
    "        split = re.split('\\\\nSection', text)\n",
    "    # find single line breaks\n",
    "    elif text.find('\\n“') != -1:\n",
    "        split = text.split('\\n“')\n",
    "    else: \n",
    "        split = text\n",
    "    return split"
   ]
  },
  {
   "cell_type": "code",
   "execution_count": 6,
   "metadata": {},
   "outputs": [],
   "source": [
    "# TWO-LEVEL SPLIT\n",
    "\n",
    "def text_split(text):\n",
    "    # find double line breaks\n",
    "    if text.find(\"\\n\\n\") != -1:\n",
    "        split = text.split(\"\\n\\n\")\n",
    "    elif text.find(\"\\n \\n\") != -1:\n",
    "        split = text.split(\"\\n \\n\")\n",
    "    # find section/article divisions\n",
    "    elif len(re.findall('\\\\n[A-Z]{2,}', text)) > 0:\n",
    "        split = re.split('\\\\n[A-Z]{2,}', text)\n",
    "    elif len(re.findall('\\\\nSection', text)) > 0:\n",
    "        split = re.split('\\\\nSection', text)\n",
    "    # find single line breaks\n",
    "    elif text.find('\\n“') != -1:\n",
    "        split = text.split('\\n“')\n",
    "    elif text.find('\\\\n') != -1:\n",
    "        split = text.split('\\\\n')\n",
    "    else: \n",
    "        split = [text]\n",
    "\n",
    "    # second split\n",
    "    if len(split) > 1:\n",
    "        new_split = []\n",
    "        for s in split:\n",
    "            if s.find(\"\\n\\n\") != -1:\n",
    "                new_split += s.split(\"\\n\\n\")\n",
    "            elif s.find(\"\\n \\n\") != -1:\n",
    "                new_split += s.split(\"\\n \\n\")\n",
    "            elif len(re.findall('\\\\n[A-Z]{2,}', s)) > 0:\n",
    "                new_split += re.split('\\\\n[A-Z]{2,}', s)\n",
    "            elif len(re.findall('\\\\nSection', s)) > 0:\n",
    "                new_split += re.split('\\\\nSection', s)\n",
    "            elif s.find('\\n“') != -1:\n",
    "                new_split += s.split('\\n“')\n",
    "            elif s.find('\\\\n') != -1:\n",
    "                new_split += s.split('\\\\n')\n",
    "            else:\n",
    "                new_split.append(s)\n",
    "        split = new_split\n",
    "    \n",
    "    return split\n"
   ]
  },
  {
   "attachments": {},
   "cell_type": "markdown",
   "metadata": {},
   "source": [
    "Parsing by document"
   ]
  },
  {
   "cell_type": "code",
   "execution_count": 98,
   "metadata": {},
   "outputs": [],
   "source": [
    "## DO NOT RUN (USE PARSING BY PARAGRAPH)\n",
    "\n",
    "df_text = pd.DataFrame(columns = ['file_name', 'text', 'lang'])\n",
    "\n",
    "for pdf_file in pdf_list:\n",
    "        # search for pdf file name from path \n",
    "        file_name = re.search('[a-zA-Z0-9]*_([a-zA-Z0-9]+)[^\\\\>.]+', pdf_file)[0]\n",
    "        with pdfplumber.open(pdf_file) as pdf:\n",
    "            text = []\n",
    "            # load pdf by page \n",
    "            for i in range(len(pdf.pages)):\n",
    "                page = pdf.pages[i]\n",
    "                page_text = page.extract_text()\n",
    "                text.append(page_text)\n",
    "            text = ' '.join(text)\n",
    "            lang = detect(text)\n",
    "        row = pd.DataFrame({'file_name': file_name,\n",
    "                                'text': text, 'lang': lang}, index=[0])\n",
    "        df_text = pd.concat([row,df_text.loc[:]]).reset_index(drop=True)"
   ]
  },
  {
   "attachments": {},
   "cell_type": "markdown",
   "metadata": {},
   "source": [
    "Parsing by paragraph"
   ]
  },
  {
   "cell_type": "code",
   "execution_count": 9,
   "metadata": {},
   "outputs": [],
   "source": [
    "df_text = pd.DataFrame(columns = ['file_name', 'country', 'text', 'lang', 'length'])\n",
    "\n",
    "for pdf_file in pdf_list:\n",
    "        # search for pdf file name from path \n",
    "        file_name = re.search('[a-zA-Z0-9]*_([a-zA-Z0-9]+)[^\\\\>.]+', pdf_file)[0]\n",
    "        country = re.search('^[A-Z]{2}', file_name)[0]\n",
    "        with pdfplumber.open(pdf_file) as pdf:\n",
    "            text = []\n",
    "            # load pdf by page \n",
    "            for i in range(len(pdf.pages)):\n",
    "                page = pdf.pages[i]\n",
    "                page_text = page.extract_text()\n",
    "                text.append(page_text)\n",
    "            text = ' '.join(text)\n",
    "            lang = detect(text)\n",
    "            # split by paragraph \n",
    "            paragraphs = text_split(text)\n",
    "            for p in paragraphs:\n",
    "                paragraph = p\n",
    "                length = paragraph.count(' ')\n",
    "                # create dataframe\n",
    "                row = pd.DataFrame({'file_name': file_name, 'country': country,\n",
    "                        'text': paragraph, 'lang': lang, 'length': length}, index=[0])\n",
    "                df_text = pd.concat([row,df_text.loc[:]]).reset_index(drop=True)"
   ]
  },
  {
   "cell_type": "code",
   "execution_count": 10,
   "metadata": {},
   "outputs": [
    {
     "data": {
      "text/html": [
       "<div>\n",
       "<style scoped>\n",
       "    .dataframe tbody tr th:only-of-type {\n",
       "        vertical-align: middle;\n",
       "    }\n",
       "\n",
       "    .dataframe tbody tr th {\n",
       "        vertical-align: top;\n",
       "    }\n",
       "\n",
       "    .dataframe thead th {\n",
       "        text-align: right;\n",
       "    }\n",
       "</style>\n",
       "<table border=\"1\" class=\"dataframe\">\n",
       "  <thead>\n",
       "    <tr style=\"text-align: right;\">\n",
       "      <th></th>\n",
       "      <th>file_name</th>\n",
       "      <th>country</th>\n",
       "      <th>text</th>\n",
       "      <th>lang</th>\n",
       "      <th>length</th>\n",
       "    </tr>\n",
       "  </thead>\n",
       "  <tbody>\n",
       "    <tr>\n",
       "      <th>0</th>\n",
       "      <td>SG_Public Consultation Paper on Draft Amendmen...</td>\n",
       "      <td>SG</td>\n",
       "      <td>V: PROCEDURES AND TIMEFRAME FOR SUBMITTING CO...</td>\n",
       "      <td>en</td>\n",
       "      <td>369</td>\n",
       "    </tr>\n",
       "    <tr>\n",
       "      <th>1</th>\n",
       "      <td>SG_Public Consultation Paper on Draft Amendmen...</td>\n",
       "      <td>SG</td>\n",
       "      <td>33A, and deletion of Section 24(5) of the PSA...</td>\n",
       "      <td>en</td>\n",
       "      <td>27</td>\n",
       "    </tr>\n",
       "    <tr>\n",
       "      <th>2</th>\n",
       "      <td>SG_Public Consultation Paper on Draft Amendmen...</td>\n",
       "      <td>SG</td>\n",
       "      <td>6 of the PSA, and such providers would theref...</td>\n",
       "      <td>en</td>\n",
       "      <td>444</td>\n",
       "    </tr>\n",
       "    <tr>\n",
       "      <th>3</th>\n",
       "      <td>SG_Public Consultation Paper on Draft Amendmen...</td>\n",
       "      <td>SG</td>\n",
       "      <td>s 48 and 48A to expand the powers of search an...</td>\n",
       "      <td>en</td>\n",
       "      <td>158</td>\n",
       "    </tr>\n",
       "    <tr>\n",
       "      <th>4</th>\n",
       "      <td>SG_Public Consultation Paper on Draft Amendmen...</td>\n",
       "      <td>SG</td>\n",
       "      <td>currently does not spell out the consequences...</td>\n",
       "      <td>en</td>\n",
       "      <td>140</td>\n",
       "    </tr>\n",
       "    <tr>\n",
       "      <th>...</th>\n",
       "      <td>...</td>\n",
       "      <td>...</td>\n",
       "      <td>...</td>\n",
       "      <td>...</td>\n",
       "      <td>...</td>\n",
       "    </tr>\n",
       "    <tr>\n",
       "      <th>7827</th>\n",
       "      <td>BN_Companies Act Chapter 39, 2016</td>\n",
       "      <td>BN</td>\n",
       "      <td>EDITION 2015\\nB.L.R.O. 2/2015 BLUV PROJECT\\nI...</td>\n",
       "      <td>en</td>\n",
       "      <td>15</td>\n",
       "    </tr>\n",
       "    <tr>\n",
       "      <th>7828</th>\n",
       "      <td>BN_Companies Act Chapter 39, 2016</td>\n",
       "      <td>BN</td>\n",
       "      <td>ACT\\nEnactment No. 25 of 1956\\nAmended by\\nEn...</td>\n",
       "      <td>en</td>\n",
       "      <td>37</td>\n",
       "    </tr>\n",
       "    <tr>\n",
       "      <th>7829</th>\n",
       "      <td>BN_Companies Act Chapter 39, 2016</td>\n",
       "      <td>BN</td>\n",
       "      <td>39</td>\n",
       "      <td>en</td>\n",
       "      <td>1</td>\n",
       "    </tr>\n",
       "    <tr>\n",
       "      <th>7830</th>\n",
       "      <td>BN_Companies Act Chapter 39, 2016</td>\n",
       "      <td>BN</td>\n",
       "      <td>OF BRUNEI</td>\n",
       "      <td>en</td>\n",
       "      <td>2</td>\n",
       "    </tr>\n",
       "    <tr>\n",
       "      <th>7831</th>\n",
       "      <td>BN_Companies Act Chapter 39, 2016</td>\n",
       "      <td>BN</td>\n",
       "      <td>BLUV PROJECT\\nIncorporating amendments until S...</td>\n",
       "      <td>en</td>\n",
       "      <td>11</td>\n",
       "    </tr>\n",
       "  </tbody>\n",
       "</table>\n",
       "<p>7832 rows × 5 columns</p>\n",
       "</div>"
      ],
      "text/plain": [
       "                                              file_name country  \\\n",
       "0     SG_Public Consultation Paper on Draft Amendmen...      SG   \n",
       "1     SG_Public Consultation Paper on Draft Amendmen...      SG   \n",
       "2     SG_Public Consultation Paper on Draft Amendmen...      SG   \n",
       "3     SG_Public Consultation Paper on Draft Amendmen...      SG   \n",
       "4     SG_Public Consultation Paper on Draft Amendmen...      SG   \n",
       "...                                                 ...     ...   \n",
       "7827                  BN_Companies Act Chapter 39, 2016      BN   \n",
       "7828                  BN_Companies Act Chapter 39, 2016      BN   \n",
       "7829                  BN_Companies Act Chapter 39, 2016      BN   \n",
       "7830                  BN_Companies Act Chapter 39, 2016      BN   \n",
       "7831                  BN_Companies Act Chapter 39, 2016      BN   \n",
       "\n",
       "                                                   text lang length  \n",
       "0      V: PROCEDURES AND TIMEFRAME FOR SUBMITTING CO...   en    369  \n",
       "1      33A, and deletion of Section 24(5) of the PSA...   en     27  \n",
       "2      6 of the PSA, and such providers would theref...   en    444  \n",
       "3     s 48 and 48A to expand the powers of search an...   en    158  \n",
       "4      currently does not spell out the consequences...   en    140  \n",
       "...                                                 ...  ...    ...  \n",
       "7827   EDITION 2015\\nB.L.R.O. 2/2015 BLUV PROJECT\\nI...   en     15  \n",
       "7828   ACT\\nEnactment No. 25 of 1956\\nAmended by\\nEn...   en     37  \n",
       "7829                                                 39   en      1  \n",
       "7830                                          OF BRUNEI   en      2  \n",
       "7831  BLUV PROJECT\\nIncorporating amendments until S...   en     11  \n",
       "\n",
       "[7832 rows x 5 columns]"
      ]
     },
     "execution_count": 10,
     "metadata": {},
     "output_type": "execute_result"
    }
   ],
   "source": [
    "df_text"
   ]
  },
  {
   "cell_type": "code",
   "execution_count": 11,
   "metadata": {},
   "outputs": [
    {
     "data": {
      "text/plain": [
       "PH_EO 292 Administrative Code 1987                     1255\n",
       "BN_Companies Act Chapter 39, 2016                       972\n",
       "PH_RA 7160 Local Government Code 1991                   693\n",
       "PH_Constitution Republic of the Philippines 1987        356\n",
       "PH_RA 9337 Amendments to Internal Revenue Code 2005     356\n",
       "                                                       ... \n",
       "MY_Guidelines for Dispute Resolution July 2003            9\n",
       "SG_Postal Services Act Regulation 2005                    7\n",
       "SG_Guidelines for Express Letter Service 2019             7\n",
       "SG_Postal Services Composition of Offences 2008           4\n",
       "SG_Postal Accounting Separation Framework 2010            2\n",
       "Name: file_name, Length: 72, dtype: int64"
      ]
     },
     "execution_count": 11,
     "metadata": {},
     "output_type": "execute_result"
    }
   ],
   "source": [
    "df_text.file_name.value_counts()"
   ]
  },
  {
   "cell_type": "code",
   "execution_count": 12,
   "metadata": {},
   "outputs": [
    {
     "data": {
      "text/plain": [
       "en    7599\n",
       "id     233\n",
       "Name: lang, dtype: int64"
      ]
     },
     "execution_count": 12,
     "metadata": {},
     "output_type": "execute_result"
    }
   ],
   "source": [
    "df_text.lang.value_counts()"
   ]
  },
  {
   "cell_type": "code",
   "execution_count": 13,
   "metadata": {},
   "outputs": [
    {
     "data": {
      "text/plain": [
       "0       136\n",
       "1       642\n",
       "2       286\n",
       "3       308\n",
       "4       321\n",
       "       ... \n",
       "4436      1\n",
       "5810      1\n",
       "5836      1\n",
       "6430      1\n",
       "6618      1\n",
       "Name: length, Length: 812, dtype: int64"
      ]
     },
     "execution_count": 13,
     "metadata": {},
     "output_type": "execute_result"
    }
   ],
   "source": [
    "df_text.length.value_counts().sort_index()"
   ]
  },
  {
   "attachments": {},
   "cell_type": "markdown",
   "metadata": {},
   "source": [
    "#### b. Cleaning and pre-processing"
   ]
  },
  {
   "cell_type": "code",
   "execution_count": 33,
   "metadata": {},
   "outputs": [],
   "source": [
    "df = df_text"
   ]
  },
  {
   "attachments": {},
   "cell_type": "markdown",
   "metadata": {},
   "source": [
    "Remove links and white space characters"
   ]
  },
  {
   "cell_type": "code",
   "execution_count": 34,
   "metadata": {},
   "outputs": [],
   "source": [
    "df.text = (\n",
    "    df.text\n",
    "    .replace(\"\\n\", \" \", regex=True)\n",
    "    .replace(\"(?:(?:https?|http):\\/\\/)?(?:www\\.)?[a-zA-Z0-9\\-]+\\.[a-zA-Z0-9\\-]+\\.(?:[a-zA-Z0-9\\-]+\\.)?(?:com|html|ph|sg|org)(?:\\/[^\\s]*)?\", \n",
    "             \" \", regex=True))"
   ]
  },
  {
   "cell_type": "code",
   "execution_count": 35,
   "metadata": {},
   "outputs": [
    {
     "data": {
      "text/html": [
       "<div>\n",
       "<style scoped>\n",
       "    .dataframe tbody tr th:only-of-type {\n",
       "        vertical-align: middle;\n",
       "    }\n",
       "\n",
       "    .dataframe tbody tr th {\n",
       "        vertical-align: top;\n",
       "    }\n",
       "\n",
       "    .dataframe thead th {\n",
       "        text-align: right;\n",
       "    }\n",
       "</style>\n",
       "<table border=\"1\" class=\"dataframe\">\n",
       "  <thead>\n",
       "    <tr style=\"text-align: right;\">\n",
       "      <th></th>\n",
       "      <th>file_name</th>\n",
       "      <th>country</th>\n",
       "      <th>text</th>\n",
       "      <th>lang</th>\n",
       "      <th>length</th>\n",
       "      <th>text_clean</th>\n",
       "    </tr>\n",
       "  </thead>\n",
       "  <tbody>\n",
       "    <tr>\n",
       "      <th>0</th>\n",
       "      <td>SG_Public Consultation Paper on Draft Amendmen...</td>\n",
       "      <td>SG</td>\n",
       "      <td>V: PROCEDURES AND TIMEFRAME FOR SUBMITTING CO...</td>\n",
       "      <td>en</td>\n",
       "      <td>233</td>\n",
       "      <td>v procedur and timefram for submit comment mci...</td>\n",
       "    </tr>\n",
       "    <tr>\n",
       "      <th>1</th>\n",
       "      <td>SG_Public Consultation Paper on Draft Amendmen...</td>\n",
       "      <td>SG</td>\n",
       "      <td>33A, and deletion of Section 24(5) of the PSA...</td>\n",
       "      <td>en</td>\n",
       "      <td>16</td>\n",
       "      <td>33a delet section psa describ page annex a – p...</td>\n",
       "    </tr>\n",
       "    <tr>\n",
       "      <th>2</th>\n",
       "      <td>SG_Public Consultation Paper on Draft Amendmen...</td>\n",
       "      <td>SG</td>\n",
       "      <td>6 of the PSA, and such providers would theref...</td>\n",
       "      <td>en</td>\n",
       "      <td>274</td>\n",
       "      <td>psa provid would therefor requir postal servic...</td>\n",
       "    </tr>\n",
       "    <tr>\n",
       "      <th>3</th>\n",
       "      <td>SG_Public Consultation Paper on Draft Amendmen...</td>\n",
       "      <td>SG</td>\n",
       "      <td>s 48 and 48A to expand the powers of search an...</td>\n",
       "      <td>en</td>\n",
       "      <td>90</td>\n",
       "      <td>48a expand power search arrest dispos letter r...</td>\n",
       "    </tr>\n",
       "    <tr>\n",
       "      <th>4</th>\n",
       "      <td>SG_Public Consultation Paper on Draft Amendmen...</td>\n",
       "      <td>SG</td>\n",
       "      <td>currently does not spell out the consequences...</td>\n",
       "      <td>en</td>\n",
       "      <td>86</td>\n",
       "      <td>current spell consequ breach direct given mini...</td>\n",
       "    </tr>\n",
       "    <tr>\n",
       "      <th>...</th>\n",
       "      <td>...</td>\n",
       "      <td>...</td>\n",
       "      <td>...</td>\n",
       "      <td>...</td>\n",
       "      <td>...</td>\n",
       "      <td>...</td>\n",
       "    </tr>\n",
       "    <tr>\n",
       "      <th>7827</th>\n",
       "      <td>BN_Companies Act Chapter 39, 2016</td>\n",
       "      <td>BN</td>\n",
       "      <td>EDITION 2015 B.L.R.O. 2/2015 BLUV PROJECT Inc...</td>\n",
       "      <td>en</td>\n",
       "      <td>12</td>\n",
       "      <td>edit b.l.r.o 2/2015 bluv project incorpor amen...</td>\n",
       "    </tr>\n",
       "    <tr>\n",
       "      <th>7828</th>\n",
       "      <td>BN_Companies Act Chapter 39, 2016</td>\n",
       "      <td>BN</td>\n",
       "      <td>ACT Enactment No. 25 of 1956 Amended by Enact...</td>\n",
       "      <td>en</td>\n",
       "      <td>46</td>\n",
       "      <td>act enact no amend enact no s 89/1957 s 99/195...</td>\n",
       "    </tr>\n",
       "    <tr>\n",
       "      <th>7829</th>\n",
       "      <td>BN_Companies Act Chapter 39, 2016</td>\n",
       "      <td>BN</td>\n",
       "      <td>39</td>\n",
       "      <td>en</td>\n",
       "      <td>0</td>\n",
       "      <td></td>\n",
       "    </tr>\n",
       "    <tr>\n",
       "      <th>7830</th>\n",
       "      <td>BN_Companies Act Chapter 39, 2016</td>\n",
       "      <td>BN</td>\n",
       "      <td>OF BRUNEI</td>\n",
       "      <td>en</td>\n",
       "      <td>1</td>\n",
       "      <td>of brunei</td>\n",
       "    </tr>\n",
       "    <tr>\n",
       "      <th>7831</th>\n",
       "      <td>BN_Companies Act Chapter 39, 2016</td>\n",
       "      <td>BN</td>\n",
       "      <td>BLUV PROJECT Incorporating amendments until S ...</td>\n",
       "      <td>en</td>\n",
       "      <td>9</td>\n",
       "      <td>bluv project incorpor amend s 44/2017 clean ve...</td>\n",
       "    </tr>\n",
       "  </tbody>\n",
       "</table>\n",
       "<p>7832 rows × 6 columns</p>\n",
       "</div>"
      ],
      "text/plain": [
       "                                              file_name country  \\\n",
       "0     SG_Public Consultation Paper on Draft Amendmen...      SG   \n",
       "1     SG_Public Consultation Paper on Draft Amendmen...      SG   \n",
       "2     SG_Public Consultation Paper on Draft Amendmen...      SG   \n",
       "3     SG_Public Consultation Paper on Draft Amendmen...      SG   \n",
       "4     SG_Public Consultation Paper on Draft Amendmen...      SG   \n",
       "...                                                 ...     ...   \n",
       "7827                  BN_Companies Act Chapter 39, 2016      BN   \n",
       "7828                  BN_Companies Act Chapter 39, 2016      BN   \n",
       "7829                  BN_Companies Act Chapter 39, 2016      BN   \n",
       "7830                  BN_Companies Act Chapter 39, 2016      BN   \n",
       "7831                  BN_Companies Act Chapter 39, 2016      BN   \n",
       "\n",
       "                                                   text lang  length  \\\n",
       "0      V: PROCEDURES AND TIMEFRAME FOR SUBMITTING CO...   en     233   \n",
       "1      33A, and deletion of Section 24(5) of the PSA...   en      16   \n",
       "2      6 of the PSA, and such providers would theref...   en     274   \n",
       "3     s 48 and 48A to expand the powers of search an...   en      90   \n",
       "4      currently does not spell out the consequences...   en      86   \n",
       "...                                                 ...  ...     ...   \n",
       "7827   EDITION 2015 B.L.R.O. 2/2015 BLUV PROJECT Inc...   en      12   \n",
       "7828   ACT Enactment No. 25 of 1956 Amended by Enact...   en      46   \n",
       "7829                                                 39   en       0   \n",
       "7830                                          OF BRUNEI   en       1   \n",
       "7831  BLUV PROJECT Incorporating amendments until S ...   en       9   \n",
       "\n",
       "                                             text_clean  \n",
       "0     v procedur and timefram for submit comment mci...  \n",
       "1     33a delet section psa describ page annex a – p...  \n",
       "2     psa provid would therefor requir postal servic...  \n",
       "3     48a expand power search arrest dispos letter r...  \n",
       "4     current spell consequ breach direct given mini...  \n",
       "...                                                 ...  \n",
       "7827  edit b.l.r.o 2/2015 bluv project incorpor amen...  \n",
       "7828  act enact no amend enact no s 89/1957 s 99/195...  \n",
       "7829                                                     \n",
       "7830                                          of brunei  \n",
       "7831  bluv project incorpor amend s 44/2017 clean ve...  \n",
       "\n",
       "[7832 rows x 6 columns]"
      ]
     },
     "execution_count": 35,
     "metadata": {},
     "output_type": "execute_result"
    }
   ],
   "source": [
    "df"
   ]
  },
  {
   "cell_type": "code",
   "execution_count": 36,
   "metadata": {},
   "outputs": [
    {
     "data": {
      "text/plain": [
       "' 10. Prohibition Against the Imposition of Similar Charge on Users of Motor Vehicle.- No other Tax, fee or any other charge of similar nature, as the Motor Vehicle User’s Charge shall be imposed by any political subdivision or unit in the country. This provision shall apply to all motor vehicles, including tricycles, motorized pedicads and \"trisikads\".'"
      ]
     },
     "execution_count": 36,
     "metadata": {},
     "output_type": "execute_result"
    }
   ],
   "source": [
    "df.iloc[1200,2]"
   ]
  },
  {
   "attachments": {},
   "cell_type": "markdown",
   "metadata": {},
   "source": [
    "Removal of stopwords, punctuations, numeric characters"
   ]
  },
  {
   "cell_type": "code",
   "execution_count": 109,
   "metadata": {},
   "outputs": [
    {
     "name": "stdout",
     "output_type": "stream",
     "text": [
      "Requirement already satisfied: nltk in /Users/janinedevera/opt/miniconda3/lib/python3.9/site-packages (3.8.1)\n",
      "Requirement already satisfied: joblib in /Users/janinedevera/opt/miniconda3/lib/python3.9/site-packages (from nltk) (1.2.0)\n",
      "Requirement already satisfied: click in /Users/janinedevera/opt/miniconda3/lib/python3.9/site-packages (from nltk) (8.0.4)\n",
      "Requirement already satisfied: regex>=2021.8.3 in /Users/janinedevera/opt/miniconda3/lib/python3.9/site-packages (from nltk) (2022.10.31)\n",
      "Requirement already satisfied: tqdm in /Users/janinedevera/opt/miniconda3/lib/python3.9/site-packages (from nltk) (4.64.1)\n"
     ]
    }
   ],
   "source": [
    "!pip install nltk"
   ]
  },
  {
   "cell_type": "code",
   "execution_count": 20,
   "metadata": {},
   "outputs": [],
   "source": [
    "import nltk\n",
    "from nltk.corpus import stopwords\n",
    "from nltk.tokenize import sent_tokenize, word_tokenize\n",
    "from string import punctuation\n",
    "from nltk.stem.porter import PorterStemmer\n",
    "from nltk.stem import WordNetLemmatizer"
   ]
  },
  {
   "cell_type": "code",
   "execution_count": 21,
   "metadata": {},
   "outputs": [
    {
     "name": "stderr",
     "output_type": "stream",
     "text": [
      "[nltk_data] Downloading package stopwords to\n",
      "[nltk_data]     /Users/janinedevera/nltk_data...\n",
      "[nltk_data]   Package stopwords is already up-to-date!\n",
      "[nltk_data] Downloading package punkt to\n",
      "[nltk_data]     /Users/janinedevera/nltk_data...\n",
      "[nltk_data]   Package punkt is already up-to-date!\n"
     ]
    }
   ],
   "source": [
    "nltk.download(\"stopwords\")\n",
    "nltk.download('punkt')\n",
    "from nltk.corpus import stopwords"
   ]
  },
  {
   "cell_type": "code",
   "execution_count": 37,
   "metadata": {},
   "outputs": [],
   "source": [
    "def preprocess_corpus(texts):\n",
    "    eng_stopwords = set(stopwords.words(\"english\"))\n",
    "    def remove_stops_digits(tokens):\n",
    "        token_list =  [token.lower() for token in tokens if token not in eng_stopwords and token not in punctuation and token.isdigit() == False]\n",
    "        processed_text = ' '.join(token_list)\n",
    "        return processed_text\n",
    "    return [remove_stops_digits(word_tokenize(text)) for text in texts]"
   ]
  },
  {
   "cell_type": "code",
   "execution_count": 38,
   "metadata": {},
   "outputs": [],
   "source": [
    "df['text_clean'] = preprocess_corpus(df['text'])"
   ]
  },
  {
   "attachments": {},
   "cell_type": "markdown",
   "metadata": {},
   "source": [
    "Stemming and lemmatization"
   ]
  },
  {
   "cell_type": "code",
   "execution_count": 39,
   "metadata": {},
   "outputs": [],
   "source": [
    "lemmatizer = WordNetLemmatizer()\n",
    "stemmer = PorterStemmer()"
   ]
  },
  {
   "cell_type": "code",
   "execution_count": 40,
   "metadata": {},
   "outputs": [],
   "source": [
    "def stem_lemmatize(text):\n",
    "    stemmed = [stemmer.stem(token) for token in word_tokenize(text)]\n",
    "    lemmatized = [lemmatizer.lemmatize(token) for token in stemmed]\n",
    "    processed_text = ' '.join(lemmatized)\n",
    "    return processed_text"
   ]
  },
  {
   "cell_type": "code",
   "execution_count": 41,
   "metadata": {},
   "outputs": [],
   "source": [
    "df['text_clean'] = [stem_lemmatize(text) for text in df['text_clean']]"
   ]
  },
  {
   "attachments": {},
   "cell_type": "markdown",
   "metadata": {},
   "source": [
    "Filter number of words < 20"
   ]
  },
  {
   "cell_type": "code",
   "execution_count": 42,
   "metadata": {},
   "outputs": [
    {
     "data": {
      "text/html": [
       "<div>\n",
       "<style scoped>\n",
       "    .dataframe tbody tr th:only-of-type {\n",
       "        vertical-align: middle;\n",
       "    }\n",
       "\n",
       "    .dataframe tbody tr th {\n",
       "        vertical-align: top;\n",
       "    }\n",
       "\n",
       "    .dataframe thead th {\n",
       "        text-align: right;\n",
       "    }\n",
       "</style>\n",
       "<table border=\"1\" class=\"dataframe\">\n",
       "  <thead>\n",
       "    <tr style=\"text-align: right;\">\n",
       "      <th></th>\n",
       "      <th>file_name</th>\n",
       "      <th>country</th>\n",
       "      <th>text</th>\n",
       "      <th>lang</th>\n",
       "      <th>length</th>\n",
       "      <th>text_clean</th>\n",
       "    </tr>\n",
       "  </thead>\n",
       "  <tbody>\n",
       "    <tr>\n",
       "      <th>0</th>\n",
       "      <td>SG_Public Consultation Paper on Draft Amendmen...</td>\n",
       "      <td>SG</td>\n",
       "      <td>V: PROCEDURES AND TIMEFRAME FOR SUBMITTING CO...</td>\n",
       "      <td>en</td>\n",
       "      <td>233</td>\n",
       "      <td>v procedur and timefram for submit comment mci...</td>\n",
       "    </tr>\n",
       "    <tr>\n",
       "      <th>2</th>\n",
       "      <td>SG_Public Consultation Paper on Draft Amendmen...</td>\n",
       "      <td>SG</td>\n",
       "      <td>6 of the PSA, and such providers would theref...</td>\n",
       "      <td>en</td>\n",
       "      <td>274</td>\n",
       "      <td>psa provid would therefor requir postal servic...</td>\n",
       "    </tr>\n",
       "    <tr>\n",
       "      <th>3</th>\n",
       "      <td>SG_Public Consultation Paper on Draft Amendmen...</td>\n",
       "      <td>SG</td>\n",
       "      <td>s 48 and 48A to expand the powers of search an...</td>\n",
       "      <td>en</td>\n",
       "      <td>90</td>\n",
       "      <td>48a expand power search arrest dispos letter r...</td>\n",
       "    </tr>\n",
       "    <tr>\n",
       "      <th>4</th>\n",
       "      <td>SG_Public Consultation Paper on Draft Amendmen...</td>\n",
       "      <td>SG</td>\n",
       "      <td>currently does not spell out the consequences...</td>\n",
       "      <td>en</td>\n",
       "      <td>86</td>\n",
       "      <td>current spell consequ breach direct given mini...</td>\n",
       "    </tr>\n",
       "    <tr>\n",
       "      <th>5</th>\n",
       "      <td>SG_Public Consultation Paper on Draft Amendmen...</td>\n",
       "      <td>SG</td>\n",
       "      <td>on the regulation of letter boxes. Enhancing ...</td>\n",
       "      <td>en</td>\n",
       "      <td>29</td>\n",
       "      <td>regul letter box enhanc enforc power psa today...</td>\n",
       "    </tr>\n",
       "    <tr>\n",
       "      <th>...</th>\n",
       "      <td>...</td>\n",
       "      <td>...</td>\n",
       "      <td>...</td>\n",
       "      <td>...</td>\n",
       "      <td>...</td>\n",
       "      <td>...</td>\n",
       "    </tr>\n",
       "    <tr>\n",
       "      <th>7809</th>\n",
       "      <td>BN_Companies Act Chapter 39, 2016</td>\n",
       "      <td>BN</td>\n",
       "      <td>AND ARTICLES 23. Effect of memorandum and art...</td>\n",
       "      <td>en</td>\n",
       "      <td>31</td>\n",
       "      <td>and articl effect memorandum articl money paya...</td>\n",
       "    </tr>\n",
       "    <tr>\n",
       "      <th>7811</th>\n",
       "      <td>BN_Companies Act Chapter 39, 2016</td>\n",
       "      <td>BN</td>\n",
       "      <td>OF COMPANIES 20. Restriction on registration ...</td>\n",
       "      <td>en</td>\n",
       "      <td>27</td>\n",
       "      <td>of compani restrict registr compani certain na...</td>\n",
       "    </tr>\n",
       "    <tr>\n",
       "      <th>7815</th>\n",
       "      <td>BN_Companies Act Chapter 39, 2016</td>\n",
       "      <td>BN</td>\n",
       "      <td>OF ASSOCIATION 9. Articles prescribing regula...</td>\n",
       "      <td>en</td>\n",
       "      <td>25</td>\n",
       "      <td>of associ articl prescrib regul compani regul ...</td>\n",
       "    </tr>\n",
       "    <tr>\n",
       "      <th>7816</th>\n",
       "      <td>BN_Companies Act Chapter 39, 2016</td>\n",
       "      <td>BN</td>\n",
       "      <td>OF ASSOCIATION 4. Mode of forming incorporate...</td>\n",
       "      <td>en</td>\n",
       "      <td>43</td>\n",
       "      <td>of associ mode form incorpor compani requir re...</td>\n",
       "    </tr>\n",
       "    <tr>\n",
       "      <th>7828</th>\n",
       "      <td>BN_Companies Act Chapter 39, 2016</td>\n",
       "      <td>BN</td>\n",
       "      <td>ACT Enactment No. 25 of 1956 Amended by Enact...</td>\n",
       "      <td>en</td>\n",
       "      <td>46</td>\n",
       "      <td>act enact no amend enact no s 89/1957 s 99/195...</td>\n",
       "    </tr>\n",
       "  </tbody>\n",
       "</table>\n",
       "<p>4143 rows × 6 columns</p>\n",
       "</div>"
      ],
      "text/plain": [
       "                                              file_name country  \\\n",
       "0     SG_Public Consultation Paper on Draft Amendmen...      SG   \n",
       "2     SG_Public Consultation Paper on Draft Amendmen...      SG   \n",
       "3     SG_Public Consultation Paper on Draft Amendmen...      SG   \n",
       "4     SG_Public Consultation Paper on Draft Amendmen...      SG   \n",
       "5     SG_Public Consultation Paper on Draft Amendmen...      SG   \n",
       "...                                                 ...     ...   \n",
       "7809                  BN_Companies Act Chapter 39, 2016      BN   \n",
       "7811                  BN_Companies Act Chapter 39, 2016      BN   \n",
       "7815                  BN_Companies Act Chapter 39, 2016      BN   \n",
       "7816                  BN_Companies Act Chapter 39, 2016      BN   \n",
       "7828                  BN_Companies Act Chapter 39, 2016      BN   \n",
       "\n",
       "                                                   text lang  length  \\\n",
       "0      V: PROCEDURES AND TIMEFRAME FOR SUBMITTING CO...   en     233   \n",
       "2      6 of the PSA, and such providers would theref...   en     274   \n",
       "3     s 48 and 48A to expand the powers of search an...   en      90   \n",
       "4      currently does not spell out the consequences...   en      86   \n",
       "5      on the regulation of letter boxes. Enhancing ...   en      29   \n",
       "...                                                 ...  ...     ...   \n",
       "7809   AND ARTICLES 23. Effect of memorandum and art...   en      31   \n",
       "7811   OF COMPANIES 20. Restriction on registration ...   en      27   \n",
       "7815   OF ASSOCIATION 9. Articles prescribing regula...   en      25   \n",
       "7816   OF ASSOCIATION 4. Mode of forming incorporate...   en      43   \n",
       "7828   ACT Enactment No. 25 of 1956 Amended by Enact...   en      46   \n",
       "\n",
       "                                             text_clean  \n",
       "0     v procedur and timefram for submit comment mci...  \n",
       "2     psa provid would therefor requir postal servic...  \n",
       "3     48a expand power search arrest dispos letter r...  \n",
       "4     current spell consequ breach direct given mini...  \n",
       "5     regul letter box enhanc enforc power psa today...  \n",
       "...                                                 ...  \n",
       "7809  and articl effect memorandum articl money paya...  \n",
       "7811  of compani restrict registr compani certain na...  \n",
       "7815  of associ articl prescrib regul compani regul ...  \n",
       "7816  of associ mode form incorpor compani requir re...  \n",
       "7828  act enact no amend enact no s 89/1957 s 99/195...  \n",
       "\n",
       "[4143 rows x 6 columns]"
      ]
     },
     "execution_count": 42,
     "metadata": {},
     "output_type": "execute_result"
    }
   ],
   "source": [
    "df['length'] = [x.count(' ') for x in df['text_clean']]\n",
    "df = df[df['length'] > 20]\n",
    "df"
   ]
  },
  {
   "cell_type": "code",
   "execution_count": 47,
   "metadata": {},
   "outputs": [
    {
     "data": {
      "text/plain": [
       "PH_EO 292 Administrative Code 1987                  851\n",
       "PH_RA 7160 Local Government Code 1991               498\n",
       "BN_Companies Act Chapter 39, 2016                   397\n",
       "PH_Constitution Republic of the Philippines 1987    202\n",
       "PH_RA 9184 Government Procurement Act IRR 2016      180\n",
       "                                                   ... \n",
       "SG_Postal Accounting Separation Framework 2010        2\n",
       "SG_Postal Services Act Regulation 2005                2\n",
       "BN_Monopolies Act Chapter 73 2003                     2\n",
       "SG_Guidelines for Express Letter Service 2019         2\n",
       "SG_Postal Services Composition of Offences 2008       1\n",
       "Name: file_name, Length: 71, dtype: int64"
      ]
     },
     "execution_count": 47,
     "metadata": {},
     "output_type": "execute_result"
    }
   ],
   "source": [
    "df.file_name.value_counts()"
   ]
  },
  {
   "cell_type": "code",
   "execution_count": 44,
   "metadata": {},
   "outputs": [
    {
     "data": {
      "text/plain": [
       "en    4085\n",
       "id      58\n",
       "Name: lang, dtype: int64"
      ]
     },
     "execution_count": 44,
     "metadata": {},
     "output_type": "execute_result"
    }
   ],
   "source": [
    "df.lang.value_counts()"
   ]
  },
  {
   "attachments": {},
   "cell_type": "markdown",
   "metadata": {},
   "source": [
    "Remove non-english text"
   ]
  },
  {
   "cell_type": "code",
   "execution_count": 45,
   "metadata": {},
   "outputs": [
    {
     "name": "stderr",
     "output_type": "stream",
     "text": [
      "/var/folders/rd/n9w0gpv53y72x5k9wk3hp63w0000gn/T/ipykernel_42281/1540952126.py:1: SettingWithCopyWarning: \n",
      "A value is trying to be set on a copy of a slice from a DataFrame.\n",
      "Try using .loc[row_indexer,col_indexer] = value instead\n",
      "\n",
      "See the caveats in the documentation: https://pandas.pydata.org/pandas-docs/stable/user_guide/indexing.html#returning-a-view-versus-a-copy\n",
      "  df['lang'] = [detect(x) for x in df['text_clean']]\n"
     ]
    },
    {
     "data": {
      "text/html": [
       "<div>\n",
       "<style scoped>\n",
       "    .dataframe tbody tr th:only-of-type {\n",
       "        vertical-align: middle;\n",
       "    }\n",
       "\n",
       "    .dataframe tbody tr th {\n",
       "        vertical-align: top;\n",
       "    }\n",
       "\n",
       "    .dataframe thead th {\n",
       "        text-align: right;\n",
       "    }\n",
       "</style>\n",
       "<table border=\"1\" class=\"dataframe\">\n",
       "  <thead>\n",
       "    <tr style=\"text-align: right;\">\n",
       "      <th></th>\n",
       "      <th>file_name</th>\n",
       "      <th>country</th>\n",
       "      <th>text</th>\n",
       "      <th>lang</th>\n",
       "      <th>length</th>\n",
       "      <th>text_clean</th>\n",
       "    </tr>\n",
       "  </thead>\n",
       "  <tbody>\n",
       "    <tr>\n",
       "      <th>0</th>\n",
       "      <td>SG_Public Consultation Paper on Draft Amendmen...</td>\n",
       "      <td>SG</td>\n",
       "      <td>V: PROCEDURES AND TIMEFRAME FOR SUBMITTING CO...</td>\n",
       "      <td>en</td>\n",
       "      <td>233</td>\n",
       "      <td>v procedur and timefram for submit comment mci...</td>\n",
       "    </tr>\n",
       "    <tr>\n",
       "      <th>2</th>\n",
       "      <td>SG_Public Consultation Paper on Draft Amendmen...</td>\n",
       "      <td>SG</td>\n",
       "      <td>6 of the PSA, and such providers would theref...</td>\n",
       "      <td>en</td>\n",
       "      <td>274</td>\n",
       "      <td>psa provid would therefor requir postal servic...</td>\n",
       "    </tr>\n",
       "    <tr>\n",
       "      <th>3</th>\n",
       "      <td>SG_Public Consultation Paper on Draft Amendmen...</td>\n",
       "      <td>SG</td>\n",
       "      <td>s 48 and 48A to expand the powers of search an...</td>\n",
       "      <td>en</td>\n",
       "      <td>90</td>\n",
       "      <td>48a expand power search arrest dispos letter r...</td>\n",
       "    </tr>\n",
       "    <tr>\n",
       "      <th>4</th>\n",
       "      <td>SG_Public Consultation Paper on Draft Amendmen...</td>\n",
       "      <td>SG</td>\n",
       "      <td>currently does not spell out the consequences...</td>\n",
       "      <td>en</td>\n",
       "      <td>86</td>\n",
       "      <td>current spell consequ breach direct given mini...</td>\n",
       "    </tr>\n",
       "    <tr>\n",
       "      <th>5</th>\n",
       "      <td>SG_Public Consultation Paper on Draft Amendmen...</td>\n",
       "      <td>SG</td>\n",
       "      <td>on the regulation of letter boxes. Enhancing ...</td>\n",
       "      <td>en</td>\n",
       "      <td>29</td>\n",
       "      <td>regul letter box enhanc enforc power psa today...</td>\n",
       "    </tr>\n",
       "    <tr>\n",
       "      <th>...</th>\n",
       "      <td>...</td>\n",
       "      <td>...</td>\n",
       "      <td>...</td>\n",
       "      <td>...</td>\n",
       "      <td>...</td>\n",
       "      <td>...</td>\n",
       "    </tr>\n",
       "    <tr>\n",
       "      <th>7806</th>\n",
       "      <td>BN_Companies Act Chapter 39, 2016</td>\n",
       "      <td>BN</td>\n",
       "      <td>OF NUMBER OF MEMBERS BELOW LEGAL MINIMUM 31. ...</td>\n",
       "      <td>en</td>\n",
       "      <td>22</td>\n",
       "      <td>of number of member below legal minimum prohib...</td>\n",
       "    </tr>\n",
       "    <tr>\n",
       "      <th>7809</th>\n",
       "      <td>BN_Companies Act Chapter 39, 2016</td>\n",
       "      <td>BN</td>\n",
       "      <td>AND ARTICLES 23. Effect of memorandum and art...</td>\n",
       "      <td>en</td>\n",
       "      <td>31</td>\n",
       "      <td>and articl effect memorandum articl money paya...</td>\n",
       "    </tr>\n",
       "    <tr>\n",
       "      <th>7811</th>\n",
       "      <td>BN_Companies Act Chapter 39, 2016</td>\n",
       "      <td>BN</td>\n",
       "      <td>OF COMPANIES 20. Restriction on registration ...</td>\n",
       "      <td>en</td>\n",
       "      <td>27</td>\n",
       "      <td>of compani restrict registr compani certain na...</td>\n",
       "    </tr>\n",
       "    <tr>\n",
       "      <th>7816</th>\n",
       "      <td>BN_Companies Act Chapter 39, 2016</td>\n",
       "      <td>BN</td>\n",
       "      <td>OF ASSOCIATION 4. Mode of forming incorporate...</td>\n",
       "      <td>en</td>\n",
       "      <td>43</td>\n",
       "      <td>of associ mode form incorpor compani requir re...</td>\n",
       "    </tr>\n",
       "    <tr>\n",
       "      <th>7828</th>\n",
       "      <td>BN_Companies Act Chapter 39, 2016</td>\n",
       "      <td>BN</td>\n",
       "      <td>ACT Enactment No. 25 of 1956 Amended by Enact...</td>\n",
       "      <td>en</td>\n",
       "      <td>46</td>\n",
       "      <td>act enact no amend enact no s 89/1957 s 99/195...</td>\n",
       "    </tr>\n",
       "  </tbody>\n",
       "</table>\n",
       "<p>3957 rows × 6 columns</p>\n",
       "</div>"
      ],
      "text/plain": [
       "                                              file_name country  \\\n",
       "0     SG_Public Consultation Paper on Draft Amendmen...      SG   \n",
       "2     SG_Public Consultation Paper on Draft Amendmen...      SG   \n",
       "3     SG_Public Consultation Paper on Draft Amendmen...      SG   \n",
       "4     SG_Public Consultation Paper on Draft Amendmen...      SG   \n",
       "5     SG_Public Consultation Paper on Draft Amendmen...      SG   \n",
       "...                                                 ...     ...   \n",
       "7806                  BN_Companies Act Chapter 39, 2016      BN   \n",
       "7809                  BN_Companies Act Chapter 39, 2016      BN   \n",
       "7811                  BN_Companies Act Chapter 39, 2016      BN   \n",
       "7816                  BN_Companies Act Chapter 39, 2016      BN   \n",
       "7828                  BN_Companies Act Chapter 39, 2016      BN   \n",
       "\n",
       "                                                   text lang  length  \\\n",
       "0      V: PROCEDURES AND TIMEFRAME FOR SUBMITTING CO...   en     233   \n",
       "2      6 of the PSA, and such providers would theref...   en     274   \n",
       "3     s 48 and 48A to expand the powers of search an...   en      90   \n",
       "4      currently does not spell out the consequences...   en      86   \n",
       "5      on the regulation of letter boxes. Enhancing ...   en      29   \n",
       "...                                                 ...  ...     ...   \n",
       "7806   OF NUMBER OF MEMBERS BELOW LEGAL MINIMUM 31. ...   en      22   \n",
       "7809   AND ARTICLES 23. Effect of memorandum and art...   en      31   \n",
       "7811   OF COMPANIES 20. Restriction on registration ...   en      27   \n",
       "7816   OF ASSOCIATION 4. Mode of forming incorporate...   en      43   \n",
       "7828   ACT Enactment No. 25 of 1956 Amended by Enact...   en      46   \n",
       "\n",
       "                                             text_clean  \n",
       "0     v procedur and timefram for submit comment mci...  \n",
       "2     psa provid would therefor requir postal servic...  \n",
       "3     48a expand power search arrest dispos letter r...  \n",
       "4     current spell consequ breach direct given mini...  \n",
       "5     regul letter box enhanc enforc power psa today...  \n",
       "...                                                 ...  \n",
       "7806  of number of member below legal minimum prohib...  \n",
       "7809  and articl effect memorandum articl money paya...  \n",
       "7811  of compani restrict registr compani certain na...  \n",
       "7816  of associ mode form incorpor compani requir re...  \n",
       "7828  act enact no amend enact no s 89/1957 s 99/195...  \n",
       "\n",
       "[3957 rows x 6 columns]"
      ]
     },
     "execution_count": 45,
     "metadata": {},
     "output_type": "execute_result"
    }
   ],
   "source": [
    "df['lang'] = [detect(x) for x in df['text_clean']]\n",
    "df = df[df['lang'] == 'en']\n",
    "df"
   ]
  },
  {
   "cell_type": "code",
   "execution_count": 48,
   "metadata": {},
   "outputs": [],
   "source": [
    "df.to_csv(\"data/legal_texts_pipeline.csv\")"
   ]
  },
  {
   "attachments": {},
   "cell_type": "markdown",
   "metadata": {},
   "source": [
    "#### c. Descriptive statistics"
   ]
  },
  {
   "attachments": {},
   "cell_type": "markdown",
   "metadata": {},
   "source": [
    "### II. Definitions"
   ]
  },
  {
   "cell_type": "code",
   "execution_count": 50,
   "metadata": {},
   "outputs": [
    {
     "name": "stdout",
     "output_type": "stream",
     "text": [
      "Requirement already satisfied: layoutparser in /Users/janinedevera/opt/miniconda3/lib/python3.9/site-packages (0.3.4)\n",
      "Requirement already satisfied: torchvision in /Users/janinedevera/opt/miniconda3/lib/python3.9/site-packages (0.11.0a0)\n",
      "Requirement already satisfied: iopath in /Users/janinedevera/opt/miniconda3/lib/python3.9/site-packages (from layoutparser) (0.1.9)\n",
      "Requirement already satisfied: pandas in /Users/janinedevera/opt/miniconda3/lib/python3.9/site-packages (from layoutparser) (1.4.4)\n",
      "Requirement already satisfied: pdfplumber in /Users/janinedevera/opt/miniconda3/lib/python3.9/site-packages (from layoutparser) (0.8.0)\n",
      "Requirement already satisfied: numpy in /Users/janinedevera/opt/miniconda3/lib/python3.9/site-packages (from layoutparser) (1.23.3)\n",
      "Requirement already satisfied: pillow in /Users/janinedevera/opt/miniconda3/lib/python3.9/site-packages (from layoutparser) (9.2.0)\n",
      "Requirement already satisfied: opencv-python in /Users/janinedevera/opt/miniconda3/lib/python3.9/site-packages (from layoutparser) (4.7.0.72)\n",
      "Requirement already satisfied: scipy in /Users/janinedevera/opt/miniconda3/lib/python3.9/site-packages (from layoutparser) (1.9.1)\n",
      "Requirement already satisfied: pdf2image in /Users/janinedevera/opt/miniconda3/lib/python3.9/site-packages (from layoutparser) (1.16.3)\n",
      "Requirement already satisfied: pyyaml>=5.1 in /Users/janinedevera/opt/miniconda3/lib/python3.9/site-packages (from layoutparser) (6.0)\n",
      "Requirement already satisfied: torch in /Users/janinedevera/opt/miniconda3/lib/python3.9/site-packages (from torchvision) (1.10.2)\n",
      "Requirement already satisfied: tqdm in /Users/janinedevera/opt/miniconda3/lib/python3.9/site-packages (from iopath->layoutparser) (4.64.1)\n",
      "Requirement already satisfied: portalocker in /Users/janinedevera/opt/miniconda3/lib/python3.9/site-packages (from iopath->layoutparser) (2.7.0)\n",
      "Requirement already satisfied: python-dateutil>=2.8.1 in /Users/janinedevera/.local/lib/python3.9/site-packages (from pandas->layoutparser) (2.8.2)\n",
      "Requirement already satisfied: pytz>=2020.1 in /Users/janinedevera/opt/miniconda3/lib/python3.9/site-packages (from pandas->layoutparser) (2022.1)\n",
      "Requirement already satisfied: Wand>=0.6.10 in /Users/janinedevera/opt/miniconda3/lib/python3.9/site-packages (from pdfplumber->layoutparser) (0.6.11)\n",
      "Requirement already satisfied: pdfminer.six==20221105 in /Users/janinedevera/opt/miniconda3/lib/python3.9/site-packages (from pdfplumber->layoutparser) (20221105)\n",
      "Requirement already satisfied: charset-normalizer>=2.0.0 in /Users/janinedevera/opt/miniconda3/lib/python3.9/site-packages (from pdfminer.six==20221105->pdfplumber->layoutparser) (2.1.1)\n",
      "Requirement already satisfied: cryptography>=36.0.0 in /Users/janinedevera/opt/miniconda3/lib/python3.9/site-packages (from pdfminer.six==20221105->pdfplumber->layoutparser) (37.0.4)\n",
      "Requirement already satisfied: typing_extensions in /Users/janinedevera/opt/miniconda3/lib/python3.9/site-packages (from torch->torchvision) (4.3.0)\n",
      "Requirement already satisfied: six>=1.5 in /Users/janinedevera/opt/miniconda3/lib/python3.9/site-packages (from python-dateutil>=2.8.1->pandas->layoutparser) (1.16.0)\n",
      "Requirement already satisfied: cffi>=1.12 in /Users/janinedevera/opt/miniconda3/lib/python3.9/site-packages (from cryptography>=36.0.0->pdfminer.six==20221105->pdfplumber->layoutparser) (1.15.1)\n",
      "Requirement already satisfied: pycparser in /Users/janinedevera/opt/miniconda3/lib/python3.9/site-packages (from cffi>=1.12->cryptography>=36.0.0->pdfminer.six==20221105->pdfplumber->layoutparser) (2.21)\n",
      "Collecting detectron2@ git+https://github.com/facebookresearch/detectron2.git@v0.5#egg=detectron2\n",
      "  Cloning https://github.com/facebookresearch/detectron2.git (to revision v0.5) to /private/var/folders/rd/n9w0gpv53y72x5k9wk3hp63w0000gn/T/pip-install-2j98aain/detectron2_24ea01da83534c56a9eaa26f9bb3db83\n",
      "  Running command git clone --filter=blob:none --quiet https://github.com/facebookresearch/detectron2.git /private/var/folders/rd/n9w0gpv53y72x5k9wk3hp63w0000gn/T/pip-install-2j98aain/detectron2_24ea01da83534c56a9eaa26f9bb3db83\n",
      "  Running command git checkout -q 82a57ce0b70057685962b352535147d9a8118578\n",
      "  Resolved https://github.com/facebookresearch/detectron2.git to commit 82a57ce0b70057685962b352535147d9a8118578\n",
      "  Preparing metadata (setup.py) ... \u001b[?25ldone\n",
      "\u001b[?25hRequirement already satisfied: Pillow>=7.1 in /Users/janinedevera/opt/miniconda3/lib/python3.9/site-packages (from detectron2@ git+https://github.com/facebookresearch/detectron2.git@v0.5#egg=detectron2) (9.2.0)\n",
      "Requirement already satisfied: matplotlib in /Users/janinedevera/opt/miniconda3/lib/python3.9/site-packages (from detectron2@ git+https://github.com/facebookresearch/detectron2.git@v0.5#egg=detectron2) (3.5.2)\n",
      "Requirement already satisfied: pycocotools>=2.0.2 in /Users/janinedevera/opt/miniconda3/lib/python3.9/site-packages (from detectron2@ git+https://github.com/facebookresearch/detectron2.git@v0.5#egg=detectron2) (2.0.6)\n",
      "Requirement already satisfied: termcolor>=1.1 in /Users/janinedevera/opt/miniconda3/lib/python3.9/site-packages (from detectron2@ git+https://github.com/facebookresearch/detectron2.git@v0.5#egg=detectron2) (2.0.1)\n",
      "Requirement already satisfied: yacs>=0.1.6 in /Users/janinedevera/opt/miniconda3/lib/python3.9/site-packages (from detectron2@ git+https://github.com/facebookresearch/detectron2.git@v0.5#egg=detectron2) (0.1.8)\n",
      "Requirement already satisfied: tabulate in /Users/janinedevera/opt/miniconda3/lib/python3.9/site-packages (from detectron2@ git+https://github.com/facebookresearch/detectron2.git@v0.5#egg=detectron2) (0.9.0)\n",
      "Requirement already satisfied: cloudpickle in /Users/janinedevera/opt/miniconda3/lib/python3.9/site-packages (from detectron2@ git+https://github.com/facebookresearch/detectron2.git@v0.5#egg=detectron2) (2.2.1)\n",
      "Requirement already satisfied: tqdm>4.29.0 in /Users/janinedevera/opt/miniconda3/lib/python3.9/site-packages (from detectron2@ git+https://github.com/facebookresearch/detectron2.git@v0.5#egg=detectron2) (4.64.1)\n",
      "Requirement already satisfied: tensorboard in /Users/janinedevera/.local/lib/python3.9/site-packages (from detectron2@ git+https://github.com/facebookresearch/detectron2.git@v0.5#egg=detectron2) (2.9.1)\n",
      "Requirement already satisfied: fvcore<0.1.6,>=0.1.5 in /Users/janinedevera/opt/miniconda3/lib/python3.9/site-packages (from detectron2@ git+https://github.com/facebookresearch/detectron2.git@v0.5#egg=detectron2) (0.1.5.post20221221)\n",
      "Requirement already satisfied: iopath<0.1.10,>=0.1.7 in /Users/janinedevera/opt/miniconda3/lib/python3.9/site-packages (from detectron2@ git+https://github.com/facebookresearch/detectron2.git@v0.5#egg=detectron2) (0.1.9)\n",
      "Requirement already satisfied: future in /Users/janinedevera/opt/miniconda3/lib/python3.9/site-packages (from detectron2@ git+https://github.com/facebookresearch/detectron2.git@v0.5#egg=detectron2) (0.18.2)\n",
      "Requirement already satisfied: pydot in /Users/janinedevera/opt/miniconda3/lib/python3.9/site-packages (from detectron2@ git+https://github.com/facebookresearch/detectron2.git@v0.5#egg=detectron2) (1.4.2)\n",
      "Requirement already satisfied: omegaconf>=2.1 in /Users/janinedevera/opt/miniconda3/lib/python3.9/site-packages (from detectron2@ git+https://github.com/facebookresearch/detectron2.git@v0.5#egg=detectron2) (2.3.0)\n",
      "Requirement already satisfied: hydra-core>=1.1 in /Users/janinedevera/opt/miniconda3/lib/python3.9/site-packages (from detectron2@ git+https://github.com/facebookresearch/detectron2.git@v0.5#egg=detectron2) (1.3.2)\n",
      "Requirement already satisfied: black==21.4b2 in /Users/janinedevera/opt/miniconda3/lib/python3.9/site-packages (from detectron2@ git+https://github.com/facebookresearch/detectron2.git@v0.5#egg=detectron2) (21.4b2)\n",
      "Requirement already satisfied: pathspec<1,>=0.8.1 in /Users/janinedevera/opt/miniconda3/lib/python3.9/site-packages (from black==21.4b2->detectron2@ git+https://github.com/facebookresearch/detectron2.git@v0.5#egg=detectron2) (0.11.0)\n",
      "Requirement already satisfied: regex>=2020.1.8 in /Users/janinedevera/opt/miniconda3/lib/python3.9/site-packages (from black==21.4b2->detectron2@ git+https://github.com/facebookresearch/detectron2.git@v0.5#egg=detectron2) (2022.10.31)\n",
      "Requirement already satisfied: mypy-extensions>=0.4.3 in /Users/janinedevera/opt/miniconda3/lib/python3.9/site-packages (from black==21.4b2->detectron2@ git+https://github.com/facebookresearch/detectron2.git@v0.5#egg=detectron2) (1.0.0)\n",
      "Requirement already satisfied: click>=7.1.2 in /Users/janinedevera/opt/miniconda3/lib/python3.9/site-packages (from black==21.4b2->detectron2@ git+https://github.com/facebookresearch/detectron2.git@v0.5#egg=detectron2) (8.0.4)\n",
      "Requirement already satisfied: toml>=0.10.1 in /Users/janinedevera/opt/miniconda3/lib/python3.9/site-packages (from black==21.4b2->detectron2@ git+https://github.com/facebookresearch/detectron2.git@v0.5#egg=detectron2) (0.10.2)\n",
      "Requirement already satisfied: appdirs in /Users/janinedevera/opt/miniconda3/lib/python3.9/site-packages (from black==21.4b2->detectron2@ git+https://github.com/facebookresearch/detectron2.git@v0.5#egg=detectron2) (1.4.4)\n",
      "Requirement already satisfied: pyyaml>=5.1 in /Users/janinedevera/opt/miniconda3/lib/python3.9/site-packages (from fvcore<0.1.6,>=0.1.5->detectron2@ git+https://github.com/facebookresearch/detectron2.git@v0.5#egg=detectron2) (6.0)\n",
      "Requirement already satisfied: numpy in /Users/janinedevera/opt/miniconda3/lib/python3.9/site-packages (from fvcore<0.1.6,>=0.1.5->detectron2@ git+https://github.com/facebookresearch/detectron2.git@v0.5#egg=detectron2) (1.23.3)\n",
      "Requirement already satisfied: antlr4-python3-runtime==4.9.* in /Users/janinedevera/opt/miniconda3/lib/python3.9/site-packages (from hydra-core>=1.1->detectron2@ git+https://github.com/facebookresearch/detectron2.git@v0.5#egg=detectron2) (4.9.3)\n",
      "Requirement already satisfied: packaging in /Users/janinedevera/.local/lib/python3.9/site-packages (from hydra-core>=1.1->detectron2@ git+https://github.com/facebookresearch/detectron2.git@v0.5#egg=detectron2) (21.3)\n",
      "Requirement already satisfied: portalocker in /Users/janinedevera/opt/miniconda3/lib/python3.9/site-packages (from iopath<0.1.10,>=0.1.7->detectron2@ git+https://github.com/facebookresearch/detectron2.git@v0.5#egg=detectron2) (2.7.0)\n",
      "Requirement already satisfied: kiwisolver>=1.0.1 in /Users/janinedevera/opt/miniconda3/lib/python3.9/site-packages (from matplotlib->detectron2@ git+https://github.com/facebookresearch/detectron2.git@v0.5#egg=detectron2) (1.4.4)\n",
      "Requirement already satisfied: python-dateutil>=2.7 in /Users/janinedevera/.local/lib/python3.9/site-packages (from matplotlib->detectron2@ git+https://github.com/facebookresearch/detectron2.git@v0.5#egg=detectron2) (2.8.2)\n",
      "Requirement already satisfied: cycler>=0.10 in /Users/janinedevera/opt/miniconda3/lib/python3.9/site-packages (from matplotlib->detectron2@ git+https://github.com/facebookresearch/detectron2.git@v0.5#egg=detectron2) (0.11.0)\n",
      "Requirement already satisfied: pyparsing>=2.2.1 in /Users/janinedevera/.local/lib/python3.9/site-packages (from matplotlib->detectron2@ git+https://github.com/facebookresearch/detectron2.git@v0.5#egg=detectron2) (3.0.9)\n",
      "Requirement already satisfied: fonttools>=4.22.0 in /Users/janinedevera/opt/miniconda3/lib/python3.9/site-packages (from matplotlib->detectron2@ git+https://github.com/facebookresearch/detectron2.git@v0.5#egg=detectron2) (4.25.0)\n",
      "Requirement already satisfied: markdown>=2.6.8 in /Users/janinedevera/opt/miniconda3/lib/python3.9/site-packages (from tensorboard->detectron2@ git+https://github.com/facebookresearch/detectron2.git@v0.5#egg=detectron2) (3.4.1)\n",
      "Requirement already satisfied: tensorboard-plugin-wit>=1.6.0 in /Users/janinedevera/opt/miniconda3/lib/python3.9/site-packages (from tensorboard->detectron2@ git+https://github.com/facebookresearch/detectron2.git@v0.5#egg=detectron2) (1.8.1)\n",
      "Requirement already satisfied: google-auth-oauthlib<0.5,>=0.4.1 in /Users/janinedevera/opt/miniconda3/lib/python3.9/site-packages (from tensorboard->detectron2@ git+https://github.com/facebookresearch/detectron2.git@v0.5#egg=detectron2) (0.4.6)\n",
      "Requirement already satisfied: grpcio>=1.24.3 in /Users/janinedevera/opt/miniconda3/lib/python3.9/site-packages (from tensorboard->detectron2@ git+https://github.com/facebookresearch/detectron2.git@v0.5#egg=detectron2) (1.51.3)\n",
      "Requirement already satisfied: requests<3,>=2.21.0 in /Users/janinedevera/opt/miniconda3/lib/python3.9/site-packages (from tensorboard->detectron2@ git+https://github.com/facebookresearch/detectron2.git@v0.5#egg=detectron2) (2.28.1)\n",
      "Requirement already satisfied: absl-py>=0.4 in /Users/janinedevera/opt/miniconda3/lib/python3.9/site-packages (from tensorboard->detectron2@ git+https://github.com/facebookresearch/detectron2.git@v0.5#egg=detectron2) (1.2.0)\n",
      "Requirement already satisfied: tensorboard-data-server<0.7.0,>=0.6.0 in /Users/janinedevera/opt/miniconda3/lib/python3.9/site-packages (from tensorboard->detectron2@ git+https://github.com/facebookresearch/detectron2.git@v0.5#egg=detectron2) (0.6.0)\n",
      "Requirement already satisfied: setuptools>=41.0.0 in /Users/janinedevera/opt/miniconda3/lib/python3.9/site-packages (from tensorboard->detectron2@ git+https://github.com/facebookresearch/detectron2.git@v0.5#egg=detectron2) (65.4.0)\n",
      "Requirement already satisfied: werkzeug>=1.0.1 in /Users/janinedevera/opt/miniconda3/lib/python3.9/site-packages (from tensorboard->detectron2@ git+https://github.com/facebookresearch/detectron2.git@v0.5#egg=detectron2) (2.2.2)\n",
      "Requirement already satisfied: google-auth<3,>=1.6.3 in /Users/janinedevera/opt/miniconda3/lib/python3.9/site-packages (from tensorboard->detectron2@ git+https://github.com/facebookresearch/detectron2.git@v0.5#egg=detectron2) (2.11.1)\n",
      "Requirement already satisfied: wheel>=0.26 in /Users/janinedevera/opt/miniconda3/lib/python3.9/site-packages (from tensorboard->detectron2@ git+https://github.com/facebookresearch/detectron2.git@v0.5#egg=detectron2) (0.37.1)\n",
      "Requirement already satisfied: protobuf<3.20,>=3.9.2 in /Users/janinedevera/opt/miniconda3/lib/python3.9/site-packages (from tensorboard->detectron2@ git+https://github.com/facebookresearch/detectron2.git@v0.5#egg=detectron2) (3.19.6)\n",
      "Requirement already satisfied: six>=1.9.0 in /Users/janinedevera/opt/miniconda3/lib/python3.9/site-packages (from google-auth<3,>=1.6.3->tensorboard->detectron2@ git+https://github.com/facebookresearch/detectron2.git@v0.5#egg=detectron2) (1.16.0)\n",
      "Requirement already satisfied: cachetools<6.0,>=2.0.0 in /Users/janinedevera/opt/miniconda3/lib/python3.9/site-packages (from google-auth<3,>=1.6.3->tensorboard->detectron2@ git+https://github.com/facebookresearch/detectron2.git@v0.5#egg=detectron2) (5.2.0)\n",
      "Requirement already satisfied: rsa<5,>=3.1.4 in /Users/janinedevera/opt/miniconda3/lib/python3.9/site-packages (from google-auth<3,>=1.6.3->tensorboard->detectron2@ git+https://github.com/facebookresearch/detectron2.git@v0.5#egg=detectron2) (4.9)\n",
      "Requirement already satisfied: pyasn1-modules>=0.2.1 in /Users/janinedevera/opt/miniconda3/lib/python3.9/site-packages (from google-auth<3,>=1.6.3->tensorboard->detectron2@ git+https://github.com/facebookresearch/detectron2.git@v0.5#egg=detectron2) (0.2.7)\n",
      "Requirement already satisfied: requests-oauthlib>=0.7.0 in /Users/janinedevera/opt/miniconda3/lib/python3.9/site-packages (from google-auth-oauthlib<0.5,>=0.4.1->tensorboard->detectron2@ git+https://github.com/facebookresearch/detectron2.git@v0.5#egg=detectron2) (1.3.1)\n",
      "Requirement already satisfied: importlib-metadata>=4.4 in /Users/janinedevera/opt/miniconda3/lib/python3.9/site-packages (from markdown>=2.6.8->tensorboard->detectron2@ git+https://github.com/facebookresearch/detectron2.git@v0.5#egg=detectron2) (4.11.4)\n",
      "Requirement already satisfied: certifi>=2017.4.17 in /Users/janinedevera/opt/miniconda3/lib/python3.9/site-packages (from requests<3,>=2.21.0->tensorboard->detectron2@ git+https://github.com/facebookresearch/detectron2.git@v0.5#egg=detectron2) (2022.9.24)\n",
      "Requirement already satisfied: urllib3<1.27,>=1.21.1 in /Users/janinedevera/opt/miniconda3/lib/python3.9/site-packages (from requests<3,>=2.21.0->tensorboard->detectron2@ git+https://github.com/facebookresearch/detectron2.git@v0.5#egg=detectron2) (1.26.11)\n",
      "Requirement already satisfied: charset-normalizer<3,>=2 in /Users/janinedevera/opt/miniconda3/lib/python3.9/site-packages (from requests<3,>=2.21.0->tensorboard->detectron2@ git+https://github.com/facebookresearch/detectron2.git@v0.5#egg=detectron2) (2.1.1)\n",
      "Requirement already satisfied: idna<4,>=2.5 in /Users/janinedevera/opt/miniconda3/lib/python3.9/site-packages (from requests<3,>=2.21.0->tensorboard->detectron2@ git+https://github.com/facebookresearch/detectron2.git@v0.5#egg=detectron2) (3.4)\n",
      "Requirement already satisfied: MarkupSafe>=2.1.1 in /Users/janinedevera/opt/miniconda3/lib/python3.9/site-packages (from werkzeug>=1.0.1->tensorboard->detectron2@ git+https://github.com/facebookresearch/detectron2.git@v0.5#egg=detectron2) (2.1.1)\n",
      "Requirement already satisfied: zipp>=0.5 in /Users/janinedevera/opt/miniconda3/lib/python3.9/site-packages (from importlib-metadata>=4.4->markdown>=2.6.8->tensorboard->detectron2@ git+https://github.com/facebookresearch/detectron2.git@v0.5#egg=detectron2) (3.8.1)\n",
      "Requirement already satisfied: pyasn1<0.5.0,>=0.4.6 in /Users/janinedevera/opt/miniconda3/lib/python3.9/site-packages (from pyasn1-modules>=0.2.1->google-auth<3,>=1.6.3->tensorboard->detectron2@ git+https://github.com/facebookresearch/detectron2.git@v0.5#egg=detectron2) (0.4.8)\n",
      "Requirement already satisfied: oauthlib>=3.0.0 in /Users/janinedevera/opt/miniconda3/lib/python3.9/site-packages (from requests-oauthlib>=0.7.0->google-auth-oauthlib<0.5,>=0.4.1->tensorboard->detectron2@ git+https://github.com/facebookresearch/detectron2.git@v0.5#egg=detectron2) (3.2.1)\n",
      "Requirement already satisfied: pdf2image in /Users/janinedevera/opt/miniconda3/lib/python3.9/site-packages (1.16.3)\n",
      "Requirement already satisfied: pillow in /Users/janinedevera/opt/miniconda3/lib/python3.9/site-packages (from pdf2image) (9.2.0)\n",
      "Requirement already satisfied: layoutparser[ocr] in /Users/janinedevera/opt/miniconda3/lib/python3.9/site-packages (0.3.4)\n",
      "Requirement already satisfied: opencv-python in /Users/janinedevera/opt/miniconda3/lib/python3.9/site-packages (from layoutparser[ocr]) (4.7.0.72)\n",
      "Requirement already satisfied: pillow in /Users/janinedevera/opt/miniconda3/lib/python3.9/site-packages (from layoutparser[ocr]) (9.2.0)\n",
      "Requirement already satisfied: pyyaml>=5.1 in /Users/janinedevera/opt/miniconda3/lib/python3.9/site-packages (from layoutparser[ocr]) (6.0)\n",
      "Requirement already satisfied: pdfplumber in /Users/janinedevera/opt/miniconda3/lib/python3.9/site-packages (from layoutparser[ocr]) (0.8.0)\n",
      "Requirement already satisfied: iopath in /Users/janinedevera/opt/miniconda3/lib/python3.9/site-packages (from layoutparser[ocr]) (0.1.9)\n",
      "Requirement already satisfied: numpy in /Users/janinedevera/opt/miniconda3/lib/python3.9/site-packages (from layoutparser[ocr]) (1.23.3)\n",
      "Requirement already satisfied: scipy in /Users/janinedevera/opt/miniconda3/lib/python3.9/site-packages (from layoutparser[ocr]) (1.9.1)\n",
      "Requirement already satisfied: pdf2image in /Users/janinedevera/opt/miniconda3/lib/python3.9/site-packages (from layoutparser[ocr]) (1.16.3)\n",
      "Requirement already satisfied: pandas in /Users/janinedevera/opt/miniconda3/lib/python3.9/site-packages (from layoutparser[ocr]) (1.4.4)\n",
      "Requirement already satisfied: google-cloud-vision==1 in /Users/janinedevera/opt/miniconda3/lib/python3.9/site-packages (from layoutparser[ocr]) (1.0.0)\n",
      "Requirement already satisfied: pytesseract in /Users/janinedevera/opt/miniconda3/lib/python3.9/site-packages (from layoutparser[ocr]) (0.3.10)\n",
      "Requirement already satisfied: google-api-core[grpc]<2.0.0dev,>=1.14.0 in /Users/janinedevera/opt/miniconda3/lib/python3.9/site-packages (from google-cloud-vision==1->layoutparser[ocr]) (1.34.0)\n",
      "Requirement already satisfied: tqdm in /Users/janinedevera/opt/miniconda3/lib/python3.9/site-packages (from iopath->layoutparser[ocr]) (4.64.1)\n",
      "Requirement already satisfied: portalocker in /Users/janinedevera/opt/miniconda3/lib/python3.9/site-packages (from iopath->layoutparser[ocr]) (2.7.0)\n",
      "Requirement already satisfied: python-dateutil>=2.8.1 in /Users/janinedevera/.local/lib/python3.9/site-packages (from pandas->layoutparser[ocr]) (2.8.2)\n",
      "Requirement already satisfied: pytz>=2020.1 in /Users/janinedevera/opt/miniconda3/lib/python3.9/site-packages (from pandas->layoutparser[ocr]) (2022.1)\n",
      "Requirement already satisfied: Wand>=0.6.10 in /Users/janinedevera/opt/miniconda3/lib/python3.9/site-packages (from pdfplumber->layoutparser[ocr]) (0.6.11)\n",
      "Requirement already satisfied: pdfminer.six==20221105 in /Users/janinedevera/opt/miniconda3/lib/python3.9/site-packages (from pdfplumber->layoutparser[ocr]) (20221105)\n",
      "Requirement already satisfied: charset-normalizer>=2.0.0 in /Users/janinedevera/opt/miniconda3/lib/python3.9/site-packages (from pdfminer.six==20221105->pdfplumber->layoutparser[ocr]) (2.1.1)\n",
      "Requirement already satisfied: cryptography>=36.0.0 in /Users/janinedevera/opt/miniconda3/lib/python3.9/site-packages (from pdfminer.six==20221105->pdfplumber->layoutparser[ocr]) (37.0.4)\n",
      "Requirement already satisfied: packaging>=21.3 in /Users/janinedevera/.local/lib/python3.9/site-packages (from pytesseract->layoutparser[ocr]) (21.3)\n",
      "Requirement already satisfied: google-auth<3.0dev,>=1.25.0 in /Users/janinedevera/opt/miniconda3/lib/python3.9/site-packages (from google-api-core[grpc]<2.0.0dev,>=1.14.0->google-cloud-vision==1->layoutparser[ocr]) (2.11.1)\n",
      "Requirement already satisfied: requests<3.0.0dev,>=2.18.0 in /Users/janinedevera/opt/miniconda3/lib/python3.9/site-packages (from google-api-core[grpc]<2.0.0dev,>=1.14.0->google-cloud-vision==1->layoutparser[ocr]) (2.28.1)\n",
      "Requirement already satisfied: googleapis-common-protos<2.0dev,>=1.56.2 in /Users/janinedevera/opt/miniconda3/lib/python3.9/site-packages (from google-api-core[grpc]<2.0.0dev,>=1.14.0->google-cloud-vision==1->layoutparser[ocr]) (1.58.0)\n",
      "Requirement already satisfied: protobuf!=3.20.0,!=3.20.1,!=4.21.0,!=4.21.1,!=4.21.2,!=4.21.3,!=4.21.4,!=4.21.5,<4.0.0dev,>=3.19.5 in /Users/janinedevera/opt/miniconda3/lib/python3.9/site-packages (from google-api-core[grpc]<2.0.0dev,>=1.14.0->google-cloud-vision==1->layoutparser[ocr]) (3.19.6)\n",
      "Requirement already satisfied: grpcio-status<2.0dev,>=1.33.2 in /Users/janinedevera/opt/miniconda3/lib/python3.9/site-packages (from google-api-core[grpc]<2.0.0dev,>=1.14.0->google-cloud-vision==1->layoutparser[ocr]) (1.48.2)\n",
      "Requirement already satisfied: grpcio<2.0dev,>=1.33.2 in /Users/janinedevera/opt/miniconda3/lib/python3.9/site-packages (from google-api-core[grpc]<2.0.0dev,>=1.14.0->google-cloud-vision==1->layoutparser[ocr]) (1.51.3)\n",
      "Requirement already satisfied: pyparsing!=3.0.5,>=2.0.2 in /Users/janinedevera/.local/lib/python3.9/site-packages (from packaging>=21.3->pytesseract->layoutparser[ocr]) (3.0.9)\n",
      "Requirement already satisfied: six>=1.5 in /Users/janinedevera/opt/miniconda3/lib/python3.9/site-packages (from python-dateutil>=2.8.1->pandas->layoutparser[ocr]) (1.16.0)\n",
      "Requirement already satisfied: cffi>=1.12 in /Users/janinedevera/opt/miniconda3/lib/python3.9/site-packages (from cryptography>=36.0.0->pdfminer.six==20221105->pdfplumber->layoutparser[ocr]) (1.15.1)\n",
      "Requirement already satisfied: cachetools<6.0,>=2.0.0 in /Users/janinedevera/opt/miniconda3/lib/python3.9/site-packages (from google-auth<3.0dev,>=1.25.0->google-api-core[grpc]<2.0.0dev,>=1.14.0->google-cloud-vision==1->layoutparser[ocr]) (5.2.0)\n",
      "Requirement already satisfied: pyasn1-modules>=0.2.1 in /Users/janinedevera/opt/miniconda3/lib/python3.9/site-packages (from google-auth<3.0dev,>=1.25.0->google-api-core[grpc]<2.0.0dev,>=1.14.0->google-cloud-vision==1->layoutparser[ocr]) (0.2.7)\n",
      "Requirement already satisfied: rsa<5,>=3.1.4 in /Users/janinedevera/opt/miniconda3/lib/python3.9/site-packages (from google-auth<3.0dev,>=1.25.0->google-api-core[grpc]<2.0.0dev,>=1.14.0->google-cloud-vision==1->layoutparser[ocr]) (4.9)\n",
      "Requirement already satisfied: idna<4,>=2.5 in /Users/janinedevera/opt/miniconda3/lib/python3.9/site-packages (from requests<3.0.0dev,>=2.18.0->google-api-core[grpc]<2.0.0dev,>=1.14.0->google-cloud-vision==1->layoutparser[ocr]) (3.4)\n",
      "Requirement already satisfied: certifi>=2017.4.17 in /Users/janinedevera/opt/miniconda3/lib/python3.9/site-packages (from requests<3.0.0dev,>=2.18.0->google-api-core[grpc]<2.0.0dev,>=1.14.0->google-cloud-vision==1->layoutparser[ocr]) (2022.9.24)\n",
      "Requirement already satisfied: urllib3<1.27,>=1.21.1 in /Users/janinedevera/opt/miniconda3/lib/python3.9/site-packages (from requests<3.0.0dev,>=2.18.0->google-api-core[grpc]<2.0.0dev,>=1.14.0->google-cloud-vision==1->layoutparser[ocr]) (1.26.11)\n",
      "Requirement already satisfied: pycparser in /Users/janinedevera/opt/miniconda3/lib/python3.9/site-packages (from cffi>=1.12->cryptography>=36.0.0->pdfminer.six==20221105->pdfplumber->layoutparser[ocr]) (2.21)\n",
      "Requirement already satisfied: pyasn1<0.5.0,>=0.4.6 in /Users/janinedevera/opt/miniconda3/lib/python3.9/site-packages (from pyasn1-modules>=0.2.1->google-auth<3.0dev,>=1.25.0->google-api-core[grpc]<2.0.0dev,>=1.14.0->google-cloud-vision==1->layoutparser[ocr]) (0.4.8)\n"
     ]
    }
   ],
   "source": [
    "!pip install layoutparser torchvision && pip install \"detectron2@git+https://github.com/facebookresearch/detectron2.git@v0.5#egg=detectron2\"\n",
    "!pip install pdf2image\n",
    "!pip install \"layoutparser[ocr]\""
   ]
  },
  {
   "cell_type": "code",
   "execution_count": 124,
   "metadata": {},
   "outputs": [],
   "source": [
    "import pdf2image\n",
    "from pdf2image import convert_from_bytes, convert_from_path\n",
    "from glob import glob\n",
    "import layoutparser as lp\n",
    "import collections.abc\n",
    "from collections.abc import MutableMapping"
   ]
  },
  {
   "cell_type": "code",
   "execution_count": 125,
   "metadata": {},
   "outputs": [
    {
     "data": {
      "text/plain": [
       "1"
      ]
     },
     "execution_count": 125,
     "metadata": {},
     "output_type": "execute_result"
    }
   ],
   "source": [
    "def_dir = \"data/definitions/\" \n",
    "def_list = glob(os.path.join(def_dir, \"*.pdf\"))\n",
    "len(def_list)"
   ]
  },
  {
   "cell_type": "code",
   "execution_count": 126,
   "metadata": {},
   "outputs": [
    {
     "name": "stdout",
     "output_type": "stream",
     "text": [
      "data/definitions/oecd-definitions.pdf is done: 15 pages\n"
     ]
    }
   ],
   "source": [
    "img_list = []\n",
    "for pdf in def_list:\n",
    "    # convert pdf to image\n",
    "    file = convert_from_path(pdf)\n",
    "    # read image as array\n",
    "    for (i, page) in enumerate(file):\n",
    "        img = np.asarray(file[i])\n",
    "    # append to list \n",
    "        img_list.append(img)\n",
    "    print('{} is done'.format(pdf) + ': ' + str(len(file)) + ' pages')"
   ]
  },
  {
   "attachments": {},
   "cell_type": "markdown",
   "metadata": {},
   "source": [
    "#### a. Document layout recognition\n",
    "https://layout-parser.readthedocs.io/en/latest/notes/modelzoo.html#model-catalog"
   ]
  },
  {
   "cell_type": "code",
   "execution_count": 127,
   "metadata": {},
   "outputs": [
    {
     "name": "stderr",
     "output_type": "stream",
     "text": [
      "The checkpoint state_dict contains keys that are not used by the model:\n",
      "  \u001b[35mproposal_generator.anchor_generator.cell_anchors.{0, 1, 2, 3, 4}\u001b[0m\n"
     ]
    }
   ],
   "source": [
    "# model used for DLA\n",
    "model = lp.Detectron2LayoutModel('lp://PubLayNet/mask_rcnn_X_101_32x8d_FPN_3x/config',\n",
    "                                 extra_config=[\"MODEL.ROI_HEADS.SCORE_THRESH_TEST\", 0.45], # if confidence score < 0.5, bounding box will not appear \n",
    "                                 label_map={0: \"Text\", 1: \"Title\", 2: \"List\", 3:\"Table\", 4:\"Figure\"})"
   ]
  },
  {
   "cell_type": "code",
   "execution_count": 128,
   "metadata": {},
   "outputs": [
    {
     "name": "stderr",
     "output_type": "stream",
     "text": [
      "/Users/janinedevera/opt/miniconda3/lib/python3.9/site-packages/detectron2/structures/image_list.py:99: UserWarning: __floordiv__ is deprecated, and its behavior will change in a future version of pytorch. It currently rounds toward 0 (like the 'trunc' function NOT 'floor'). This results in incorrect rounding for negative values. To keep the current behavior, use torch.div(a, b, rounding_mode='trunc'), or for actual floor division, use torch.div(a, b, rounding_mode='floor').\n",
      "  max_size = (max_size + (stride - 1)) // stride * stride\n",
      "/Users/janinedevera/opt/miniconda3/lib/python3.9/site-packages/torch/functional.py:445: UserWarning: torch.meshgrid: in an upcoming release, it will be required to pass the indexing argument. (Triggered internally at  /private/var/folders/nz/j6p8yfhx1mv_0grj5xl4650h0000gp/T/abs_croot-4qf3nw4h/pytorch_1648016051178/work/aten/src/ATen/native/TensorShape.cpp:2157.)\n",
      "  return _VF.meshgrid(tensors, **kwargs)  # type: ignore[attr-defined]\n"
     ]
    }
   ],
   "source": [
    "layout_results = []\n",
    "for img in img_list:\n",
    "    layout = model.detect(img)\n",
    "    layout_results.append(layout)"
   ]
  },
  {
   "cell_type": "code",
   "execution_count": 9,
   "metadata": {},
   "outputs": [
    {
     "data": {
      "text/plain": [
       "15"
      ]
     },
     "execution_count": 9,
     "metadata": {},
     "output_type": "execute_result"
    }
   ],
   "source": [
    "len(layout_results)"
   ]
  },
  {
   "cell_type": "code",
   "execution_count": 10,
   "metadata": {},
   "outputs": [
    {
     "data": {
      "text/plain": [
       "Layout(_blocks=[TextBlock(block=Rectangle(x_1=382.6321716308594, y_1=640.4793701171875, x_2=1316.7623291015625, y_2=681.00048828125), text=None, id=None, type=Title, parent=None, next=None, score=0.996715784072876), TextBlock(block=Rectangle(x_1=388.93243408203125, y_1=1252.96240234375, x_2=1030.2362060546875, y_2=1295.3704833984375), text=None, id=None, type=Title, parent=None, next=None, score=0.9871305823326111), TextBlock(block=Rectangle(x_1=328.6932067871094, y_1=1557.092529296875, x_2=701.5183715820312, y_2=1601.2904052734375), text=None, id=None, type=Title, parent=None, next=None, score=0.9866315722465515), TextBlock(block=Rectangle(x_1=329.71148681640625, y_1=975.97900390625, x_2=700.8331298828125, y_2=1022.7642211914062), text=None, id=None, type=Title, parent=None, next=None, score=0.9819469451904297), TextBlock(block=Rectangle(x_1=325.14434814453125, y_1=704.9537353515625, x_2=1321.0994873046875, y_2=948.52783203125), text=None, id=None, type=Text, parent=None, next=None, score=0.9495155215263367), TextBlock(block=Rectangle(x_1=325.2698669433594, y_1=1320.9632568359375, x_2=1320.7216796875, y_2=1529.9144287109375), text=None, id=None, type=Text, parent=None, next=None, score=0.9419731497764587), TextBlock(block=Rectangle(x_1=322.2295227050781, y_1=1632.7728271484375, x_2=1322.487060546875, y_2=1900.07568359375), text=None, id=None, type=Text, parent=None, next=None, score=0.9279441833496094), TextBlock(block=Rectangle(x_1=325.01470947265625, y_1=1047.4228515625, x_2=1324.3779296875, y_2=1225.1927490234375), text=None, id=None, type=Text, parent=None, next=None, score=0.9205180406570435), TextBlock(block=Rectangle(x_1=334.8624572753906, y_1=471.1217346191406, x_2=1323.85302734375, y_2=608.223876953125), text=None, id=None, type=Text, parent=None, next=None, score=0.8135099411010742), TextBlock(block=Rectangle(x_1=377.3957824707031, y_1=717.1463623046875, x_2=1323.12353515625, y_2=746.619384765625), text=None, id=None, type=Text, parent=None, next=None, score=0.5781274437904358)], page_data={})"
      ]
     },
     "execution_count": 10,
     "metadata": {},
     "output_type": "execute_result"
    }
   ],
   "source": [
    "layout_results[5]"
   ]
  },
  {
   "cell_type": "code",
   "execution_count": 11,
   "metadata": {},
   "outputs": [
    {
     "data": {
      "image/png": "[encoded data removed]",
      "text/plain": [
       "<PIL.Image.Image image mode=RGB size=1654x2339>"
      ]
     },
     "execution_count": 11,
     "metadata": {},
     "output_type": "execute_result"
    }
   ],
   "source": [
    "lp.draw_box(img_list[5], layout_results[5],  box_width=5, box_alpha=0.2, show_element_type=True)"
   ]
  },
  {
   "cell_type": "markdown",
   "metadata": {},
   "source": []
  },
  {
   "attachments": {},
   "cell_type": "markdown",
   "metadata": {},
   "source": [
    "Function for extracting text from OCR results"
   ]
  },
  {
   "cell_type": "code",
   "execution_count": 65,
   "metadata": {},
   "outputs": [],
   "source": [
    "def extract_section(section, results, images):\n",
    "\n",
    "    # select relevant sections \n",
    "    list = []\n",
    "    for result in results:\n",
    "        item = lp.Layout([b for b in result if b.type==section]) \n",
    "        list.append(item)\n",
    "\n",
    "    # ocr selected sections\n",
    "    ocr_agent = lp.TesseractAgent(languages='eng')\n",
    "    ocr_section = []\n",
    "    for item, img in zip(list, images): \n",
    "        for block in item:\n",
    "            # crop image around the detected layout\n",
    "            segment_image = (block\n",
    "                            .pad(left=15, right=15, top=5, bottom=5)\n",
    "                            .crop_image(img))\n",
    "            # perform ocr\n",
    "            text = ocr_agent.detect(segment_image)\n",
    "            # save result\n",
    "            block.set(text=text, inplace=True)\n",
    "        ocr_section.append(item)\n",
    "\n",
    "    # create list of text\n",
    "    final_text = []\n",
    "    for file in ocr_section:\n",
    "        for text in file:\n",
    "            final_text.append(text.text.strip())\n",
    "\n",
    "    return final_text"
   ]
  },
  {
   "cell_type": "code",
   "execution_count": null,
   "metadata": {},
   "outputs": [],
   "source": [
    "titles = extract_section(\"Title\", layout_results, img_list)"
   ]
  },
  {
   "cell_type": "code",
   "execution_count": 91,
   "metadata": {},
   "outputs": [],
   "source": [
    "titles = [x for x in titles if x != 'Alternative policy options']\n",
    "titles = [x.replace(\"\\n\", \" \") for x in titles]"
   ]
  },
  {
   "cell_type": "code",
   "execution_count": 92,
   "metadata": {},
   "outputs": [
    {
     "data": {
      "text/plain": [
       "['Chapter 1  Competition Assessment and the Competition Checklist',\n",
       " 'Introduction',\n",
       " 'Are there limits on the number or range of suppliers?',\n",
       " 'Grants of exclusive rights',\n",
       " 'License or permit requirements',\n",
       " 'Limits the ability of some suppliers to provide goods or services',\n",
       " 'Significantly raises the costs of entry or exit',\n",
       " 'Restricts the geographic flow of goods, services, capital and labour',\n",
       " 'requirements to achieve an adequate degree of consumer protection are set at the minimum mandatory level.',\n",
       " 'There is a substantial risk of “temporary” protection developing into a quasi-permanent arrangement as a result of substantial lobbying by suppliers benefitting from the restrictions.',\n",
       " 'Controls the prices at which goods or services are sold',\n",
       " 'Are there limits on suppliers’ ability to compete?',\n",
       " 'Sets standards for product quality that provide an undue advantage to some suppliers over others, or are above the level that some well-informed customers choose',\n",
       " 'Restricts advertising and marketing',\n",
       " 'Raises the costs for some suppliers relative to others',\n",
       " 'Are there reductions in the incentives for suppliers to compete?',\n",
       " 'to productive technologies, grandfather clauses are often implemented to ensure adequate time exists to amortise the sunk costs of previous investments.',\n",
       " 'Requirements to publish information on supplier prices, outputs or sales',\n",
       " 'Self-regulation and co-regulation',\n",
       " 'generated under self-regulatory or co-regulatory regimes, by increasing the share of supplier output and price information, or by excluding an industry or sector from the reach of competition law.',\n",
       " 'Exemptions from general competition laws',\n",
       " 'A merger is a combination of two (or more) previously independent firms to form one larger firm.',\n",
       " 'Reduces the mobility of customers by increasing the costs of changing suppliers',\n",
       " 'Limits the ability of consumers to decide from whom they purchase goods or services',\n",
       " 'Are there limits on choices and information available to customers?',\n",
       " 'Placing limits on consumer choice can be harmful, because designated suppliers will have less incentive to deliver products of desired quality and price.',\n",
       " 'Fundamentally changes information required by buyers to shop effectively',\n",
       " 'Options for such information requirements may include government-run information and educational programmes which may distribute leaflets, or air public service television commercials to help educate consumers about the choices they will have after deregulation.']"
      ]
     },
     "execution_count": 92,
     "metadata": {},
     "output_type": "execute_result"
    }
   ],
   "source": [
    "titles"
   ]
  },
  {
   "cell_type": "code",
   "execution_count": 99,
   "metadata": {},
   "outputs": [],
   "source": [
    "pd.DataFrame(titles).to_csv(\"data/def_titles.csv\")"
   ]
  },
  {
   "cell_type": "code",
   "execution_count": 86,
   "metadata": {},
   "outputs": [],
   "source": [
    "text = extract_section(\"Text\", layout_results, img_list)"
   ]
  },
  {
   "cell_type": "code",
   "execution_count": 96,
   "metadata": {},
   "outputs": [
    {
     "data": {
      "text/plain": [
       "['Examples of the benefits of competition are provided in Chapter 2.',\n",
       " 'This chapter describes the Competition Checklist and its role in the competition assessment process. Readers with prior knowledge of this topic may wish to  proceed directly to the technical companion volume, Competition Assessment Guidance.',\n",
       " 'As a first step, the method employs a “Competition Checklist”, a set of threshold questions which indicate when a proposed law or regulation may have significant potential to harm competition. The Checklist helps policymakers focus on potential competition issues at an early stage in the policy development process.',\n",
       " 'The Toolkit shows regulators and legislators how to make that assessment. It provides a practical method to identify important competitive restrictions and, if possible, how to avoid them. In 2009, the OECD Council adopted a Recommendation on Competition Assessment (see Appendix A for the full text of the recommendation).',\n",
       " 'Government action is designed to promote and protect important public policy goals and there are usually multiple ways to achieve these goals. When considering options, it is beneficial to assess the effects on competition because consumers are typically better off when there is more, rather than less, competition.! Such assessments are best performed early in the process of developing policies.',\n",
       " 'While the majority of regulations do not present a risk of significant harm to competition, the competition assessment process, of which the checklist is the initial stage, provides an analytical framework for regulators and legislators to mitigate, or avoid, potential competition problems. It does so by helping to identify possible alternatives that may reduce, or eliminate,  potential harm to competition while continuing to achieve the desired policy objectives.',\n",
       " 'The rest of this chapter describes the four categories of questions in the Competition Checklist and the first step policymakers should take if the answer to any of these questions is “yes.” It also gives some initial ideas for potential policy alternatives.',\n",
       " 'This is likely to be the case if the provision:',\n",
       " 'This is likely to be the case if the provision:',\n",
       " 'This may be the case if the provision:',\n",
       " 'This may be the case if the provision:',\n",
       " 'Granting an exclusive right to produce a certain good, or provide a certain service, represents the establishment of a private monopoly. Historically, the grant of an exclusive right occurred frequently in the context of a “natural monopoly”.s Exclusive rights, particularly if granted for a long duration, have frequently been considered as a means of encouraging substantial investment in infrastructure that might not occur without the incentive of a guaranteed market that an exclusive right provides. But exclusive rights are sometimes used in situations where the natural monopoly justification for them does not apply.',\n",
       " 'Limiting the number of suppliers leads to the risk that market power? will be created and competitive rivalry will be reduced. When the number of suppliers declines, the possibility of diminished competition (or collusion) among remaining suppliers increases, and the ability of individual suppliers to raise prices can be increased. The resulting decline in rivalry can reduce incentives to meet consumer demands effectively and can reduce innovation and long-term economic efficiency. While there may be sound reasons for policy makers to limit the number or range of suppliers the benefits of entry limits need to be carefully balanced against the fact that ease of entry by new suppliers can help prevent existing suppliers from exercising market power or colluding.',\n",
       " 'Exclusive rights are, in many respects, the ultimate entry barrier and are likely to yield monopoly pricing and other problems associated with the exercise of market power. Regulation does not always prevent these outcomes because regulators often fail (or have limited success) in the restriction of market power and protection of consumers. Therefore, such rights should be limited and only established after careful consideration of prices to be charged, duration of rights, and alternative ways to achieve the same objectives.',\n",
       " 'Licenses or permits required for operation necessarily restrict entry. Qualification requirements can take the form of minimum standards for formal education and/or experience and may include good character requirements. For example, in the finance industry, before participation in an official capacity at company and board level is permitted, so-called “fit-and-proper” tests are often required. In other industries, potential entrants are sometimes required to take a “public interest” test to demonstrate the “need” for an additional service to be provided and, in some cases, to show that their entry would not have a negative impact on existing industry businesses. In extreme cases, there may be a fixed numbers of licensees.',\n",
       " 'If there are no alternatives, regulators may wish to consider auctioning the exclusive right. Advice should be sought from the government, or other economists, as to the most appropriate type of auction for the proposed sale of rights. Where such a right is granted, particular attention needs to be paid to regulatory design. For example, issues need to be addressed, such as the relative appropriateness of “cost-plus” pricing regulation versus “rate-of- return regulation” versus “price-cap” regulation. Moreover, in many cases, splitting the exclusive right between two or three parties can conserve competitive dynamics to some degree while still reaping the desired benefits.',\n",
       " 'Product quality standards that ensure consumer safety should not be set higher than necessary. Likewise, restrictions on supplier size (e.g. only one storefront per professional) should not be set at levels that create substantial anti-competitive impacts or inefficiencies. Similarly, when compulsory insurance, performance bonds and comparable requirements are being considered, the nature and extent of consumer harm that can potentially result from poor practice, or from the failure of a service provider,',\n",
       " 'License or permit requirements are often stricter than needed for consumer protection and can reduce consumer choice unnecessarily or create artificial scarcity that raises prices. While licensing schemes often have well- founded consumer protection objectives, such barriers frequently have the effect of protecting incumbent producers from competition. Care needs to be taken that license and permit requirements do not become more onerous than necessary to achieve the desired regulatory objectives.',\n",
       " 'substantial anti-competitive impacts or inefficiencies. Similarly, when',\n",
       " 'COMPETITION ASSESSMENT TOOLKIT, VERSION 4.0 © OECD 2019',\n",
       " 'Governments can limit the ability of certain suppliers to participate in a business activity. For example, some governments require all real estate brokers to provide a government-mandated set of services, which limits or prohibits low-cost minimum-service brokers, or fee-for-service brokers, from providing services. Such restrictions are often excessive because they unduly restrict the number of suppliers, reduce competition between suppliers and result in higher prices or less desirable contract terms for customers.',\n",
       " 'Regulations that raise the cost of entry to, or exit from, a market will tend to discourage potential entrants thus reducing the number of participants in the market over time. Examples of this type of regulation include: rigorous product testing requirements, and unnecessarily high educational or technical qualifications to be met. In the case of the digital economy, physical presence, minimum scale and inspection rules can unduly obstruct entry.',\n",
       " 'Governments sometimes act to minimise the negative competitive impacts of such provisions by providing targeted exemptions. For example, low-volume car manufacturers are often exempt from aspects of vehicle testing regulations, or subject to less onerous testing protocols. To enable better informed consumer choices, alternatives such as providing more information or product disclosure requirements could be considered. In some cases, regulation may be required, even though it could raise entry costs. The focus should be on minimising anti-competitive potential by ensuring that',\n",
       " 'When regional or small business policy objectives are under consideration, alternative options that are less restrictive to competition may include: a range of direct subsidies and/or tax benefits, more favourable regulatory provisions for the small or regional provider, or the use of publicity/educational campaigns.',\n",
       " 'should be taken into account. To ensure consumers are protected from any potential harm, they must be able to make well-informed decisions when selecting a provider. Alternative approaches to enhancing consumer knowledge should be envisaged.',\n",
       " 'Governments can limit the ability of certain suppliers to participate in a',\n",
       " 'Regulations sometimes limit the flow of goods, services, capital and/or labour across jurisdictional boundaries, often as an instrument of regional policy. Such limitations, however, artificially reduce the geographic area of competition for provision of a good or service. This may reduce the number of suppliers and potentially allow suppliers to exercise market power and increase prices.',\n",
       " 'There are often better alternatives available to achieve regulatory objectives, including direct subsidies and favourable regulatory treatment. In general, there are relatively few contexts in which such restrictions are likely to pass a benefit/cost test. Therefore, policymakers should adopt a generally sceptical view of proposed regulation that includes such restrictions.',\n",
       " 'Potential restrictions should be assessed on the following questions:',\n",
       " 'There is a substantial risk of “temporary” protection developing into a quasi-permanent arrangement as a result of substantial lobbying by suppliers benefitting from the restrictions.',\n",
       " 'Regulations sometimes limit the flow of goods, services, capital and/or',\n",
       " 'Governments often regulate prices in traditional monopoly sectors, such as utilities. These types of price control are probably helpful to consumers and serve as a counterweight to a lack of consumer alternatives. However, price controls are also sometimes applied in situations where there are many potential suppliers for the same consumer. When minimum prices are set, low-cost suppliers who provide better value to consumers are prevented from winning market share. Similarly, when maximum prices are set, supplier incentives to innovate by providing new and/or high-quality products can be substantially reduced, and suppliers may effectively co-ordinate their prices around the maximum price.',\n",
       " 'Price regulation rarely constitutes the most effective or efficient means of achieving intended objectives. For example, in the taxi market, a better means of protecting consumers is to address restrictions on supply with the introduction of raid-hailing services. In the case of “predatory pricing” concerns, use of the general competition law is likely to be a better alternative. Thus, regulation proposing to control prices should be subject to especially rigorous scrutiny.',\n",
       " 'Minimum price regulation is sometimes a response to extremely vigorous price competition. In these cases, minimum price regulation is generally seen as a means of protecting small suppliers from “unfair” competition. The impacts of such price regulation merit careful evaluation because the result is likely to be higher prices for consumers or unmet demand. Maximum price regulations are frequently introduced as a necessary corollary to entry restrictions. An alternative is to permit freer entry to the market.',\n",
       " 'Regulation can affect a supplier’s ability to compete in a variety of ways, including: advertising and marketing restrictions; standard setting for products or service quality; and price control of goods or services. These limits can reduce the intensity and dimensions of rivalry, yielding higher prices for consumers and less product variety.',\n",
       " 'Minimum price regulation is sometimes a response to extremely',\n",
       " 'Regulations setting standards often provide benefits to consumers and can help to promote new types of products by ensuring that new products from different suppliers are compatible. But standard setting can also provide undue advantages to some suppliers over others. One common example is environmental regulations that limit the allowable emissions of a mildly toxic substance. While limiting emissions is often appropriate to protect public health, regulations can be designed in ways that unfairly advantage a small number of suppliers, for instance, by requiring a particular technology or by',\n",
       " 'Regulations that restrict suppliers’ ability to advertise or market goods and services often exist to limit false or misleading advertising. Sometimes restrictions are intended to reduce advertising for products or services that are deemed to have a socially negative value or that are subject to excess consumption. At other times, advertising to certain “vulnerable” groups, such as children, may be restricted. Restrictions of this nature, when circumscribed to ensure they are not overly broad, can have significant social benefits.',\n",
       " 'General consumer protection laws almost invariably contain prohibitions on misleading and deceptive advertising practices. These promote efficient markets and are effectively pro-competitive and usually obviate the need for any further, product- or service-specific, advertising restrictions. Where there is a need to discourage over-consumption, alternative approaches to advertising restrictions include information campaigns and consumption taxes. These constitute more direct, effective, means of addressing the identified policy issue.',\n",
       " 'In many cases, however, advertising and marketing restrictions are too broad and unduly restrict competition. Restrictions on advertising and marketing are likely to be particularly onerous for potential entrants, as they restrict an entrant’s ability to inform potential customers of their presence in the market and of the nature and quality of the goods and services that they are able to offer.',\n",
       " 'setting unduly strict standards that are difficult, or impossible, for less well- resourced producers to meet. Another example where standard-setting can have asignificant anti-competitive impact is when minimum quality standards are set for particular product types. There are often sound objectives underlying such standard-setting, such as consumer protection from risks associated with the use of the product. However, when some consumers prefer lower cost over increased safety, the need for the standard is less clear. Consumer welfare can be reduced by such standards as consumers are prevented from buying cheaper, lower quality goods that they might prefer, even when fully informed of all associated risks.',\n",
       " 'At times, regulations have the effect of raising costs for some suppliers relative to others. One source of cost asymmetry is due to regulations that unnecessarily require the use of one technology of production over another. Another source is the “grandfather clause” which exempts current suppliers from a regulation but applies it to new entrants. Subsidies or preferential financing for state-owned or preferred enterprises are also a source. Imposition of regulations which were designed for traditional suppliers on digital technology powered businesses may increase their costs. Such arrangements have substantial potential to distort competitive relations within the industry by influencing costs to some suppliers to a greater extent than to others. This can create inefficiency, impede entry, reduce corporate- led innovation and lower the intensity of competitive pressure in the market. While creating cost differentials can be harmful, this does not mean that regulations should always seek uniform supplier costs.',\n",
       " 'Alternatives to stricter product standards regulations often exist. For example, when minimum standards are pursued for consumer protection reasons, it may be possible to require disclosure of certain product characteristics instead. When major changes in emissions standards are contemplated, governments can seek to minimise anti-competitive impact by permitting emission rights trading or providing temporary assistance to smaller suppliers in order to help them meet the new requirements.',\n",
       " 'Regulations that require registration to practice a particular profession can include grandfather clauses to allow those who have extensive experience within the profession to be registered even if they do not have the training or qualifications necessary for new applications to register. In relation',\n",
       " 'contemplated, governments can seek to minimise anti-competitive impact by',\n",
       " 'associated with the use of the product. However, when some consumers',\n",
       " 'Subsidies can provide benefits in many circumstances, but when they fundamentally alter terms of competition by providing advantages to firms that are inefficient, they may move business to less efficient providers. Alternatives to subsidies can include restructuring to eliminate uneconomic activities and to make businesses run with higher productivity, though at times special subsidies may be required to support such restructuring. In some jurisdictions, subsidies are limited to ensure they are not ongoing, that they are genuinely aimed at improving the performance of viable companies and to address market failures, and that their negative effects on competition remain limited.',\n",
       " 'Regulations can affect supplier behaviour by not only changing their ability to compete, but also by changing their incentive to act as vigorous rivals. The main reasons suppliers may compete less vigorously are due to regulations that: may facilitate co-ordination between them or reduce the willingness, ability or incentive of customers to switch between different suppliers.',\n",
       " 'The anti-competitive impact of grandfather clauses can be minimised by ensuring that they are time-limited rather than permanent. The duration of the exemption should be strictly proportionate to the underlying rationale for the clause being granted in the first place. More generally, however, a sceptical approach to arguments in favour of the need for grandfather clauses should be taken, as they are frequently a reflection of attempts to defend vested interests from potential competition.',\n",
       " 'Other reasons include profit or market share limits, that restrict potential rewards from competing. Cartel-like behaviour’ may be more readily',\n",
       " 'A cartel exists when competitors make an agreement to restrict competition, for example by setting a price, limiting supply, sharing profits or rigging bids, thus increasing their collective profits.',\n",
       " 'Regulations can affect supplier behaviour by not only changing their',\n",
       " 'Governments should retain powers to prevent attempts by the industry/professional association to use regulatory powers in an anti- competitive manner. This may include either ensuring that self-regulation or co-regulation clearly remains subject to competition law enforcement, or that relevant governmental authorities have the right to approve or refuse association rules and, to substitute their own rules, as necessary, should the association continue to propose unacceptable rules.',\n",
       " 'When an industry or professional association takes full responsibility for regulating the conduct of its members, without government legislative backing (often at the urging of government), the term “self-regulation” is used. However, when a government provides legislative backing to rules that are developed, at least partly, by the industry/professional association, the term “co-regulation” is used. Self-regulatory and co-regulatory structures can yield substantial benefits by ensuring that technical standards are appropriate and that standards advance with technology.',\n",
       " 'Cartels are harmful because they restrict output and raise prices, making consumers worse off. The risks of cartel activity must be balanced against potential benefits of self-regulation, such as quicker certification of new technologies.',\n",
       " 'Regulations that require market participants to publish information on their prices or output levels can significantly contribute to the formation of',\n",
       " 'However, these structures can have significant anti-competitive impacts. In particular, industry/professional associations often adopt rules that reduce incentives or opportunities for vigorous competition between suppliers of goods or services, such as advertising restrictions and rules that prevent discounting. In addition, unduly strict qualification requirements may reduce market entry.',\n",
       " 'When information is gathered primarily for government policy making, there may be no need to publish it at all. When the purpose is to aid consumers or provide general statistics, aggregate statistics are less supportive of cartels than company-specific statistics, and historical statistics are less supportive than current information. Aggregated statistics across companies will deter cartel members from identifying suppliers that are violating the cartel agreement, whereas company-specific statistics can clearly identify a company that has deviated from a cartel agreement over pricing or quantity. As cartels need to share current information in order to allocate output and set price targets, historical statistics and information are less useful to them.',\n",
       " 'cartels, as a key requirement for cartel operation is that participants can effectively monitor their competitors’ (or co-conspirators’) market behaviour. Cartels and tacit co-ordination are more likely to arise when: there are fewer participants in the market; entry barriers are high; suppliers’ products are relatively homogeneous; and, information is available before, or soon after, price or output changes occur.',\n",
       " 'Regulations may be adopted that require publication of information, such as price and output levels, to improve consumer information and, sometimes this can improve the efficiency of markets. However, when cartel formation is likely, such requirements are more likely to have a net negative impact. Other options exist that do not require publishing all collected data.',\n",
       " 'In many countries, particular suppliers or economic sectors benefit from exemptions from general competition law but some are subject to their own, sector-specific competition laws. In other cases, no restrictions on anti- competitive conduct exist at all. Where a substantial derogation from the general application of competition law exists, there is a clear risk of cartels, pricing abuse and anti-competitive mergers.®',\n",
       " 'A merger is a combination of two (or more) previously independent firms to form one larger firm.',\n",
       " 'sometimes this can improve the efficiency of markets. However, when cartel',\n",
       " 'Regulations can make consumers more or less willing to switch suppliers by affecting “switching costs” —the explicit and implicit costs borne by aconsumer in changing from one supplier to another. Switching costs may arise for various reasons, including long contract terms or tying of assets to',\n",
       " 'The most likely alternative is better information. But sometimes information is simply not enough. For example, in the case of contact lenses, the rules for prescriptions were modified to oblige prescribers, who had issued a prescription for private label and exclusively supplied contact lenses, to provide sufficient information so that close alternatives on the market could be identified and legally substituted by contact lens sellers. (For more details, see Chapter 4, Section 4.1 of the Competition Assessment Guidance, volume 2 of the Competition Assessment Toolkit).',\n",
       " 'Regulations sometimes limit choices available to consumers. For example, a regulation may restrict customers to utilising medical services locally. Such a regulation could limit quality of care and prevent consumers who would prefer to go further afield (for example, to a clinic with shorter waiting lists or a better reputation) from doing so.',\n",
       " 'When there is a specific rationale for the continued existence of an exemption, consideration should be given to how its effect can be minimised. For example, a legislated monopoly requiring all producers of a particular commodity to sell to a licensed wholesaler may be more restrictive than allowing producers to engage in co-operative selling arrangements.',\n",
       " 'Placing limits on consumer choice can be harmful, because designated suppliers will have less incentive to deliver products of desired quality and price.',\n",
       " 'Regulations can make consumers more or less willing to switch',\n",
       " 'For example, a legislated monopoly requiring all producers of a particular',\n",
       " 'The most likely alternative is better information. But sometimes',\n",
       " 'When governments deregulate and introduce markets that did not previously exist , consumers will be asked to choose between products that they may never have purchased before. One example where this may occur is the consumer purchase of electricity. When consumers are able to select a supplier in new markets, it can be difficult for them to evaluate offers and distinguish good companies from bad ones. When information is lacking on the “new” product, reforms risk being rolled back due to consumer complaints about companies taking advantage of them.',\n",
       " 'The pro-competitive impact of reducing or eliminating switching costs can be large, and policymakers should avoid policies that raise switching costs for consumers. Where there is a clear risk of switching costs being imposed, provisions should be included in the regulatory structure to limit or prohibit their use. Due care should be taken to ensure that legitimate costs of consumer switching are considered. Even when the supplier will incur substantial costs as a consequence of the switching process, if the pro- competitive impact of reducing or eliminating costs is sufficiently large, the regulator may wish to prevent suppliers from explicitly recovering those costs from consumers. Competition between businesses prior to a customer purchase decision may help to lower negative impacts from switching costs.',\n",
       " 'To ensure deregulation survives and is considered a success, it may be better to accompany the creation of new choices with an information requirement that provides consumers with a reference point for comparing offers.',\n",
       " 'suppliers in a way that makes switching inconvenient, as with tying a phone number to a given service provider. When consumers face high switching costs, suppliers can charge higher prices for their goods or services and will sometimes promote policies to ensure high switching costs.',\n",
       " 'Options for such information requirements may include government-run information and educational programmes which may distribute leaflets, or air public service television commercials to help educate consumers about the choices they will have after deregulation.']"
      ]
     },
     "execution_count": 96,
     "metadata": {},
     "output_type": "execute_result"
    }
   ],
   "source": [
    "text = [x.replace(\"\\n\", \" \") for x in text]\n",
    "text"
   ]
  },
  {
   "cell_type": "code",
   "execution_count": 100,
   "metadata": {},
   "outputs": [],
   "source": [
    "pd.DataFrame(text).to_csv(\"data/def_text.csv\")"
   ]
  },
  {
   "attachments": {},
   "cell_type": "markdown",
   "metadata": {},
   "source": [
    "#### b. Read complete definitions table"
   ]
  },
  {
   "cell_type": "code",
   "execution_count": 129,
   "metadata": {},
   "outputs": [],
   "source": [
    "definitions = pd.read_excel(\"data/oecd_definitions.xlsx\")\n"
   ]
  },
  {
   "cell_type": "code",
   "execution_count": 130,
   "metadata": {},
   "outputs": [],
   "source": [
    "definitions['length'] = [x.count(' ') for x in definitions['Text']]"
   ]
  },
  {
   "cell_type": "code",
   "execution_count": 131,
   "metadata": {},
   "outputs": [
    {
     "data": {
      "text/html": [
       "<div>\n",
       "<style scoped>\n",
       "    .dataframe tbody tr th:only-of-type {\n",
       "        vertical-align: middle;\n",
       "    }\n",
       "\n",
       "    .dataframe tbody tr th {\n",
       "        vertical-align: top;\n",
       "    }\n",
       "\n",
       "    .dataframe thead th {\n",
       "        text-align: right;\n",
       "    }\n",
       "</style>\n",
       "<table border=\"1\" class=\"dataframe\">\n",
       "  <thead>\n",
       "    <tr style=\"text-align: right;\">\n",
       "      <th></th>\n",
       "      <th>Main_Cat</th>\n",
       "      <th>Sub_Cat</th>\n",
       "      <th>Text</th>\n",
       "      <th>length</th>\n",
       "    </tr>\n",
       "  </thead>\n",
       "  <tbody>\n",
       "    <tr>\n",
       "      <th>0</th>\n",
       "      <td>A</td>\n",
       "      <td>NaN</td>\n",
       "      <td>Limiting the number of suppliers leads to the ...</td>\n",
       "      <td>118</td>\n",
       "    </tr>\n",
       "    <tr>\n",
       "      <th>1</th>\n",
       "      <td>A</td>\n",
       "      <td>A1</td>\n",
       "      <td>Granting an exclusive right to produce a certa...</td>\n",
       "      <td>172</td>\n",
       "    </tr>\n",
       "    <tr>\n",
       "      <th>2</th>\n",
       "      <td>A</td>\n",
       "      <td>A2</td>\n",
       "      <td>Licenses or permits required for operation nec...</td>\n",
       "      <td>176</td>\n",
       "    </tr>\n",
       "    <tr>\n",
       "      <th>3</th>\n",
       "      <td>A</td>\n",
       "      <td>A3</td>\n",
       "      <td>Governments can limit the ability of certain s...</td>\n",
       "      <td>71</td>\n",
       "    </tr>\n",
       "    <tr>\n",
       "      <th>4</th>\n",
       "      <td>A</td>\n",
       "      <td>A4</td>\n",
       "      <td>Regulations that raise the cost of entry to, o...</td>\n",
       "      <td>149</td>\n",
       "    </tr>\n",
       "    <tr>\n",
       "      <th>5</th>\n",
       "      <td>A</td>\n",
       "      <td>A5</td>\n",
       "      <td>Regulations sometimes limit the flow of goods,...</td>\n",
       "      <td>142</td>\n",
       "    </tr>\n",
       "    <tr>\n",
       "      <th>6</th>\n",
       "      <td>B</td>\n",
       "      <td>NaN</td>\n",
       "      <td>Regulation can affect a supplier's ability to ...</td>\n",
       "      <td>50</td>\n",
       "    </tr>\n",
       "    <tr>\n",
       "      <th>7</th>\n",
       "      <td>B</td>\n",
       "      <td>B1</td>\n",
       "      <td>Governments often regulate prices in tradition...</td>\n",
       "      <td>177</td>\n",
       "    </tr>\n",
       "    <tr>\n",
       "      <th>8</th>\n",
       "      <td>B</td>\n",
       "      <td>B2</td>\n",
       "      <td>Regulations that restrict supplier's ability t...</td>\n",
       "      <td>141</td>\n",
       "    </tr>\n",
       "    <tr>\n",
       "      <th>9</th>\n",
       "      <td>B</td>\n",
       "      <td>B3</td>\n",
       "      <td>Regulations setting standards often provide be...</td>\n",
       "      <td>193</td>\n",
       "    </tr>\n",
       "    <tr>\n",
       "      <th>10</th>\n",
       "      <td>B</td>\n",
       "      <td>B4</td>\n",
       "      <td>At times, regulations have the effect of raisi...</td>\n",
       "      <td>215</td>\n",
       "    </tr>\n",
       "    <tr>\n",
       "      <th>11</th>\n",
       "      <td>C</td>\n",
       "      <td>NaN</td>\n",
       "      <td>Regulations can affect supplier behaviour by n...</td>\n",
       "      <td>138</td>\n",
       "    </tr>\n",
       "    <tr>\n",
       "      <th>12</th>\n",
       "      <td>C</td>\n",
       "      <td>C1</td>\n",
       "      <td>When an industry or professional association t...</td>\n",
       "      <td>123</td>\n",
       "    </tr>\n",
       "    <tr>\n",
       "      <th>13</th>\n",
       "      <td>C</td>\n",
       "      <td>C2</td>\n",
       "      <td>Regulations that require market participants t...</td>\n",
       "      <td>135</td>\n",
       "    </tr>\n",
       "    <tr>\n",
       "      <th>14</th>\n",
       "      <td>C</td>\n",
       "      <td>C3</td>\n",
       "      <td>In many countries, particular suppliers or eco...</td>\n",
       "      <td>60</td>\n",
       "    </tr>\n",
       "    <tr>\n",
       "      <th>15</th>\n",
       "      <td>D</td>\n",
       "      <td>D1</td>\n",
       "      <td>Regulations sometimes limit choices available ...</td>\n",
       "      <td>75</td>\n",
       "    </tr>\n",
       "    <tr>\n",
       "      <th>16</th>\n",
       "      <td>D</td>\n",
       "      <td>D2</td>\n",
       "      <td>Regulations can make consumers more or less wi...</td>\n",
       "      <td>92</td>\n",
       "    </tr>\n",
       "    <tr>\n",
       "      <th>17</th>\n",
       "      <td>D</td>\n",
       "      <td>D3</td>\n",
       "      <td>When governments deregulate and introduce mark...</td>\n",
       "      <td>88</td>\n",
       "    </tr>\n",
       "  </tbody>\n",
       "</table>\n",
       "</div>"
      ],
      "text/plain": [
       "   Main_Cat Sub_Cat                                               Text  length\n",
       "0         A     NaN  Limiting the number of suppliers leads to the ...     118\n",
       "1         A      A1  Granting an exclusive right to produce a certa...     172\n",
       "2         A      A2  Licenses or permits required for operation nec...     176\n",
       "3         A      A3  Governments can limit the ability of certain s...      71\n",
       "4         A      A4  Regulations that raise the cost of entry to, o...     149\n",
       "5         A      A5  Regulations sometimes limit the flow of goods,...     142\n",
       "6         B     NaN  Regulation can affect a supplier's ability to ...      50\n",
       "7         B      B1  Governments often regulate prices in tradition...     177\n",
       "8         B      B2  Regulations that restrict supplier's ability t...     141\n",
       "9         B      B3  Regulations setting standards often provide be...     193\n",
       "10        B      B4  At times, regulations have the effect of raisi...     215\n",
       "11        C     NaN  Regulations can affect supplier behaviour by n...     138\n",
       "12        C      C1  When an industry or professional association t...     123\n",
       "13        C      C2  Regulations that require market participants t...     135\n",
       "14        C      C3  In many countries, particular suppliers or eco...      60\n",
       "15        D      D1  Regulations sometimes limit choices available ...      75\n",
       "16        D      D2  Regulations can make consumers more or less wi...      92\n",
       "17        D      D3  When governments deregulate and introduce mark...      88"
      ]
     },
     "execution_count": 131,
     "metadata": {},
     "output_type": "execute_result"
    }
   ],
   "source": [
    "definitions"
   ]
  },
  {
   "attachments": {},
   "cell_type": "markdown",
   "metadata": {},
   "source": [
    "#### c. Cleaning and pre-processing"
   ]
  },
  {
   "cell_type": "code",
   "execution_count": 133,
   "metadata": {},
   "outputs": [],
   "source": [
    "definitions['text_clean'] = preprocess_corpus(definitions['Text'])\n",
    "definitions['text_clean'] = [stem_lemmatize(text) for text in definitions['text_clean']]"
   ]
  },
  {
   "cell_type": "code",
   "execution_count": 134,
   "metadata": {},
   "outputs": [
    {
     "data": {
      "text/html": [
       "<div>\n",
       "<style scoped>\n",
       "    .dataframe tbody tr th:only-of-type {\n",
       "        vertical-align: middle;\n",
       "    }\n",
       "\n",
       "    .dataframe tbody tr th {\n",
       "        vertical-align: top;\n",
       "    }\n",
       "\n",
       "    .dataframe thead th {\n",
       "        text-align: right;\n",
       "    }\n",
       "</style>\n",
       "<table border=\"1\" class=\"dataframe\">\n",
       "  <thead>\n",
       "    <tr style=\"text-align: right;\">\n",
       "      <th></th>\n",
       "      <th>Main_Cat</th>\n",
       "      <th>Sub_Cat</th>\n",
       "      <th>Text</th>\n",
       "      <th>length</th>\n",
       "      <th>text_clean</th>\n",
       "    </tr>\n",
       "  </thead>\n",
       "  <tbody>\n",
       "    <tr>\n",
       "      <th>0</th>\n",
       "      <td>A</td>\n",
       "      <td>NaN</td>\n",
       "      <td>Limiting the number of suppliers leads to the ...</td>\n",
       "      <td>118</td>\n",
       "      <td>limit number supplier lead risk market power c...</td>\n",
       "    </tr>\n",
       "    <tr>\n",
       "      <th>1</th>\n",
       "      <td>A</td>\n",
       "      <td>A1</td>\n",
       "      <td>Granting an exclusive right to produce a certa...</td>\n",
       "      <td>172</td>\n",
       "      <td>grant exclus right produc certain good provid ...</td>\n",
       "    </tr>\n",
       "    <tr>\n",
       "      <th>2</th>\n",
       "      <td>A</td>\n",
       "      <td>A2</td>\n",
       "      <td>Licenses or permits required for operation nec...</td>\n",
       "      <td>176</td>\n",
       "      <td>licens permit requir oper necessarili restrict...</td>\n",
       "    </tr>\n",
       "    <tr>\n",
       "      <th>3</th>\n",
       "      <td>A</td>\n",
       "      <td>A3</td>\n",
       "      <td>Governments can limit the ability of certain s...</td>\n",
       "      <td>71</td>\n",
       "      <td>govern limit abil certain supplier particip bu...</td>\n",
       "    </tr>\n",
       "    <tr>\n",
       "      <th>4</th>\n",
       "      <td>A</td>\n",
       "      <td>A4</td>\n",
       "      <td>Regulations that raise the cost of entry to, o...</td>\n",
       "      <td>149</td>\n",
       "      <td>regul rais cost entri exit market tend discour...</td>\n",
       "    </tr>\n",
       "    <tr>\n",
       "      <th>5</th>\n",
       "      <td>A</td>\n",
       "      <td>A5</td>\n",
       "      <td>Regulations sometimes limit the flow of goods,...</td>\n",
       "      <td>142</td>\n",
       "      <td>regul sometim limit flow good servic capit and...</td>\n",
       "    </tr>\n",
       "    <tr>\n",
       "      <th>6</th>\n",
       "      <td>B</td>\n",
       "      <td>NaN</td>\n",
       "      <td>Regulation can affect a supplier's ability to ...</td>\n",
       "      <td>50</td>\n",
       "      <td>regul affect supplier 's abil compet varieti w...</td>\n",
       "    </tr>\n",
       "    <tr>\n",
       "      <th>7</th>\n",
       "      <td>B</td>\n",
       "      <td>B1</td>\n",
       "      <td>Governments often regulate prices in tradition...</td>\n",
       "      <td>177</td>\n",
       "      <td>govern often regul price tradit monopoli secto...</td>\n",
       "    </tr>\n",
       "    <tr>\n",
       "      <th>8</th>\n",
       "      <td>B</td>\n",
       "      <td>B2</td>\n",
       "      <td>Regulations that restrict supplier's ability t...</td>\n",
       "      <td>141</td>\n",
       "      <td>regul restrict supplier 's abil advertis marke...</td>\n",
       "    </tr>\n",
       "    <tr>\n",
       "      <th>9</th>\n",
       "      <td>B</td>\n",
       "      <td>B3</td>\n",
       "      <td>Regulations setting standards often provide be...</td>\n",
       "      <td>193</td>\n",
       "      <td>regul set standard often provid benefit consum...</td>\n",
       "    </tr>\n",
       "    <tr>\n",
       "      <th>10</th>\n",
       "      <td>B</td>\n",
       "      <td>B4</td>\n",
       "      <td>At times, regulations have the effect of raisi...</td>\n",
       "      <td>215</td>\n",
       "      <td>at time regul effect rais cost supplier rel ot...</td>\n",
       "    </tr>\n",
       "    <tr>\n",
       "      <th>11</th>\n",
       "      <td>C</td>\n",
       "      <td>NaN</td>\n",
       "      <td>Regulations can affect supplier behaviour by n...</td>\n",
       "      <td>138</td>\n",
       "      <td>regul affect supplier behaviour chang abil com...</td>\n",
       "    </tr>\n",
       "    <tr>\n",
       "      <th>12</th>\n",
       "      <td>C</td>\n",
       "      <td>C1</td>\n",
       "      <td>When an industry or professional association t...</td>\n",
       "      <td>123</td>\n",
       "      <td>when industri profession associ take full resp...</td>\n",
       "    </tr>\n",
       "    <tr>\n",
       "      <th>13</th>\n",
       "      <td>C</td>\n",
       "      <td>C2</td>\n",
       "      <td>Regulations that require market participants t...</td>\n",
       "      <td>135</td>\n",
       "      <td>regul requir market particip publish inform pr...</td>\n",
       "    </tr>\n",
       "    <tr>\n",
       "      <th>14</th>\n",
       "      <td>C</td>\n",
       "      <td>C3</td>\n",
       "      <td>In many countries, particular suppliers or eco...</td>\n",
       "      <td>60</td>\n",
       "      <td>in mani countri particular supplier econom sec...</td>\n",
       "    </tr>\n",
       "    <tr>\n",
       "      <th>15</th>\n",
       "      <td>D</td>\n",
       "      <td>D1</td>\n",
       "      <td>Regulations sometimes limit choices available ...</td>\n",
       "      <td>75</td>\n",
       "      <td>regul sometim limit choic avail consum for exa...</td>\n",
       "    </tr>\n",
       "    <tr>\n",
       "      <th>16</th>\n",
       "      <td>D</td>\n",
       "      <td>D2</td>\n",
       "      <td>Regulations can make consumers more or less wi...</td>\n",
       "      <td>92</td>\n",
       "      <td>regul make consum le will switch supplier affe...</td>\n",
       "    </tr>\n",
       "    <tr>\n",
       "      <th>17</th>\n",
       "      <td>D</td>\n",
       "      <td>D3</td>\n",
       "      <td>When governments deregulate and introduce mark...</td>\n",
       "      <td>88</td>\n",
       "      <td>when govern deregul introduc market previous e...</td>\n",
       "    </tr>\n",
       "  </tbody>\n",
       "</table>\n",
       "</div>"
      ],
      "text/plain": [
       "   Main_Cat Sub_Cat                                               Text  \\\n",
       "0         A     NaN  Limiting the number of suppliers leads to the ...   \n",
       "1         A      A1  Granting an exclusive right to produce a certa...   \n",
       "2         A      A2  Licenses or permits required for operation nec...   \n",
       "3         A      A3  Governments can limit the ability of certain s...   \n",
       "4         A      A4  Regulations that raise the cost of entry to, o...   \n",
       "5         A      A5  Regulations sometimes limit the flow of goods,...   \n",
       "6         B     NaN  Regulation can affect a supplier's ability to ...   \n",
       "7         B      B1  Governments often regulate prices in tradition...   \n",
       "8         B      B2  Regulations that restrict supplier's ability t...   \n",
       "9         B      B3  Regulations setting standards often provide be...   \n",
       "10        B      B4  At times, regulations have the effect of raisi...   \n",
       "11        C     NaN  Regulations can affect supplier behaviour by n...   \n",
       "12        C      C1  When an industry or professional association t...   \n",
       "13        C      C2  Regulations that require market participants t...   \n",
       "14        C      C3  In many countries, particular suppliers or eco...   \n",
       "15        D      D1  Regulations sometimes limit choices available ...   \n",
       "16        D      D2  Regulations can make consumers more or less wi...   \n",
       "17        D      D3  When governments deregulate and introduce mark...   \n",
       "\n",
       "    length                                         text_clean  \n",
       "0      118  limit number supplier lead risk market power c...  \n",
       "1      172  grant exclus right produc certain good provid ...  \n",
       "2      176  licens permit requir oper necessarili restrict...  \n",
       "3       71  govern limit abil certain supplier particip bu...  \n",
       "4      149  regul rais cost entri exit market tend discour...  \n",
       "5      142  regul sometim limit flow good servic capit and...  \n",
       "6       50  regul affect supplier 's abil compet varieti w...  \n",
       "7      177  govern often regul price tradit monopoli secto...  \n",
       "8      141  regul restrict supplier 's abil advertis marke...  \n",
       "9      193  regul set standard often provid benefit consum...  \n",
       "10     215  at time regul effect rais cost supplier rel ot...  \n",
       "11     138  regul affect supplier behaviour chang abil com...  \n",
       "12     123  when industri profession associ take full resp...  \n",
       "13     135  regul requir market particip publish inform pr...  \n",
       "14      60  in mani countri particular supplier econom sec...  \n",
       "15      75  regul sometim limit choic avail consum for exa...  \n",
       "16      92  regul make consum le will switch supplier affe...  \n",
       "17      88  when govern deregul introduc market previous e...  "
      ]
     },
     "execution_count": 134,
     "metadata": {},
     "output_type": "execute_result"
    }
   ],
   "source": [
    "definitions"
   ]
  },
  {
   "cell_type": "code",
   "execution_count": 137,
   "metadata": {},
   "outputs": [],
   "source": [
    "definitions.to_csv(\"data/oecd_definitions_preprocess.csv\")"
   ]
  }
 ],
 "metadata": {
  "kernelspec": {
   "display_name": "mtc",
   "language": "python",
   "name": "mtc"
  },
  "language_info": {
   "codemirror_mode": {
    "name": "ipython",
    "version": 3
   },
   "file_extension": ".py",
   "mimetype": "text/x-python",
   "name": "python",
   "nbconvert_exporter": "python",
   "pygments_lexer": "ipython3",
   "version": "3.9.13"
  },
  "orig_nbformat": 4,
  "vscode": {
   "interpreter": {
    "hash": "d937f221309e89928364c8f95c616932ec42e1a35308f59658ba617ce90f29fa"
   }
  }
 },
 "nbformat": 4,
 "nbformat_minor": 2
}
