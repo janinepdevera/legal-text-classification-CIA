{
 "cells": [
  {
   "attachments": {},
   "cell_type": "markdown",
   "metadata": {},
   "source": [
    "## Multi-label Legal Text Classification for CIA\n",
    "(*Paragraph parsing*)"
   ]
  },
  {
   "cell_type": "code",
   "execution_count": 1,
   "metadata": {},
   "outputs": [],
   "source": [
    "# main\n",
    "import pandas as pd\n",
    "import numpy as np"
   ]
  },
  {
   "cell_type": "code",
   "execution_count": 2,
   "metadata": {},
   "outputs": [],
   "source": [
    "# parsing\n",
    "from glob import glob\n",
    "import os \n",
    "import re\n",
    "\n",
    "import pdfplumber\n",
    "from pdfminer.high_level import extract_text\n",
    "from langdetect import detect, DetectorFactory"
   ]
  },
  {
   "cell_type": "code",
   "execution_count": 3,
   "metadata": {},
   "outputs": [
    {
     "data": {
      "text/plain": [
       "'/Users/janinedevera/Documents/School/MDS 2021-2023/Thesis/multilabel-legal-text-classification-CIA'"
      ]
     },
     "execution_count": 3,
     "metadata": {},
     "output_type": "execute_result"
    }
   ],
   "source": [
    "os.chdir(\"../..\")\n",
    "os.getcwd()"
   ]
  },
  {
   "attachments": {},
   "cell_type": "markdown",
   "metadata": {},
   "source": [
    "### A. Legal Texts"
   ]
  },
  {
   "attachments": {},
   "cell_type": "markdown",
   "metadata": {},
   "source": [
    "List of paths for PDFs"
   ]
  },
  {
   "cell_type": "code",
   "execution_count": 211,
   "metadata": {},
   "outputs": [
    {
     "data": {
      "text/plain": [
       "36"
      ]
     },
     "execution_count": 211,
     "metadata": {},
     "output_type": "execute_result"
    }
   ],
   "source": [
    "countries = [\"Philippines\", \"Singapore\"]\n",
    "dirs = []\n",
    "for country in countries:\n",
    "    dir = \"data/legislation/\" + str(country) + \"/\"\n",
    "    dirs.append(dir)\n",
    "\n",
    "pdf_list = []\n",
    "for path in dirs:\n",
    "    list = glob(os.path.join(path, \"*.pdf\"))\n",
    "    pdf_list.extend(list)\n",
    "\n",
    "len(pdf_list)"
   ]
  },
  {
   "cell_type": "code",
   "execution_count": 209,
   "metadata": {},
   "outputs": [
    {
     "data": {
      "text/plain": [
       "['data/legislation/Philippines/PH_RA 9337 Amendments to Internal Revenue Code 2005.pdf',\n",
       " 'data/legislation/Philippines/PH_RA 7354 Postal Service Act 1992.pdf',\n",
       " 'data/legislation/Philippines/PH_EO 292 Administrative Code 1987.pdf',\n",
       " 'data/legislation/Philippines/PH_RA 7160 Local Government Code 1991.pdf',\n",
       " 'data/legislation/Philippines/PH_RA 11232 Revised Corporation Code 2019.pdf',\n",
       " 'data/legislation/Philippines/PH_CA 146 Public Service Act 1936.pdf',\n",
       " 'data/legislation/Philippines/PH_RA 4136 Land Transportation Act 1964.pdf',\n",
       " 'data/legislation/Philippines/PH_EO 24 2011.pdf',\n",
       " 'data/legislation/Philippines/PH_RA 9184 Government Procurement Act IRR 2016.pdf',\n",
       " 'data/legislation/Philippines/PH_EO 203.pdf',\n",
       " 'data/legislation/Philippines/PH_RA 11032 EODB 2017.pdf',\n",
       " 'data/legislation/Philippines/PH_EO 80 2012.pdf',\n",
       " 'data/legislation/Philippines/PH_RA 8794 Motor Vehicle User Charge Law 2000.pdf',\n",
       " 'data/legislation/Philippines/PH_EO 7 2010.pdf',\n",
       " 'data/legislation/Philippines/PH_EO 47 2011.pdf',\n",
       " 'data/legislation/Philippines/PH_GR 105371 Franking Privilege 1993.pdf',\n",
       " 'data/legislation/Philippines/PH_RA 9184 Government Procurement Act 2002.pdf',\n",
       " 'data/legislation/Philippines/PH_Constitution Republic of the Philippines 1987.pdf',\n",
       " 'data/legislation/Philippines/PH_RA 10149 GOCC Governance Act 2011.pdf',\n",
       " 'data/legislation/Philippines/PH_RA 10844 DICT Act 2016.pdf',\n",
       " 'data/legislation/Singapore/SG_Postal Competition Code 2017.pdf',\n",
       " 'data/legislation/Singapore/SG_Postal Services Composition of Offences 2008.pdf',\n",
       " 'data/legislation/Singapore/SG_Control of Designated Postal Licence 2012.pdf',\n",
       " 'data/legislation/Singapore/SG_License to Provide Postal Services WMG 2018.pdf',\n",
       " 'data/legislation/Singapore/SG_Postal Services Act Regulation Amendment 2008.pdf',\n",
       " 'data/legislation/Singapore/SG_License to Provide Postal Services SP 2017.pdf',\n",
       " 'data/legislation/Singapore/SG_License to Provide Postal Services Asendia 2017.pdf',\n",
       " 'data/legislation/Singapore/SG_Postal Services Amendment 2021.pdf',\n",
       " 'data/legislation/Singapore/SG_Guidelines for Express Letter Service 2019.pdf',\n",
       " 'data/legislation/Singapore/SG_Postal Accounting Separation Framework 2010.pdf',\n",
       " 'data/legislation/Singapore/SG_Postal Services Operations Code 2017.pdf',\n",
       " 'data/legislation/Singapore/SG_Postal Services Act Chapter 237A.pdf',\n",
       " 'data/legislation/Singapore/SG_License to Provide Postal Services DHL 2019.pdf',\n",
       " 'data/legislation/Singapore/SG_Guidelines for Postal Service Operations 2019.pdf',\n",
       " 'data/legislation/Singapore/SG_Postal Services Act Regulation 2005.pdf',\n",
       " 'data/legislation/Singapore/SG_Public Consultation Paper on Draft Amendment 2020.pdf']"
      ]
     },
     "execution_count": 209,
     "metadata": {},
     "output_type": "execute_result"
    }
   ],
   "source": [
    "pdf_list"
   ]
  },
  {
   "attachments": {},
   "cell_type": "markdown",
   "metadata": {},
   "source": [
    "Parse PDFs with pdfplumber"
   ]
  },
  {
   "cell_type": "code",
   "execution_count": 212,
   "metadata": {},
   "outputs": [],
   "source": [
    "def text_split(text):\n",
    "    # find double line breaks\n",
    "    if text.find(\"\\n\\n\") != -1:\n",
    "        split = text.split(\"\\n\\n\")\n",
    "    elif text.find(\"\\n \\n\") != -1:\n",
    "        split = text.split(\"\\n \\n\")\n",
    "    # find section/article divisions\n",
    "    elif len(re.findall('\\\\n[A-Z]{2,}', text)) > 0:\n",
    "        split = re.split('\\\\n[A-Z]{2,}', text)\n",
    "    elif len(re.findall('\\\\nSection', text)) > 0:\n",
    "        split = re.split('\\\\nSection', text)\n",
    "    # find single line breaks\n",
    "    elif text.find('\\n“') != -1:\n",
    "        split = text.split('\\n“')\n",
    "    elif text.find('\\n') != -1:\n",
    "        split = text.split('\\n')\n",
    "    else: \n",
    "        split = text\n",
    "    return split\n",
    "        "
   ]
  },
  {
   "cell_type": "code",
   "execution_count": 166,
   "metadata": {},
   "outputs": [],
   "source": [
    "def text_split(text):\n",
    "    # find double line breaks\n",
    "    if text.find(\"\\n\\n\") != -1:\n",
    "        split = text.split(\"\\n\\n\")\n",
    "    elif text.find(\"\\n \\n\") != -1:\n",
    "        split = text.split(\"\\n \\n\")\n",
    "        if len(split) < 5:\n",
    "            for line in split:\n",
    "                split = []\n",
    "                # find section/article divisions\n",
    "                if len(re.findall('\\\\n[A-Z]{2,}', line)) > 0:\n",
    "                    split2 = re.split('\\\\n[A-Z]{2,}', line)\n",
    "                elif len(re.findall('\\\\nSection', line)) > 0:\n",
    "                    split2 = re.split('\\\\nSection', line)\n",
    "                # find single line breaks\n",
    "                elif text.find('\\n“') != -1:\n",
    "                    split2 = text.split('\\n“')\n",
    "                elif text.find('\\n') != -1:\n",
    "                    split2 = text.split('\\n')\n",
    "                split.append(split2)\n",
    "        else: \n",
    "            split = split\n",
    "    else: \n",
    "        split = text\n",
    "    return split\n",
    "        "
   ]
  },
  {
   "attachments": {},
   "cell_type": "markdown",
   "metadata": {},
   "source": [
    "Parsing by document"
   ]
  },
  {
   "cell_type": "code",
   "execution_count": 98,
   "metadata": {},
   "outputs": [],
   "source": [
    "## DO NOT RUN\n",
    "\n",
    "df_text = pd.DataFrame(columns = ['file_name', 'text', 'lang'])\n",
    "\n",
    "for pdf_file in pdf_list:\n",
    "        # search for pdf file name from path \n",
    "        file_name = re.search('[a-zA-Z0-9]*_([a-zA-Z0-9]+)[^\\\\>.]+', pdf_file)[0]\n",
    "        with pdfplumber.open(pdf_file) as pdf:\n",
    "            text = []\n",
    "            # load pdf by page \n",
    "            for i in range(len(pdf.pages)):\n",
    "                page = pdf.pages[i]\n",
    "                page_text = page.extract_text()\n",
    "                text.append(page_text)\n",
    "            text = ' '.join(text)\n",
    "            lang = detect(text)\n",
    "        row = pd.DataFrame({'file_name': file_name,\n",
    "                                'text': text, 'lang': lang}, index=[0])\n",
    "        df_text = pd.concat([row,df_text.loc[:]]).reset_index(drop=True)"
   ]
  },
  {
   "attachments": {},
   "cell_type": "markdown",
   "metadata": {},
   "source": [
    "Parsing by paragraph"
   ]
  },
  {
   "cell_type": "code",
   "execution_count": null,
   "metadata": {},
   "outputs": [],
   "source": [
    "df_text = pd.DataFrame(columns = ['file_name', 'text', 'lang'])\n",
    "\n",
    "for pdf_file in pdf_list:\n",
    "        # search for pdf file name from path \n",
    "        file_name = re.search('[a-zA-Z0-9]*_([a-zA-Z0-9]+)[^\\\\>.]+', pdf_file)[0]\n",
    "        with pdfplumber.open(pdf_file) as pdf:\n",
    "            text = []\n",
    "            # load pdf by page \n",
    "            for i in range(len(pdf.pages)):\n",
    "                page = pdf.pages[i]\n",
    "                page_text = page.extract_text()\n",
    "                text.append(page_text)\n",
    "            text = ' '.join(text)\n",
    "            lang = detect(text)\n",
    "            # split by paragraph \n",
    "            paragraphs = text_split(text)\n",
    "            for p in paragraphs:\n",
    "                paragraph = p\n",
    "                # create dataframe\n",
    "                row = pd.DataFrame({'file_name': file_name,\n",
    "                        'text': paragraph, 'lang': lang}, index=[0])\n",
    "                df_text = pd.concat([row,df_text.loc[:]]).reset_index(drop=True)"
   ]
  },
  {
   "cell_type": "code",
   "execution_count": 214,
   "metadata": {},
   "outputs": [
    {
     "data": {
      "text/html": [
       "<div>\n",
       "<style scoped>\n",
       "    .dataframe tbody tr th:only-of-type {\n",
       "        vertical-align: middle;\n",
       "    }\n",
       "\n",
       "    .dataframe tbody tr th {\n",
       "        vertical-align: top;\n",
       "    }\n",
       "\n",
       "    .dataframe thead th {\n",
       "        text-align: right;\n",
       "    }\n",
       "</style>\n",
       "<table border=\"1\" class=\"dataframe\">\n",
       "  <thead>\n",
       "    <tr style=\"text-align: right;\">\n",
       "      <th></th>\n",
       "      <th>file_name</th>\n",
       "      <th>text</th>\n",
       "      <th>lang</th>\n",
       "    </tr>\n",
       "  </thead>\n",
       "  <tbody>\n",
       "    <tr>\n",
       "      <th>0</th>\n",
       "      <td>SG_Public Consultation Paper on Draft Amendmen...</td>\n",
       "      <td>Page 14 of 14</td>\n",
       "      <td>en</td>\n",
       "    </tr>\n",
       "    <tr>\n",
       "      <th>1</th>\n",
       "      <td>SG_Public Consultation Paper on Draft Amendmen...</td>\n",
       "      <td>52.  For the avoidance of doubt, all the infor...</td>\n",
       "      <td>en</td>\n",
       "    </tr>\n",
       "    <tr>\n",
       "      <th>2</th>\n",
       "      <td>SG_Public Consultation Paper on Draft Amendmen...</td>\n",
       "      <td>51.  MCI/IMDA  reserves  the  right  to  make ...</td>\n",
       "      <td>en</td>\n",
       "    </tr>\n",
       "    <tr>\n",
       "      <th>3</th>\n",
       "      <td>SG_Public Consultation Paper on Draft Amendmen...</td>\n",
       "      <td>50.  All submissions should reach MCI/IMDA wit...</td>\n",
       "      <td>en</td>\n",
       "    </tr>\n",
       "    <tr>\n",
       "      <th>4</th>\n",
       "      <td>SG_Public Consultation Paper on Draft Amendmen...</td>\n",
       "      <td>Supporting materials may be placed as an annex...</td>\n",
       "      <td>en</td>\n",
       "    </tr>\n",
       "    <tr>\n",
       "      <th>...</th>\n",
       "      <td>...</td>\n",
       "      <td>...</td>\n",
       "      <td>...</td>\n",
       "    </tr>\n",
       "    <tr>\n",
       "      <th>7149</th>\n",
       "      <td>PH_RA 9337 Amendments to Internal Revenue Code...</td>\n",
       "      <td>1. Section 27 of the National Internal Revenu...</td>\n",
       "      <td>en</td>\n",
       "    </tr>\n",
       "    <tr>\n",
       "      <th>7150</th>\n",
       "      <td>PH_RA 9337 Amendments to Internal Revenue Code...</td>\n",
       "      <td>AMENDED, AND FOR OTHER PURPOSES\\nBe it enacte...</td>\n",
       "      <td>en</td>\n",
       "    </tr>\n",
       "    <tr>\n",
       "      <th>7151</th>\n",
       "      <td>PH_RA 9337 Amendments to Internal Revenue Code...</td>\n",
       "      <td>ACT AMENDING SECTIONS 27, 28, 34, 106, 107, 1...</td>\n",
       "      <td>en</td>\n",
       "    </tr>\n",
       "    <tr>\n",
       "      <th>7152</th>\n",
       "      <td>PH_RA 9337 Amendments to Internal Revenue Code...</td>\n",
       "      <td>(/)\\nRepublic Act No. 9337\\nSigned on May 24,...</td>\n",
       "      <td>en</td>\n",
       "    </tr>\n",
       "    <tr>\n",
       "      <th>7153</th>\n",
       "      <td>PH_RA 9337 Amendments to Internal Revenue Code...</td>\n",
       "      <td>Republic Act No. 9337 | Official Gazette of th...</td>\n",
       "      <td>en</td>\n",
       "    </tr>\n",
       "  </tbody>\n",
       "</table>\n",
       "<p>7154 rows × 3 columns</p>\n",
       "</div>"
      ],
      "text/plain": [
       "                                              file_name  \\\n",
       "0     SG_Public Consultation Paper on Draft Amendmen...   \n",
       "1     SG_Public Consultation Paper on Draft Amendmen...   \n",
       "2     SG_Public Consultation Paper on Draft Amendmen...   \n",
       "3     SG_Public Consultation Paper on Draft Amendmen...   \n",
       "4     SG_Public Consultation Paper on Draft Amendmen...   \n",
       "...                                                 ...   \n",
       "7149  PH_RA 9337 Amendments to Internal Revenue Code...   \n",
       "7150  PH_RA 9337 Amendments to Internal Revenue Code...   \n",
       "7151  PH_RA 9337 Amendments to Internal Revenue Code...   \n",
       "7152  PH_RA 9337 Amendments to Internal Revenue Code...   \n",
       "7153  PH_RA 9337 Amendments to Internal Revenue Code...   \n",
       "\n",
       "                                                   text lang  \n",
       "0                                        Page 14 of 14    en  \n",
       "1     52.  For the avoidance of doubt, all the infor...   en  \n",
       "2     51.  MCI/IMDA  reserves  the  right  to  make ...   en  \n",
       "3     50.  All submissions should reach MCI/IMDA wit...   en  \n",
       "4     Supporting materials may be placed as an annex...   en  \n",
       "...                                                 ...  ...  \n",
       "7149   1. Section 27 of the National Internal Revenu...   en  \n",
       "7150   AMENDED, AND FOR OTHER PURPOSES\\nBe it enacte...   en  \n",
       "7151   ACT AMENDING SECTIONS 27, 28, 34, 106, 107, 1...   en  \n",
       "7152   (/)\\nRepublic Act No. 9337\\nSigned on May 24,...   en  \n",
       "7153  Republic Act No. 9337 | Official Gazette of th...   en  \n",
       "\n",
       "[7154 rows x 3 columns]"
      ]
     },
     "execution_count": 214,
     "metadata": {},
     "output_type": "execute_result"
    }
   ],
   "source": [
    "df_text"
   ]
  },
  {
   "cell_type": "code",
   "execution_count": 215,
   "metadata": {},
   "outputs": [
    {
     "data": {
      "text/plain": [
       "PH_RA 9184 Government Procurement Act IRR 2016          1608\n",
       "SG_Postal Competition Code 2017                          964\n",
       "PH_RA 11232 Revised Corporation Code 2019                703\n",
       "PH_RA 7160 Local Government Code 1991                    680\n",
       "PH_Constitution Republic of the Philippines 1987         355\n",
       "PH_RA 9184 Government Procurement Act 2002               273\n",
       "PH_EO 292 Administrative Code 1987                       240\n",
       "SG_License to Provide Postal Services Asendia 2017       232\n",
       "SG_License to Provide Postal Services SP 2017            224\n",
       "SG_Guidelines for Postal Service Operations 2019         217\n",
       "SG_License to Provide Postal Services DHL 2019           213\n",
       "SG_License to Provide Postal Services WMG 2018           206\n",
       "SG_Postal Accounting Separation Framework 2010           169\n",
       "SG_Postal Services Operations Code 2017                  160\n",
       "PH_RA 7354 Postal Service Act 1992                       151\n",
       "SG_Public Consultation Paper on Draft Amendment 2020     115\n",
       "PH_RA 4136 Land Transportation Act 1964                  100\n",
       "PH_RA 10149 GOCC Governance Act 2011                      73\n",
       "SG_Postal Services Act Chapter 237A                       55\n",
       "SG_Guidelines for Express Letter Service 2019             50\n",
       "PH_EO 24 2011                                             46\n",
       "PH_EO 203                                                 40\n",
       "PH_RA 10844 DICT Act 2016                                 39\n",
       "PH_RA 9337 Amendments to Internal Revenue Code 2005       39\n",
       "PH_EO 80 2012                                             36\n",
       "PH_EO 47 2011                                             32\n",
       "PH_EO 7 2010                                              30\n",
       "PH_CA 146 Public Service Act 1936                         18\n",
       "SG_Postal Services Act Regulation Amendment 2008          18\n",
       "PH_RA 11032 EODB 2017                                     17\n",
       "SG_Postal Services Act Regulation 2005                    15\n",
       "PH_RA 8794 Motor Vehicle User Charge Law 2000             14\n",
       "SG_Postal Services Amendment 2021                          9\n",
       "SG_Control of Designated Postal Licence 2012               6\n",
       "SG_Postal Services Composition of Offences 2008            4\n",
       "PH_GR 105371 Franking Privilege 1993                       3\n",
       "Name: file_name, dtype: int64"
      ]
     },
     "execution_count": 215,
     "metadata": {},
     "output_type": "execute_result"
    }
   ],
   "source": [
    "df_text.file_name.value_counts()"
   ]
  },
  {
   "cell_type": "code",
   "execution_count": 222,
   "metadata": {},
   "outputs": [
    {
     "data": {
      "text/html": [
       "<div>\n",
       "<style scoped>\n",
       "    .dataframe tbody tr th:only-of-type {\n",
       "        vertical-align: middle;\n",
       "    }\n",
       "\n",
       "    .dataframe tbody tr th {\n",
       "        vertical-align: top;\n",
       "    }\n",
       "\n",
       "    .dataframe thead th {\n",
       "        text-align: right;\n",
       "    }\n",
       "</style>\n",
       "<table border=\"1\" class=\"dataframe\">\n",
       "  <thead>\n",
       "    <tr style=\"text-align: right;\">\n",
       "      <th></th>\n",
       "      <th>file_name</th>\n",
       "      <th>text</th>\n",
       "      <th>lang</th>\n",
       "    </tr>\n",
       "  </thead>\n",
       "  <tbody>\n",
       "    <tr>\n",
       "      <th>5341</th>\n",
       "      <td>PH_RA 11232 Revised Corporation Code 2019</td>\n",
       "      <td>Published in Manila Bulletin and Business Mirr...</td>\n",
       "      <td>en</td>\n",
       "    </tr>\n",
       "    <tr>\n",
       "      <th>5342</th>\n",
       "      <td>PH_RA 11232 Revised Corporation Code 2019</td>\n",
       "      <td></td>\n",
       "      <td>en</td>\n",
       "    </tr>\n",
       "    <tr>\n",
       "      <th>5343</th>\n",
       "      <td>PH_RA 11232 Revised Corporation Code 2019</td>\n",
       "      <td></td>\n",
       "      <td>en</td>\n",
       "    </tr>\n",
       "    <tr>\n",
       "      <th>5344</th>\n",
       "      <td>PH_RA 11232 Revised Corporation Code 2019</td>\n",
       "      <td></td>\n",
       "      <td>en</td>\n",
       "    </tr>\n",
       "    <tr>\n",
       "      <th>5345</th>\n",
       "      <td>PH_RA 11232 Revised Corporation Code 2019</td>\n",
       "      <td></td>\n",
       "      <td>en</td>\n",
       "    </tr>\n",
       "    <tr>\n",
       "      <th>...</th>\n",
       "      <td>...</td>\n",
       "      <td>...</td>\n",
       "      <td>...</td>\n",
       "    </tr>\n",
       "    <tr>\n",
       "      <th>6039</th>\n",
       "      <td>PH_RA 11232 Revised Corporation Code 2019</td>\n",
       "      <td>Be it enacted by the Senate and House of Repre...</td>\n",
       "      <td>en</td>\n",
       "    </tr>\n",
       "    <tr>\n",
       "      <th>6040</th>\n",
       "      <td>PH_RA 11232 Revised Corporation Code 2019</td>\n",
       "      <td>AN ACT PROVIDING FOR THE REVISED CORPORATION \\...</td>\n",
       "      <td>en</td>\n",
       "    </tr>\n",
       "    <tr>\n",
       "      <th>6041</th>\n",
       "      <td>PH_RA 11232 Revised Corporation Code 2019</td>\n",
       "      <td>______________ \\n [ REPUBLIC ACT NO.    11232 ]</td>\n",
       "      <td>en</td>\n",
       "    </tr>\n",
       "    <tr>\n",
       "      <th>6042</th>\n",
       "      <td>PH_RA 11232 Revised Corporation Code 2019</td>\n",
       "      <td>\\nBegun and held in Metro Manila, on Monday, ...</td>\n",
       "      <td>en</td>\n",
       "    </tr>\n",
       "    <tr>\n",
       "      <th>6043</th>\n",
       "      <td>PH_RA 11232 Revised Corporation Code 2019</td>\n",
       "      <td>S. No. 1280 \\nH. No. 8374</td>\n",
       "      <td>en</td>\n",
       "    </tr>\n",
       "  </tbody>\n",
       "</table>\n",
       "<p>703 rows × 3 columns</p>\n",
       "</div>"
      ],
      "text/plain": [
       "                                      file_name  \\\n",
       "5341  PH_RA 11232 Revised Corporation Code 2019   \n",
       "5342  PH_RA 11232 Revised Corporation Code 2019   \n",
       "5343  PH_RA 11232 Revised Corporation Code 2019   \n",
       "5344  PH_RA 11232 Revised Corporation Code 2019   \n",
       "5345  PH_RA 11232 Revised Corporation Code 2019   \n",
       "...                                         ...   \n",
       "6039  PH_RA 11232 Revised Corporation Code 2019   \n",
       "6040  PH_RA 11232 Revised Corporation Code 2019   \n",
       "6041  PH_RA 11232 Revised Corporation Code 2019   \n",
       "6042  PH_RA 11232 Revised Corporation Code 2019   \n",
       "6043  PH_RA 11232 Revised Corporation Code 2019   \n",
       "\n",
       "                                                   text lang  \n",
       "5341  Published in Manila Bulletin and Business Mirr...   en  \n",
       "5342                                                      en  \n",
       "5343                                                      en  \n",
       "5344                                                      en  \n",
       "5345                                                      en  \n",
       "...                                                 ...  ...  \n",
       "6039  Be it enacted by the Senate and House of Repre...   en  \n",
       "6040  AN ACT PROVIDING FOR THE REVISED CORPORATION \\...   en  \n",
       "6041  ______________ \\n [ REPUBLIC ACT NO.    11232 ]     en  \n",
       "6042   \\nBegun and held in Metro Manila, on Monday, ...   en  \n",
       "6043                         S. No. 1280 \\nH. No. 8374    en  \n",
       "\n",
       "[703 rows x 3 columns]"
      ]
     },
     "execution_count": 222,
     "metadata": {},
     "output_type": "execute_result"
    }
   ],
   "source": [
    "sample = df_text[df_text['file_name'] == \"PH_RA 11232 Revised Corporation Code 2019\"]\n",
    "sample"
   ]
  }
 ],
 "metadata": {
  "kernelspec": {
   "display_name": "watermelon",
   "language": "python",
   "name": "python3"
  },
  "language_info": {
   "codemirror_mode": {
    "name": "ipython",
    "version": 3
   },
   "file_extension": ".py",
   "mimetype": "text/x-python",
   "name": "python",
   "nbconvert_exporter": "python",
   "pygments_lexer": "ipython3",
   "version": "3.9.15"
  },
  "orig_nbformat": 4,
  "vscode": {
   "interpreter": {
    "hash": "d937f221309e89928364c8f95c616932ec42e1a35308f59658ba617ce90f29fa"
   }
  }
 },
 "nbformat": 4,
 "nbformat_minor": 2
}
