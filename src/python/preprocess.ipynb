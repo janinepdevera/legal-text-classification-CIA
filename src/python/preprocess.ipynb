{
 "cells": [
  {
   "attachments": {},
   "cell_type": "markdown",
   "metadata": {},
   "source": [
    "## Multi-label Legal Text Classification for CIA"
   ]
  },
  {
   "attachments": {},
   "cell_type": "markdown",
   "metadata": {},
   "source": [
    "### *OCR for scanned PDFs*"
   ]
  },
  {
   "cell_type": "code",
   "execution_count": 73,
   "metadata": {},
   "outputs": [
    {
     "name": "stdout",
     "output_type": "stream",
     "text": [
      "Collecting tesseract\n",
      "  Downloading tesseract-0.1.3.tar.gz (45.6 MB)\n",
      "\u001b[2K     \u001b[90m━━━━━━━━━━━━━━━━━━━━━━━━━━━━━━━━━━━━━━━━\u001b[0m \u001b[32m45.6/45.6 MB\u001b[0m \u001b[31m10.9 MB/s\u001b[0m eta \u001b[36m0:00:00\u001b[0m00:01\u001b[0m00:01\u001b[0m\n",
      "\u001b[?25h  Preparing metadata (setup.py) ... \u001b[?25ldone\n",
      "\u001b[?25hBuilding wheels for collected packages: tesseract\n",
      "  Building wheel for tesseract (setup.py) ... \u001b[?25ldone\n",
      "\u001b[?25h  Created wheel for tesseract: filename=tesseract-0.1.3-py3-none-any.whl size=45562552 sha256=eeca1aa32fafcab9d37345aabc507a730fa4ceb6717636f360ab0fc9c18dd1f8\n",
      "  Stored in directory: /Users/janinedevera/Library/Caches/pip/wheels/d6/d9/8d/8f25140c367f80dac44190e77ea4934ddc1ad9b4382a2f79e2\n",
      "Successfully built tesseract\n",
      "Installing collected packages: tesseract\n",
      "Successfully installed tesseract-0.1.3\n",
      "\n",
      "\u001b[1m[\u001b[0m\u001b[34;49mnotice\u001b[0m\u001b[1;39;49m]\u001b[0m\u001b[39;49m A new release of pip available: \u001b[0m\u001b[31;49m22.3.1\u001b[0m\u001b[39;49m -> \u001b[0m\u001b[32;49m23.0\u001b[0m\n",
      "\u001b[1m[\u001b[0m\u001b[34;49mnotice\u001b[0m\u001b[1;39;49m]\u001b[0m\u001b[39;49m To update, run: \u001b[0m\u001b[32;49mpip install --upgrade pip\u001b[0m\n",
      "Collecting tesseract-ocr\n",
      "  Downloading tesseract-ocr-0.0.1.tar.gz (33 kB)\n",
      "  Preparing metadata (setup.py) ... \u001b[?25ldone\n",
      "\u001b[?25hRequirement already satisfied: cython in /Users/janinedevera/opt/miniconda3/envs/watermelon/lib/python3.9/site-packages (from tesseract-ocr) (0.29.32)\n",
      "Building wheels for collected packages: tesseract-ocr\n",
      "  Building wheel for tesseract-ocr (setup.py) ... \u001b[?25lerror\n",
      "  \u001b[1;31merror\u001b[0m: \u001b[1msubprocess-exited-with-error\u001b[0m\n",
      "  \n",
      "  \u001b[31m×\u001b[0m \u001b[32mpython setup.py bdist_wheel\u001b[0m did not run successfully.\n",
      "  \u001b[31m│\u001b[0m exit code: \u001b[1;36m1\u001b[0m\n",
      "  \u001b[31m╰─>\u001b[0m \u001b[31m[17 lines of output]\u001b[0m\n",
      "  \u001b[31m   \u001b[0m /Users/janinedevera/opt/miniconda3/envs/watermelon/lib/python3.9/site-packages/setuptools/dist.py:771: UserWarning: Usage of dash-separated 'description-file' will not be supported in future versions. Please use the underscore name 'description_file' instead\n",
      "  \u001b[31m   \u001b[0m   warnings.warn(\n",
      "  \u001b[31m   \u001b[0m running bdist_wheel\n",
      "  \u001b[31m   \u001b[0m running build\n",
      "  \u001b[31m   \u001b[0m running build_py\n",
      "  \u001b[31m   \u001b[0m file tesseract_ocr.py (for module tesseract_ocr) not found\n",
      "  \u001b[31m   \u001b[0m file tesseract_ocr.py (for module tesseract_ocr) not found\n",
      "  \u001b[31m   \u001b[0m running build_ext\n",
      "  \u001b[31m   \u001b[0m building 'tesseract_ocr' extension\n",
      "  \u001b[31m   \u001b[0m creating build\n",
      "  \u001b[31m   \u001b[0m creating build/temp.macosx-11.1-arm64-cpython-39\n",
      "  \u001b[31m   \u001b[0m clang -Wno-unused-result -Wsign-compare -Wunreachable-code -DNDEBUG -fwrapv -O2 -Wall -fPIC -O2 -isystem /Users/janinedevera/opt/miniconda3/envs/watermelon/include -arch arm64 -I/Users/janinedevera/opt/miniconda3/envs/watermelon/include -fPIC -O2 -isystem /Users/janinedevera/opt/miniconda3/envs/watermelon/include -arch arm64 -I/Users/janinedevera/opt/miniconda3/envs/watermelon/include/python3.9 -c tesseract_ocr.cpp -o build/temp.macosx-11.1-arm64-cpython-39/tesseract_ocr.o\n",
      "  \u001b[31m   \u001b[0m tesseract_ocr.cpp:720:10: fatal error: 'leptonica/allheaders.h' file not found\n",
      "  \u001b[31m   \u001b[0m #include \"leptonica/allheaders.h\"\n",
      "  \u001b[31m   \u001b[0m          ^~~~~~~~~~~~~~~~~~~~~~~~\n",
      "  \u001b[31m   \u001b[0m 1 error generated.\n",
      "  \u001b[31m   \u001b[0m error: command '/usr/bin/clang' failed with exit code 1\n",
      "  \u001b[31m   \u001b[0m \u001b[31m[end of output]\u001b[0m\n",
      "  \n",
      "  \u001b[1;35mnote\u001b[0m: This error originates from a subprocess, and is likely not a problem with pip.\n",
      "\u001b[31m  ERROR: Failed building wheel for tesseract-ocr\u001b[0m\u001b[31m\n",
      "\u001b[0m\u001b[?25h  Running setup.py clean for tesseract-ocr\n",
      "Failed to build tesseract-ocr\n",
      "Installing collected packages: tesseract-ocr\n",
      "  Running setup.py install for tesseract-ocr ... \u001b[?25lerror\n",
      "  \u001b[1;31merror\u001b[0m: \u001b[1msubprocess-exited-with-error\u001b[0m\n",
      "  \n",
      "  \u001b[31m×\u001b[0m \u001b[32mRunning setup.py install for tesseract-ocr\u001b[0m did not run successfully.\n",
      "  \u001b[31m│\u001b[0m exit code: \u001b[1;36m1\u001b[0m\n",
      "  \u001b[31m╰─>\u001b[0m \u001b[31m[19 lines of output]\u001b[0m\n",
      "  \u001b[31m   \u001b[0m /Users/janinedevera/opt/miniconda3/envs/watermelon/lib/python3.9/site-packages/setuptools/dist.py:771: UserWarning: Usage of dash-separated 'description-file' will not be supported in future versions. Please use the underscore name 'description_file' instead\n",
      "  \u001b[31m   \u001b[0m   warnings.warn(\n",
      "  \u001b[31m   \u001b[0m running install\n",
      "  \u001b[31m   \u001b[0m /Users/janinedevera/opt/miniconda3/envs/watermelon/lib/python3.9/site-packages/setuptools/command/install.py:34: SetuptoolsDeprecationWarning: setup.py install is deprecated. Use build and pip and other standards-based tools.\n",
      "  \u001b[31m   \u001b[0m   warnings.warn(\n",
      "  \u001b[31m   \u001b[0m running build\n",
      "  \u001b[31m   \u001b[0m running build_py\n",
      "  \u001b[31m   \u001b[0m file tesseract_ocr.py (for module tesseract_ocr) not found\n",
      "  \u001b[31m   \u001b[0m file tesseract_ocr.py (for module tesseract_ocr) not found\n",
      "  \u001b[31m   \u001b[0m running build_ext\n",
      "  \u001b[31m   \u001b[0m building 'tesseract_ocr' extension\n",
      "  \u001b[31m   \u001b[0m creating build\n",
      "  \u001b[31m   \u001b[0m creating build/temp.macosx-11.1-arm64-cpython-39\n",
      "  \u001b[31m   \u001b[0m clang -Wno-unused-result -Wsign-compare -Wunreachable-code -DNDEBUG -fwrapv -O2 -Wall -fPIC -O2 -isystem /Users/janinedevera/opt/miniconda3/envs/watermelon/include -arch arm64 -I/Users/janinedevera/opt/miniconda3/envs/watermelon/include -fPIC -O2 -isystem /Users/janinedevera/opt/miniconda3/envs/watermelon/include -arch arm64 -I/Users/janinedevera/opt/miniconda3/envs/watermelon/include/python3.9 -c tesseract_ocr.cpp -o build/temp.macosx-11.1-arm64-cpython-39/tesseract_ocr.o\n",
      "  \u001b[31m   \u001b[0m tesseract_ocr.cpp:720:10: fatal error: 'leptonica/allheaders.h' file not found\n",
      "  \u001b[31m   \u001b[0m #include \"leptonica/allheaders.h\"\n",
      "  \u001b[31m   \u001b[0m          ^~~~~~~~~~~~~~~~~~~~~~~~\n",
      "  \u001b[31m   \u001b[0m 1 error generated.\n",
      "  \u001b[31m   \u001b[0m error: command '/usr/bin/clang' failed with exit code 1\n",
      "  \u001b[31m   \u001b[0m \u001b[31m[end of output]\u001b[0m\n",
      "  \n",
      "  \u001b[1;35mnote\u001b[0m: This error originates from a subprocess, and is likely not a problem with pip.\n",
      "\u001b[?25h\u001b[1;31merror\u001b[0m: \u001b[1mlegacy-install-failure\u001b[0m\n",
      "\n",
      "\u001b[31m×\u001b[0m Encountered error while trying to install package.\n",
      "\u001b[31m╰─>\u001b[0m tesseract-ocr\n",
      "\n",
      "\u001b[1;35mnote\u001b[0m: This is an issue with the package mentioned above, not pip.\n",
      "\u001b[1;36mhint\u001b[0m: See above for output from the failure.\n",
      "\n",
      "\u001b[1m[\u001b[0m\u001b[34;49mnotice\u001b[0m\u001b[1;39;49m]\u001b[0m\u001b[39;49m A new release of pip available: \u001b[0m\u001b[31;49m22.3.1\u001b[0m\u001b[39;49m -> \u001b[0m\u001b[32;49m23.0\u001b[0m\n",
      "\u001b[1m[\u001b[0m\u001b[34;49mnotice\u001b[0m\u001b[1;39;49m]\u001b[0m\u001b[39;49m To update, run: \u001b[0m\u001b[32;49mpip install --upgrade pip\u001b[0m\n",
      "Requirement already satisfied: opencv-python in /Users/janinedevera/opt/miniconda3/envs/watermelon/lib/python3.9/site-packages (4.7.0.68)\n",
      "Requirement already satisfied: numpy>=1.21.0 in /Users/janinedevera/opt/miniconda3/envs/watermelon/lib/python3.9/site-packages (from opencv-python) (1.23.4)\n",
      "\n",
      "\u001b[1m[\u001b[0m\u001b[34;49mnotice\u001b[0m\u001b[1;39;49m]\u001b[0m\u001b[39;49m A new release of pip available: \u001b[0m\u001b[31;49m22.3.1\u001b[0m\u001b[39;49m -> \u001b[0m\u001b[32;49m23.0\u001b[0m\n",
      "\u001b[1m[\u001b[0m\u001b[34;49mnotice\u001b[0m\u001b[1;39;49m]\u001b[0m\u001b[39;49m To update, run: \u001b[0m\u001b[32;49mpip install --upgrade pip\u001b[0m\n",
      "Requirement already satisfied: pytesseract in /Users/janinedevera/opt/miniconda3/envs/watermelon/lib/python3.9/site-packages (0.3.10)\n",
      "Requirement already satisfied: packaging>=21.3 in /Users/janinedevera/.local/lib/python3.9/site-packages (from pytesseract) (21.3)\n",
      "Requirement already satisfied: Pillow>=8.0.0 in /Users/janinedevera/opt/miniconda3/envs/watermelon/lib/python3.9/site-packages (from pytesseract) (9.3.0)\n",
      "Requirement already satisfied: pyparsing!=3.0.5,>=2.0.2 in /Users/janinedevera/.local/lib/python3.9/site-packages (from packaging>=21.3->pytesseract) (3.0.9)\n",
      "\n",
      "\u001b[1m[\u001b[0m\u001b[34;49mnotice\u001b[0m\u001b[1;39;49m]\u001b[0m\u001b[39;49m A new release of pip available: \u001b[0m\u001b[31;49m22.3.1\u001b[0m\u001b[39;49m -> \u001b[0m\u001b[32;49m23.0\u001b[0m\n",
      "\u001b[1m[\u001b[0m\u001b[34;49mnotice\u001b[0m\u001b[1;39;49m]\u001b[0m\u001b[39;49m To update, run: \u001b[0m\u001b[32;49mpip install --upgrade pip\u001b[0m\n",
      "Requirement already satisfied: pdf2image in /Users/janinedevera/opt/miniconda3/envs/watermelon/lib/python3.9/site-packages (1.16.2)\n",
      "Requirement already satisfied: pillow in /Users/janinedevera/opt/miniconda3/envs/watermelon/lib/python3.9/site-packages (from pdf2image) (9.3.0)\n",
      "\n",
      "\u001b[1m[\u001b[0m\u001b[34;49mnotice\u001b[0m\u001b[1;39;49m]\u001b[0m\u001b[39;49m A new release of pip available: \u001b[0m\u001b[31;49m22.3.1\u001b[0m\u001b[39;49m -> \u001b[0m\u001b[32;49m23.0\u001b[0m\n",
      "\u001b[1m[\u001b[0m\u001b[34;49mnotice\u001b[0m\u001b[1;39;49m]\u001b[0m\u001b[39;49m To update, run: \u001b[0m\u001b[32;49mpip install --upgrade pip\u001b[0m\n"
     ]
    }
   ],
   "source": [
    "!pip install tesseract\n",
    "!pip install tesseract-ocr\n",
    "!pip install opencv-python\n",
    "!pip install pytesseract\n",
    "!pip install pdf2image"
   ]
  },
  {
   "cell_type": "code",
   "execution_count": 75,
   "metadata": {},
   "outputs": [],
   "source": [
    "import cv2\n",
    "import pytesseract\n",
    "import re\n",
    "from pdf2image import convert_from_bytes, convert_from_path"
   ]
  },
  {
   "cell_type": "code",
   "execution_count": 76,
   "metadata": {},
   "outputs": [],
   "source": [
    "from glob import glob\n",
    "import os\n",
    "import numpy as np\n",
    "import pandas as pd"
   ]
  },
  {
   "cell_type": "code",
   "execution_count": null,
   "metadata": {},
   "outputs": [],
   "source": [
    "os.chdir(\"../..\")"
   ]
  },
  {
   "cell_type": "code",
   "execution_count": 77,
   "metadata": {},
   "outputs": [
    {
     "data": {
      "text/plain": [
       "29"
      ]
     },
     "execution_count": 77,
     "metadata": {},
     "output_type": "execute_result"
    }
   ],
   "source": [
    "ocr_dir = \"data/legislation/For OCR/\"\n",
    "ocr_list = glob(os.path.join(ocr_dir, \"*.pdf\"))\n",
    "len(ocr_list)"
   ]
  },
  {
   "attachments": {},
   "cell_type": "markdown",
   "metadata": {},
   "source": [
    "Help functions"
   ]
  },
  {
   "cell_type": "code",
   "execution_count": 78,
   "metadata": {},
   "outputs": [],
   "source": [
    "# average confidence value\n",
    "def get_conf(page_gray):\n",
    "    df = pytesseract.image_to_data(page_gray,output_type='data.frame')\n",
    "    df.drop(df[df.conf==-1].index.values,inplace=True)\n",
    "    df.reset_index()\n",
    "    return df.conf.mean()\n",
    "\n",
    "# deskewing image\n",
    "def deskew(image):\n",
    "    gray = cv2.bitwise_not(image)\n",
    "    temp_arr = cv2.threshold(gray, 0, 255, cv2.THRESH_BINARY + cv2.THRESH_OTSU)[1]\n",
    "    coords = np.column_stack(np.where(temp_arr > 0))\n",
    "    angle = cv2.minAreaRect(coords)[-1]\n",
    "    if angle < -45:\n",
    "        angle = -(90 + angle)\n",
    "    else:\n",
    "        angle = -angle\n",
    "    (h, w) = image.shape[:2]\n",
    "    center = (w // 2, h // 2)\n",
    "    M = cv2.getRotationMatrix2D(center, angle, 1.0)\n",
    "    rotated = cv2.warpAffine(image, M, (w, h), flags=cv2.INTER_CUBIC, borderMode=cv2.BORDER_REPLICATE)\n",
    "    return rotated"
   ]
  },
  {
   "attachments": {},
   "cell_type": "markdown",
   "metadata": {},
   "source": [
    "Main OCR"
   ]
  },
  {
   "cell_type": "code",
   "execution_count": null,
   "metadata": {},
   "outputs": [],
   "source": [
    "OCR_dic={} \n",
    "for file in ocr_list:\n",
    "    # convert pdf into image\n",
    "    pdf_file = convert_from_path(file)\n",
    "    # create a df to save each pdf's text\n",
    "    pages_df = pd.DataFrame(columns=['conf','text'])\n",
    "    for (i,page) in enumerate(pdf_file) :\n",
    "        #try:\n",
    "            # transfer image of pdf_file into array\n",
    "            page_arr = np.asarray(page)\n",
    "            # transfer into grayscale\n",
    "            page_arr_gray = cv2.cvtColor(page_arr,cv2.COLOR_BGR2GRAY)\n",
    "            # deskew the page\n",
    "            page_deskew = deskew(page_arr_gray)\n",
    "            # cal confidence value\n",
    "            page_conf = get_conf(page_deskew)\n",
    "            # extract string \n",
    "            pages_df = pages_df.append({'conf': page_conf,'text': pytesseract.image_to_string(page_deskew)}, ignore_index=True)\n",
    "        #except:\n",
    "            # if can't extract then give some notes into df\n",
    "            #pages_df = pages_df.append({'conf': -1,'text': 'N/A'}, ignore_index=True)\n",
    "            #continue\n",
    "    # save df into a dict with filename as key        \n",
    "    OCR_dic[file]=pages_df\n",
    "    print('{} is done'.format(file))"
   ]
  },
  {
   "cell_type": "code",
   "execution_count": 97,
   "metadata": {},
   "outputs": [
    {
     "data": {
      "text/plain": [
       "'171.5\\n\\n11.6\\n\\n3.0 Effectivity\\n\\n@Ppropriate human resource complement for their\\nPrograms/activities/projects\\n\\nOve\\n(GCG) ang to existing budgeting and 4ccounting Tules and regulations.\\n\\nwith the agency. The Payment of Services shalf be Charged against\\nthe Maintenance and Other Operating Expenses in the approved\\nagency budget.\\n\\nPayment of Services of Persons or entities engaged through Republic\\nAct No. 91 84 shall be Subject to the Provisions of the said law and its\\nimplementing tules and regulations.”\\n\\nALICIA dela ROSA-BALA MICH fi\\nChairperson Chairperson\\nCivil Service Commission Commission on Audit\\n\\n'"
      ]
     },
     "execution_count": 97,
     "metadata": {},
     "output_type": "execute_result"
    }
   ],
   "source": [
    "OCR_dic[ocr_list[28]]['text'][1]"
   ]
  }
 ],
 "metadata": {
  "kernelspec": {
   "display_name": "watermelon",
   "language": "python",
   "name": "python3"
  },
  "language_info": {
   "codemirror_mode": {
    "name": "ipython",
    "version": 3
   },
   "file_extension": ".py",
   "mimetype": "text/x-python",
   "name": "python",
   "nbconvert_exporter": "python",
   "pygments_lexer": "ipython3",
   "version": "3.9.15"
  },
  "orig_nbformat": 4,
  "vscode": {
   "interpreter": {
    "hash": "d937f221309e89928364c8f95c616932ec42e1a35308f59658ba617ce90f29fa"
   }
  }
 },
 "nbformat": 4,
 "nbformat_minor": 2
}
