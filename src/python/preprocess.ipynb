{
 "cells": [
  {
   "attachments": {},
   "cell_type": "markdown",
   "metadata": {},
   "source": [
    "## Multi-label Legal Text Classification for CIA"
   ]
  },
  {
   "attachments": {},
   "cell_type": "markdown",
   "metadata": {},
   "source": [
    "### *OCR for scanned PDFs*"
   ]
  },
  {
   "cell_type": "code",
   "execution_count": 1,
   "metadata": {},
   "outputs": [
    {
     "name": "stdout",
     "output_type": "stream",
     "text": [
      "Requirement already satisfied: opencv-python in /Users/janinedevera/opt/miniconda3/envs/watermelon/lib/python3.9/site-packages (4.7.0.68)\n",
      "Requirement already satisfied: numpy>=1.19.3 in /Users/janinedevera/opt/miniconda3/envs/watermelon/lib/python3.9/site-packages (from opencv-python) (1.23.4)\n",
      "\n",
      "\u001b[1m[\u001b[0m\u001b[34;49mnotice\u001b[0m\u001b[1;39;49m]\u001b[0m\u001b[39;49m A new release of pip available: \u001b[0m\u001b[31;49m22.3.1\u001b[0m\u001b[39;49m -> \u001b[0m\u001b[32;49m23.0\u001b[0m\n",
      "\u001b[1m[\u001b[0m\u001b[34;49mnotice\u001b[0m\u001b[1;39;49m]\u001b[0m\u001b[39;49m To update, run: \u001b[0m\u001b[32;49mpip install --upgrade pip\u001b[0m\n",
      "Requirement already satisfied: pytesseract in /Users/janinedevera/opt/miniconda3/envs/watermelon/lib/python3.9/site-packages (0.3.10)\n",
      "Requirement already satisfied: Pillow>=8.0.0 in /Users/janinedevera/opt/miniconda3/envs/watermelon/lib/python3.9/site-packages (from pytesseract) (9.3.0)\n",
      "Requirement already satisfied: packaging>=21.3 in /Users/janinedevera/.local/lib/python3.9/site-packages (from pytesseract) (21.3)\n",
      "Requirement already satisfied: pyparsing!=3.0.5,>=2.0.2 in /Users/janinedevera/.local/lib/python3.9/site-packages (from packaging>=21.3->pytesseract) (3.0.9)\n",
      "\n",
      "\u001b[1m[\u001b[0m\u001b[34;49mnotice\u001b[0m\u001b[1;39;49m]\u001b[0m\u001b[39;49m A new release of pip available: \u001b[0m\u001b[31;49m22.3.1\u001b[0m\u001b[39;49m -> \u001b[0m\u001b[32;49m23.0\u001b[0m\n",
      "\u001b[1m[\u001b[0m\u001b[34;49mnotice\u001b[0m\u001b[1;39;49m]\u001b[0m\u001b[39;49m To update, run: \u001b[0m\u001b[32;49mpip install --upgrade pip\u001b[0m\n",
      "Requirement already satisfied: pdf2image in /Users/janinedevera/opt/miniconda3/envs/watermelon/lib/python3.9/site-packages (1.16.2)\n",
      "Requirement already satisfied: pillow in /Users/janinedevera/opt/miniconda3/envs/watermelon/lib/python3.9/site-packages (from pdf2image) (9.3.0)\n",
      "\n",
      "\u001b[1m[\u001b[0m\u001b[34;49mnotice\u001b[0m\u001b[1;39;49m]\u001b[0m\u001b[39;49m A new release of pip available: \u001b[0m\u001b[31;49m22.3.1\u001b[0m\u001b[39;49m -> \u001b[0m\u001b[32;49m23.0\u001b[0m\n",
      "\u001b[1m[\u001b[0m\u001b[34;49mnotice\u001b[0m\u001b[1;39;49m]\u001b[0m\u001b[39;49m To update, run: \u001b[0m\u001b[32;49mpip install --upgrade pip\u001b[0m\n"
     ]
    }
   ],
   "source": [
    "!pip install opencv-python\n",
    "!pip install pytesseract\n",
    "!pip install pdf2image"
   ]
  },
  {
   "cell_type": "code",
   "execution_count": 2,
   "metadata": {},
   "outputs": [],
   "source": [
    "import cv2\n",
    "import pytesseract\n",
    "import re\n",
    "from pdf2image import convert_from_bytes"
   ]
  },
  {
   "cell_type": "code",
   "execution_count": 15,
   "metadata": {},
   "outputs": [],
   "source": [
    "from glob import glob\n",
    "import os\n",
    "import numpy as np\n",
    "import pandas as pd"
   ]
  },
  {
   "cell_type": "code",
   "execution_count": null,
   "metadata": {},
   "outputs": [],
   "source": [
    "os.chdir(\"../..\")"
   ]
  },
  {
   "cell_type": "code",
   "execution_count": 20,
   "metadata": {},
   "outputs": [
    {
     "data": {
      "text/plain": [
       "29"
      ]
     },
     "execution_count": 20,
     "metadata": {},
     "output_type": "execute_result"
    }
   ],
   "source": [
    "ocr_dir = \"data/legislation/For OCR/\"\n",
    "ocr_list = glob(os.path.join(ocr_dir, \"*.pdf\"))\n",
    "len(ocr_list)"
   ]
  },
  {
   "cell_type": "code",
   "execution_count": null,
   "metadata": {},
   "outputs": [],
   "source": [
    "OCR_dic={} \n",
    "for file in ocr_list:\n",
    "    # convert pdf into image\n",
    "    pdf_file = convert_from_bytes(open(os.path.join(PATH,file), 'rb').read())\n",
    "    # create a df to save each pdf's text\n",
    "    pages_df = pd.DataFrame(columns=['conf','text'])\n",
    "    for (i,page) in enumerate(pdf_file) :\n",
    "        try:\n",
    "            # transfer image of pdf_file into array\n",
    "            page_arr = np.asarray(page)\n",
    "            # transfer into grayscale\n",
    "            page_arr_gray = cv2.cvtColor(page_arr,cv2.COLOR_BGR2GRAY)\n",
    "            # deskew the page\n",
    "            page_deskew = deskew(page_arr_gray)\n",
    "            # cal confidence value\n",
    "            page_conf = get_conf(page_deskew)\n",
    "            # extract string \n",
    "            pages_df = pages_df.append({'conf': page_conf,'text': pytesseract.image_to_string(page_deskew)}, ignore_index=True)\n",
    "        except:\n",
    "            # if can't extract then give some notes into df\n",
    "            pages_df = pages_df.append({'conf': -1,'text': 'N/A'}, ignore_index=True)\n",
    "            continue\n",
    "    # save df into a dict with filename as key        \n",
    "    OCR_dic[file]=pages_df\n",
    "    print('{} is done'.format(file))"
   ]
  }
 ],
 "metadata": {
  "kernelspec": {
   "display_name": "watermelon",
   "language": "python",
   "name": "python3"
  },
  "language_info": {
   "codemirror_mode": {
    "name": "ipython",
    "version": 3
   },
   "file_extension": ".py",
   "mimetype": "text/x-python",
   "name": "python",
   "nbconvert_exporter": "python",
   "pygments_lexer": "ipython3",
   "version": "3.9.15"
  },
  "orig_nbformat": 4,
  "vscode": {
   "interpreter": {
    "hash": "d937f221309e89928364c8f95c616932ec42e1a35308f59658ba617ce90f29fa"
   }
  }
 },
 "nbformat": 4,
 "nbformat_minor": 2
}
